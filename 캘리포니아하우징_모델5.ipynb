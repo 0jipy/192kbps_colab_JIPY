{
  "nbformat": 4,
  "nbformat_minor": 0,
  "metadata": {
    "colab": {
      "name": "42.회귀-캘리포니아집값.ipynb",
      "provenance": [],
      "collapsed_sections": [],
      "authorship_tag": "ABX9TyOU/IEtbaYS7UWEP10MmYtO",
      "include_colab_link": true
    },
    "kernelspec": {
      "name": "python3",
      "display_name": "Python 3"
    },
    "language_info": {
      "name": "python"
    }
  },
  "cells": [
    {
      "cell_type": "markdown",
      "metadata": {
        "id": "view-in-github",
        "colab_type": "text"
      },
      "source": [
        "<a href=\"https://colab.research.google.com/github/0jipy/192kbps_colab_JIPY/blob/main/%EC%BA%98%EB%A6%AC%ED%8F%AC%EB%8B%88%EC%95%84%ED%95%98%EC%9A%B0%EC%A7%95_%EB%AA%A8%EB%8D%B85.ipynb\" target=\"_parent\"><img src=\"https://colab.research.google.com/assets/colab-badge.svg\" alt=\"Open In Colab\"/></a>"
      ]
    },
    {
      "cell_type": "markdown",
      "source": [
        "# 회귀  - 캘리포니아 하우징"
      ],
      "metadata": {
        "id": "r7VdsEkmrA8d"
      }
    },
    {
      "cell_type": "markdown",
      "source": [
        "## 모델 5"
      ],
      "metadata": {
        "id": "7smYRfP0ST5R"
      }
    },
    {
      "cell_type": "markdown",
      "source": [
        "모델 py 맞추기 위해 'Califonia.h5'로 저장."
      ],
      "metadata": {
        "id": "tVauNsv4ST5R"
      }
    },
    {
      "cell_type": "code",
      "source": [
        "model5 = Sequential([\n",
        "    Dense(72, input_dim=8, activation='relu'),\n",
        "    Dense(54, activation='relu'),\n",
        "    Dense(45, activation='relu'),\n",
        "    Dense(27, activation='relu'),\n",
        "    Dense(9, activation='relu'),\n",
        "    Dense(1)\n",
        "])\n",
        "model5.summary()"
      ],
      "metadata": {
        "colab": {
          "base_uri": "https://localhost:8080/"
        },
        "outputId": "8f974f32-320c-400f-a28a-3c5b7d4f4cc1",
        "id": "h5HdqCBfST5R"
      },
      "execution_count": null,
      "outputs": [
        {
          "output_type": "stream",
          "name": "stdout",
          "text": [
            "Model: \"sequential\"\n",
            "_________________________________________________________________\n",
            " Layer (type)                Output Shape              Param #   \n",
            "=================================================================\n",
            " dense (Dense)               (None, 72)                648       \n",
            "                                                                 \n",
            " dense_1 (Dense)             (None, 54)                3942      \n",
            "                                                                 \n",
            " dense_2 (Dense)             (None, 45)                2475      \n",
            "                                                                 \n",
            " dense_3 (Dense)             (None, 27)                1242      \n",
            "                                                                 \n",
            " dense_4 (Dense)             (None, 9)                 252       \n",
            "                                                                 \n",
            " dense_5 (Dense)             (None, 1)                 10        \n",
            "                                                                 \n",
            "=================================================================\n",
            "Total params: 8,569\n",
            "Trainable params: 8,569\n",
            "Non-trainable params: 0\n",
            "_________________________________________________________________\n"
          ]
        }
      ]
    },
    {
      "cell_type": "code",
      "source": [
        "model5.compile(optimizer='adam', loss='mean_squared_error')"
      ],
      "metadata": {
        "id": "5uiV_9lxST5S"
      },
      "execution_count": null,
      "outputs": []
    },
    {
      "cell_type": "code",
      "source": [
        "# 콜백 정의할것 \n",
        "from tensorflow.keras.callbacks import ModelCheckpoint, EarlyStopping\n",
        "\n",
        "model_path5 = 'califonia_house5.h5'\n",
        "checkpoint = ModelCheckpoint(\n",
        "    model_path5, monitor='val_loss', verbose=1, save_best_only=True\n",
        ")\n",
        "early_stop = EarlyStopping(patience=20)"
      ],
      "metadata": {
        "id": "333hpma5ST5S"
      },
      "execution_count": null,
      "outputs": []
    },
    {
      "cell_type": "code",
      "source": [
        "hist = model5.fit(X_train, y_train, validation_split=0.2,\n",
        "                   epochs=500, batch_size=120, verbose=1,\n",
        "                   callbacks=[checkpoint, early_stop])"
      ],
      "metadata": {
        "colab": {
          "base_uri": "https://localhost:8080/"
        },
        "outputId": "d999e2c3-010c-4aae-ff7d-e4047f6a63f8",
        "id": "XOSWikuTST5S"
      },
      "execution_count": null,
      "outputs": [
        {
          "output_type": "stream",
          "name": "stdout",
          "text": [
            "Epoch 1/500\n",
            "106/124 [========================>.....] - ETA: 0s - loss: 2495.5935\n",
            "Epoch 00001: val_loss improved from inf to 3.05226, saving model to califonia_house5.h5\n",
            "124/124 [==============================] - 1s 5ms/step - loss: 2136.6687 - val_loss: 3.0523\n",
            "Epoch 2/500\n",
            "114/124 [==========================>...] - ETA: 0s - loss: 1.9821\n",
            "Epoch 00002: val_loss improved from 3.05226 to 1.33693, saving model to califonia_house5.h5\n",
            "124/124 [==============================] - 0s 4ms/step - loss: 1.9247 - val_loss: 1.3369\n",
            "Epoch 3/500\n",
            "123/124 [============================>.] - ETA: 0s - loss: 1.4168\n",
            "Epoch 00003: val_loss did not improve from 1.33693\n",
            "124/124 [==============================] - 0s 3ms/step - loss: 1.4186 - val_loss: 1.4998\n",
            "Epoch 4/500\n",
            "112/124 [==========================>...] - ETA: 0s - loss: 1.3783\n",
            "Epoch 00004: val_loss did not improve from 1.33693\n",
            "124/124 [==============================] - 0s 3ms/step - loss: 1.3714 - val_loss: 1.3565\n",
            "Epoch 5/500\n",
            "124/124 [==============================] - ETA: 0s - loss: 1.3101\n",
            "Epoch 00005: val_loss improved from 1.33693 to 1.29076, saving model to califonia_house5.h5\n",
            "124/124 [==============================] - 0s 3ms/step - loss: 1.3101 - val_loss: 1.2908\n",
            "Epoch 6/500\n",
            "123/124 [============================>.] - ETA: 0s - loss: 1.3384\n",
            "Epoch 00006: val_loss improved from 1.29076 to 1.24843, saving model to califonia_house5.h5\n",
            "124/124 [==============================] - 0s 3ms/step - loss: 1.3387 - val_loss: 1.2484\n",
            "Epoch 7/500\n",
            "109/124 [=========================>....] - ETA: 0s - loss: 1.2511\n",
            "Epoch 00007: val_loss improved from 1.24843 to 1.16722, saving model to califonia_house5.h5\n",
            "124/124 [==============================] - 0s 4ms/step - loss: 1.2426 - val_loss: 1.1672\n",
            "Epoch 8/500\n",
            "120/124 [============================>.] - ETA: 0s - loss: 1.2426\n",
            "Epoch 00008: val_loss did not improve from 1.16722\n",
            "124/124 [==============================] - 0s 3ms/step - loss: 1.2410 - val_loss: 1.2526\n",
            "Epoch 9/500\n",
            "116/124 [===========================>..] - ETA: 0s - loss: 1.1259\n",
            "Epoch 00009: val_loss improved from 1.16722 to 1.05977, saving model to califonia_house5.h5\n",
            "124/124 [==============================] - 0s 3ms/step - loss: 1.1256 - val_loss: 1.0598\n",
            "Epoch 10/500\n",
            "122/124 [============================>.] - ETA: 0s - loss: 1.0277\n",
            "Epoch 00010: val_loss did not improve from 1.05977\n",
            "124/124 [==============================] - 0s 3ms/step - loss: 1.0267 - val_loss: 1.0618\n",
            "Epoch 11/500\n",
            "116/124 [===========================>..] - ETA: 0s - loss: 0.9517\n",
            "Epoch 00011: val_loss improved from 1.05977 to 0.85803, saving model to califonia_house5.h5\n",
            "124/124 [==============================] - 0s 3ms/step - loss: 0.9503 - val_loss: 0.8580\n",
            "Epoch 12/500\n",
            "112/124 [==========================>...] - ETA: 0s - loss: 0.9745\n",
            "Epoch 00012: val_loss improved from 0.85803 to 0.79393, saving model to califonia_house5.h5\n",
            "124/124 [==============================] - 0s 4ms/step - loss: 0.9540 - val_loss: 0.7939\n",
            "Epoch 13/500\n",
            "112/124 [==========================>...] - ETA: 0s - loss: 0.7676\n",
            "Epoch 00013: val_loss did not improve from 0.79393\n",
            "124/124 [==============================] - 0s 3ms/step - loss: 0.7789 - val_loss: 0.8029\n",
            "Epoch 14/500\n",
            "113/124 [==========================>...] - ETA: 0s - loss: 0.7502\n",
            "Epoch 00014: val_loss improved from 0.79393 to 0.65274, saving model to califonia_house5.h5\n",
            "124/124 [==============================] - 0s 3ms/step - loss: 0.7407 - val_loss: 0.6527\n",
            "Epoch 15/500\n",
            "116/124 [===========================>..] - ETA: 0s - loss: 0.6672\n",
            "Epoch 00015: val_loss improved from 0.65274 to 0.62777, saving model to califonia_house5.h5\n",
            "124/124 [==============================] - 0s 3ms/step - loss: 0.6677 - val_loss: 0.6278\n",
            "Epoch 16/500\n",
            "108/124 [=========================>....] - ETA: 0s - loss: 0.6429\n",
            "Epoch 00016: val_loss did not improve from 0.62777\n",
            "124/124 [==============================] - 0s 3ms/step - loss: 0.6466 - val_loss: 0.7362\n",
            "Epoch 17/500\n",
            "120/124 [============================>.] - ETA: 0s - loss: 0.6667\n",
            "Epoch 00017: val_loss did not improve from 0.62777\n",
            "124/124 [==============================] - 0s 4ms/step - loss: 0.6654 - val_loss: 0.7922\n",
            "Epoch 18/500\n",
            "112/124 [==========================>...] - ETA: 0s - loss: 0.6298\n",
            "Epoch 00018: val_loss improved from 0.62777 to 0.60511, saving model to califonia_house5.h5\n",
            "124/124 [==============================] - 0s 4ms/step - loss: 0.6315 - val_loss: 0.6051\n",
            "Epoch 19/500\n",
            "114/124 [==========================>...] - ETA: 0s - loss: 0.6280\n",
            "Epoch 00019: val_loss improved from 0.60511 to 0.58312, saving model to califonia_house5.h5\n",
            "124/124 [==============================] - 0s 4ms/step - loss: 0.6245 - val_loss: 0.5831\n",
            "Epoch 20/500\n",
            "110/124 [=========================>....] - ETA: 0s - loss: 0.6176\n",
            "Epoch 00020: val_loss did not improve from 0.58312\n",
            "124/124 [==============================] - 0s 3ms/step - loss: 0.6195 - val_loss: 0.6065\n",
            "Epoch 21/500\n",
            "115/124 [==========================>...] - ETA: 0s - loss: 0.6027\n",
            "Epoch 00021: val_loss improved from 0.58312 to 0.57200, saving model to califonia_house5.h5\n",
            "124/124 [==============================] - 0s 3ms/step - loss: 0.5997 - val_loss: 0.5720\n",
            "Epoch 22/500\n",
            "122/124 [============================>.] - ETA: 0s - loss: 0.5963\n",
            "Epoch 00022: val_loss did not improve from 0.57200\n",
            "124/124 [==============================] - 0s 4ms/step - loss: 0.5987 - val_loss: 0.5834\n",
            "Epoch 23/500\n",
            "110/124 [=========================>....] - ETA: 0s - loss: 0.5850\n",
            "Epoch 00023: val_loss did not improve from 0.57200\n",
            "124/124 [==============================] - 0s 4ms/step - loss: 0.5870 - val_loss: 0.6045\n",
            "Epoch 24/500\n",
            "116/124 [===========================>..] - ETA: 0s - loss: 0.5943\n",
            "Epoch 00024: val_loss improved from 0.57200 to 0.56563, saving model to califonia_house5.h5\n",
            "124/124 [==============================] - 0s 4ms/step - loss: 0.5978 - val_loss: 0.5656\n",
            "Epoch 25/500\n",
            "113/124 [==========================>...] - ETA: 0s - loss: 0.5854\n",
            "Epoch 00025: val_loss improved from 0.56563 to 0.55997, saving model to califonia_house5.h5\n",
            "124/124 [==============================] - 0s 4ms/step - loss: 0.5852 - val_loss: 0.5600\n",
            "Epoch 26/500\n",
            "110/124 [=========================>....] - ETA: 0s - loss: 0.6200\n",
            "Epoch 00026: val_loss improved from 0.55997 to 0.55599, saving model to califonia_house5.h5\n",
            "124/124 [==============================] - 0s 4ms/step - loss: 0.6199 - val_loss: 0.5560\n",
            "Epoch 27/500\n",
            "124/124 [==============================] - ETA: 0s - loss: 0.5806\n",
            "Epoch 00027: val_loss improved from 0.55599 to 0.55554, saving model to califonia_house5.h5\n",
            "124/124 [==============================] - 0s 3ms/step - loss: 0.5806 - val_loss: 0.5555\n",
            "Epoch 28/500\n",
            "124/124 [==============================] - ETA: 0s - loss: 0.5687\n",
            "Epoch 00028: val_loss did not improve from 0.55554\n",
            "124/124 [==============================] - 0s 3ms/step - loss: 0.5687 - val_loss: 0.6511\n",
            "Epoch 29/500\n",
            "121/124 [============================>.] - ETA: 0s - loss: 0.5689\n",
            "Epoch 00029: val_loss did not improve from 0.55554\n",
            "124/124 [==============================] - 0s 3ms/step - loss: 0.5673 - val_loss: 0.5772\n",
            "Epoch 30/500\n",
            "114/124 [==========================>...] - ETA: 0s - loss: 0.5717\n",
            "Epoch 00030: val_loss did not improve from 0.55554\n",
            "124/124 [==============================] - 0s 3ms/step - loss: 0.5693 - val_loss: 0.5674\n",
            "Epoch 31/500\n",
            "119/124 [===========================>..] - ETA: 0s - loss: 0.5752\n",
            "Epoch 00031: val_loss improved from 0.55554 to 0.54873, saving model to califonia_house5.h5\n",
            "124/124 [==============================] - 0s 3ms/step - loss: 0.5746 - val_loss: 0.5487\n",
            "Epoch 32/500\n",
            "115/124 [==========================>...] - ETA: 0s - loss: 0.5502\n",
            "Epoch 00032: val_loss improved from 0.54873 to 0.54379, saving model to califonia_house5.h5\n",
            "124/124 [==============================] - 0s 4ms/step - loss: 0.5513 - val_loss: 0.5438\n",
            "Epoch 33/500\n",
            "113/124 [==========================>...] - ETA: 0s - loss: 0.5820\n",
            "Epoch 00033: val_loss improved from 0.54379 to 0.53951, saving model to califonia_house5.h5\n",
            "124/124 [==============================] - 0s 3ms/step - loss: 0.5788 - val_loss: 0.5395\n",
            "Epoch 34/500\n",
            "117/124 [===========================>..] - ETA: 0s - loss: 0.6685\n",
            "Epoch 00034: val_loss did not improve from 0.53951\n",
            "124/124 [==============================] - 0s 3ms/step - loss: 0.6744 - val_loss: 0.7543\n",
            "Epoch 35/500\n",
            "116/124 [===========================>..] - ETA: 0s - loss: 0.5913\n",
            "Epoch 00035: val_loss improved from 0.53951 to 0.53040, saving model to califonia_house5.h5\n",
            "124/124 [==============================] - 0s 4ms/step - loss: 0.5846 - val_loss: 0.5304\n",
            "Epoch 36/500\n",
            "105/124 [========================>.....] - ETA: 0s - loss: 0.5598\n",
            "Epoch 00036: val_loss did not improve from 0.53040\n",
            "124/124 [==============================] - 0s 3ms/step - loss: 0.5610 - val_loss: 0.5724\n",
            "Epoch 37/500\n",
            "108/124 [=========================>....] - ETA: 0s - loss: 0.5461\n",
            "Epoch 00037: val_loss did not improve from 0.53040\n",
            "124/124 [==============================] - 0s 3ms/step - loss: 0.5517 - val_loss: 0.5585\n",
            "Epoch 38/500\n",
            "121/124 [============================>.] - ETA: 0s - loss: 0.5697\n",
            "Epoch 00038: val_loss improved from 0.53040 to 0.52149, saving model to califonia_house5.h5\n",
            "124/124 [==============================] - 0s 3ms/step - loss: 0.5667 - val_loss: 0.5215\n",
            "Epoch 39/500\n",
            "108/124 [=========================>....] - ETA: 0s - loss: 0.5436\n",
            "Epoch 00039: val_loss improved from 0.52149 to 0.50764, saving model to califonia_house5.h5\n",
            "124/124 [==============================] - 0s 3ms/step - loss: 0.5403 - val_loss: 0.5076\n",
            "Epoch 40/500\n",
            "113/124 [==========================>...] - ETA: 0s - loss: 0.5459\n",
            "Epoch 00040: val_loss did not improve from 0.50764\n",
            "124/124 [==============================] - 0s 3ms/step - loss: 0.5627 - val_loss: 0.6417\n",
            "Epoch 41/500\n",
            "121/124 [============================>.] - ETA: 0s - loss: 0.5902\n",
            "Epoch 00041: val_loss did not improve from 0.50764\n",
            "124/124 [==============================] - 0s 3ms/step - loss: 0.5895 - val_loss: 0.5261\n",
            "Epoch 42/500\n",
            "115/124 [==========================>...] - ETA: 0s - loss: 0.5487\n",
            "Epoch 00042: val_loss did not improve from 0.50764\n",
            "124/124 [==============================] - 0s 3ms/step - loss: 0.5432 - val_loss: 0.5137\n",
            "Epoch 43/500\n",
            "122/124 [============================>.] - ETA: 0s - loss: 0.5501\n",
            "Epoch 00043: val_loss did not improve from 0.50764\n",
            "124/124 [==============================] - 0s 3ms/step - loss: 0.5492 - val_loss: 0.5190\n",
            "Epoch 44/500\n",
            "120/124 [============================>.] - ETA: 0s - loss: 0.5594\n",
            "Epoch 00044: val_loss did not improve from 0.50764\n",
            "124/124 [==============================] - 0s 3ms/step - loss: 0.5591 - val_loss: 0.5820\n",
            "Epoch 45/500\n",
            "119/124 [===========================>..] - ETA: 0s - loss: 0.5495\n",
            "Epoch 00045: val_loss did not improve from 0.50764\n",
            "124/124 [==============================] - 0s 4ms/step - loss: 0.5519 - val_loss: 0.5846\n",
            "Epoch 46/500\n",
            "118/124 [===========================>..] - ETA: 0s - loss: 0.5892\n",
            "Epoch 00046: val_loss did not improve from 0.50764\n",
            "124/124 [==============================] - 0s 3ms/step - loss: 0.5840 - val_loss: 0.5199\n",
            "Epoch 47/500\n",
            "117/124 [===========================>..] - ETA: 0s - loss: 0.5232\n",
            "Epoch 00047: val_loss did not improve from 0.50764\n",
            "124/124 [==============================] - 0s 3ms/step - loss: 0.5286 - val_loss: 0.5231\n",
            "Epoch 48/500\n",
            "117/124 [===========================>..] - ETA: 0s - loss: 0.5720\n",
            "Epoch 00048: val_loss did not improve from 0.50764\n",
            "124/124 [==============================] - 0s 3ms/step - loss: 0.5697 - val_loss: 0.5171\n",
            "Epoch 49/500\n",
            "121/124 [============================>.] - ETA: 0s - loss: 0.5743\n",
            "Epoch 00049: val_loss did not improve from 0.50764\n",
            "124/124 [==============================] - 0s 4ms/step - loss: 0.5746 - val_loss: 0.5490\n",
            "Epoch 50/500\n",
            "110/124 [=========================>....] - ETA: 0s - loss: 0.5335\n",
            "Epoch 00050: val_loss did not improve from 0.50764\n",
            "124/124 [==============================] - 0s 3ms/step - loss: 0.5344 - val_loss: 0.5487\n",
            "Epoch 51/500\n",
            "114/124 [==========================>...] - ETA: 0s - loss: 0.5493\n",
            "Epoch 00051: val_loss did not improve from 0.50764\n",
            "124/124 [==============================] - 0s 3ms/step - loss: 0.5466 - val_loss: 0.5122\n",
            "Epoch 52/500\n",
            "117/124 [===========================>..] - ETA: 0s - loss: 0.5242\n",
            "Epoch 00052: val_loss improved from 0.50764 to 0.50038, saving model to califonia_house5.h5\n",
            "124/124 [==============================] - 0s 3ms/step - loss: 0.5265 - val_loss: 0.5004\n",
            "Epoch 53/500\n",
            "109/124 [=========================>....] - ETA: 0s - loss: 0.5367\n",
            "Epoch 00053: val_loss did not improve from 0.50038\n",
            "124/124 [==============================] - 0s 3ms/step - loss: 0.5347 - val_loss: 0.5275\n",
            "Epoch 54/500\n",
            "115/124 [==========================>...] - ETA: 0s - loss: 0.5327\n",
            "Epoch 00054: val_loss did not improve from 0.50038\n",
            "124/124 [==============================] - 0s 3ms/step - loss: 0.5368 - val_loss: 0.5061\n",
            "Epoch 55/500\n",
            "110/124 [=========================>....] - ETA: 0s - loss: 0.5664\n",
            "Epoch 00055: val_loss did not improve from 0.50038\n",
            "124/124 [==============================] - 0s 3ms/step - loss: 0.5624 - val_loss: 0.5223\n",
            "Epoch 56/500\n",
            "110/124 [=========================>....] - ETA: 0s - loss: 0.5327\n",
            "Epoch 00056: val_loss did not improve from 0.50038\n",
            "124/124 [==============================] - 0s 4ms/step - loss: 0.5337 - val_loss: 0.6254\n",
            "Epoch 57/500\n",
            "121/124 [============================>.] - ETA: 0s - loss: 0.5227\n",
            "Epoch 00057: val_loss did not improve from 0.50038\n",
            "124/124 [==============================] - 0s 4ms/step - loss: 0.5215 - val_loss: 0.5230\n",
            "Epoch 58/500\n",
            "114/124 [==========================>...] - ETA: 0s - loss: 0.5649\n",
            "Epoch 00058: val_loss improved from 0.50038 to 0.49695, saving model to califonia_house5.h5\n",
            "124/124 [==============================] - 0s 3ms/step - loss: 0.5650 - val_loss: 0.4970\n",
            "Epoch 59/500\n",
            "108/124 [=========================>....] - ETA: 0s - loss: 0.5215\n",
            "Epoch 00059: val_loss did not improve from 0.49695\n",
            "124/124 [==============================] - 0s 3ms/step - loss: 0.5237 - val_loss: 0.5093\n",
            "Epoch 60/500\n",
            "122/124 [============================>.] - ETA: 0s - loss: 0.5792\n",
            "Epoch 00060: val_loss improved from 0.49695 to 0.48446, saving model to califonia_house5.h5\n",
            "124/124 [==============================] - 0s 3ms/step - loss: 0.5770 - val_loss: 0.4845\n",
            "Epoch 61/500\n",
            "117/124 [===========================>..] - ETA: 0s - loss: 0.5128\n",
            "Epoch 00061: val_loss did not improve from 0.48446\n",
            "124/124 [==============================] - 0s 3ms/step - loss: 0.5199 - val_loss: 0.5033\n",
            "Epoch 62/500\n",
            "114/124 [==========================>...] - ETA: 0s - loss: 0.6368\n",
            "Epoch 00062: val_loss did not improve from 0.48446\n",
            "124/124 [==============================] - 0s 3ms/step - loss: 0.6383 - val_loss: 1.2656\n",
            "Epoch 63/500\n",
            "116/124 [===========================>..] - ETA: 0s - loss: 0.5892\n",
            "Epoch 00063: val_loss did not improve from 0.48446\n",
            "124/124 [==============================] - 0s 3ms/step - loss: 0.5828 - val_loss: 0.5097\n",
            "Epoch 64/500\n",
            "117/124 [===========================>..] - ETA: 0s - loss: 0.5155\n",
            "Epoch 00064: val_loss did not improve from 0.48446\n",
            "124/124 [==============================] - 0s 3ms/step - loss: 0.5146 - val_loss: 0.4894\n",
            "Epoch 65/500\n",
            "123/124 [============================>.] - ETA: 0s - loss: 0.5617\n",
            "Epoch 00065: val_loss did not improve from 0.48446\n",
            "124/124 [==============================] - 0s 3ms/step - loss: 0.5609 - val_loss: 0.5300\n",
            "Epoch 66/500\n",
            "109/124 [=========================>....] - ETA: 0s - loss: 0.5730\n",
            "Epoch 00066: val_loss did not improve from 0.48446\n",
            "124/124 [==============================] - 0s 3ms/step - loss: 0.5821 - val_loss: 0.9310\n",
            "Epoch 67/500\n",
            "118/124 [===========================>..] - ETA: 0s - loss: 0.6241\n",
            "Epoch 00067: val_loss did not improve from 0.48446\n",
            "124/124 [==============================] - 0s 3ms/step - loss: 0.6369 - val_loss: 0.8533\n",
            "Epoch 68/500\n",
            "108/124 [=========================>....] - ETA: 0s - loss: 0.5840\n",
            "Epoch 00068: val_loss did not improve from 0.48446\n",
            "124/124 [==============================] - 0s 3ms/step - loss: 0.5754 - val_loss: 0.5262\n",
            "Epoch 69/500\n",
            "111/124 [=========================>....] - ETA: 0s - loss: 0.5247\n",
            "Epoch 00069: val_loss did not improve from 0.48446\n",
            "124/124 [==============================] - 0s 4ms/step - loss: 0.5234 - val_loss: 0.5062\n",
            "Epoch 70/500\n",
            "119/124 [===========================>..] - ETA: 0s - loss: 0.5319\n",
            "Epoch 00070: val_loss did not improve from 0.48446\n",
            "124/124 [==============================] - 0s 3ms/step - loss: 0.5326 - val_loss: 0.5746\n",
            "Epoch 71/500\n",
            "124/124 [==============================] - ETA: 0s - loss: 0.5159\n",
            "Epoch 00071: val_loss did not improve from 0.48446\n",
            "124/124 [==============================] - 0s 3ms/step - loss: 0.5159 - val_loss: 0.5722\n",
            "Epoch 72/500\n",
            "110/124 [=========================>....] - ETA: 0s - loss: 0.5621\n",
            "Epoch 00072: val_loss did not improve from 0.48446\n",
            "124/124 [==============================] - 0s 3ms/step - loss: 0.5631 - val_loss: 0.5216\n",
            "Epoch 73/500\n",
            "113/124 [==========================>...] - ETA: 0s - loss: 0.5506\n",
            "Epoch 00073: val_loss did not improve from 0.48446\n",
            "124/124 [==============================] - 0s 3ms/step - loss: 0.5514 - val_loss: 0.5258\n",
            "Epoch 74/500\n",
            "107/124 [========================>.....] - ETA: 0s - loss: 0.5576\n",
            "Epoch 00074: val_loss did not improve from 0.48446\n",
            "124/124 [==============================] - 0s 3ms/step - loss: 0.5563 - val_loss: 0.6163\n",
            "Epoch 75/500\n",
            "121/124 [============================>.] - ETA: 0s - loss: 0.5232\n",
            "Epoch 00075: val_loss did not improve from 0.48446\n",
            "124/124 [==============================] - 0s 3ms/step - loss: 0.5233 - val_loss: 0.4928\n",
            "Epoch 76/500\n",
            "121/124 [============================>.] - ETA: 0s - loss: 0.5276\n",
            "Epoch 00076: val_loss did not improve from 0.48446\n",
            "124/124 [==============================] - 0s 3ms/step - loss: 0.5256 - val_loss: 0.4870\n",
            "Epoch 77/500\n",
            "119/124 [===========================>..] - ETA: 0s - loss: 0.5309\n",
            "Epoch 00077: val_loss did not improve from 0.48446\n",
            "124/124 [==============================] - 0s 3ms/step - loss: 0.5325 - val_loss: 0.5441\n",
            "Epoch 78/500\n",
            "121/124 [============================>.] - ETA: 0s - loss: 0.5117\n",
            "Epoch 00078: val_loss did not improve from 0.48446\n",
            "124/124 [==============================] - 0s 3ms/step - loss: 0.5117 - val_loss: 0.5088\n",
            "Epoch 79/500\n",
            "120/124 [============================>.] - ETA: 0s - loss: 0.5386\n",
            "Epoch 00079: val_loss did not improve from 0.48446\n",
            "124/124 [==============================] - 0s 3ms/step - loss: 0.5444 - val_loss: 0.6569\n",
            "Epoch 80/500\n",
            "108/124 [=========================>....] - ETA: 0s - loss: 0.5592\n",
            "Epoch 00080: val_loss did not improve from 0.48446\n",
            "124/124 [==============================] - 0s 4ms/step - loss: 0.5460 - val_loss: 0.5273\n"
          ]
        }
      ]
    },
    {
      "cell_type": "code",
      "source": [
        "y_loss = hist.history['loss']\n",
        "y_vloss = hist.history['val_loss']\n",
        "xs = np.arange(1, len(y_loss)+1)"
      ],
      "metadata": {
        "id": "Hk-DMDtzST5T"
      },
      "execution_count": null,
      "outputs": []
    },
    {
      "cell_type": "code",
      "source": [
        "plt.figure(figsize=(12,8))\n",
        "plt.plot(xs, y_loss, label='train loss')\n",
        "plt.plot(xs, y_vloss, label='validation loss')\n",
        "plt.legend()\n",
        "plt.grid()\n",
        "plt.ylim([0,2])\n",
        "plt.xlabel('Epoch')\n",
        "plt.show()"
      ],
      "metadata": {
        "colab": {
          "base_uri": "https://localhost:8080/",
          "height": 501
        },
        "outputId": "15452588-3399-426c-f44d-206a059e8dcd",
        "id": "FiwVansPST5T"
      },
      "execution_count": null,
      "outputs": [
        {
          "output_type": "display_data",
          "data": {
            "image/png": "[encoded data removed]",
            "text/plain": [
              "<Figure size 864x576 with 1 Axes>"
            ]
          },
          "metadata": {
            "needs_background": "light"
          }
        }
      ]
    },
    {
      "cell_type": "code",
      "source": [
        "# 아무래도 성능차이가 있어보여? 코랩의 문제? pc 하드웨어의 문제?"
      ],
      "metadata": {
        "id": "yL1KQ-_dST5T"
      },
      "execution_count": null,
      "outputs": []
    },
    {
      "cell_type": "code",
      "source": [
        "from sklearn.metrics import mean_squared_error, r2_score\n",
        "pred5 = model5.predict(X_test)\n",
        "mean_squared_error(y_test, pred5), r2_score(y_test, pred5)"
      ],
      "metadata": {
        "colab": {
          "base_uri": "https://localhost:8080/"
        },
        "outputId": "6adc2c77-e25f-450a-8d92-e85b6b209473",
        "id": "ldXPNe3vST5T"
      },
      "execution_count": null,
      "outputs": [
        {
          "output_type": "execute_result",
          "data": {
            "text/plain": [
              "(0.5293536925391349, 0.5875446770391635)"
            ]
          },
          "metadata": {},
          "execution_count": 17
        }
      ]
    },
    {
      "cell_type": "code",
      "source": [
        ""
      ],
      "metadata": {
        "id": "we3SRSebST5T"
      },
      "execution_count": null,
      "outputs": []
    },
    {
      "cell_type": "markdown",
      "source": [
        "## 예측치 비교 : 임시라서 pred5만"
      ],
      "metadata": {
        "id": "vonRBHWgST5U"
      }
    },
    {
      "cell_type": "code",
      "source": [
        "df = pd.DataFrame({\n",
        "    'y_test':y_test, 'pred5':pred5.flatten()\n",
        "})\n",
        "df.head(10)"
      ],
      "metadata": {
        "colab": {
          "base_uri": "https://localhost:8080/",
          "height": 363
        },
        "outputId": "808deb23-8c5b-4607-a884-660baf53cf2d",
        "id": "FCgU8qYLST5U"
      },
      "execution_count": null,
      "outputs": [
        {
          "output_type": "execute_result",
          "data": {
            "text/html": [
              "\n",
              "  <div id=\"df-ea21a584-ce10-4193-a87d-c6735a5e3b7b\">\n",
              "    <div class=\"colab-df-container\">\n",
              "      <div>\n",
              "<style scoped>\n",
              "    .dataframe tbody tr th:only-of-type {\n",
              "        vertical-align: middle;\n",
              "    }\n",
              "\n",
              "    .dataframe tbody tr th {\n",
              "        vertical-align: top;\n",
              "    }\n",
              "\n",
              "    .dataframe thead th {\n",
              "        text-align: right;\n",
              "    }\n",
              "</style>\n",
              "<table border=\"1\" class=\"dataframe\">\n",
              "  <thead>\n",
              "    <tr style=\"text-align: right;\">\n",
              "      <th></th>\n",
              "      <th>y_test</th>\n",
              "      <th>pred5</th>\n",
              "    </tr>\n",
              "  </thead>\n",
              "  <tbody>\n",
              "    <tr>\n",
              "      <th>0</th>\n",
              "      <td>4.771</td>\n",
              "      <td>4.539354</td>\n",
              "    </tr>\n",
              "    <tr>\n",
              "      <th>1</th>\n",
              "      <td>1.371</td>\n",
              "      <td>1.195279</td>\n",
              "    </tr>\n",
              "    <tr>\n",
              "      <th>2</th>\n",
              "      <td>1.233</td>\n",
              "      <td>1.801453</td>\n",
              "    </tr>\n",
              "    <tr>\n",
              "      <th>3</th>\n",
              "      <td>0.938</td>\n",
              "      <td>1.373376</td>\n",
              "    </tr>\n",
              "    <tr>\n",
              "      <th>4</th>\n",
              "      <td>3.260</td>\n",
              "      <td>3.757412</td>\n",
              "    </tr>\n",
              "    <tr>\n",
              "      <th>5</th>\n",
              "      <td>1.516</td>\n",
              "      <td>1.530638</td>\n",
              "    </tr>\n",
              "    <tr>\n",
              "      <th>6</th>\n",
              "      <td>2.738</td>\n",
              "      <td>2.539587</td>\n",
              "    </tr>\n",
              "    <tr>\n",
              "      <th>7</th>\n",
              "      <td>1.368</td>\n",
              "      <td>1.883620</td>\n",
              "    </tr>\n",
              "    <tr>\n",
              "      <th>8</th>\n",
              "      <td>1.175</td>\n",
              "      <td>1.151200</td>\n",
              "    </tr>\n",
              "    <tr>\n",
              "      <th>9</th>\n",
              "      <td>2.966</td>\n",
              "      <td>3.224689</td>\n",
              "    </tr>\n",
              "  </tbody>\n",
              "</table>\n",
              "</div>\n",
              "      <button class=\"colab-df-convert\" onclick=\"convertToInteractive('df-ea21a584-ce10-4193-a87d-c6735a5e3b7b')\"\n",
              "              title=\"Convert this dataframe to an interactive table.\"\n",
              "              style=\"display:none;\">\n",
              "        \n",
              "  <svg xmlns=\"http://www.w3.org/2000/svg\" height=\"24px\"viewBox=\"0 0 24 24\"\n",
              "       width=\"24px\">\n",
              "    <path d=\"M0 0h24v24H0V0z\" fill=\"none\"/>\n",
              "    <path d=\"M18.56 5.44l.94 2.06.94-2.06 2.06-.94-2.06-.94-.94-2.06-.94 2.06-2.06.94zm-11 1L8.5 8.5l.94-2.06 2.06-.94-2.06-.94L8.5 2.5l-.94 2.06-2.06.94zm10 10l.94 2.06.94-2.06 2.06-.94-2.06-.94-.94-2.06-.94 2.06-2.06.94z\"/><path d=\"M17.41 7.96l-1.37-1.37c-.4-.4-.92-.59-1.43-.59-.52 0-1.04.2-1.43.59L10.3 9.45l-7.72 7.72c-.78.78-.78 2.05 0 2.83L4 21.41c.39.39.9.59 1.41.59.51 0 1.02-.2 1.41-.59l7.78-7.78 2.81-2.81c.8-.78.8-2.07 0-2.86zM5.41 20L4 18.59l7.72-7.72 1.47 1.35L5.41 20z\"/>\n",
              "  </svg>\n",
              "      </button>\n",
              "      \n",
              "  <style>\n",
              "    .colab-df-container {\n",
              "      display:flex;\n",
              "      flex-wrap:wrap;\n",
              "      gap: 12px;\n",
              "    }\n",
              "\n",
              "    .colab-df-convert {\n",
              "      background-color: #E8F0FE;\n",
              "      border: none;\n",
              "      border-radius: 50%;\n",
              "      cursor: pointer;\n",
              "      display: none;\n",
              "      fill: #1967D2;\n",
              "      height: 32px;\n",
              "      padding: 0 0 0 0;\n",
              "      width: 32px;\n",
              "    }\n",
              "\n",
              "    .colab-df-convert:hover {\n",
              "      background-color: #E2EBFA;\n",
              "      box-shadow: 0px 1px 2px rgba(60, 64, 67, 0.3), 0px 1px 3px 1px rgba(60, 64, 67, 0.15);\n",
              "      fill: #174EA6;\n",
              "    }\n",
              "\n",
              "    [theme=dark] .colab-df-convert {\n",
              "      background-color: #3B4455;\n",
              "      fill: #D2E3FC;\n",
              "    }\n",
              "\n",
              "    [theme=dark] .colab-df-convert:hover {\n",
              "      background-color: #434B5C;\n",
              "      box-shadow: 0px 1px 3px 1px rgba(0, 0, 0, 0.15);\n",
              "      filter: drop-shadow(0px 1px 2px rgba(0, 0, 0, 0.3));\n",
              "      fill: #FFFFFF;\n",
              "    }\n",
              "  </style>\n",
              "\n",
              "      <script>\n",
              "        const buttonEl =\n",
              "          document.querySelector('#df-ea21a584-ce10-4193-a87d-c6735a5e3b7b button.colab-df-convert');\n",
              "        buttonEl.style.display =\n",
              "          google.colab.kernel.accessAllowed ? 'block' : 'none';\n",
              "\n",
              "        async function convertToInteractive(key) {\n",
              "          const element = document.querySelector('#df-ea21a584-ce10-4193-a87d-c6735a5e3b7b');\n",
              "          const dataTable =\n",
              "            await google.colab.kernel.invokeFunction('convertToInteractive',\n",
              "                                                     [key], {});\n",
              "          if (!dataTable) return;\n",
              "\n",
              "          const docLinkHtml = 'Like what you see? Visit the ' +\n",
              "            '<a target=\"_blank\" href=https://colab.research.google.com/notebooks/data_table.ipynb>data table notebook</a>'\n",
              "            + ' to learn more about interactive tables.';\n",
              "          element.innerHTML = '';\n",
              "          dataTable['output_type'] = 'display_data';\n",
              "          await google.colab.output.renderOutput(dataTable, element);\n",
              "          const docLink = document.createElement('div');\n",
              "          docLink.innerHTML = docLinkHtml;\n",
              "          element.appendChild(docLink);\n",
              "        }\n",
              "      </script>\n",
              "    </div>\n",
              "  </div>\n",
              "  "
            ],
            "text/plain": [
              "   y_test     pred5\n",
              "0   4.771  4.539354\n",
              "1   1.371  1.195279\n",
              "2   1.233  1.801453\n",
              "3   0.938  1.373376\n",
              "4   3.260  3.757412\n",
              "5   1.516  1.530638\n",
              "6   2.738  2.539587\n",
              "7   1.368  1.883620\n",
              "8   1.175  1.151200\n",
              "9   2.966  3.224689"
            ]
          },
          "metadata": {},
          "execution_count": 19
        }
      ]
    },
    {
      "cell_type": "code",
      "source": [
        "df.describe()\n",
        "# 수치 확인하기 좋을것."
      ],
      "metadata": {
        "colab": {
          "base_uri": "https://localhost:8080/",
          "height": 300
        },
        "outputId": "20363594-b2c0-4987-a84a-6fb34b81603b",
        "id": "clX6Q-eyST5U"
      },
      "execution_count": null,
      "outputs": [
        {
          "output_type": "execute_result",
          "data": {
            "text/html": [
              "\n",
              "  <div id=\"df-09890b8e-128e-4362-91cd-faed85069703\">\n",
              "    <div class=\"colab-df-container\">\n",
              "      <div>\n",
              "<style scoped>\n",
              "    .dataframe tbody tr th:only-of-type {\n",
              "        vertical-align: middle;\n",
              "    }\n",
              "\n",
              "    .dataframe tbody tr th {\n",
              "        vertical-align: top;\n",
              "    }\n",
              "\n",
              "    .dataframe thead th {\n",
              "        text-align: right;\n",
              "    }\n",
              "</style>\n",
              "<table border=\"1\" class=\"dataframe\">\n",
              "  <thead>\n",
              "    <tr style=\"text-align: right;\">\n",
              "      <th></th>\n",
              "      <th>y_test</th>\n",
              "      <th>pred5</th>\n",
              "    </tr>\n",
              "  </thead>\n",
              "  <tbody>\n",
              "    <tr>\n",
              "      <th>count</th>\n",
              "      <td>2064.000000</td>\n",
              "      <td>2064.000000</td>\n",
              "    </tr>\n",
              "    <tr>\n",
              "      <th>mean</th>\n",
              "      <td>2.002142</td>\n",
              "      <td>2.214563</td>\n",
              "    </tr>\n",
              "    <tr>\n",
              "      <th>std</th>\n",
              "      <td>1.133156</td>\n",
              "      <td>0.905811</td>\n",
              "    </tr>\n",
              "    <tr>\n",
              "      <th>min</th>\n",
              "      <td>0.149990</td>\n",
              "      <td>0.043445</td>\n",
              "    </tr>\n",
              "    <tr>\n",
              "      <th>25%</th>\n",
              "      <td>1.138250</td>\n",
              "      <td>1.508429</td>\n",
              "    </tr>\n",
              "    <tr>\n",
              "      <th>50%</th>\n",
              "      <td>1.735000</td>\n",
              "      <td>2.034637</td>\n",
              "    </tr>\n",
              "    <tr>\n",
              "      <th>75%</th>\n",
              "      <td>2.561750</td>\n",
              "      <td>2.777247</td>\n",
              "    </tr>\n",
              "    <tr>\n",
              "      <th>max</th>\n",
              "      <td>5.000010</td>\n",
              "      <td>6.040096</td>\n",
              "    </tr>\n",
              "  </tbody>\n",
              "</table>\n",
              "</div>\n",
              "      <button class=\"colab-df-convert\" onclick=\"convertToInteractive('df-09890b8e-128e-4362-91cd-faed85069703')\"\n",
              "              title=\"Convert this dataframe to an interactive table.\"\n",
              "              style=\"display:none;\">\n",
              "        \n",
              "  <svg xmlns=\"http://www.w3.org/2000/svg\" height=\"24px\"viewBox=\"0 0 24 24\"\n",
              "       width=\"24px\">\n",
              "    <path d=\"M0 0h24v24H0V0z\" fill=\"none\"/>\n",
              "    <path d=\"M18.56 5.44l.94 2.06.94-2.06 2.06-.94-2.06-.94-.94-2.06-.94 2.06-2.06.94zm-11 1L8.5 8.5l.94-2.06 2.06-.94-2.06-.94L8.5 2.5l-.94 2.06-2.06.94zm10 10l.94 2.06.94-2.06 2.06-.94-2.06-.94-.94-2.06-.94 2.06-2.06.94z\"/><path d=\"M17.41 7.96l-1.37-1.37c-.4-.4-.92-.59-1.43-.59-.52 0-1.04.2-1.43.59L10.3 9.45l-7.72 7.72c-.78.78-.78 2.05 0 2.83L4 21.41c.39.39.9.59 1.41.59.51 0 1.02-.2 1.41-.59l7.78-7.78 2.81-2.81c.8-.78.8-2.07 0-2.86zM5.41 20L4 18.59l7.72-7.72 1.47 1.35L5.41 20z\"/>\n",
              "  </svg>\n",
              "      </button>\n",
              "      \n",
              "  <style>\n",
              "    .colab-df-container {\n",
              "      display:flex;\n",
              "      flex-wrap:wrap;\n",
              "      gap: 12px;\n",
              "    }\n",
              "\n",
              "    .colab-df-convert {\n",
              "      background-color: #E8F0FE;\n",
              "      border: none;\n",
              "      border-radius: 50%;\n",
              "      cursor: pointer;\n",
              "      display: none;\n",
              "      fill: #1967D2;\n",
              "      height: 32px;\n",
              "      padding: 0 0 0 0;\n",
              "      width: 32px;\n",
              "    }\n",
              "\n",
              "    .colab-df-convert:hover {\n",
              "      background-color: #E2EBFA;\n",
              "      box-shadow: 0px 1px 2px rgba(60, 64, 67, 0.3), 0px 1px 3px 1px rgba(60, 64, 67, 0.15);\n",
              "      fill: #174EA6;\n",
              "    }\n",
              "\n",
              "    [theme=dark] .colab-df-convert {\n",
              "      background-color: #3B4455;\n",
              "      fill: #D2E3FC;\n",
              "    }\n",
              "\n",
              "    [theme=dark] .colab-df-convert:hover {\n",
              "      background-color: #434B5C;\n",
              "      box-shadow: 0px 1px 3px 1px rgba(0, 0, 0, 0.15);\n",
              "      filter: drop-shadow(0px 1px 2px rgba(0, 0, 0, 0.3));\n",
              "      fill: #FFFFFF;\n",
              "    }\n",
              "  </style>\n",
              "\n",
              "      <script>\n",
              "        const buttonEl =\n",
              "          document.querySelector('#df-09890b8e-128e-4362-91cd-faed85069703 button.colab-df-convert');\n",
              "        buttonEl.style.display =\n",
              "          google.colab.kernel.accessAllowed ? 'block' : 'none';\n",
              "\n",
              "        async function convertToInteractive(key) {\n",
              "          const element = document.querySelector('#df-09890b8e-128e-4362-91cd-faed85069703');\n",
              "          const dataTable =\n",
              "            await google.colab.kernel.invokeFunction('convertToInteractive',\n",
              "                                                     [key], {});\n",
              "          if (!dataTable) return;\n",
              "\n",
              "          const docLinkHtml = 'Like what you see? Visit the ' +\n",
              "            '<a target=\"_blank\" href=https://colab.research.google.com/notebooks/data_table.ipynb>data table notebook</a>'\n",
              "            + ' to learn more about interactive tables.';\n",
              "          element.innerHTML = '';\n",
              "          dataTable['output_type'] = 'display_data';\n",
              "          await google.colab.output.renderOutput(dataTable, element);\n",
              "          const docLink = document.createElement('div');\n",
              "          docLink.innerHTML = docLinkHtml;\n",
              "          element.appendChild(docLink);\n",
              "        }\n",
              "      </script>\n",
              "    </div>\n",
              "  </div>\n",
              "  "
            ],
            "text/plain": [
              "            y_test        pred5\n",
              "count  2064.000000  2064.000000\n",
              "mean      2.002142     2.214563\n",
              "std       1.133156     0.905811\n",
              "min       0.149990     0.043445\n",
              "25%       1.138250     1.508429\n",
              "50%       1.735000     2.034637\n",
              "75%       2.561750     2.777247\n",
              "max       5.000010     6.040096"
            ]
          },
          "metadata": {},
          "execution_count": 20
        }
      ]
    },
    {
      "cell_type": "code",
      "source": [
        "# 다시 모델저장 이름은 캘5\n",
        "model5.save('Califonia.h5')"
      ],
      "metadata": {
        "id": "5roa68FTST5U"
      },
      "execution_count": null,
      "outputs": []
    },
    {
      "cell_type": "markdown",
      "source": [
        "## 테스트 프로그램"
      ],
      "metadata": {
        "id": "derP96zQST5U"
      }
    },
    {
      "cell_type": "code",
      "source": [
        "index = 9\n",
        "X_test[index], y_test[index]"
      ],
      "metadata": {
        "colab": {
          "base_uri": "https://localhost:8080/"
        },
        "outputId": "ebdb7b4f-efdd-40a7-9b97-18feb7e1806a",
        "id": "CiMTSha4ST5U"
      },
      "execution_count": null,
      "outputs": [
        {
          "output_type": "execute_result",
          "data": {
            "text/plain": [
              "(array([   5.1587    ,   36.        ,    5.99692308,    0.98153846,\n",
              "         909.        ,    2.79692308,   33.94      , -118.11      ]), 2.966)"
            ]
          },
          "metadata": {},
          "execution_count": 22
        }
      ]
    },
    {
      "cell_type": "code",
      "source": [
        "model5.predict(X_test[index].reshape(1,-1))"
      ],
      "metadata": {
        "colab": {
          "base_uri": "https://localhost:8080/"
        },
        "outputId": "599bd644-3905-4b8e-a9c6-cc425f7030e1",
        "id": "AGInP5uCST5V"
      },
      "execution_count": null,
      "outputs": [
        {
          "output_type": "execute_result",
          "data": {
            "text/plain": [
              "array([[3.224687]], dtype=float32)"
            ]
          },
          "metadata": {},
          "execution_count": 23
        }
      ]
    },
    {
      "cell_type": "code",
      "source": [
        "# 역시 모델값이 다른긴 하다.\n",
        "pred_value = model5.predict(X_test[index].reshape(1,-1)) # 2차원 값 입력 必 KS마크? 검사필??\n",
        "print(f'실제값 : {y_test[index]}, 예측값 : {pred_value[0,0]:.2f}, 오차 : {y_test[index] - pred_value[0,0]:.2f}')"
      ],
      "metadata": {
        "colab": {
          "base_uri": "https://localhost:8080/"
        },
        "outputId": "c9b9891e-f861-4a53-e17b-ff8cf25a254c",
        "id": "WGiNiHPhST5V"
      },
      "execution_count": null,
      "outputs": [
        {
          "output_type": "stream",
          "name": "stdout",
          "text": [
            "실제값 : 2.966, 예측값 : 3.22, 오차 : -0.26\n"
          ]
        }
      ]
    },
    {
      "cell_type": "code",
      "source": [
        ""
      ],
      "metadata": {
        "id": "BMZWapD-ST5V"
      },
      "execution_count": null,
      "outputs": []
    },
    {
      "cell_type": "markdown",
      "source": [
        "## 여기서부터 원래 캘리포니아 하우징"
      ],
      "metadata": {
        "id": "UWFWJFRQScI5"
      }
    },
    {
      "cell_type": "code",
      "source": [
        "import numpy as np\n",
        "import pandas as pd\n",
        "from sklearn.datasets import fetch_california_housing\n",
        "house = fetch_california_housing()"
      ],
      "metadata": {
        "id": "k-nYKAkprNrM"
      },
      "execution_count": 2,
      "outputs": []
    },
    {
      "cell_type": "code",
      "source": [
        "df = pd.DataFrame(house.data, columns=house.feature_names)\n",
        "df['target'] = house.target\n",
        "df.head()"
      ],
      "metadata": {
        "colab": {
          "base_uri": "https://localhost:8080/",
          "height": 206
        },
        "id": "r4V8VUfArj3f",
        "outputId": "63b02fd6-1a2a-4437-da9c-e4221c33d292"
      },
      "execution_count": 3,
      "outputs": [
        {
          "output_type": "execute_result",
          "data": {
            "text/html": [
              "\n",
              "  <div id=\"df-c10393a7-3958-4689-b957-ede6705eb741\">\n",
              "    <div class=\"colab-df-container\">\n",
              "      <div>\n",
              "<style scoped>\n",
              "    .dataframe tbody tr th:only-of-type {\n",
              "        vertical-align: middle;\n",
              "    }\n",
              "\n",
              "    .dataframe tbody tr th {\n",
              "        vertical-align: top;\n",
              "    }\n",
              "\n",
              "    .dataframe thead th {\n",
              "        text-align: right;\n",
              "    }\n",
              "</style>\n",
              "<table border=\"1\" class=\"dataframe\">\n",
              "  <thead>\n",
              "    <tr style=\"text-align: right;\">\n",
              "      <th></th>\n",
              "      <th>MedInc</th>\n",
              "      <th>HouseAge</th>\n",
              "      <th>AveRooms</th>\n",
              "      <th>AveBedrms</th>\n",
              "      <th>Population</th>\n",
              "      <th>AveOccup</th>\n",
              "      <th>Latitude</th>\n",
              "      <th>Longitude</th>\n",
              "      <th>target</th>\n",
              "    </tr>\n",
              "  </thead>\n",
              "  <tbody>\n",
              "    <tr>\n",
              "      <th>0</th>\n",
              "      <td>8.3252</td>\n",
              "      <td>41.0</td>\n",
              "      <td>6.984127</td>\n",
              "      <td>1.023810</td>\n",
              "      <td>322.0</td>\n",
              "      <td>2.555556</td>\n",
              "      <td>37.88</td>\n",
              "      <td>-122.23</td>\n",
              "      <td>4.526</td>\n",
              "    </tr>\n",
              "    <tr>\n",
              "      <th>1</th>\n",
              "      <td>8.3014</td>\n",
              "      <td>21.0</td>\n",
              "      <td>6.238137</td>\n",
              "      <td>0.971880</td>\n",
              "      <td>2401.0</td>\n",
              "      <td>2.109842</td>\n",
              "      <td>37.86</td>\n",
              "      <td>-122.22</td>\n",
              "      <td>3.585</td>\n",
              "    </tr>\n",
              "    <tr>\n",
              "      <th>2</th>\n",
              "      <td>7.2574</td>\n",
              "      <td>52.0</td>\n",
              "      <td>8.288136</td>\n",
              "      <td>1.073446</td>\n",
              "      <td>496.0</td>\n",
              "      <td>2.802260</td>\n",
              "      <td>37.85</td>\n",
              "      <td>-122.24</td>\n",
              "      <td>3.521</td>\n",
              "    </tr>\n",
              "    <tr>\n",
              "      <th>3</th>\n",
              "      <td>5.6431</td>\n",
              "      <td>52.0</td>\n",
              "      <td>5.817352</td>\n",
              "      <td>1.073059</td>\n",
              "      <td>558.0</td>\n",
              "      <td>2.547945</td>\n",
              "      <td>37.85</td>\n",
              "      <td>-122.25</td>\n",
              "      <td>3.413</td>\n",
              "    </tr>\n",
              "    <tr>\n",
              "      <th>4</th>\n",
              "      <td>3.8462</td>\n",
              "      <td>52.0</td>\n",
              "      <td>6.281853</td>\n",
              "      <td>1.081081</td>\n",
              "      <td>565.0</td>\n",
              "      <td>2.181467</td>\n",
              "      <td>37.85</td>\n",
              "      <td>-122.25</td>\n",
              "      <td>3.422</td>\n",
              "    </tr>\n",
              "  </tbody>\n",
              "</table>\n",
              "</div>\n",
              "      <button class=\"colab-df-convert\" onclick=\"convertToInteractive('df-c10393a7-3958-4689-b957-ede6705eb741')\"\n",
              "              title=\"Convert this dataframe to an interactive table.\"\n",
              "              style=\"display:none;\">\n",
              "        \n",
              "  <svg xmlns=\"http://www.w3.org/2000/svg\" height=\"24px\"viewBox=\"0 0 24 24\"\n",
              "       width=\"24px\">\n",
              "    <path d=\"M0 0h24v24H0V0z\" fill=\"none\"/>\n",
              "    <path d=\"M18.56 5.44l.94 2.06.94-2.06 2.06-.94-2.06-.94-.94-2.06-.94 2.06-2.06.94zm-11 1L8.5 8.5l.94-2.06 2.06-.94-2.06-.94L8.5 2.5l-.94 2.06-2.06.94zm10 10l.94 2.06.94-2.06 2.06-.94-2.06-.94-.94-2.06-.94 2.06-2.06.94z\"/><path d=\"M17.41 7.96l-1.37-1.37c-.4-.4-.92-.59-1.43-.59-.52 0-1.04.2-1.43.59L10.3 9.45l-7.72 7.72c-.78.78-.78 2.05 0 2.83L4 21.41c.39.39.9.59 1.41.59.51 0 1.02-.2 1.41-.59l7.78-7.78 2.81-2.81c.8-.78.8-2.07 0-2.86zM5.41 20L4 18.59l7.72-7.72 1.47 1.35L5.41 20z\"/>\n",
              "  </svg>\n",
              "      </button>\n",
              "      \n",
              "  <style>\n",
              "    .colab-df-container {\n",
              "      display:flex;\n",
              "      flex-wrap:wrap;\n",
              "      gap: 12px;\n",
              "    }\n",
              "\n",
              "    .colab-df-convert {\n",
              "      background-color: #E8F0FE;\n",
              "      border: none;\n",
              "      border-radius: 50%;\n",
              "      cursor: pointer;\n",
              "      display: none;\n",
              "      fill: #1967D2;\n",
              "      height: 32px;\n",
              "      padding: 0 0 0 0;\n",
              "      width: 32px;\n",
              "    }\n",
              "\n",
              "    .colab-df-convert:hover {\n",
              "      background-color: #E2EBFA;\n",
              "      box-shadow: 0px 1px 2px rgba(60, 64, 67, 0.3), 0px 1px 3px 1px rgba(60, 64, 67, 0.15);\n",
              "      fill: #174EA6;\n",
              "    }\n",
              "\n",
              "    [theme=dark] .colab-df-convert {\n",
              "      background-color: #3B4455;\n",
              "      fill: #D2E3FC;\n",
              "    }\n",
              "\n",
              "    [theme=dark] .colab-df-convert:hover {\n",
              "      background-color: #434B5C;\n",
              "      box-shadow: 0px 1px 3px 1px rgba(0, 0, 0, 0.15);\n",
              "      filter: drop-shadow(0px 1px 2px rgba(0, 0, 0, 0.3));\n",
              "      fill: #FFFFFF;\n",
              "    }\n",
              "  </style>\n",
              "\n",
              "      <script>\n",
              "        const buttonEl =\n",
              "          document.querySelector('#df-c10393a7-3958-4689-b957-ede6705eb741 button.colab-df-convert');\n",
              "        buttonEl.style.display =\n",
              "          google.colab.kernel.accessAllowed ? 'block' : 'none';\n",
              "\n",
              "        async function convertToInteractive(key) {\n",
              "          const element = document.querySelector('#df-c10393a7-3958-4689-b957-ede6705eb741');\n",
              "          const dataTable =\n",
              "            await google.colab.kernel.invokeFunction('convertToInteractive',\n",
              "                                                     [key], {});\n",
              "          if (!dataTable) return;\n",
              "\n",
              "          const docLinkHtml = 'Like what you see? Visit the ' +\n",
              "            '<a target=\"_blank\" href=https://colab.research.google.com/notebooks/data_table.ipynb>data table notebook</a>'\n",
              "            + ' to learn more about interactive tables.';\n",
              "          element.innerHTML = '';\n",
              "          dataTable['output_type'] = 'display_data';\n",
              "          await google.colab.output.renderOutput(dataTable, element);\n",
              "          const docLink = document.createElement('div');\n",
              "          docLink.innerHTML = docLinkHtml;\n",
              "          element.appendChild(docLink);\n",
              "        }\n",
              "      </script>\n",
              "    </div>\n",
              "  </div>\n",
              "  "
            ],
            "text/plain": [
              "   MedInc  HouseAge  AveRooms  AveBedrms  ...  AveOccup  Latitude  Longitude  target\n",
              "0  8.3252      41.0  6.984127   1.023810  ...  2.555556     37.88    -122.23   4.526\n",
              "1  8.3014      21.0  6.238137   0.971880  ...  2.109842     37.86    -122.22   3.585\n",
              "2  7.2574      52.0  8.288136   1.073446  ...  2.802260     37.85    -122.24   3.521\n",
              "3  5.6431      52.0  5.817352   1.073059  ...  2.547945     37.85    -122.25   3.413\n",
              "4  3.8462      52.0  6.281853   1.081081  ...  2.181467     37.85    -122.25   3.422\n",
              "\n",
              "[5 rows x 9 columns]"
            ]
          },
          "metadata": {},
          "execution_count": 3
        }
      ]
    },
    {
      "cell_type": "code",
      "source": [
        "# pd.read_csv('housing.csv')"
      ],
      "metadata": {
        "id": "z0GYc5HmrvVY"
      },
      "execution_count": null,
      "outputs": []
    },
    {
      "cell_type": "markdown",
      "source": [
        "- train/test dataset 분리"
      ],
      "metadata": {
        "id": "ZrcJq3DSs7Gp"
      }
    },
    {
      "cell_type": "code",
      "source": [
        "from sklearn.model_selection import train_test_split\n",
        "X_train, X_test, y_train, y_test = train_test_split(\n",
        "    house.data, house.target, test_size=0.1,  random_state=2022\n",
        ")\n",
        "X_train.shape, X_test.shape, y_train.shape, y_test.shape"
      ],
      "metadata": {
        "id": "5doKLdQcsGty",
        "colab": {
          "base_uri": "https://localhost:8080/"
        },
        "outputId": "889ed414-7f5c-4df3-bb81-ca50befbe3db"
      },
      "execution_count": 5,
      "outputs": [
        {
          "output_type": "execute_result",
          "data": {
            "text/plain": [
              "((18576, 8), (2064, 8), (18576,), (2064,))"
            ]
          },
          "metadata": {},
          "execution_count": 5
        }
      ]
    },
    {
      "cell_type": "markdown",
      "source": [
        "모델 정의/설정/학습"
      ],
      "metadata": {
        "id": "6NIEXHvdtCNO"
      }
    },
    {
      "cell_type": "code",
      "source": [
        "import tensorflow as tf\n",
        "seed = 2022\n",
        "np.random.seed(seed)\n",
        "tf.random.set_seed(seed)"
      ],
      "metadata": {
        "id": "PrCH3Q3RtJw5"
      },
      "execution_count": 6,
      "outputs": []
    },
    {
      "cell_type": "code",
      "source": [
        "from tensorflow.keras.models import Sequential\n",
        "from tensorflow.keras.layers import Dense"
      ],
      "metadata": {
        "id": "oixngkaMtUsv"
      },
      "execution_count": 7,
      "outputs": []
    },
    {
      "cell_type": "code",
      "source": [
        "model = Sequential([\n",
        "    Dense(20, input_dim=8, activation='relu'),\n",
        "    Dense(8, activation='relu'),\n",
        "    Dense(1)\n",
        "])\n",
        "model.summary()"
      ],
      "metadata": {
        "colab": {
          "base_uri": "https://localhost:8080/"
        },
        "id": "774m1C4HtfPw",
        "outputId": "40f24b30-11ed-4550-8ef9-f18e644423bf"
      },
      "execution_count": null,
      "outputs": [
        {
          "output_type": "stream",
          "name": "stdout",
          "text": [
            "Model: \"sequential_2\"\n",
            "_________________________________________________________________\n",
            " Layer (type)                Output Shape              Param #   \n",
            "=================================================================\n",
            " dense_6 (Dense)             (None, 20)                180       \n",
            "                                                                 \n",
            " dense_7 (Dense)             (None, 8)                 168       \n",
            "                                                                 \n",
            " dense_8 (Dense)             (None, 1)                 9         \n",
            "                                                                 \n",
            "=================================================================\n",
            "Total params: 357\n",
            "Trainable params: 357\n",
            "Non-trainable params: 0\n",
            "_________________________________________________________________\n"
          ]
        }
      ]
    },
    {
      "cell_type": "code",
      "source": [
        "model.compile(optimizer='adam', loss='mean_squared_error')"
      ],
      "metadata": {
        "id": "lPRsrTlPt2K3"
      },
      "execution_count": null,
      "outputs": []
    },
    {
      "cell_type": "code",
      "source": [
        "hist = model.fit(X_train, y_train, validation_split=0.2, epochs=100, batch_size=100)"
      ],
      "metadata": {
        "colab": {
          "base_uri": "https://localhost:8080/"
        },
        "id": "3mOgWvVquGy1",
        "outputId": "8c59f732-d97a-4c65-cac5-7161c1131137"
      },
      "execution_count": null,
      "outputs": [
        {
          "output_type": "stream",
          "name": "stdout",
          "text": [
            "Epoch 1/100\n",
            "149/149 [==============================] - 1s 3ms/step - loss: 3252.4675 - val_loss: 16.3181\n",
            "Epoch 2/100\n",
            "149/149 [==============================] - 0s 2ms/step - loss: 9.1853 - val_loss: 4.0825\n",
            "Epoch 3/100\n",
            "149/149 [==============================] - 0s 2ms/step - loss: 4.3252 - val_loss: 3.3636\n",
            "Epoch 4/100\n",
            "149/149 [==============================] - 0s 2ms/step - loss: 3.5306 - val_loss: 2.9073\n",
            "Epoch 5/100\n",
            "149/149 [==============================] - 0s 2ms/step - loss: 3.0287 - val_loss: 2.5256\n",
            "Epoch 6/100\n",
            "149/149 [==============================] - 0s 2ms/step - loss: 2.6061 - val_loss: 2.2336\n",
            "Epoch 7/100\n",
            "149/149 [==============================] - 0s 2ms/step - loss: 2.2879 - val_loss: 2.0361\n",
            "Epoch 8/100\n",
            "149/149 [==============================] - 0s 2ms/step - loss: 1.9461 - val_loss: 1.9423\n",
            "Epoch 9/100\n",
            "149/149 [==============================] - 0s 2ms/step - loss: 1.6912 - val_loss: 1.5736\n",
            "Epoch 10/100\n",
            "149/149 [==============================] - 0s 3ms/step - loss: 1.5223 - val_loss: 1.3629\n",
            "Epoch 11/100\n",
            "149/149 [==============================] - 0s 2ms/step - loss: 1.3839 - val_loss: 1.2616\n",
            "Epoch 12/100\n",
            "149/149 [==============================] - 0s 2ms/step - loss: 1.2619 - val_loss: 1.2151\n",
            "Epoch 13/100\n",
            "149/149 [==============================] - 0s 2ms/step - loss: 1.1896 - val_loss: 1.1008\n",
            "Epoch 14/100\n",
            "149/149 [==============================] - 0s 2ms/step - loss: 1.1161 - val_loss: 1.1172\n",
            "Epoch 15/100\n",
            "149/149 [==============================] - 0s 2ms/step - loss: 1.0763 - val_loss: 1.0252\n",
            "Epoch 16/100\n",
            "149/149 [==============================] - 0s 2ms/step - loss: 1.0077 - val_loss: 0.9419\n",
            "Epoch 17/100\n",
            "149/149 [==============================] - 0s 2ms/step - loss: 0.9779 - val_loss: 0.8888\n",
            "Epoch 18/100\n",
            "149/149 [==============================] - 0s 2ms/step - loss: 0.9139 - val_loss: 0.9630\n",
            "Epoch 19/100\n",
            "149/149 [==============================] - 0s 2ms/step - loss: 0.8810 - val_loss: 0.8736\n",
            "Epoch 20/100\n",
            "149/149 [==============================] - 0s 2ms/step - loss: 0.8478 - val_loss: 0.8204\n",
            "Epoch 21/100\n",
            "149/149 [==============================] - 0s 2ms/step - loss: 0.8283 - val_loss: 0.7742\n",
            "Epoch 22/100\n",
            "149/149 [==============================] - 0s 2ms/step - loss: 0.8836 - val_loss: 1.0413\n",
            "Epoch 23/100\n",
            "149/149 [==============================] - 0s 2ms/step - loss: 0.8185 - val_loss: 0.7498\n",
            "Epoch 24/100\n",
            "149/149 [==============================] - 0s 2ms/step - loss: 0.7887 - val_loss: 0.7293\n",
            "Epoch 25/100\n",
            "149/149 [==============================] - 0s 2ms/step - loss: 0.7630 - val_loss: 0.7722\n",
            "Epoch 26/100\n",
            "149/149 [==============================] - 0s 2ms/step - loss: 0.7416 - val_loss: 0.7009\n",
            "Epoch 27/100\n",
            "149/149 [==============================] - 0s 2ms/step - loss: 0.7479 - val_loss: 0.7045\n",
            "Epoch 28/100\n",
            "149/149 [==============================] - 0s 2ms/step - loss: 0.7579 - val_loss: 0.7019\n",
            "Epoch 29/100\n",
            "149/149 [==============================] - 0s 2ms/step - loss: 0.7827 - val_loss: 0.6873\n",
            "Epoch 30/100\n",
            "149/149 [==============================] - 0s 2ms/step - loss: 0.7557 - val_loss: 1.1172\n",
            "Epoch 31/100\n",
            "149/149 [==============================] - 0s 2ms/step - loss: 0.8868 - val_loss: 0.6738\n",
            "Epoch 32/100\n",
            "149/149 [==============================] - 0s 2ms/step - loss: 0.7659 - val_loss: 0.6839\n",
            "Epoch 33/100\n",
            "149/149 [==============================] - 0s 2ms/step - loss: 0.7158 - val_loss: 0.6804\n",
            "Epoch 34/100\n",
            "149/149 [==============================] - 0s 2ms/step - loss: 0.7338 - val_loss: 0.7293\n",
            "Epoch 35/100\n",
            "149/149 [==============================] - 0s 2ms/step - loss: 0.8640 - val_loss: 0.6830\n",
            "Epoch 36/100\n",
            "149/149 [==============================] - 0s 2ms/step - loss: 0.7556 - val_loss: 0.9535\n",
            "Epoch 37/100\n",
            "149/149 [==============================] - 0s 2ms/step - loss: 0.8654 - val_loss: 0.6504\n",
            "Epoch 38/100\n",
            "149/149 [==============================] - 0s 2ms/step - loss: 0.8559 - val_loss: 0.6826\n",
            "Epoch 39/100\n",
            "149/149 [==============================] - 0s 2ms/step - loss: 0.7326 - val_loss: 1.0636\n",
            "Epoch 40/100\n",
            "149/149 [==============================] - 0s 2ms/step - loss: 3.0171 - val_loss: 1.2975\n",
            "Epoch 41/100\n",
            "149/149 [==============================] - 0s 2ms/step - loss: 0.8403 - val_loss: 0.7574\n",
            "Epoch 42/100\n",
            "149/149 [==============================] - 0s 2ms/step - loss: 1.5232 - val_loss: 0.8659\n",
            "Epoch 43/100\n",
            "149/149 [==============================] - 0s 2ms/step - loss: 1.0844 - val_loss: 0.6446\n",
            "Epoch 44/100\n",
            "149/149 [==============================] - 0s 2ms/step - loss: 1.2618 - val_loss: 0.6206\n",
            "Epoch 45/100\n",
            "149/149 [==============================] - 0s 2ms/step - loss: 0.8508 - val_loss: 0.6131\n",
            "Epoch 46/100\n",
            "149/149 [==============================] - 0s 2ms/step - loss: 0.8629 - val_loss: 0.7112\n",
            "Epoch 47/100\n",
            "149/149 [==============================] - 0s 2ms/step - loss: 3.4773 - val_loss: 1.5356\n",
            "Epoch 48/100\n",
            "149/149 [==============================] - 0s 2ms/step - loss: 6.9507 - val_loss: 0.7096\n",
            "Epoch 49/100\n",
            "149/149 [==============================] - 0s 2ms/step - loss: 0.8113 - val_loss: 1.0614\n",
            "Epoch 50/100\n",
            "149/149 [==============================] - 0s 2ms/step - loss: 0.6863 - val_loss: 0.6592\n",
            "Epoch 51/100\n",
            "149/149 [==============================] - 0s 2ms/step - loss: 2.6323 - val_loss: 1.3011\n",
            "Epoch 52/100\n",
            "149/149 [==============================] - 0s 2ms/step - loss: 0.7195 - val_loss: 0.9602\n",
            "Epoch 53/100\n",
            "149/149 [==============================] - 0s 2ms/step - loss: 0.8350 - val_loss: 0.6189\n",
            "Epoch 54/100\n",
            "149/149 [==============================] - 0s 2ms/step - loss: 0.8260 - val_loss: 0.8086\n",
            "Epoch 55/100\n",
            "149/149 [==============================] - 0s 2ms/step - loss: 0.9348 - val_loss: 4.5015\n",
            "Epoch 56/100\n",
            "149/149 [==============================] - 0s 2ms/step - loss: 1.6552 - val_loss: 10.7371\n",
            "Epoch 57/100\n",
            "149/149 [==============================] - 0s 2ms/step - loss: 9.3108 - val_loss: 8.9962\n",
            "Epoch 58/100\n",
            "149/149 [==============================] - 0s 2ms/step - loss: 4.3764 - val_loss: 0.6560\n",
            "Epoch 59/100\n",
            "149/149 [==============================] - 0s 2ms/step - loss: 1.7547 - val_loss: 0.6088\n",
            "Epoch 60/100\n",
            "149/149 [==============================] - 0s 2ms/step - loss: 1.2037 - val_loss: 0.6023\n",
            "Epoch 61/100\n",
            "149/149 [==============================] - 0s 2ms/step - loss: 0.7483 - val_loss: 0.6884\n",
            "Epoch 62/100\n",
            "149/149 [==============================] - 0s 2ms/step - loss: 0.6623 - val_loss: 1.1768\n",
            "Epoch 63/100\n",
            "149/149 [==============================] - 0s 2ms/step - loss: 0.8175 - val_loss: 0.9021\n",
            "Epoch 64/100\n",
            "149/149 [==============================] - 0s 2ms/step - loss: 1.0190 - val_loss: 0.6208\n",
            "Epoch 65/100\n",
            "149/149 [==============================] - 0s 2ms/step - loss: 1.0132 - val_loss: 1.7357\n",
            "Epoch 66/100\n",
            "149/149 [==============================] - 0s 2ms/step - loss: 1.4291 - val_loss: 0.7864\n",
            "Epoch 67/100\n",
            "149/149 [==============================] - 0s 2ms/step - loss: 4.8252 - val_loss: 1.7977\n",
            "Epoch 68/100\n",
            "149/149 [==============================] - 0s 2ms/step - loss: 0.8798 - val_loss: 0.6068\n",
            "Epoch 69/100\n",
            "149/149 [==============================] - 0s 2ms/step - loss: 0.7555 - val_loss: 1.0013\n",
            "Epoch 70/100\n",
            "149/149 [==============================] - 0s 2ms/step - loss: 0.7529 - val_loss: 0.6162\n",
            "Epoch 71/100\n",
            "149/149 [==============================] - 0s 2ms/step - loss: 0.9447 - val_loss: 0.6897\n",
            "Epoch 72/100\n",
            "149/149 [==============================] - 0s 2ms/step - loss: 1.3532 - val_loss: 22.2137\n",
            "Epoch 73/100\n",
            "149/149 [==============================] - 0s 2ms/step - loss: 6.4994 - val_loss: 0.8279\n",
            "Epoch 74/100\n",
            "149/149 [==============================] - 0s 2ms/step - loss: 1.8321 - val_loss: 0.5952\n",
            "Epoch 75/100\n",
            "149/149 [==============================] - 0s 2ms/step - loss: 0.7474 - val_loss: 0.7250\n",
            "Epoch 76/100\n",
            "149/149 [==============================] - 0s 2ms/step - loss: 0.9932 - val_loss: 0.6986\n",
            "Epoch 77/100\n",
            "149/149 [==============================] - 0s 2ms/step - loss: 0.6760 - val_loss: 0.9307\n",
            "Epoch 78/100\n",
            "149/149 [==============================] - 0s 2ms/step - loss: 4.4055 - val_loss: 1.0513\n",
            "Epoch 79/100\n",
            "149/149 [==============================] - 0s 2ms/step - loss: 0.7672 - val_loss: 0.5988\n",
            "Epoch 80/100\n",
            "149/149 [==============================] - 0s 2ms/step - loss: 0.7802 - val_loss: 0.6224\n",
            "Epoch 81/100\n",
            "149/149 [==============================] - 0s 2ms/step - loss: 1.4194 - val_loss: 0.5891\n",
            "Epoch 82/100\n",
            "149/149 [==============================] - 0s 2ms/step - loss: 0.7749 - val_loss: 3.1622\n",
            "Epoch 83/100\n",
            "149/149 [==============================] - 0s 2ms/step - loss: 8.7456 - val_loss: 0.6117\n",
            "Epoch 84/100\n",
            "149/149 [==============================] - 0s 2ms/step - loss: 0.8951 - val_loss: 0.7172\n",
            "Epoch 85/100\n",
            "149/149 [==============================] - 0s 2ms/step - loss: 5.4364 - val_loss: 0.6400\n",
            "Epoch 86/100\n",
            "149/149 [==============================] - 0s 2ms/step - loss: 0.6655 - val_loss: 0.6007\n",
            "Epoch 87/100\n",
            "149/149 [==============================] - 0s 2ms/step - loss: 0.8033 - val_loss: 0.7000\n",
            "Epoch 88/100\n",
            "149/149 [==============================] - 0s 2ms/step - loss: 0.9137 - val_loss: 0.6083\n",
            "Epoch 89/100\n",
            "149/149 [==============================] - 0s 2ms/step - loss: 0.8242 - val_loss: 1.3909\n",
            "Epoch 90/100\n",
            "149/149 [==============================] - 0s 2ms/step - loss: 0.7430 - val_loss: 0.5762\n",
            "Epoch 91/100\n",
            "149/149 [==============================] - 0s 2ms/step - loss: 0.6809 - val_loss: 0.6946\n",
            "Epoch 92/100\n",
            "149/149 [==============================] - 0s 2ms/step - loss: 0.8898 - val_loss: 0.8896\n",
            "Epoch 93/100\n",
            "149/149 [==============================] - 0s 2ms/step - loss: 1.1263 - val_loss: 0.7430\n",
            "Epoch 94/100\n",
            "149/149 [==============================] - 0s 2ms/step - loss: 1.1984 - val_loss: 0.5686\n",
            "Epoch 95/100\n",
            "149/149 [==============================] - 0s 2ms/step - loss: 1.1503 - val_loss: 0.6272\n",
            "Epoch 96/100\n",
            "149/149 [==============================] - 0s 2ms/step - loss: 1.2014 - val_loss: 2.8601\n",
            "Epoch 97/100\n",
            "149/149 [==============================] - 0s 2ms/step - loss: 7.6330 - val_loss: 2.1792\n",
            "Epoch 98/100\n",
            "149/149 [==============================] - 0s 2ms/step - loss: 0.9824 - val_loss: 0.6107\n",
            "Epoch 99/100\n",
            "149/149 [==============================] - 0s 2ms/step - loss: 0.6637 - val_loss: 1.7409\n",
            "Epoch 100/100\n",
            "149/149 [==============================] - 0s 2ms/step - loss: 0.6966 - val_loss: 0.5742\n"
          ]
        }
      ]
    },
    {
      "cell_type": "markdown",
      "source": [
        "- 시각화 한 후 어떻게 해야할지"
      ],
      "metadata": {
        "id": "vLaM7Zs_uW0b"
      }
    },
    {
      "cell_type": "code",
      "source": [
        "# 5번째 부터 데이터 보기 "
      ],
      "metadata": {
        "id": "ptdilHcPun8A"
      },
      "execution_count": null,
      "outputs": []
    },
    {
      "cell_type": "code",
      "source": [
        "y_loss = hist.history['loss']\n",
        "y_vloss = hist.history['val_loss']\n",
        "xs = np.arange(1, len(y_loss)+1)"
      ],
      "metadata": {
        "id": "Y533Xuhwun5x"
      },
      "execution_count": null,
      "outputs": []
    },
    {
      "cell_type": "code",
      "source": [
        "import matplotlib.pyplot as plt\n",
        "plt.figure(figsize=(12,8))\n",
        "plt.plot(xs, y_loss, ms=5, label='train loss')\n",
        "plt.plot(xs, y_vloss, ms=5, label='validation loss')\n",
        "plt.legend()\n",
        "plt.grid()\n",
        "plt.xlabel('Epoch')\n",
        "plt.ylim([0,8])\n",
        "plt.show()"
      ],
      "metadata": {
        "colab": {
          "base_uri": "https://localhost:8080/",
          "height": 501
        },
        "id": "0furSQ8zum0W",
        "outputId": "43d0d8f3-975d-4af3-e79f-624885ba0236"
      },
      "execution_count": null,
      "outputs": [
        {
          "output_type": "display_data",
          "data": {
            "image/png": "[encoded data removed]",
            "text/plain": [
              "<Figure size 864x576 with 1 Axes>"
            ]
          },
          "metadata": {
            "needs_background": "light"
          }
        }
      ]
    },
    {
      "cell_type": "markdown",
      "source": [
        "- loss 최대값 8.7456 "
      ],
      "metadata": {
        "id": "h7KDSlN6vYsd"
      }
    },
    {
      "cell_type": "code",
      "source": [
        "hist.history.keys()"
      ],
      "metadata": {
        "colab": {
          "base_uri": "https://localhost:8080/"
        },
        "id": "XVI1bcxpwcHO",
        "outputId": "8ca25fae-b41c-43fe-9687-a606c4e13cbb"
      },
      "execution_count": null,
      "outputs": [
        {
          "output_type": "execute_result",
          "data": {
            "text/plain": [
              "dict_keys(['loss', 'val_loss'])"
            ]
          },
          "metadata": {},
          "execution_count": 26
        }
      ]
    },
    {
      "cell_type": "markdown",
      "source": [
        "## case 2 ) 모델 재정의 , 콜백 함수 사용 "
      ],
      "metadata": {
        "id": "_ba8e1bBwuBW"
      }
    },
    {
      "cell_type": "code",
      "source": [
        "# 항아리식으로 가보자 feat ms.park\n",
        "model2 = Sequential([\n",
        "    Dense(10, input_dim=8, activation='relu'),\n",
        "    Dense(16, activation='relu'),\n",
        "    Dense(6, activation='relu'),\n",
        "    Dense(1)\n",
        "])\n",
        "model2.summary()"
      ],
      "metadata": {
        "colab": {
          "base_uri": "https://localhost:8080/"
        },
        "id": "dAafeYyNwtuG",
        "outputId": "b761803a-3b5f-4d56-f421-c6f196af38a5"
      },
      "execution_count": null,
      "outputs": [
        {
          "output_type": "stream",
          "name": "stdout",
          "text": [
            "Model: \"sequential_3\"\n",
            "_________________________________________________________________\n",
            " Layer (type)                Output Shape              Param #   \n",
            "=================================================================\n",
            " dense_9 (Dense)             (None, 10)                90        \n",
            "                                                                 \n",
            " dense_10 (Dense)            (None, 16)                176       \n",
            "                                                                 \n",
            " dense_11 (Dense)            (None, 6)                 102       \n",
            "                                                                 \n",
            " dense_12 (Dense)            (None, 1)                 7         \n",
            "                                                                 \n",
            "=================================================================\n",
            "Total params: 375\n",
            "Trainable params: 375\n",
            "Non-trainable params: 0\n",
            "_________________________________________________________________\n"
          ]
        }
      ]
    },
    {
      "cell_type": "code",
      "source": [
        "# 옵티마이저 알엠에스 프롬. \n",
        "model2.compile(optimizer='rmsprop', loss='mean_squared_error')"
      ],
      "metadata": {
        "id": "rBkZXo7wwfe5"
      },
      "execution_count": null,
      "outputs": []
    },
    {
      "cell_type": "code",
      "source": [
        "# 콜백 정의할것 \n",
        "from tensorflow.keras.callbacks import ModelCheckpoint, EarlyStopping\n",
        "model_path = 'california_house2.h5'\n",
        "checkpoint = ModelCheckpoint(\n",
        "    model_path, monitor='val_loss', verbose=1, save_best_only=True\n",
        ")\n",
        "early_stop = EarlyStopping(patience=20)"
      ],
      "metadata": {
        "id": "8DyQB1jfxpe2"
      },
      "execution_count": null,
      "outputs": []
    },
    {
      "cell_type": "code",
      "source": [
        "# fit.transform 없는 버전들 체크할 것 . 120번까지 돌고 스탑 됨. 시가가화 후 수정핼 볼것. \n",
        "hist2 = model2.fit(X_train, y_train, validation_split=0.2, \n",
        "                   epochs=1000, batch_size=128, verbose=0,\n",
        "                   callbacks=[checkpoint, early_stop])"
      ],
      "metadata": {
        "colab": {
          "base_uri": "https://localhost:8080/"
        },
        "id": "kwVdQVzvw5iu",
        "outputId": "b0cf0d82-a7f1-464d-bc35-be7d3ce0b2d2"
      },
      "execution_count": null,
      "outputs": [
        {
          "output_type": "stream",
          "name": "stdout",
          "text": [
            "\n",
            "Epoch 00001: val_loss improved from inf to 3.70977, saving model to california_house2.h5\n",
            "\n",
            "Epoch 00002: val_loss improved from 3.70977 to 1.57063, saving model to california_house2.h5\n",
            "\n",
            "Epoch 00003: val_loss did not improve from 1.57063\n",
            "\n",
            "Epoch 00004: val_loss improved from 1.57063 to 1.47015, saving model to california_house2.h5\n",
            "\n",
            "Epoch 00005: val_loss improved from 1.47015 to 1.39385, saving model to california_house2.h5\n",
            "\n",
            "Epoch 00006: val_loss did not improve from 1.39385\n",
            "\n",
            "Epoch 00007: val_loss did not improve from 1.39385\n",
            "\n",
            "Epoch 00008: val_loss improved from 1.39385 to 1.31339, saving model to california_house2.h5\n",
            "\n",
            "Epoch 00009: val_loss improved from 1.31339 to 1.23469, saving model to california_house2.h5\n",
            "\n",
            "Epoch 00010: val_loss did not improve from 1.23469\n",
            "\n",
            "Epoch 00011: val_loss did not improve from 1.23469\n",
            "\n",
            "Epoch 00012: val_loss did not improve from 1.23469\n",
            "\n",
            "Epoch 00013: val_loss did not improve from 1.23469\n",
            "\n",
            "Epoch 00014: val_loss improved from 1.23469 to 1.10098, saving model to california_house2.h5\n",
            "\n",
            "Epoch 00015: val_loss did not improve from 1.10098\n",
            "\n",
            "Epoch 00016: val_loss did not improve from 1.10098\n",
            "\n",
            "Epoch 00017: val_loss did not improve from 1.10098\n",
            "\n",
            "Epoch 00018: val_loss improved from 1.10098 to 0.97883, saving model to california_house2.h5\n",
            "\n",
            "Epoch 00019: val_loss did not improve from 0.97883\n",
            "\n",
            "Epoch 00020: val_loss did not improve from 0.97883\n",
            "\n",
            "Epoch 00021: val_loss improved from 0.97883 to 0.87638, saving model to california_house2.h5\n",
            "\n",
            "Epoch 00022: val_loss did not improve from 0.87638\n",
            "\n",
            "Epoch 00023: val_loss did not improve from 0.87638\n",
            "\n",
            "Epoch 00024: val_loss did not improve from 0.87638\n",
            "\n",
            "Epoch 00025: val_loss did not improve from 0.87638\n",
            "\n",
            "Epoch 00026: val_loss did not improve from 0.87638\n",
            "\n",
            "Epoch 00027: val_loss did not improve from 0.87638\n",
            "\n",
            "Epoch 00028: val_loss did not improve from 0.87638\n",
            "\n",
            "Epoch 00029: val_loss did not improve from 0.87638\n",
            "\n",
            "Epoch 00030: val_loss did not improve from 0.87638\n",
            "\n",
            "Epoch 00031: val_loss did not improve from 0.87638\n",
            "\n",
            "Epoch 00032: val_loss improved from 0.87638 to 0.77132, saving model to california_house2.h5\n",
            "\n",
            "Epoch 00033: val_loss did not improve from 0.77132\n",
            "\n",
            "Epoch 00034: val_loss did not improve from 0.77132\n",
            "\n",
            "Epoch 00035: val_loss improved from 0.77132 to 0.72322, saving model to california_house2.h5\n",
            "\n",
            "Epoch 00036: val_loss did not improve from 0.72322\n",
            "\n",
            "Epoch 00037: val_loss did not improve from 0.72322\n",
            "\n",
            "Epoch 00038: val_loss did not improve from 0.72322\n",
            "\n",
            "Epoch 00039: val_loss did not improve from 0.72322\n",
            "\n",
            "Epoch 00040: val_loss did not improve from 0.72322\n",
            "\n",
            "Epoch 00041: val_loss improved from 0.72322 to 0.67748, saving model to california_house2.h5\n",
            "\n",
            "Epoch 00042: val_loss did not improve from 0.67748\n",
            "\n",
            "Epoch 00043: val_loss improved from 0.67748 to 0.67088, saving model to california_house2.h5\n",
            "\n",
            "Epoch 00044: val_loss did not improve from 0.67088\n",
            "\n",
            "Epoch 00045: val_loss did not improve from 0.67088\n",
            "\n",
            "Epoch 00046: val_loss did not improve from 0.67088\n",
            "\n",
            "Epoch 00047: val_loss improved from 0.67088 to 0.66444, saving model to california_house2.h5\n",
            "\n",
            "Epoch 00048: val_loss did not improve from 0.66444\n",
            "\n",
            "Epoch 00049: val_loss did not improve from 0.66444\n",
            "\n",
            "Epoch 00050: val_loss improved from 0.66444 to 0.63805, saving model to california_house2.h5\n",
            "\n",
            "Epoch 00051: val_loss did not improve from 0.63805\n",
            "\n",
            "Epoch 00052: val_loss did not improve from 0.63805\n",
            "\n",
            "Epoch 00053: val_loss did not improve from 0.63805\n",
            "\n",
            "Epoch 00054: val_loss did not improve from 0.63805\n",
            "\n",
            "Epoch 00055: val_loss did not improve from 0.63805\n",
            "\n",
            "Epoch 00056: val_loss did not improve from 0.63805\n",
            "\n",
            "Epoch 00057: val_loss did not improve from 0.63805\n",
            "\n",
            "Epoch 00058: val_loss did not improve from 0.63805\n",
            "\n",
            "Epoch 00059: val_loss improved from 0.63805 to 0.63059, saving model to california_house2.h5\n",
            "\n",
            "Epoch 00060: val_loss improved from 0.63059 to 0.62592, saving model to california_house2.h5\n",
            "\n",
            "Epoch 00061: val_loss did not improve from 0.62592\n",
            "\n",
            "Epoch 00062: val_loss improved from 0.62592 to 0.62255, saving model to california_house2.h5\n",
            "\n",
            "Epoch 00063: val_loss did not improve from 0.62255\n",
            "\n",
            "Epoch 00064: val_loss did not improve from 0.62255\n",
            "\n",
            "Epoch 00065: val_loss did not improve from 0.62255\n",
            "\n",
            "Epoch 00066: val_loss did not improve from 0.62255\n",
            "\n",
            "Epoch 00067: val_loss improved from 0.62255 to 0.60737, saving model to california_house2.h5\n",
            "\n",
            "Epoch 00068: val_loss did not improve from 0.60737\n",
            "\n",
            "Epoch 00069: val_loss did not improve from 0.60737\n",
            "\n",
            "Epoch 00070: val_loss did not improve from 0.60737\n",
            "\n",
            "Epoch 00071: val_loss did not improve from 0.60737\n",
            "\n",
            "Epoch 00072: val_loss did not improve from 0.60737\n",
            "\n",
            "Epoch 00073: val_loss did not improve from 0.60737\n",
            "\n",
            "Epoch 00074: val_loss did not improve from 0.60737\n",
            "\n",
            "Epoch 00075: val_loss did not improve from 0.60737\n",
            "\n",
            "Epoch 00076: val_loss did not improve from 0.60737\n",
            "\n",
            "Epoch 00077: val_loss did not improve from 0.60737\n",
            "\n",
            "Epoch 00078: val_loss did not improve from 0.60737\n",
            "\n",
            "Epoch 00079: val_loss did not improve from 0.60737\n",
            "\n",
            "Epoch 00080: val_loss did not improve from 0.60737\n",
            "\n",
            "Epoch 00081: val_loss did not improve from 0.60737\n",
            "\n",
            "Epoch 00082: val_loss did not improve from 0.60737\n",
            "\n",
            "Epoch 00083: val_loss improved from 0.60737 to 0.60213, saving model to california_house2.h5\n",
            "\n",
            "Epoch 00084: val_loss did not improve from 0.60213\n",
            "\n",
            "Epoch 00085: val_loss did not improve from 0.60213\n",
            "\n",
            "Epoch 00086: val_loss did not improve from 0.60213\n",
            "\n",
            "Epoch 00087: val_loss did not improve from 0.60213\n",
            "\n",
            "Epoch 00088: val_loss did not improve from 0.60213\n",
            "\n",
            "Epoch 00089: val_loss did not improve from 0.60213\n",
            "\n",
            "Epoch 00090: val_loss did not improve from 0.60213\n",
            "\n",
            "Epoch 00091: val_loss did not improve from 0.60213\n",
            "\n",
            "Epoch 00092: val_loss did not improve from 0.60213\n",
            "\n",
            "Epoch 00093: val_loss did not improve from 0.60213\n",
            "\n",
            "Epoch 00094: val_loss did not improve from 0.60213\n",
            "\n",
            "Epoch 00095: val_loss did not improve from 0.60213\n",
            "\n",
            "Epoch 00096: val_loss improved from 0.60213 to 0.58112, saving model to california_house2.h5\n",
            "\n",
            "Epoch 00097: val_loss did not improve from 0.58112\n",
            "\n",
            "Epoch 00098: val_loss did not improve from 0.58112\n",
            "\n",
            "Epoch 00099: val_loss did not improve from 0.58112\n",
            "\n",
            "Epoch 00100: val_loss did not improve from 0.58112\n",
            "\n",
            "Epoch 00101: val_loss improved from 0.58112 to 0.58102, saving model to california_house2.h5\n",
            "\n",
            "Epoch 00102: val_loss did not improve from 0.58102\n",
            "\n",
            "Epoch 00103: val_loss did not improve from 0.58102\n",
            "\n",
            "Epoch 00104: val_loss did not improve from 0.58102\n",
            "\n",
            "Epoch 00105: val_loss did not improve from 0.58102\n",
            "\n",
            "Epoch 00106: val_loss improved from 0.58102 to 0.56854, saving model to california_house2.h5\n",
            "\n",
            "Epoch 00107: val_loss did not improve from 0.56854\n",
            "\n",
            "Epoch 00108: val_loss did not improve from 0.56854\n",
            "\n",
            "Epoch 00109: val_loss improved from 0.56854 to 0.54905, saving model to california_house2.h5\n",
            "\n",
            "Epoch 00110: val_loss did not improve from 0.54905\n",
            "\n",
            "Epoch 00111: val_loss did not improve from 0.54905\n",
            "\n",
            "Epoch 00112: val_loss did not improve from 0.54905\n",
            "\n",
            "Epoch 00113: val_loss did not improve from 0.54905\n",
            "\n",
            "Epoch 00114: val_loss did not improve from 0.54905\n",
            "\n",
            "Epoch 00115: val_loss did not improve from 0.54905\n",
            "\n",
            "Epoch 00116: val_loss did not improve from 0.54905\n",
            "\n",
            "Epoch 00117: val_loss did not improve from 0.54905\n",
            "\n",
            "Epoch 00118: val_loss did not improve from 0.54905\n",
            "\n",
            "Epoch 00119: val_loss did not improve from 0.54905\n",
            "\n",
            "Epoch 00120: val_loss did not improve from 0.54905\n",
            "\n",
            "Epoch 00121: val_loss did not improve from 0.54905\n",
            "\n",
            "Epoch 00122: val_loss did not improve from 0.54905\n",
            "\n",
            "Epoch 00123: val_loss did not improve from 0.54905\n",
            "\n",
            "Epoch 00124: val_loss did not improve from 0.54905\n",
            "\n",
            "Epoch 00125: val_loss did not improve from 0.54905\n",
            "\n",
            "Epoch 00126: val_loss did not improve from 0.54905\n",
            "\n",
            "Epoch 00127: val_loss did not improve from 0.54905\n",
            "\n",
            "Epoch 00128: val_loss did not improve from 0.54905\n",
            "\n",
            "Epoch 00129: val_loss did not improve from 0.54905\n"
          ]
        }
      ]
    },
    {
      "cell_type": "code",
      "source": [
        "y_loss = hist2.history['loss']\n",
        "y_vloss = hist2.history['val_loss']\n",
        "xs = np.arange(1, len(y_loss)+1)"
      ],
      "metadata": {
        "id": "UdjrGf4iw5gb"
      },
      "execution_count": null,
      "outputs": []
    },
    {
      "cell_type": "code",
      "source": [
        "# import matplotlib.pyplot as plt\n",
        "plt.figure(figsize=(12,8))\n",
        "plt.plot(xs, y_loss, ms=5, label='train loss')\n",
        "plt.plot(xs, y_vloss, ms=5, label='validation loss')\n",
        "plt.legend()\n",
        "plt.grid()\n",
        "plt.xlabel('Epoch')\n",
        "plt.ylim([0,6]) # 수업버전하고 다르게 내껀 첫 loss 70 나와서 y값 제한 둠.\n",
        "plt.show()"
      ],
      "metadata": {
        "colab": {
          "base_uri": "https://localhost:8080/",
          "height": 501
        },
        "id": "ibXNNI91w5eQ",
        "outputId": "9a1e3255-a36a-4f9e-9808-5436c250603e"
      },
      "execution_count": null,
      "outputs": [
        {
          "output_type": "display_data",
          "data": {
            "image/png": "[encoded data removed]",
            "text/plain": [
              "<Figure size 864x576 with 1 Axes>"
            ]
          },
          "metadata": {
            "needs_background": "light"
          }
        }
      ]
    },
    {
      "cell_type": "markdown",
      "source": [
        "- 평가  성능 다운된 수업과 반대방향인데 수정 해볼것. "
      ],
      "metadata": {
        "id": "cluPuOAtw5b-"
      }
    },
    {
      "cell_type": "code",
      "source": [
        "pred = model.predict(X_test)\n",
        "pred2 = model2.predict(X_test)"
      ],
      "metadata": {
        "id": "EO8mfxBs0P5N"
      },
      "execution_count": null,
      "outputs": []
    },
    {
      "cell_type": "code",
      "source": [
        "from sklearn.metrics import mean_squared_error, r2_score\n",
        "\n",
        "mean_squared_error(y_test, pred), r2_score(y_test, pred)\n",
        "# (0.5720062522230401, 0.5543111782887399)"
      ],
      "metadata": {
        "colab": {
          "base_uri": "https://localhost:8080/"
        },
        "id": "-_xpfwLSw5Vf",
        "outputId": "20769824-8dc4-4206-c991-b1e589a79cfc"
      },
      "execution_count": null,
      "outputs": [
        {
          "output_type": "execute_result",
          "data": {
            "text/plain": [
              "(0.5720062522230401, 0.5543111782887399)"
            ]
          },
          "metadata": {},
          "execution_count": 41
        }
      ]
    },
    {
      "cell_type": "code",
      "source": [
        "mean_squared_error(y_test, pred2), r2_score(y_test, pred2)\n",
        "# (0.735398467219512, 0.4270012345677485)"
      ],
      "metadata": {
        "colab": {
          "base_uri": "https://localhost:8080/"
        },
        "id": "dib0qaYN0rnF",
        "outputId": "9f4eef18-4d5b-4d57-ca0b-77b911573623"
      },
      "execution_count": null,
      "outputs": [
        {
          "output_type": "execute_result",
          "data": {
            "text/plain": [
              "(0.735398467219512, 0.4270012345677485)"
            ]
          },
          "metadata": {},
          "execution_count": 42
        }
      ]
    },
    {
      "cell_type": "markdown",
      "source": [
        "- 예측치 비교"
      ],
      "metadata": {
        "id": "7Wbjtbwb0uXy"
      }
    },
    {
      "cell_type": "code",
      "source": [
        "df = pd.DataFrame({\n",
        "    'y_test' : y_test, 'pred' : pred.flatten(), 'pred2' : pred2.flatten()\n",
        "})\n",
        "df.head(10)"
      ],
      "metadata": {
        "colab": {
          "base_uri": "https://localhost:8080/",
          "height": 363
        },
        "id": "Kuggrd9A08kd",
        "outputId": "67977b2f-880f-4a80-a66f-54c898bba40e"
      },
      "execution_count": null,
      "outputs": [
        {
          "output_type": "execute_result",
          "data": {
            "text/html": [
              "\n",
              "  <div id=\"df-e7df5859-fe3c-4852-a349-171533f74826\">\n",
              "    <div class=\"colab-df-container\">\n",
              "      <div>\n",
              "<style scoped>\n",
              "    .dataframe tbody tr th:only-of-type {\n",
              "        vertical-align: middle;\n",
              "    }\n",
              "\n",
              "    .dataframe tbody tr th {\n",
              "        vertical-align: top;\n",
              "    }\n",
              "\n",
              "    .dataframe thead th {\n",
              "        text-align: right;\n",
              "    }\n",
              "</style>\n",
              "<table border=\"1\" class=\"dataframe\">\n",
              "  <thead>\n",
              "    <tr style=\"text-align: right;\">\n",
              "      <th></th>\n",
              "      <th>y_test</th>\n",
              "      <th>pred</th>\n",
              "      <th>pred2</th>\n",
              "    </tr>\n",
              "  </thead>\n",
              "  <tbody>\n",
              "    <tr>\n",
              "      <th>0</th>\n",
              "      <td>4.771</td>\n",
              "      <td>4.478663</td>\n",
              "      <td>3.342354</td>\n",
              "    </tr>\n",
              "    <tr>\n",
              "      <th>1</th>\n",
              "      <td>1.371</td>\n",
              "      <td>1.599329</td>\n",
              "      <td>1.008789</td>\n",
              "    </tr>\n",
              "    <tr>\n",
              "      <th>2</th>\n",
              "      <td>1.233</td>\n",
              "      <td>1.791254</td>\n",
              "      <td>1.155702</td>\n",
              "    </tr>\n",
              "    <tr>\n",
              "      <th>3</th>\n",
              "      <td>0.938</td>\n",
              "      <td>1.470179</td>\n",
              "      <td>1.045247</td>\n",
              "    </tr>\n",
              "    <tr>\n",
              "      <th>4</th>\n",
              "      <td>3.260</td>\n",
              "      <td>3.132139</td>\n",
              "      <td>2.785170</td>\n",
              "    </tr>\n",
              "    <tr>\n",
              "      <th>5</th>\n",
              "      <td>1.516</td>\n",
              "      <td>1.708559</td>\n",
              "      <td>1.301715</td>\n",
              "    </tr>\n",
              "    <tr>\n",
              "      <th>6</th>\n",
              "      <td>2.738</td>\n",
              "      <td>2.489752</td>\n",
              "      <td>1.954634</td>\n",
              "    </tr>\n",
              "    <tr>\n",
              "      <th>7</th>\n",
              "      <td>1.368</td>\n",
              "      <td>1.851435</td>\n",
              "      <td>1.396458</td>\n",
              "    </tr>\n",
              "    <tr>\n",
              "      <th>8</th>\n",
              "      <td>1.175</td>\n",
              "      <td>0.985979</td>\n",
              "      <td>0.862199</td>\n",
              "    </tr>\n",
              "    <tr>\n",
              "      <th>9</th>\n",
              "      <td>2.966</td>\n",
              "      <td>2.846880</td>\n",
              "      <td>2.501725</td>\n",
              "    </tr>\n",
              "  </tbody>\n",
              "</table>\n",
              "</div>\n",
              "      <button class=\"colab-df-convert\" onclick=\"convertToInteractive('df-e7df5859-fe3c-4852-a349-171533f74826')\"\n",
              "              title=\"Convert this dataframe to an interactive table.\"\n",
              "              style=\"display:none;\">\n",
              "        \n",
              "  <svg xmlns=\"http://www.w3.org/2000/svg\" height=\"24px\"viewBox=\"0 0 24 24\"\n",
              "       width=\"24px\">\n",
              "    <path d=\"M0 0h24v24H0V0z\" fill=\"none\"/>\n",
              "    <path d=\"M18.56 5.44l.94 2.06.94-2.06 2.06-.94-2.06-.94-.94-2.06-.94 2.06-2.06.94zm-11 1L8.5 8.5l.94-2.06 2.06-.94-2.06-.94L8.5 2.5l-.94 2.06-2.06.94zm10 10l.94 2.06.94-2.06 2.06-.94-2.06-.94-.94-2.06-.94 2.06-2.06.94z\"/><path d=\"M17.41 7.96l-1.37-1.37c-.4-.4-.92-.59-1.43-.59-.52 0-1.04.2-1.43.59L10.3 9.45l-7.72 7.72c-.78.78-.78 2.05 0 2.83L4 21.41c.39.39.9.59 1.41.59.51 0 1.02-.2 1.41-.59l7.78-7.78 2.81-2.81c.8-.78.8-2.07 0-2.86zM5.41 20L4 18.59l7.72-7.72 1.47 1.35L5.41 20z\"/>\n",
              "  </svg>\n",
              "      </button>\n",
              "      \n",
              "  <style>\n",
              "    .colab-df-container {\n",
              "      display:flex;\n",
              "      flex-wrap:wrap;\n",
              "      gap: 12px;\n",
              "    }\n",
              "\n",
              "    .colab-df-convert {\n",
              "      background-color: #E8F0FE;\n",
              "      border: none;\n",
              "      border-radius: 50%;\n",
              "      cursor: pointer;\n",
              "      display: none;\n",
              "      fill: #1967D2;\n",
              "      height: 32px;\n",
              "      padding: 0 0 0 0;\n",
              "      width: 32px;\n",
              "    }\n",
              "\n",
              "    .colab-df-convert:hover {\n",
              "      background-color: #E2EBFA;\n",
              "      box-shadow: 0px 1px 2px rgba(60, 64, 67, 0.3), 0px 1px 3px 1px rgba(60, 64, 67, 0.15);\n",
              "      fill: #174EA6;\n",
              "    }\n",
              "\n",
              "    [theme=dark] .colab-df-convert {\n",
              "      background-color: #3B4455;\n",
              "      fill: #D2E3FC;\n",
              "    }\n",
              "\n",
              "    [theme=dark] .colab-df-convert:hover {\n",
              "      background-color: #434B5C;\n",
              "      box-shadow: 0px 1px 3px 1px rgba(0, 0, 0, 0.15);\n",
              "      filter: drop-shadow(0px 1px 2px rgba(0, 0, 0, 0.3));\n",
              "      fill: #FFFFFF;\n",
              "    }\n",
              "  </style>\n",
              "\n",
              "      <script>\n",
              "        const buttonEl =\n",
              "          document.querySelector('#df-e7df5859-fe3c-4852-a349-171533f74826 button.colab-df-convert');\n",
              "        buttonEl.style.display =\n",
              "          google.colab.kernel.accessAllowed ? 'block' : 'none';\n",
              "\n",
              "        async function convertToInteractive(key) {\n",
              "          const element = document.querySelector('#df-e7df5859-fe3c-4852-a349-171533f74826');\n",
              "          const dataTable =\n",
              "            await google.colab.kernel.invokeFunction('convertToInteractive',\n",
              "                                                     [key], {});\n",
              "          if (!dataTable) return;\n",
              "\n",
              "          const docLinkHtml = 'Like what you see? Visit the ' +\n",
              "            '<a target=\"_blank\" href=https://colab.research.google.com/notebooks/data_table.ipynb>data table notebook</a>'\n",
              "            + ' to learn more about interactive tables.';\n",
              "          element.innerHTML = '';\n",
              "          dataTable['output_type'] = 'display_data';\n",
              "          await google.colab.output.renderOutput(dataTable, element);\n",
              "          const docLink = document.createElement('div');\n",
              "          docLink.innerHTML = docLinkHtml;\n",
              "          element.appendChild(docLink);\n",
              "        }\n",
              "      </script>\n",
              "    </div>\n",
              "  </div>\n",
              "  "
            ],
            "text/plain": [
              "   y_test      pred     pred2\n",
              "0   4.771  4.478663  3.342354\n",
              "1   1.371  1.599329  1.008789\n",
              "2   1.233  1.791254  1.155702\n",
              "3   0.938  1.470179  1.045247\n",
              "4   3.260  3.132139  2.785170\n",
              "5   1.516  1.708559  1.301715\n",
              "6   2.738  2.489752  1.954634\n",
              "7   1.368  1.851435  1.396458\n",
              "8   1.175  0.985979  0.862199\n",
              "9   2.966  2.846880  2.501725"
            ]
          },
          "metadata": {},
          "execution_count": 43
        }
      ]
    },
    {
      "cell_type": "markdown",
      "source": [
        ""
      ],
      "metadata": {
        "id": "4BC4PbdvSjrj"
      }
    },
    {
      "cell_type": "markdown",
      "source": [
        "## 모델 5"
      ],
      "metadata": {
        "id": "I44VTSXfSMmw"
      }
    },
    {
      "cell_type": "markdown",
      "source": [
        "모델 py 맞추기 위해 'Califonia.h5'로 저장."
      ],
      "metadata": {
        "id": "22Svy8f31NJX"
      }
    },
    {
      "cell_type": "code",
      "source": [
        "model5 = Sequential([\n",
        "    Dense(72, input_dim=8, activation='relu'),\n",
        "    Dense(54, activation='relu'),\n",
        "    Dense(45, activation='relu'),\n",
        "    Dense(27, activation='relu'),\n",
        "    Dense(9, activation='relu'),\n",
        "    Dense(1)\n",
        "])\n",
        "model5.summary()"
      ],
      "metadata": {
        "colab": {
          "base_uri": "https://localhost:8080/"
        },
        "id": "JslhJrGhNMI7",
        "outputId": "8f974f32-320c-400f-a28a-3c5b7d4f4cc1"
      },
      "execution_count": 9,
      "outputs": [
        {
          "output_type": "stream",
          "name": "stdout",
          "text": [
            "Model: \"sequential\"\n",
            "_________________________________________________________________\n",
            " Layer (type)                Output Shape              Param #   \n",
            "=================================================================\n",
            " dense (Dense)               (None, 72)                648       \n",
            "                                                                 \n",
            " dense_1 (Dense)             (None, 54)                3942      \n",
            "                                                                 \n",
            " dense_2 (Dense)             (None, 45)                2475      \n",
            "                                                                 \n",
            " dense_3 (Dense)             (None, 27)                1242      \n",
            "                                                                 \n",
            " dense_4 (Dense)             (None, 9)                 252       \n",
            "                                                                 \n",
            " dense_5 (Dense)             (None, 1)                 10        \n",
            "                                                                 \n",
            "=================================================================\n",
            "Total params: 8,569\n",
            "Trainable params: 8,569\n",
            "Non-trainable params: 0\n",
            "_________________________________________________________________\n"
          ]
        }
      ]
    },
    {
      "cell_type": "code",
      "source": [
        "model5.compile(optimizer='adam', loss='mean_squared_error')"
      ],
      "metadata": {
        "id": "L6vShFTCOEmL"
      },
      "execution_count": 10,
      "outputs": []
    },
    {
      "cell_type": "code",
      "source": [
        "# 콜백 정의할것 \n",
        "from tensorflow.keras.callbacks import ModelCheckpoint, EarlyStopping\n",
        "\n",
        "model_path5 = 'califonia_house5.h5'\n",
        "checkpoint = ModelCheckpoint(\n",
        "    model_path5, monitor='val_loss', verbose=1, save_best_only=True\n",
        ")\n",
        "early_stop = EarlyStopping(patience=20)"
      ],
      "metadata": {
        "id": "A0qviqeROJfh"
      },
      "execution_count": 12,
      "outputs": []
    },
    {
      "cell_type": "code",
      "source": [
        "hist = model5.fit(X_train, y_train, validation_split=0.2,\n",
        "                   epochs=500, batch_size=120, verbose=1,\n",
        "                   callbacks=[checkpoint, early_stop])"
      ],
      "metadata": {
        "colab": {
          "base_uri": "https://localhost:8080/"
        },
        "id": "rpG_YwZmPIp7",
        "outputId": "d999e2c3-010c-4aae-ff7d-e4047f6a63f8"
      },
      "execution_count": 13,
      "outputs": [
        {
          "output_type": "stream",
          "name": "stdout",
          "text": [
            "Epoch 1/500\n",
            "106/124 [========================>.....] - ETA: 0s - loss: 2495.5935\n",
            "Epoch 00001: val_loss improved from inf to 3.05226, saving model to califonia_house5.h5\n",
            "124/124 [==============================] - 1s 5ms/step - loss: 2136.6687 - val_loss: 3.0523\n",
            "Epoch 2/500\n",
            "114/124 [==========================>...] - ETA: 0s - loss: 1.9821\n",
            "Epoch 00002: val_loss improved from 3.05226 to 1.33693, saving model to califonia_house5.h5\n",
            "124/124 [==============================] - 0s 4ms/step - loss: 1.9247 - val_loss: 1.3369\n",
            "Epoch 3/500\n",
            "123/124 [============================>.] - ETA: 0s - loss: 1.4168\n",
            "Epoch 00003: val_loss did not improve from 1.33693\n",
            "124/124 [==============================] - 0s 3ms/step - loss: 1.4186 - val_loss: 1.4998\n",
            "Epoch 4/500\n",
            "112/124 [==========================>...] - ETA: 0s - loss: 1.3783\n",
            "Epoch 00004: val_loss did not improve from 1.33693\n",
            "124/124 [==============================] - 0s 3ms/step - loss: 1.3714 - val_loss: 1.3565\n",
            "Epoch 5/500\n",
            "124/124 [==============================] - ETA: 0s - loss: 1.3101\n",
            "Epoch 00005: val_loss improved from 1.33693 to 1.29076, saving model to califonia_house5.h5\n",
            "124/124 [==============================] - 0s 3ms/step - loss: 1.3101 - val_loss: 1.2908\n",
            "Epoch 6/500\n",
            "123/124 [============================>.] - ETA: 0s - loss: 1.3384\n",
            "Epoch 00006: val_loss improved from 1.29076 to 1.24843, saving model to califonia_house5.h5\n",
            "124/124 [==============================] - 0s 3ms/step - loss: 1.3387 - val_loss: 1.2484\n",
            "Epoch 7/500\n",
            "109/124 [=========================>....] - ETA: 0s - loss: 1.2511\n",
            "Epoch 00007: val_loss improved from 1.24843 to 1.16722, saving model to califonia_house5.h5\n",
            "124/124 [==============================] - 0s 4ms/step - loss: 1.2426 - val_loss: 1.1672\n",
            "Epoch 8/500\n",
            "120/124 [============================>.] - ETA: 0s - loss: 1.2426\n",
            "Epoch 00008: val_loss did not improve from 1.16722\n",
            "124/124 [==============================] - 0s 3ms/step - loss: 1.2410 - val_loss: 1.2526\n",
            "Epoch 9/500\n",
            "116/124 [===========================>..] - ETA: 0s - loss: 1.1259\n",
            "Epoch 00009: val_loss improved from 1.16722 to 1.05977, saving model to califonia_house5.h5\n",
            "124/124 [==============================] - 0s 3ms/step - loss: 1.1256 - val_loss: 1.0598\n",
            "Epoch 10/500\n",
            "122/124 [============================>.] - ETA: 0s - loss: 1.0277\n",
            "Epoch 00010: val_loss did not improve from 1.05977\n",
            "124/124 [==============================] - 0s 3ms/step - loss: 1.0267 - val_loss: 1.0618\n",
            "Epoch 11/500\n",
            "116/124 [===========================>..] - ETA: 0s - loss: 0.9517\n",
            "Epoch 00011: val_loss improved from 1.05977 to 0.85803, saving model to califonia_house5.h5\n",
            "124/124 [==============================] - 0s 3ms/step - loss: 0.9503 - val_loss: 0.8580\n",
            "Epoch 12/500\n",
            "112/124 [==========================>...] - ETA: 0s - loss: 0.9745\n",
            "Epoch 00012: val_loss improved from 0.85803 to 0.79393, saving model to califonia_house5.h5\n",
            "124/124 [==============================] - 0s 4ms/step - loss: 0.9540 - val_loss: 0.7939\n",
            "Epoch 13/500\n",
            "112/124 [==========================>...] - ETA: 0s - loss: 0.7676\n",
            "Epoch 00013: val_loss did not improve from 0.79393\n",
            "124/124 [==============================] - 0s 3ms/step - loss: 0.7789 - val_loss: 0.8029\n",
            "Epoch 14/500\n",
            "113/124 [==========================>...] - ETA: 0s - loss: 0.7502\n",
            "Epoch 00014: val_loss improved from 0.79393 to 0.65274, saving model to califonia_house5.h5\n",
            "124/124 [==============================] - 0s 3ms/step - loss: 0.7407 - val_loss: 0.6527\n",
            "Epoch 15/500\n",
            "116/124 [===========================>..] - ETA: 0s - loss: 0.6672\n",
            "Epoch 00015: val_loss improved from 0.65274 to 0.62777, saving model to califonia_house5.h5\n",
            "124/124 [==============================] - 0s 3ms/step - loss: 0.6677 - val_loss: 0.6278\n",
            "Epoch 16/500\n",
            "108/124 [=========================>....] - ETA: 0s - loss: 0.6429\n",
            "Epoch 00016: val_loss did not improve from 0.62777\n",
            "124/124 [==============================] - 0s 3ms/step - loss: 0.6466 - val_loss: 0.7362\n",
            "Epoch 17/500\n",
            "120/124 [============================>.] - ETA: 0s - loss: 0.6667\n",
            "Epoch 00017: val_loss did not improve from 0.62777\n",
            "124/124 [==============================] - 0s 4ms/step - loss: 0.6654 - val_loss: 0.7922\n",
            "Epoch 18/500\n",
            "112/124 [==========================>...] - ETA: 0s - loss: 0.6298\n",
            "Epoch 00018: val_loss improved from 0.62777 to 0.60511, saving model to califonia_house5.h5\n",
            "124/124 [==============================] - 0s 4ms/step - loss: 0.6315 - val_loss: 0.6051\n",
            "Epoch 19/500\n",
            "114/124 [==========================>...] - ETA: 0s - loss: 0.6280\n",
            "Epoch 00019: val_loss improved from 0.60511 to 0.58312, saving model to califonia_house5.h5\n",
            "124/124 [==============================] - 0s 4ms/step - loss: 0.6245 - val_loss: 0.5831\n",
            "Epoch 20/500\n",
            "110/124 [=========================>....] - ETA: 0s - loss: 0.6176\n",
            "Epoch 00020: val_loss did not improve from 0.58312\n",
            "124/124 [==============================] - 0s 3ms/step - loss: 0.6195 - val_loss: 0.6065\n",
            "Epoch 21/500\n",
            "115/124 [==========================>...] - ETA: 0s - loss: 0.6027\n",
            "Epoch 00021: val_loss improved from 0.58312 to 0.57200, saving model to califonia_house5.h5\n",
            "124/124 [==============================] - 0s 3ms/step - loss: 0.5997 - val_loss: 0.5720\n",
            "Epoch 22/500\n",
            "122/124 [============================>.] - ETA: 0s - loss: 0.5963\n",
            "Epoch 00022: val_loss did not improve from 0.57200\n",
            "124/124 [==============================] - 0s 4ms/step - loss: 0.5987 - val_loss: 0.5834\n",
            "Epoch 23/500\n",
            "110/124 [=========================>....] - ETA: 0s - loss: 0.5850\n",
            "Epoch 00023: val_loss did not improve from 0.57200\n",
            "124/124 [==============================] - 0s 4ms/step - loss: 0.5870 - val_loss: 0.6045\n",
            "Epoch 24/500\n",
            "116/124 [===========================>..] - ETA: 0s - loss: 0.5943\n",
            "Epoch 00024: val_loss improved from 0.57200 to 0.56563, saving model to califonia_house5.h5\n",
            "124/124 [==============================] - 0s 4ms/step - loss: 0.5978 - val_loss: 0.5656\n",
            "Epoch 25/500\n",
            "113/124 [==========================>...] - ETA: 0s - loss: 0.5854\n",
            "Epoch 00025: val_loss improved from 0.56563 to 0.55997, saving model to califonia_house5.h5\n",
            "124/124 [==============================] - 0s 4ms/step - loss: 0.5852 - val_loss: 0.5600\n",
            "Epoch 26/500\n",
            "110/124 [=========================>....] - ETA: 0s - loss: 0.6200\n",
            "Epoch 00026: val_loss improved from 0.55997 to 0.55599, saving model to califonia_house5.h5\n",
            "124/124 [==============================] - 0s 4ms/step - loss: 0.6199 - val_loss: 0.5560\n",
            "Epoch 27/500\n",
            "124/124 [==============================] - ETA: 0s - loss: 0.5806\n",
            "Epoch 00027: val_loss improved from 0.55599 to 0.55554, saving model to califonia_house5.h5\n",
            "124/124 [==============================] - 0s 3ms/step - loss: 0.5806 - val_loss: 0.5555\n",
            "Epoch 28/500\n",
            "124/124 [==============================] - ETA: 0s - loss: 0.5687\n",
            "Epoch 00028: val_loss did not improve from 0.55554\n",
            "124/124 [==============================] - 0s 3ms/step - loss: 0.5687 - val_loss: 0.6511\n",
            "Epoch 29/500\n",
            "121/124 [============================>.] - ETA: 0s - loss: 0.5689\n",
            "Epoch 00029: val_loss did not improve from 0.55554\n",
            "124/124 [==============================] - 0s 3ms/step - loss: 0.5673 - val_loss: 0.5772\n",
            "Epoch 30/500\n",
            "114/124 [==========================>...] - ETA: 0s - loss: 0.5717\n",
            "Epoch 00030: val_loss did not improve from 0.55554\n",
            "124/124 [==============================] - 0s 3ms/step - loss: 0.5693 - val_loss: 0.5674\n",
            "Epoch 31/500\n",
            "119/124 [===========================>..] - ETA: 0s - loss: 0.5752\n",
            "Epoch 00031: val_loss improved from 0.55554 to 0.54873, saving model to califonia_house5.h5\n",
            "124/124 [==============================] - 0s 3ms/step - loss: 0.5746 - val_loss: 0.5487\n",
            "Epoch 32/500\n",
            "115/124 [==========================>...] - ETA: 0s - loss: 0.5502\n",
            "Epoch 00032: val_loss improved from 0.54873 to 0.54379, saving model to califonia_house5.h5\n",
            "124/124 [==============================] - 0s 4ms/step - loss: 0.5513 - val_loss: 0.5438\n",
            "Epoch 33/500\n",
            "113/124 [==========================>...] - ETA: 0s - loss: 0.5820\n",
            "Epoch 00033: val_loss improved from 0.54379 to 0.53951, saving model to califonia_house5.h5\n",
            "124/124 [==============================] - 0s 3ms/step - loss: 0.5788 - val_loss: 0.5395\n",
            "Epoch 34/500\n",
            "117/124 [===========================>..] - ETA: 0s - loss: 0.6685\n",
            "Epoch 00034: val_loss did not improve from 0.53951\n",
            "124/124 [==============================] - 0s 3ms/step - loss: 0.6744 - val_loss: 0.7543\n",
            "Epoch 35/500\n",
            "116/124 [===========================>..] - ETA: 0s - loss: 0.5913\n",
            "Epoch 00035: val_loss improved from 0.53951 to 0.53040, saving model to califonia_house5.h5\n",
            "124/124 [==============================] - 0s 4ms/step - loss: 0.5846 - val_loss: 0.5304\n",
            "Epoch 36/500\n",
            "105/124 [========================>.....] - ETA: 0s - loss: 0.5598\n",
            "Epoch 00036: val_loss did not improve from 0.53040\n",
            "124/124 [==============================] - 0s 3ms/step - loss: 0.5610 - val_loss: 0.5724\n",
            "Epoch 37/500\n",
            "108/124 [=========================>....] - ETA: 0s - loss: 0.5461\n",
            "Epoch 00037: val_loss did not improve from 0.53040\n",
            "124/124 [==============================] - 0s 3ms/step - loss: 0.5517 - val_loss: 0.5585\n",
            "Epoch 38/500\n",
            "121/124 [============================>.] - ETA: 0s - loss: 0.5697\n",
            "Epoch 00038: val_loss improved from 0.53040 to 0.52149, saving model to califonia_house5.h5\n",
            "124/124 [==============================] - 0s 3ms/step - loss: 0.5667 - val_loss: 0.5215\n",
            "Epoch 39/500\n",
            "108/124 [=========================>....] - ETA: 0s - loss: 0.5436\n",
            "Epoch 00039: val_loss improved from 0.52149 to 0.50764, saving model to califonia_house5.h5\n",
            "124/124 [==============================] - 0s 3ms/step - loss: 0.5403 - val_loss: 0.5076\n",
            "Epoch 40/500\n",
            "113/124 [==========================>...] - ETA: 0s - loss: 0.5459\n",
            "Epoch 00040: val_loss did not improve from 0.50764\n",
            "124/124 [==============================] - 0s 3ms/step - loss: 0.5627 - val_loss: 0.6417\n",
            "Epoch 41/500\n",
            "121/124 [============================>.] - ETA: 0s - loss: 0.5902\n",
            "Epoch 00041: val_loss did not improve from 0.50764\n",
            "124/124 [==============================] - 0s 3ms/step - loss: 0.5895 - val_loss: 0.5261\n",
            "Epoch 42/500\n",
            "115/124 [==========================>...] - ETA: 0s - loss: 0.5487\n",
            "Epoch 00042: val_loss did not improve from 0.50764\n",
            "124/124 [==============================] - 0s 3ms/step - loss: 0.5432 - val_loss: 0.5137\n",
            "Epoch 43/500\n",
            "122/124 [============================>.] - ETA: 0s - loss: 0.5501\n",
            "Epoch 00043: val_loss did not improve from 0.50764\n",
            "124/124 [==============================] - 0s 3ms/step - loss: 0.5492 - val_loss: 0.5190\n",
            "Epoch 44/500\n",
            "120/124 [============================>.] - ETA: 0s - loss: 0.5594\n",
            "Epoch 00044: val_loss did not improve from 0.50764\n",
            "124/124 [==============================] - 0s 3ms/step - loss: 0.5591 - val_loss: 0.5820\n",
            "Epoch 45/500\n",
            "119/124 [===========================>..] - ETA: 0s - loss: 0.5495\n",
            "Epoch 00045: val_loss did not improve from 0.50764\n",
            "124/124 [==============================] - 0s 4ms/step - loss: 0.5519 - val_loss: 0.5846\n",
            "Epoch 46/500\n",
            "118/124 [===========================>..] - ETA: 0s - loss: 0.5892\n",
            "Epoch 00046: val_loss did not improve from 0.50764\n",
            "124/124 [==============================] - 0s 3ms/step - loss: 0.5840 - val_loss: 0.5199\n",
            "Epoch 47/500\n",
            "117/124 [===========================>..] - ETA: 0s - loss: 0.5232\n",
            "Epoch 00047: val_loss did not improve from 0.50764\n",
            "124/124 [==============================] - 0s 3ms/step - loss: 0.5286 - val_loss: 0.5231\n",
            "Epoch 48/500\n",
            "117/124 [===========================>..] - ETA: 0s - loss: 0.5720\n",
            "Epoch 00048: val_loss did not improve from 0.50764\n",
            "124/124 [==============================] - 0s 3ms/step - loss: 0.5697 - val_loss: 0.5171\n",
            "Epoch 49/500\n",
            "121/124 [============================>.] - ETA: 0s - loss: 0.5743\n",
            "Epoch 00049: val_loss did not improve from 0.50764\n",
            "124/124 [==============================] - 0s 4ms/step - loss: 0.5746 - val_loss: 0.5490\n",
            "Epoch 50/500\n",
            "110/124 [=========================>....] - ETA: 0s - loss: 0.5335\n",
            "Epoch 00050: val_loss did not improve from 0.50764\n",
            "124/124 [==============================] - 0s 3ms/step - loss: 0.5344 - val_loss: 0.5487\n",
            "Epoch 51/500\n",
            "114/124 [==========================>...] - ETA: 0s - loss: 0.5493\n",
            "Epoch 00051: val_loss did not improve from 0.50764\n",
            "124/124 [==============================] - 0s 3ms/step - loss: 0.5466 - val_loss: 0.5122\n",
            "Epoch 52/500\n",
            "117/124 [===========================>..] - ETA: 0s - loss: 0.5242\n",
            "Epoch 00052: val_loss improved from 0.50764 to 0.50038, saving model to califonia_house5.h5\n",
            "124/124 [==============================] - 0s 3ms/step - loss: 0.5265 - val_loss: 0.5004\n",
            "Epoch 53/500\n",
            "109/124 [=========================>....] - ETA: 0s - loss: 0.5367\n",
            "Epoch 00053: val_loss did not improve from 0.50038\n",
            "124/124 [==============================] - 0s 3ms/step - loss: 0.5347 - val_loss: 0.5275\n",
            "Epoch 54/500\n",
            "115/124 [==========================>...] - ETA: 0s - loss: 0.5327\n",
            "Epoch 00054: val_loss did not improve from 0.50038\n",
            "124/124 [==============================] - 0s 3ms/step - loss: 0.5368 - val_loss: 0.5061\n",
            "Epoch 55/500\n",
            "110/124 [=========================>....] - ETA: 0s - loss: 0.5664\n",
            "Epoch 00055: val_loss did not improve from 0.50038\n",
            "124/124 [==============================] - 0s 3ms/step - loss: 0.5624 - val_loss: 0.5223\n",
            "Epoch 56/500\n",
            "110/124 [=========================>....] - ETA: 0s - loss: 0.5327\n",
            "Epoch 00056: val_loss did not improve from 0.50038\n",
            "124/124 [==============================] - 0s 4ms/step - loss: 0.5337 - val_loss: 0.6254\n",
            "Epoch 57/500\n",
            "121/124 [============================>.] - ETA: 0s - loss: 0.5227\n",
            "Epoch 00057: val_loss did not improve from 0.50038\n",
            "124/124 [==============================] - 0s 4ms/step - loss: 0.5215 - val_loss: 0.5230\n",
            "Epoch 58/500\n",
            "114/124 [==========================>...] - ETA: 0s - loss: 0.5649\n",
            "Epoch 00058: val_loss improved from 0.50038 to 0.49695, saving model to califonia_house5.h5\n",
            "124/124 [==============================] - 0s 3ms/step - loss: 0.5650 - val_loss: 0.4970\n",
            "Epoch 59/500\n",
            "108/124 [=========================>....] - ETA: 0s - loss: 0.5215\n",
            "Epoch 00059: val_loss did not improve from 0.49695\n",
            "124/124 [==============================] - 0s 3ms/step - loss: 0.5237 - val_loss: 0.5093\n",
            "Epoch 60/500\n",
            "122/124 [============================>.] - ETA: 0s - loss: 0.5792\n",
            "Epoch 00060: val_loss improved from 0.49695 to 0.48446, saving model to califonia_house5.h5\n",
            "124/124 [==============================] - 0s 3ms/step - loss: 0.5770 - val_loss: 0.4845\n",
            "Epoch 61/500\n",
            "117/124 [===========================>..] - ETA: 0s - loss: 0.5128\n",
            "Epoch 00061: val_loss did not improve from 0.48446\n",
            "124/124 [==============================] - 0s 3ms/step - loss: 0.5199 - val_loss: 0.5033\n",
            "Epoch 62/500\n",
            "114/124 [==========================>...] - ETA: 0s - loss: 0.6368\n",
            "Epoch 00062: val_loss did not improve from 0.48446\n",
            "124/124 [==============================] - 0s 3ms/step - loss: 0.6383 - val_loss: 1.2656\n",
            "Epoch 63/500\n",
            "116/124 [===========================>..] - ETA: 0s - loss: 0.5892\n",
            "Epoch 00063: val_loss did not improve from 0.48446\n",
            "124/124 [==============================] - 0s 3ms/step - loss: 0.5828 - val_loss: 0.5097\n",
            "Epoch 64/500\n",
            "117/124 [===========================>..] - ETA: 0s - loss: 0.5155\n",
            "Epoch 00064: val_loss did not improve from 0.48446\n",
            "124/124 [==============================] - 0s 3ms/step - loss: 0.5146 - val_loss: 0.4894\n",
            "Epoch 65/500\n",
            "123/124 [============================>.] - ETA: 0s - loss: 0.5617\n",
            "Epoch 00065: val_loss did not improve from 0.48446\n",
            "124/124 [==============================] - 0s 3ms/step - loss: 0.5609 - val_loss: 0.5300\n",
            "Epoch 66/500\n",
            "109/124 [=========================>....] - ETA: 0s - loss: 0.5730\n",
            "Epoch 00066: val_loss did not improve from 0.48446\n",
            "124/124 [==============================] - 0s 3ms/step - loss: 0.5821 - val_loss: 0.9310\n",
            "Epoch 67/500\n",
            "118/124 [===========================>..] - ETA: 0s - loss: 0.6241\n",
            "Epoch 00067: val_loss did not improve from 0.48446\n",
            "124/124 [==============================] - 0s 3ms/step - loss: 0.6369 - val_loss: 0.8533\n",
            "Epoch 68/500\n",
            "108/124 [=========================>....] - ETA: 0s - loss: 0.5840\n",
            "Epoch 00068: val_loss did not improve from 0.48446\n",
            "124/124 [==============================] - 0s 3ms/step - loss: 0.5754 - val_loss: 0.5262\n",
            "Epoch 69/500\n",
            "111/124 [=========================>....] - ETA: 0s - loss: 0.5247\n",
            "Epoch 00069: val_loss did not improve from 0.48446\n",
            "124/124 [==============================] - 0s 4ms/step - loss: 0.5234 - val_loss: 0.5062\n",
            "Epoch 70/500\n",
            "119/124 [===========================>..] - ETA: 0s - loss: 0.5319\n",
            "Epoch 00070: val_loss did not improve from 0.48446\n",
            "124/124 [==============================] - 0s 3ms/step - loss: 0.5326 - val_loss: 0.5746\n",
            "Epoch 71/500\n",
            "124/124 [==============================] - ETA: 0s - loss: 0.5159\n",
            "Epoch 00071: val_loss did not improve from 0.48446\n",
            "124/124 [==============================] - 0s 3ms/step - loss: 0.5159 - val_loss: 0.5722\n",
            "Epoch 72/500\n",
            "110/124 [=========================>....] - ETA: 0s - loss: 0.5621\n",
            "Epoch 00072: val_loss did not improve from 0.48446\n",
            "124/124 [==============================] - 0s 3ms/step - loss: 0.5631 - val_loss: 0.5216\n",
            "Epoch 73/500\n",
            "113/124 [==========================>...] - ETA: 0s - loss: 0.5506\n",
            "Epoch 00073: val_loss did not improve from 0.48446\n",
            "124/124 [==============================] - 0s 3ms/step - loss: 0.5514 - val_loss: 0.5258\n",
            "Epoch 74/500\n",
            "107/124 [========================>.....] - ETA: 0s - loss: 0.5576\n",
            "Epoch 00074: val_loss did not improve from 0.48446\n",
            "124/124 [==============================] - 0s 3ms/step - loss: 0.5563 - val_loss: 0.6163\n",
            "Epoch 75/500\n",
            "121/124 [============================>.] - ETA: 0s - loss: 0.5232\n",
            "Epoch 00075: val_loss did not improve from 0.48446\n",
            "124/124 [==============================] - 0s 3ms/step - loss: 0.5233 - val_loss: 0.4928\n",
            "Epoch 76/500\n",
            "121/124 [============================>.] - ETA: 0s - loss: 0.5276\n",
            "Epoch 00076: val_loss did not improve from 0.48446\n",
            "124/124 [==============================] - 0s 3ms/step - loss: 0.5256 - val_loss: 0.4870\n",
            "Epoch 77/500\n",
            "119/124 [===========================>..] - ETA: 0s - loss: 0.5309\n",
            "Epoch 00077: val_loss did not improve from 0.48446\n",
            "124/124 [==============================] - 0s 3ms/step - loss: 0.5325 - val_loss: 0.5441\n",
            "Epoch 78/500\n",
            "121/124 [============================>.] - ETA: 0s - loss: 0.5117\n",
            "Epoch 00078: val_loss did not improve from 0.48446\n",
            "124/124 [==============================] - 0s 3ms/step - loss: 0.5117 - val_loss: 0.5088\n",
            "Epoch 79/500\n",
            "120/124 [============================>.] - ETA: 0s - loss: 0.5386\n",
            "Epoch 00079: val_loss did not improve from 0.48446\n",
            "124/124 [==============================] - 0s 3ms/step - loss: 0.5444 - val_loss: 0.6569\n",
            "Epoch 80/500\n",
            "108/124 [=========================>....] - ETA: 0s - loss: 0.5592\n",
            "Epoch 00080: val_loss did not improve from 0.48446\n",
            "124/124 [==============================] - 0s 4ms/step - loss: 0.5460 - val_loss: 0.5273\n"
          ]
        }
      ]
    },
    {
      "cell_type": "code",
      "source": [
        "y_loss = hist.history['loss']\n",
        "y_vloss = hist.history['val_loss']\n",
        "xs = np.arange(1, len(y_loss)+1)"
      ],
      "metadata": {
        "id": "RaArc4mJPMZK"
      },
      "execution_count": 14,
      "outputs": []
    },
    {
      "cell_type": "code",
      "source": [
        "plt.figure(figsize=(12,8))\n",
        "plt.plot(xs, y_loss, label='train loss')\n",
        "plt.plot(xs, y_vloss, label='validation loss')\n",
        "plt.legend()\n",
        "plt.grid()\n",
        "plt.ylim([0,2])\n",
        "plt.xlabel('Epoch')\n",
        "plt.show()"
      ],
      "metadata": {
        "colab": {
          "base_uri": "https://localhost:8080/",
          "height": 501
        },
        "id": "zC3r0VLsPy0c",
        "outputId": "15452588-3399-426c-f44d-206a059e8dcd"
      },
      "execution_count": 15,
      "outputs": [
        {
          "output_type": "display_data",
          "data": {
            "image/png": "[encoded data removed]",
            "text/plain": [
              "<Figure size 864x576 with 1 Axes>"
            ]
          },
          "metadata": {
            "needs_background": "light"
          }
        }
      ]
    },
    {
      "cell_type": "code",
      "source": [
        "# 아무래도 성능차이가 있어보여? 코랩의 문제? pc 하드웨어의 문제?"
      ],
      "metadata": {
        "id": "APXM6_ulP2ni"
      },
      "execution_count": null,
      "outputs": []
    },
    {
      "cell_type": "code",
      "source": [
        "from sklearn.metrics import mean_squared_error, r2_score\n",
        "pred5 = model5.predict(X_test)\n",
        "mean_squared_error(y_test, pred5), r2_score(y_test, pred5)"
      ],
      "metadata": {
        "colab": {
          "base_uri": "https://localhost:8080/"
        },
        "id": "5NLBJJ6hQDCR",
        "outputId": "6adc2c77-e25f-450a-8d92-e85b6b209473"
      },
      "execution_count": 17,
      "outputs": [
        {
          "output_type": "execute_result",
          "data": {
            "text/plain": [
              "(0.5293536925391349, 0.5875446770391635)"
            ]
          },
          "metadata": {},
          "execution_count": 17
        }
      ]
    },
    {
      "cell_type": "code",
      "source": [
        ""
      ],
      "metadata": {
        "id": "TG1AgepAQT47"
      },
      "execution_count": null,
      "outputs": []
    },
    {
      "cell_type": "markdown",
      "source": [
        "## 예측치 비교 : 임시라서 pred5만"
      ],
      "metadata": {
        "id": "DP_TZl01Qc_Y"
      }
    },
    {
      "cell_type": "code",
      "source": [
        "df = pd.DataFrame({\n",
        "    'y_test':y_test, 'pred5':pred5.flatten()\n",
        "})\n",
        "df.head(10)"
      ],
      "metadata": {
        "colab": {
          "base_uri": "https://localhost:8080/",
          "height": 363
        },
        "id": "wDYSShenQeg0",
        "outputId": "808deb23-8c5b-4607-a884-660baf53cf2d"
      },
      "execution_count": 19,
      "outputs": [
        {
          "output_type": "execute_result",
          "data": {
            "text/html": [
              "\n",
              "  <div id=\"df-ea21a584-ce10-4193-a87d-c6735a5e3b7b\">\n",
              "    <div class=\"colab-df-container\">\n",
              "      <div>\n",
              "<style scoped>\n",
              "    .dataframe tbody tr th:only-of-type {\n",
              "        vertical-align: middle;\n",
              "    }\n",
              "\n",
              "    .dataframe tbody tr th {\n",
              "        vertical-align: top;\n",
              "    }\n",
              "\n",
              "    .dataframe thead th {\n",
              "        text-align: right;\n",
              "    }\n",
              "</style>\n",
              "<table border=\"1\" class=\"dataframe\">\n",
              "  <thead>\n",
              "    <tr style=\"text-align: right;\">\n",
              "      <th></th>\n",
              "      <th>y_test</th>\n",
              "      <th>pred5</th>\n",
              "    </tr>\n",
              "  </thead>\n",
              "  <tbody>\n",
              "    <tr>\n",
              "      <th>0</th>\n",
              "      <td>4.771</td>\n",
              "      <td>4.539354</td>\n",
              "    </tr>\n",
              "    <tr>\n",
              "      <th>1</th>\n",
              "      <td>1.371</td>\n",
              "      <td>1.195279</td>\n",
              "    </tr>\n",
              "    <tr>\n",
              "      <th>2</th>\n",
              "      <td>1.233</td>\n",
              "      <td>1.801453</td>\n",
              "    </tr>\n",
              "    <tr>\n",
              "      <th>3</th>\n",
              "      <td>0.938</td>\n",
              "      <td>1.373376</td>\n",
              "    </tr>\n",
              "    <tr>\n",
              "      <th>4</th>\n",
              "      <td>3.260</td>\n",
              "      <td>3.757412</td>\n",
              "    </tr>\n",
              "    <tr>\n",
              "      <th>5</th>\n",
              "      <td>1.516</td>\n",
              "      <td>1.530638</td>\n",
              "    </tr>\n",
              "    <tr>\n",
              "      <th>6</th>\n",
              "      <td>2.738</td>\n",
              "      <td>2.539587</td>\n",
              "    </tr>\n",
              "    <tr>\n",
              "      <th>7</th>\n",
              "      <td>1.368</td>\n",
              "      <td>1.883620</td>\n",
              "    </tr>\n",
              "    <tr>\n",
              "      <th>8</th>\n",
              "      <td>1.175</td>\n",
              "      <td>1.151200</td>\n",
              "    </tr>\n",
              "    <tr>\n",
              "      <th>9</th>\n",
              "      <td>2.966</td>\n",
              "      <td>3.224689</td>\n",
              "    </tr>\n",
              "  </tbody>\n",
              "</table>\n",
              "</div>\n",
              "      <button class=\"colab-df-convert\" onclick=\"convertToInteractive('df-ea21a584-ce10-4193-a87d-c6735a5e3b7b')\"\n",
              "              title=\"Convert this dataframe to an interactive table.\"\n",
              "              style=\"display:none;\">\n",
              "        \n",
              "  <svg xmlns=\"http://www.w3.org/2000/svg\" height=\"24px\"viewBox=\"0 0 24 24\"\n",
              "       width=\"24px\">\n",
              "    <path d=\"M0 0h24v24H0V0z\" fill=\"none\"/>\n",
              "    <path d=\"M18.56 5.44l.94 2.06.94-2.06 2.06-.94-2.06-.94-.94-2.06-.94 2.06-2.06.94zm-11 1L8.5 8.5l.94-2.06 2.06-.94-2.06-.94L8.5 2.5l-.94 2.06-2.06.94zm10 10l.94 2.06.94-2.06 2.06-.94-2.06-.94-.94-2.06-.94 2.06-2.06.94z\"/><path d=\"M17.41 7.96l-1.37-1.37c-.4-.4-.92-.59-1.43-.59-.52 0-1.04.2-1.43.59L10.3 9.45l-7.72 7.72c-.78.78-.78 2.05 0 2.83L4 21.41c.39.39.9.59 1.41.59.51 0 1.02-.2 1.41-.59l7.78-7.78 2.81-2.81c.8-.78.8-2.07 0-2.86zM5.41 20L4 18.59l7.72-7.72 1.47 1.35L5.41 20z\"/>\n",
              "  </svg>\n",
              "      </button>\n",
              "      \n",
              "  <style>\n",
              "    .colab-df-container {\n",
              "      display:flex;\n",
              "      flex-wrap:wrap;\n",
              "      gap: 12px;\n",
              "    }\n",
              "\n",
              "    .colab-df-convert {\n",
              "      background-color: #E8F0FE;\n",
              "      border: none;\n",
              "      border-radius: 50%;\n",
              "      cursor: pointer;\n",
              "      display: none;\n",
              "      fill: #1967D2;\n",
              "      height: 32px;\n",
              "      padding: 0 0 0 0;\n",
              "      width: 32px;\n",
              "    }\n",
              "\n",
              "    .colab-df-convert:hover {\n",
              "      background-color: #E2EBFA;\n",
              "      box-shadow: 0px 1px 2px rgba(60, 64, 67, 0.3), 0px 1px 3px 1px rgba(60, 64, 67, 0.15);\n",
              "      fill: #174EA6;\n",
              "    }\n",
              "\n",
              "    [theme=dark] .colab-df-convert {\n",
              "      background-color: #3B4455;\n",
              "      fill: #D2E3FC;\n",
              "    }\n",
              "\n",
              "    [theme=dark] .colab-df-convert:hover {\n",
              "      background-color: #434B5C;\n",
              "      box-shadow: 0px 1px 3px 1px rgba(0, 0, 0, 0.15);\n",
              "      filter: drop-shadow(0px 1px 2px rgba(0, 0, 0, 0.3));\n",
              "      fill: #FFFFFF;\n",
              "    }\n",
              "  </style>\n",
              "\n",
              "      <script>\n",
              "        const buttonEl =\n",
              "          document.querySelector('#df-ea21a584-ce10-4193-a87d-c6735a5e3b7b button.colab-df-convert');\n",
              "        buttonEl.style.display =\n",
              "          google.colab.kernel.accessAllowed ? 'block' : 'none';\n",
              "\n",
              "        async function convertToInteractive(key) {\n",
              "          const element = document.querySelector('#df-ea21a584-ce10-4193-a87d-c6735a5e3b7b');\n",
              "          const dataTable =\n",
              "            await google.colab.kernel.invokeFunction('convertToInteractive',\n",
              "                                                     [key], {});\n",
              "          if (!dataTable) return;\n",
              "\n",
              "          const docLinkHtml = 'Like what you see? Visit the ' +\n",
              "            '<a target=\"_blank\" href=https://colab.research.google.com/notebooks/data_table.ipynb>data table notebook</a>'\n",
              "            + ' to learn more about interactive tables.';\n",
              "          element.innerHTML = '';\n",
              "          dataTable['output_type'] = 'display_data';\n",
              "          await google.colab.output.renderOutput(dataTable, element);\n",
              "          const docLink = document.createElement('div');\n",
              "          docLink.innerHTML = docLinkHtml;\n",
              "          element.appendChild(docLink);\n",
              "        }\n",
              "      </script>\n",
              "    </div>\n",
              "  </div>\n",
              "  "
            ],
            "text/plain": [
              "   y_test     pred5\n",
              "0   4.771  4.539354\n",
              "1   1.371  1.195279\n",
              "2   1.233  1.801453\n",
              "3   0.938  1.373376\n",
              "4   3.260  3.757412\n",
              "5   1.516  1.530638\n",
              "6   2.738  2.539587\n",
              "7   1.368  1.883620\n",
              "8   1.175  1.151200\n",
              "9   2.966  3.224689"
            ]
          },
          "metadata": {},
          "execution_count": 19
        }
      ]
    },
    {
      "cell_type": "code",
      "source": [
        "df.describe()\n",
        "# 수치 확인하기 좋을것."
      ],
      "metadata": {
        "colab": {
          "base_uri": "https://localhost:8080/",
          "height": 300
        },
        "id": "ueCLiS7aQgIz",
        "outputId": "20363594-b2c0-4987-a84a-6fb34b81603b"
      },
      "execution_count": 20,
      "outputs": [
        {
          "output_type": "execute_result",
          "data": {
            "text/html": [
              "\n",
              "  <div id=\"df-09890b8e-128e-4362-91cd-faed85069703\">\n",
              "    <div class=\"colab-df-container\">\n",
              "      <div>\n",
              "<style scoped>\n",
              "    .dataframe tbody tr th:only-of-type {\n",
              "        vertical-align: middle;\n",
              "    }\n",
              "\n",
              "    .dataframe tbody tr th {\n",
              "        vertical-align: top;\n",
              "    }\n",
              "\n",
              "    .dataframe thead th {\n",
              "        text-align: right;\n",
              "    }\n",
              "</style>\n",
              "<table border=\"1\" class=\"dataframe\">\n",
              "  <thead>\n",
              "    <tr style=\"text-align: right;\">\n",
              "      <th></th>\n",
              "      <th>y_test</th>\n",
              "      <th>pred5</th>\n",
              "    </tr>\n",
              "  </thead>\n",
              "  <tbody>\n",
              "    <tr>\n",
              "      <th>count</th>\n",
              "      <td>2064.000000</td>\n",
              "      <td>2064.000000</td>\n",
              "    </tr>\n",
              "    <tr>\n",
              "      <th>mean</th>\n",
              "      <td>2.002142</td>\n",
              "      <td>2.214563</td>\n",
              "    </tr>\n",
              "    <tr>\n",
              "      <th>std</th>\n",
              "      <td>1.133156</td>\n",
              "      <td>0.905811</td>\n",
              "    </tr>\n",
              "    <tr>\n",
              "      <th>min</th>\n",
              "      <td>0.149990</td>\n",
              "      <td>0.043445</td>\n",
              "    </tr>\n",
              "    <tr>\n",
              "      <th>25%</th>\n",
              "      <td>1.138250</td>\n",
              "      <td>1.508429</td>\n",
              "    </tr>\n",
              "    <tr>\n",
              "      <th>50%</th>\n",
              "      <td>1.735000</td>\n",
              "      <td>2.034637</td>\n",
              "    </tr>\n",
              "    <tr>\n",
              "      <th>75%</th>\n",
              "      <td>2.561750</td>\n",
              "      <td>2.777247</td>\n",
              "    </tr>\n",
              "    <tr>\n",
              "      <th>max</th>\n",
              "      <td>5.000010</td>\n",
              "      <td>6.040096</td>\n",
              "    </tr>\n",
              "  </tbody>\n",
              "</table>\n",
              "</div>\n",
              "      <button class=\"colab-df-convert\" onclick=\"convertToInteractive('df-09890b8e-128e-4362-91cd-faed85069703')\"\n",
              "              title=\"Convert this dataframe to an interactive table.\"\n",
              "              style=\"display:none;\">\n",
              "        \n",
              "  <svg xmlns=\"http://www.w3.org/2000/svg\" height=\"24px\"viewBox=\"0 0 24 24\"\n",
              "       width=\"24px\">\n",
              "    <path d=\"M0 0h24v24H0V0z\" fill=\"none\"/>\n",
              "    <path d=\"M18.56 5.44l.94 2.06.94-2.06 2.06-.94-2.06-.94-.94-2.06-.94 2.06-2.06.94zm-11 1L8.5 8.5l.94-2.06 2.06-.94-2.06-.94L8.5 2.5l-.94 2.06-2.06.94zm10 10l.94 2.06.94-2.06 2.06-.94-2.06-.94-.94-2.06-.94 2.06-2.06.94z\"/><path d=\"M17.41 7.96l-1.37-1.37c-.4-.4-.92-.59-1.43-.59-.52 0-1.04.2-1.43.59L10.3 9.45l-7.72 7.72c-.78.78-.78 2.05 0 2.83L4 21.41c.39.39.9.59 1.41.59.51 0 1.02-.2 1.41-.59l7.78-7.78 2.81-2.81c.8-.78.8-2.07 0-2.86zM5.41 20L4 18.59l7.72-7.72 1.47 1.35L5.41 20z\"/>\n",
              "  </svg>\n",
              "      </button>\n",
              "      \n",
              "  <style>\n",
              "    .colab-df-container {\n",
              "      display:flex;\n",
              "      flex-wrap:wrap;\n",
              "      gap: 12px;\n",
              "    }\n",
              "\n",
              "    .colab-df-convert {\n",
              "      background-color: #E8F0FE;\n",
              "      border: none;\n",
              "      border-radius: 50%;\n",
              "      cursor: pointer;\n",
              "      display: none;\n",
              "      fill: #1967D2;\n",
              "      height: 32px;\n",
              "      padding: 0 0 0 0;\n",
              "      width: 32px;\n",
              "    }\n",
              "\n",
              "    .colab-df-convert:hover {\n",
              "      background-color: #E2EBFA;\n",
              "      box-shadow: 0px 1px 2px rgba(60, 64, 67, 0.3), 0px 1px 3px 1px rgba(60, 64, 67, 0.15);\n",
              "      fill: #174EA6;\n",
              "    }\n",
              "\n",
              "    [theme=dark] .colab-df-convert {\n",
              "      background-color: #3B4455;\n",
              "      fill: #D2E3FC;\n",
              "    }\n",
              "\n",
              "    [theme=dark] .colab-df-convert:hover {\n",
              "      background-color: #434B5C;\n",
              "      box-shadow: 0px 1px 3px 1px rgba(0, 0, 0, 0.15);\n",
              "      filter: drop-shadow(0px 1px 2px rgba(0, 0, 0, 0.3));\n",
              "      fill: #FFFFFF;\n",
              "    }\n",
              "  </style>\n",
              "\n",
              "      <script>\n",
              "        const buttonEl =\n",
              "          document.querySelector('#df-09890b8e-128e-4362-91cd-faed85069703 button.colab-df-convert');\n",
              "        buttonEl.style.display =\n",
              "          google.colab.kernel.accessAllowed ? 'block' : 'none';\n",
              "\n",
              "        async function convertToInteractive(key) {\n",
              "          const element = document.querySelector('#df-09890b8e-128e-4362-91cd-faed85069703');\n",
              "          const dataTable =\n",
              "            await google.colab.kernel.invokeFunction('convertToInteractive',\n",
              "                                                     [key], {});\n",
              "          if (!dataTable) return;\n",
              "\n",
              "          const docLinkHtml = 'Like what you see? Visit the ' +\n",
              "            '<a target=\"_blank\" href=https://colab.research.google.com/notebooks/data_table.ipynb>data table notebook</a>'\n",
              "            + ' to learn more about interactive tables.';\n",
              "          element.innerHTML = '';\n",
              "          dataTable['output_type'] = 'display_data';\n",
              "          await google.colab.output.renderOutput(dataTable, element);\n",
              "          const docLink = document.createElement('div');\n",
              "          docLink.innerHTML = docLinkHtml;\n",
              "          element.appendChild(docLink);\n",
              "        }\n",
              "      </script>\n",
              "    </div>\n",
              "  </div>\n",
              "  "
            ],
            "text/plain": [
              "            y_test        pred5\n",
              "count  2064.000000  2064.000000\n",
              "mean      2.002142     2.214563\n",
              "std       1.133156     0.905811\n",
              "min       0.149990     0.043445\n",
              "25%       1.138250     1.508429\n",
              "50%       1.735000     2.034637\n",
              "75%       2.561750     2.777247\n",
              "max       5.000010     6.040096"
            ]
          },
          "metadata": {},
          "execution_count": 20
        }
      ]
    },
    {
      "cell_type": "code",
      "source": [
        "# 다시 모델저장 이름은 캘5\n",
        "model5.save('Califonia.h5')"
      ],
      "metadata": {
        "id": "oBMY7B36QxvX"
      },
      "execution_count": 21,
      "outputs": []
    },
    {
      "cell_type": "markdown",
      "source": [
        "## 테스트 프로그램"
      ],
      "metadata": {
        "id": "qpmpxisLRHMJ"
      }
    },
    {
      "cell_type": "code",
      "source": [
        "index = 9\n",
        "X_test[index], y_test[index]"
      ],
      "metadata": {
        "colab": {
          "base_uri": "https://localhost:8080/"
        },
        "id": "6HZrUE7HRJ4l",
        "outputId": "ebdb7b4f-efdd-40a7-9b97-18feb7e1806a"
      },
      "execution_count": 22,
      "outputs": [
        {
          "output_type": "execute_result",
          "data": {
            "text/plain": [
              "(array([   5.1587    ,   36.        ,    5.99692308,    0.98153846,\n",
              "         909.        ,    2.79692308,   33.94      , -118.11      ]), 2.966)"
            ]
          },
          "metadata": {},
          "execution_count": 22
        }
      ]
    },
    {
      "cell_type": "code",
      "source": [
        "model5.predict(X_test[index].reshape(1,-1))"
      ],
      "metadata": {
        "colab": {
          "base_uri": "https://localhost:8080/"
        },
        "id": "Hssw4ytsRuBs",
        "outputId": "599bd644-3905-4b8e-a9c6-cc425f7030e1"
      },
      "execution_count": 23,
      "outputs": [
        {
          "output_type": "execute_result",
          "data": {
            "text/plain": [
              "array([[3.224687]], dtype=float32)"
            ]
          },
          "metadata": {},
          "execution_count": 23
        }
      ]
    },
    {
      "cell_type": "code",
      "source": [
        "# 역시 모델값이 다른긴 하다.\n",
        "pred_value = model5.predict(X_test[index].reshape(1,-1)) # 2차원 값 입력 必 KS마크? 검사필??\n",
        "print(f'실제값 : {y_test[index]}, 예측값 : {pred_value[0,0]:.2f}, 오차 : {y_test[index] - pred_value[0,0]:.2f}')"
      ],
      "metadata": {
        "colab": {
          "base_uri": "https://localhost:8080/"
        },
        "id": "DGyeJ0yvRwVV",
        "outputId": "c9b9891e-f861-4a53-e17b-ff8cf25a254c"
      },
      "execution_count": 24,
      "outputs": [
        {
          "output_type": "stream",
          "name": "stdout",
          "text": [
            "실제값 : 2.966, 예측값 : 3.22, 오차 : -0.26\n"
          ]
        }
      ]
    },
    {
      "cell_type": "code",
      "source": [
        ""
      ],
      "metadata": {
        "id": "20K2MmV4R8lp"
      },
      "execution_count": null,
      "outputs": []
    }
  ]
}