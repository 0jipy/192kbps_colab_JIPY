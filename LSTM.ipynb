{
  "nbformat": 4,
  "nbformat_minor": 0,
  "metadata": {
    "colab": {
      "name": "__04_TextGeneration_GRU.ipynb",
      "provenance": [],
      "collapsed_sections": [],
      "machine_shape": "hm",
      "authorship_tag": "ABX9TyPuFVznRc05Ajo4GGN/ql2O",
      "include_colab_link": true
    },
    "kernelspec": {
      "name": "python3",
      "display_name": "Python 3"
    },
    "language_info": {
      "name": "python"
    },
    "accelerator": "GPU"
  },
  "cells": [
    {
      "cell_type": "markdown",
      "metadata": {
        "id": "view-in-github",
        "colab_type": "text"
      },
      "source": [
        "<a href=\"https://colab.research.google.com/github/0jipy/192kbps_colab_JIPY/blob/main/LSTM.ipynb\" target=\"_parent\"><img src=\"https://colab.research.google.com/assets/colab-badge.svg\" alt=\"Open In Colab\"/></a>"
      ]
    },
    {
      "cell_type": "markdown",
      "source": [
        "# LSTM을 이용한 텍스트 생성 (GRU)\n",
        " - 데이터 다운로드: 캐글 New York Times Comments\n",
        " - ArticlesApril2018.csv"
      ],
      "metadata": {
        "id": "mzS4tv-9mGP9"
      }
    },
    {
      "cell_type": "code",
      "source": [
        "import numpy as np \n",
        "import tensorflow as tf\n",
        "seed=2022\n",
        "np.random.seed(seed)\n",
        "tf.random.set_seed(seed)"
      ],
      "metadata": {
        "id": "-cB7_GdPmMUS"
      },
      "execution_count": 1,
      "outputs": []
    },
    {
      "cell_type": "code",
      "source": [
        "from tensorflow.keras.preprocessing.text import Tokenizer\n",
        "from tensorflow.keras.preprocessing.sequence import pad_sequences\n",
        "from tensorflow.keras.utils import to_categorical"
      ],
      "metadata": {
        "id": "zsXjS8zZmZMA"
      },
      "execution_count": 2,
      "outputs": []
    },
    {
      "cell_type": "markdown",
      "source": [
        "- 뉴욕타임즈 기사 "
      ],
      "metadata": {
        "id": "AxLfqAa1nDlr"
      }
    },
    {
      "cell_type": "code",
      "source": [
        "import pandas as pd\n",
        "# df = pd.read_csv('data/ArticlesApril2018.csv', encoding='latin1')\n",
        "df = pd.read_csv('/content/ArticlesApril2018.csv', encoding='latin1')\n",
        "df.head(3)"
      ],
      "metadata": {
        "colab": {
          "base_uri": "https://localhost:8080/",
          "height": 468
        },
        "id": "mM9X8lTWmbQe",
        "outputId": "be7cd0b1-9fd4-4a2e-846b-6334aff2c093"
      },
      "execution_count": 3,
      "outputs": [
        {
          "output_type": "execute_result",
          "data": {
            "text/html": [
              "\n",
              "  <div id=\"df-f6bcfdbb-1435-4624-90a1-538a095deeb6\">\n",
              "    <div class=\"colab-df-container\">\n",
              "      <div>\n",
              "<style scoped>\n",
              "    .dataframe tbody tr th:only-of-type {\n",
              "        vertical-align: middle;\n",
              "    }\n",
              "\n",
              "    .dataframe tbody tr th {\n",
              "        vertical-align: top;\n",
              "    }\n",
              "\n",
              "    .dataframe thead th {\n",
              "        text-align: right;\n",
              "    }\n",
              "</style>\n",
              "<table border=\"1\" class=\"dataframe\">\n",
              "  <thead>\n",
              "    <tr style=\"text-align: right;\">\n",
              "      <th></th>\n",
              "      <th>articleID</th>\n",
              "      <th>articleWordCount</th>\n",
              "      <th>byline</th>\n",
              "      <th>documentType</th>\n",
              "      <th>headline</th>\n",
              "      <th>keywords</th>\n",
              "      <th>multimedia</th>\n",
              "      <th>newDesk</th>\n",
              "      <th>printPage</th>\n",
              "      <th>pubDate</th>\n",
              "      <th>sectionName</th>\n",
              "      <th>snippet</th>\n",
              "      <th>source</th>\n",
              "      <th>typeOfMaterial</th>\n",
              "      <th>webURL</th>\n",
              "    </tr>\n",
              "  </thead>\n",
              "  <tbody>\n",
              "    <tr>\n",
              "      <th>0</th>\n",
              "      <td>5adf6684068401528a2aa69b</td>\n",
              "      <td>781</td>\n",
              "      <td>By JOHN BRANCH</td>\n",
              "      <td>article</td>\n",
              "      <td>Former N.F.L. Cheerleadersâ Settlement Offer...</td>\n",
              "      <td>['Workplace Hazards and Violations', 'Football...</td>\n",
              "      <td>68</td>\n",
              "      <td>Sports</td>\n",
              "      <td>0</td>\n",
              "      <td>2018-04-24 17:16:49</td>\n",
              "      <td>Pro Football</td>\n",
              "      <td>âI understand that they could meet with us, ...</td>\n",
              "      <td>The New York Times</td>\n",
              "      <td>News</td>\n",
              "      <td>https://www.nytimes.com/2018/04/24/sports/foot...</td>\n",
              "    </tr>\n",
              "    <tr>\n",
              "      <th>1</th>\n",
              "      <td>5adf653f068401528a2aa697</td>\n",
              "      <td>656</td>\n",
              "      <td>By LISA FRIEDMAN</td>\n",
              "      <td>article</td>\n",
              "      <td>E.P.A. to Unveil a New Rule. Its Effect: Less ...</td>\n",
              "      <td>['Environmental Protection Agency', 'Pruitt, S...</td>\n",
              "      <td>68</td>\n",
              "      <td>Climate</td>\n",
              "      <td>0</td>\n",
              "      <td>2018-04-24 17:11:21</td>\n",
              "      <td>Unknown</td>\n",
              "      <td>The agency plans to publish a new regulation T...</td>\n",
              "      <td>The New York Times</td>\n",
              "      <td>News</td>\n",
              "      <td>https://www.nytimes.com/2018/04/24/climate/epa...</td>\n",
              "    </tr>\n",
              "    <tr>\n",
              "      <th>2</th>\n",
              "      <td>5adf4626068401528a2aa628</td>\n",
              "      <td>2427</td>\n",
              "      <td>By PETE WELLS</td>\n",
              "      <td>article</td>\n",
              "      <td>The New Noma, Explained</td>\n",
              "      <td>['Restaurants', 'Noma (Copenhagen, Restaurant)...</td>\n",
              "      <td>66</td>\n",
              "      <td>Dining</td>\n",
              "      <td>0</td>\n",
              "      <td>2018-04-24 14:58:44</td>\n",
              "      <td>Unknown</td>\n",
              "      <td>Whatâs it like to eat at the second incarnat...</td>\n",
              "      <td>The New York Times</td>\n",
              "      <td>News</td>\n",
              "      <td>https://www.nytimes.com/2018/04/24/dining/noma...</td>\n",
              "    </tr>\n",
              "  </tbody>\n",
              "</table>\n",
              "</div>\n",
              "      <button class=\"colab-df-convert\" onclick=\"convertToInteractive('df-f6bcfdbb-1435-4624-90a1-538a095deeb6')\"\n",
              "              title=\"Convert this dataframe to an interactive table.\"\n",
              "              style=\"display:none;\">\n",
              "        \n",
              "  <svg xmlns=\"http://www.w3.org/2000/svg\" height=\"24px\"viewBox=\"0 0 24 24\"\n",
              "       width=\"24px\">\n",
              "    <path d=\"M0 0h24v24H0V0z\" fill=\"none\"/>\n",
              "    <path d=\"M18.56 5.44l.94 2.06.94-2.06 2.06-.94-2.06-.94-.94-2.06-.94 2.06-2.06.94zm-11 1L8.5 8.5l.94-2.06 2.06-.94-2.06-.94L8.5 2.5l-.94 2.06-2.06.94zm10 10l.94 2.06.94-2.06 2.06-.94-2.06-.94-.94-2.06-.94 2.06-2.06.94z\"/><path d=\"M17.41 7.96l-1.37-1.37c-.4-.4-.92-.59-1.43-.59-.52 0-1.04.2-1.43.59L10.3 9.45l-7.72 7.72c-.78.78-.78 2.05 0 2.83L4 21.41c.39.39.9.59 1.41.59.51 0 1.02-.2 1.41-.59l7.78-7.78 2.81-2.81c.8-.78.8-2.07 0-2.86zM5.41 20L4 18.59l7.72-7.72 1.47 1.35L5.41 20z\"/>\n",
              "  </svg>\n",
              "      </button>\n",
              "      \n",
              "  <style>\n",
              "    .colab-df-container {\n",
              "      display:flex;\n",
              "      flex-wrap:wrap;\n",
              "      gap: 12px;\n",
              "    }\n",
              "\n",
              "    .colab-df-convert {\n",
              "      background-color: #E8F0FE;\n",
              "      border: none;\n",
              "      border-radius: 50%;\n",
              "      cursor: pointer;\n",
              "      display: none;\n",
              "      fill: #1967D2;\n",
              "      height: 32px;\n",
              "      padding: 0 0 0 0;\n",
              "      width: 32px;\n",
              "    }\n",
              "\n",
              "    .colab-df-convert:hover {\n",
              "      background-color: #E2EBFA;\n",
              "      box-shadow: 0px 1px 2px rgba(60, 64, 67, 0.3), 0px 1px 3px 1px rgba(60, 64, 67, 0.15);\n",
              "      fill: #174EA6;\n",
              "    }\n",
              "\n",
              "    [theme=dark] .colab-df-convert {\n",
              "      background-color: #3B4455;\n",
              "      fill: #D2E3FC;\n",
              "    }\n",
              "\n",
              "    [theme=dark] .colab-df-convert:hover {\n",
              "      background-color: #434B5C;\n",
              "      box-shadow: 0px 1px 3px 1px rgba(0, 0, 0, 0.15);\n",
              "      filter: drop-shadow(0px 1px 2px rgba(0, 0, 0, 0.3));\n",
              "      fill: #FFFFFF;\n",
              "    }\n",
              "  </style>\n",
              "\n",
              "      <script>\n",
              "        const buttonEl =\n",
              "          document.querySelector('#df-f6bcfdbb-1435-4624-90a1-538a095deeb6 button.colab-df-convert');\n",
              "        buttonEl.style.display =\n",
              "          google.colab.kernel.accessAllowed ? 'block' : 'none';\n",
              "\n",
              "        async function convertToInteractive(key) {\n",
              "          const element = document.querySelector('#df-f6bcfdbb-1435-4624-90a1-538a095deeb6');\n",
              "          const dataTable =\n",
              "            await google.colab.kernel.invokeFunction('convertToInteractive',\n",
              "                                                     [key], {});\n",
              "          if (!dataTable) return;\n",
              "\n",
              "          const docLinkHtml = 'Like what you see? Visit the ' +\n",
              "            '<a target=\"_blank\" href=https://colab.research.google.com/notebooks/data_table.ipynb>data table notebook</a>'\n",
              "            + ' to learn more about interactive tables.';\n",
              "          element.innerHTML = '';\n",
              "          dataTable['output_type'] = 'display_data';\n",
              "          await google.colab.output.renderOutput(dataTable, element);\n",
              "          const docLink = document.createElement('div');\n",
              "          docLink.innerHTML = docLinkHtml;\n",
              "          element.appendChild(docLink);\n",
              "        }\n",
              "      </script>\n",
              "    </div>\n",
              "  </div>\n",
              "  "
            ],
            "text/plain": [
              "                  articleID  ...                                             webURL\n",
              "0  5adf6684068401528a2aa69b  ...  https://www.nytimes.com/2018/04/24/sports/foot...\n",
              "1  5adf653f068401528a2aa697  ...  https://www.nytimes.com/2018/04/24/climate/epa...\n",
              "2  5adf4626068401528a2aa628  ...  https://www.nytimes.com/2018/04/24/dining/noma...\n",
              "\n",
              "[3 rows x 15 columns]"
            ]
          },
          "metadata": {},
          "execution_count": 3
        }
      ]
    },
    {
      "cell_type": "markdown",
      "source": [
        "- 데이터 전처리"
      ],
      "metadata": {
        "id": "XS7yIcEBmk9Q"
      }
    },
    {
      "cell_type": "code",
      "source": [
        "df.columns"
      ],
      "metadata": {
        "colab": {
          "base_uri": "https://localhost:8080/"
        },
        "id": "NMeostpinJyC",
        "outputId": "1978a9cd-d5dd-4f06-c94b-dcdae0224d09"
      },
      "execution_count": null,
      "outputs": [
        {
          "output_type": "execute_result",
          "data": {
            "text/plain": [
              "Index(['articleID', 'articleWordCount', 'byline', 'documentType', 'headline',\n",
              "       'keywords', 'multimedia', 'newDesk', 'printPage', 'pubDate',\n",
              "       'sectionName', 'snippet', 'source', 'typeOfMaterial', 'webURL'],\n",
              "      dtype='object')"
            ]
          },
          "metadata": {},
          "execution_count": 10
        }
      ]
    },
    {
      "cell_type": "code",
      "source": [
        "# headline 열 데이터만 사용, Null 검사\n",
        "df.headline.isnull().sum()"
      ],
      "metadata": {
        "colab": {
          "base_uri": "https://localhost:8080/"
        },
        "id": "l9tOVJ8knK7A",
        "outputId": "d1e37398-6c0f-47c3-a040-12eaff0fb58f"
      },
      "execution_count": 4,
      "outputs": [
        {
          "output_type": "execute_result",
          "data": {
            "text/plain": [
              "0"
            ]
          },
          "metadata": {},
          "execution_count": 4
        }
      ]
    },
    {
      "cell_type": "code",
      "source": [
        "headlines = [text for text in df.headline.values]\n",
        "len(headlines)"
      ],
      "metadata": {
        "colab": {
          "base_uri": "https://localhost:8080/"
        },
        "id": "hhlsYBqYnNTl",
        "outputId": "b8cf1665-c3b9-45cd-fd1d-4d4c56947be1"
      },
      "execution_count": 5,
      "outputs": [
        {
          "output_type": "execute_result",
          "data": {
            "text/plain": [
              "1324"
            ]
          },
          "metadata": {},
          "execution_count": 5
        }
      ]
    },
    {
      "cell_type": "code",
      "source": [
        "headlines[:5]"
      ],
      "metadata": {
        "colab": {
          "base_uri": "https://localhost:8080/"
        },
        "id": "vD9ZfwUYnQd7",
        "outputId": "9b84dc82-e9c6-4f3f-b02c-110a9780a8f7"
      },
      "execution_count": 6,
      "outputs": [
        {
          "output_type": "execute_result",
          "data": {
            "text/plain": [
              "['Former N.F.L. Cheerleadersâ\\x80\\x99 Settlement Offer: $1 and a Meeting With Goodell',\n",
              " 'E.P.A. to Unveil a New Rule. Its Effect: Less Science in Policymaking.',\n",
              " 'The New Noma, Explained',\n",
              " 'Unknown',\n",
              " 'Unknown']"
            ]
          },
          "metadata": {},
          "execution_count": 6
        }
      ]
    },
    {
      "cell_type": "code",
      "source": [
        "# 노이즈 데이터('Unknown') 제거\n",
        "headlines = [text for text in headlines if text != 'Unknown']\n",
        "len(headlines)"
      ],
      "metadata": {
        "colab": {
          "base_uri": "https://localhost:8080/"
        },
        "id": "PtRI6P9np5cK",
        "outputId": "7ba4e66d-2f3b-4b4e-d8f7-56eeac44caf3"
      },
      "execution_count": 7,
      "outputs": [
        {
          "output_type": "execute_result",
          "data": {
            "text/plain": [
              "1214"
            ]
          },
          "metadata": {},
          "execution_count": 7
        }
      ]
    },
    {
      "cell_type": "code",
      "source": [
        "# 구둣점 제거, 소문자로 변환\n",
        "from string import punctuation\n",
        "punctuation"
      ],
      "metadata": {
        "colab": {
          "base_uri": "https://localhost:8080/",
          "height": 36
        },
        "id": "8E2fQdo_nR65",
        "outputId": "459d5cda-3ea5-4f6c-f18e-a34ab80fb363"
      },
      "execution_count": 8,
      "outputs": [
        {
          "output_type": "execute_result",
          "data": {
            "application/vnd.google.colaboratory.intrinsic+json": {
              "type": "string"
            },
            "text/plain": [
              "'!\"#$%&\\'()*+,-./:;<=>?@[\\\\]^_`{|}~'"
            ]
          },
          "metadata": {},
          "execution_count": 8
        }
      ]
    },
    {
      "cell_type": "code",
      "source": [
        "def preprocessing(s):\n",
        "    s = s.encode('utf8').decode('ascii', 'ignore')\n",
        "    return ''.join(c for c in s if c not in punctuation).lower()"
      ],
      "metadata": {
        "id": "gmEWg8cdnWq6"
      },
      "execution_count": 9,
      "outputs": []
    },
    {
      "cell_type": "code",
      "source": [
        "headlines = [preprocessing(s) for s in headlines]\n",
        "headlines[:3]"
      ],
      "metadata": {
        "colab": {
          "base_uri": "https://localhost:8080/"
        },
        "id": "L17erq4BnumY",
        "outputId": "38e84cec-f19b-412f-d97a-b5d7b13547de"
      },
      "execution_count": 10,
      "outputs": [
        {
          "output_type": "execute_result",
          "data": {
            "text/plain": [
              "['former nfl cheerleaders settlement offer 1 and a meeting with goodell',\n",
              " 'epa to unveil a new rule its effect less science in policymaking',\n",
              " 'the new noma explained']"
            ]
          },
          "metadata": {},
          "execution_count": 10
        }
      ]
    },
    {
      "cell_type": "code",
      "source": [
        "# 단어 집합을 만들고, 그 크기를 확인\n",
        "t = Tokenizer()\n",
        "t.fit_on_texts(headlines)\n",
        "vocab_size = len(t.word_index) + 1\n",
        "vocab_size"
      ],
      "metadata": {
        "colab": {
          "base_uri": "https://localhost:8080/"
        },
        "id": "uv4O7QpYn9J-",
        "outputId": "ad72176e-2a5b-49ef-ebd5-b6c28e1b2a21"
      },
      "execution_count": 11,
      "outputs": [
        {
          "output_type": "execute_result",
          "data": {
            "text/plain": [
              "3494"
            ]
          },
          "metadata": {},
          "execution_count": 11
        }
      ]
    },
    {
      "cell_type": "code",
      "source": [
        "# 학습에 사용될 샘플 시퀀스\n",
        "sequences = []\n",
        "for line in headlines:\n",
        "    encoded = t.texts_to_sequences([line])[0]\n",
        "    for i in range(1, len(encoded)):\n",
        "        sequence = encoded[:i+1]\n",
        "        sequences.append(sequence)\n",
        "sequences[:11]"
      ],
      "metadata": {
        "colab": {
          "base_uri": "https://localhost:8080/"
        },
        "id": "dwx9WjTGn_zY",
        "outputId": "ba4fd860-f3f7-40a9-b707-87794215d81a"
      },
      "execution_count": 12,
      "outputs": [
        {
          "output_type": "execute_result",
          "data": {
            "text/plain": [
              "[[99, 269],\n",
              " [99, 269, 371],\n",
              " [99, 269, 371, 1115],\n",
              " [99, 269, 371, 1115, 582],\n",
              " [99, 269, 371, 1115, 582, 52],\n",
              " [99, 269, 371, 1115, 582, 52, 7],\n",
              " [99, 269, 371, 1115, 582, 52, 7, 2],\n",
              " [99, 269, 371, 1115, 582, 52, 7, 2, 372],\n",
              " [99, 269, 371, 1115, 582, 52, 7, 2, 372, 10],\n",
              " [99, 269, 371, 1115, 582, 52, 7, 2, 372, 10, 1116],\n",
              " [100, 3]]"
            ]
          },
          "metadata": {},
          "execution_count": 12
        }
      ]
    },
    {
      "cell_type": "code",
      "source": [
        "max_len = max(len(s) for s in sequences)\n",
        "max_len"
      ],
      "metadata": {
        "colab": {
          "base_uri": "https://localhost:8080/"
        },
        "id": "pcYWyzI6oClF",
        "outputId": "0be15f20-63d8-404b-9d1d-e7fef67ef7a3"
      },
      "execution_count": 13,
      "outputs": [
        {
          "output_type": "execute_result",
          "data": {
            "text/plain": [
              "24"
            ]
          },
          "metadata": {},
          "execution_count": 13
        }
      ]
    },
    {
      "cell_type": "code",
      "source": [
        "sequences = pad_sequences(sequences, maxlen=max_len, padding='pre')\n",
        "sequences[:3]"
      ],
      "metadata": {
        "colab": {
          "base_uri": "https://localhost:8080/"
        },
        "id": "BFA7aiJhoJgx",
        "outputId": "42c6859a-6811-4cfc-a535-e5e5c603972b"
      },
      "execution_count": 14,
      "outputs": [
        {
          "output_type": "execute_result",
          "data": {
            "text/plain": [
              "array([[   0,    0,    0,    0,    0,    0,    0,    0,    0,    0,    0,\n",
              "           0,    0,    0,    0,    0,    0,    0,    0,    0,    0,    0,\n",
              "          99,  269],\n",
              "       [   0,    0,    0,    0,    0,    0,    0,    0,    0,    0,    0,\n",
              "           0,    0,    0,    0,    0,    0,    0,    0,    0,    0,   99,\n",
              "         269,  371],\n",
              "       [   0,    0,    0,    0,    0,    0,    0,    0,    0,    0,    0,\n",
              "           0,    0,    0,    0,    0,    0,    0,    0,    0,   99,  269,\n",
              "         371, 1115]], dtype=int32)"
            ]
          },
          "metadata": {},
          "execution_count": 14
        }
      ]
    },
    {
      "cell_type": "code",
      "source": [
        "X = sequences[:,:-1]\n",
        "y = sequences[:,-1]\n",
        "Y = to_categorical(y)\n",
        "X.shape, Y.shape"
      ],
      "metadata": {
        "colab": {
          "base_uri": "https://localhost:8080/"
        },
        "id": "aKK4zs8AoLH7",
        "outputId": "dae43a0a-d842-4229-d552-44fc1d18f7b6"
      },
      "execution_count": 15,
      "outputs": [
        {
          "output_type": "execute_result",
          "data": {
            "text/plain": [
              "((7803, 23), (7803, 3494))"
            ]
          },
          "metadata": {},
          "execution_count": 15
        }
      ]
    },
    {
      "cell_type": "markdown",
      "source": [
        "## 모델 정의/설정/학습\n",
        "- Embedding\n",
        "- LSTM\n",
        "- GRU 쓰지 않나?"
      ],
      "metadata": {
        "id": "uRybVQUvoNXt"
      }
    },
    {
      "cell_type": "code",
      "source": [
        "from tensorflow.keras.models import Sequential\n",
        "# from tensorflow.keras.layers import Embedding, LSTM, Dense\n",
        "from tensorflow.keras.layers import Embedding, GRU, Dense"
      ],
      "metadata": {
        "id": "ojUJZpusoUm3"
      },
      "execution_count": 16,
      "outputs": []
    },
    {
      "cell_type": "code",
      "source": [
        "# 임베딩 벡터 10차원, LSTM 노드 크기 128 = >GRU로변경\n",
        "model = Sequential([ \n",
        "    Embedding(vocab_size, 10, input_length=max_len-1),  ## ??\n",
        "    GRU(128),\n",
        "    Dense(vocab_size, activation='softmax')\n",
        "])\n",
        "model.summary()"
      ],
      "metadata": {
        "colab": {
          "base_uri": "https://localhost:8080/"
        },
        "id": "6qIPxXGQoXlf",
        "outputId": "562ed819-bd8e-4563-ec4d-76dc9ef27e8f"
      },
      "execution_count": 17,
      "outputs": [
        {
          "output_type": "stream",
          "name": "stdout",
          "text": [
            "Model: \"sequential\"\n",
            "_________________________________________________________________\n",
            " Layer (type)                Output Shape              Param #   \n",
            "=================================================================\n",
            " embedding (Embedding)       (None, 23, 10)            34940     \n",
            "                                                                 \n",
            " lstm (LSTM)                 (None, 128)               71168     \n",
            "                                                                 \n",
            " dense (Dense)               (None, 3494)              450726    \n",
            "                                                                 \n",
            "=================================================================\n",
            "Total params: 556,834\n",
            "Trainable params: 556,834\n",
            "Non-trainable params: 0\n",
            "_________________________________________________________________\n"
          ]
        }
      ]
    },
    {
      "cell_type": "code",
      "source": [
        "model.compile(\n",
        "    optimizer='adam', loss='categorical_crossentropy', metrics=['accuracy']\n",
        ")"
      ],
      "metadata": {
        "id": "frKU3E6HoaL4"
      },
      "execution_count": 18,
      "outputs": []
    },
    {
      "cell_type": "code",
      "source": [
        "%time history = model.fit(X, Y, epochs=200, verbose=1)"
      ],
      "metadata": {
        "id": "LSkbeP0Pohrd",
        "colab": {
          "base_uri": "https://localhost:8080/"
        },
        "outputId": "90230c2c-f4f0-4c41-9e56-6c0906cc4d0a"
      },
      "execution_count": 19,
      "outputs": [
        {
          "output_type": "stream",
          "name": "stdout",
          "text": [
            "Epoch 1/200\n",
            "244/244 [==============================] - 7s 6ms/step - loss: 7.6300 - accuracy: 0.0304\n",
            "Epoch 2/200\n",
            "244/244 [==============================] - 1s 6ms/step - loss: 7.1181 - accuracy: 0.0277\n",
            "Epoch 3/200\n",
            "244/244 [==============================] - 1s 6ms/step - loss: 6.9813 - accuracy: 0.0342\n",
            "Epoch 4/200\n",
            "244/244 [==============================] - 1s 6ms/step - loss: 6.8465 - accuracy: 0.0427\n",
            "Epoch 5/200\n",
            "244/244 [==============================] - 1s 6ms/step - loss: 6.6907 - accuracy: 0.0441\n",
            "Epoch 6/200\n",
            "244/244 [==============================] - 1s 6ms/step - loss: 6.5125 - accuracy: 0.0487\n",
            "Epoch 7/200\n",
            "244/244 [==============================] - 1s 6ms/step - loss: 6.3185 - accuracy: 0.0531\n",
            "Epoch 8/200\n",
            "244/244 [==============================] - 1s 6ms/step - loss: 6.1164 - accuracy: 0.0590\n",
            "Epoch 9/200\n",
            "244/244 [==============================] - 1s 6ms/step - loss: 5.9220 - accuracy: 0.0627\n",
            "Epoch 10/200\n",
            "244/244 [==============================] - 1s 6ms/step - loss: 5.7410 - accuracy: 0.0659\n",
            "Epoch 11/200\n",
            "244/244 [==============================] - 1s 6ms/step - loss: 5.5674 - accuracy: 0.0722\n",
            "Epoch 12/200\n",
            "244/244 [==============================] - 1s 6ms/step - loss: 5.4012 - accuracy: 0.0757\n",
            "Epoch 13/200\n",
            "244/244 [==============================] - 1s 6ms/step - loss: 5.2468 - accuracy: 0.0846\n",
            "Epoch 14/200\n",
            "244/244 [==============================] - 1s 6ms/step - loss: 5.0971 - accuracy: 0.0874\n",
            "Epoch 15/200\n",
            "244/244 [==============================] - 1s 6ms/step - loss: 4.9540 - accuracy: 0.0946\n",
            "Epoch 16/200\n",
            "244/244 [==============================] - 1s 6ms/step - loss: 4.8153 - accuracy: 0.1126\n",
            "Epoch 17/200\n",
            "244/244 [==============================] - 1s 6ms/step - loss: 4.6840 - accuracy: 0.1200\n",
            "Epoch 18/200\n",
            "244/244 [==============================] - 1s 6ms/step - loss: 4.5541 - accuracy: 0.1379\n",
            "Epoch 19/200\n",
            "244/244 [==============================] - 1s 6ms/step - loss: 4.4268 - accuracy: 0.1510\n",
            "Epoch 20/200\n",
            "244/244 [==============================] - 1s 6ms/step - loss: 4.3023 - accuracy: 0.1679\n",
            "Epoch 21/200\n",
            "244/244 [==============================] - 1s 6ms/step - loss: 4.1853 - accuracy: 0.1856\n",
            "Epoch 22/200\n",
            "244/244 [==============================] - 1s 6ms/step - loss: 4.0687 - accuracy: 0.2061\n",
            "Epoch 23/200\n",
            "244/244 [==============================] - 1s 6ms/step - loss: 3.9548 - accuracy: 0.2216\n",
            "Epoch 24/200\n",
            "244/244 [==============================] - 1s 6ms/step - loss: 3.8429 - accuracy: 0.2434\n",
            "Epoch 25/200\n",
            "244/244 [==============================] - 1s 6ms/step - loss: 3.7349 - accuracy: 0.2605\n",
            "Epoch 26/200\n",
            "244/244 [==============================] - 1s 6ms/step - loss: 3.6285 - accuracy: 0.2795\n",
            "Epoch 27/200\n",
            "244/244 [==============================] - 1s 6ms/step - loss: 3.5262 - accuracy: 0.3028\n",
            "Epoch 28/200\n",
            "244/244 [==============================] - 1s 6ms/step - loss: 3.4285 - accuracy: 0.3181\n",
            "Epoch 29/200\n",
            "244/244 [==============================] - 1s 6ms/step - loss: 3.3338 - accuracy: 0.3401\n",
            "Epoch 30/200\n",
            "244/244 [==============================] - 1s 6ms/step - loss: 3.2432 - accuracy: 0.3524\n",
            "Epoch 31/200\n",
            "244/244 [==============================] - 1s 6ms/step - loss: 3.1543 - accuracy: 0.3670\n",
            "Epoch 32/200\n",
            "244/244 [==============================] - 1s 6ms/step - loss: 3.0660 - accuracy: 0.3918\n",
            "Epoch 33/200\n",
            "244/244 [==============================] - 1s 6ms/step - loss: 2.9848 - accuracy: 0.4013\n",
            "Epoch 34/200\n",
            "244/244 [==============================] - 1s 6ms/step - loss: 2.9038 - accuracy: 0.4141\n",
            "Epoch 35/200\n",
            "244/244 [==============================] - 1s 6ms/step - loss: 2.8254 - accuracy: 0.4289\n",
            "Epoch 36/200\n",
            "244/244 [==============================] - 1s 6ms/step - loss: 2.7503 - accuracy: 0.4482\n",
            "Epoch 37/200\n",
            "244/244 [==============================] - 1s 6ms/step - loss: 2.6791 - accuracy: 0.4584\n",
            "Epoch 38/200\n",
            "244/244 [==============================] - 1s 6ms/step - loss: 2.6126 - accuracy: 0.4714\n",
            "Epoch 39/200\n",
            "244/244 [==============================] - 1s 6ms/step - loss: 2.5438 - accuracy: 0.4835\n",
            "Epoch 40/200\n",
            "244/244 [==============================] - 1s 6ms/step - loss: 2.4764 - accuracy: 0.4962\n",
            "Epoch 41/200\n",
            "244/244 [==============================] - 1s 6ms/step - loss: 2.4141 - accuracy: 0.5143\n",
            "Epoch 42/200\n",
            "244/244 [==============================] - 1s 6ms/step - loss: 2.3525 - accuracy: 0.5236\n",
            "Epoch 43/200\n",
            "244/244 [==============================] - 1s 6ms/step - loss: 2.2954 - accuracy: 0.5304\n",
            "Epoch 44/200\n",
            "244/244 [==============================] - 1s 6ms/step - loss: 2.2340 - accuracy: 0.5461\n",
            "Epoch 45/200\n",
            "244/244 [==============================] - 1s 6ms/step - loss: 2.1812 - accuracy: 0.5570\n",
            "Epoch 46/200\n",
            "244/244 [==============================] - 1s 6ms/step - loss: 2.1292 - accuracy: 0.5677\n",
            "Epoch 47/200\n",
            "244/244 [==============================] - 1s 6ms/step - loss: 2.0776 - accuracy: 0.5763\n",
            "Epoch 48/200\n",
            "244/244 [==============================] - 1s 6ms/step - loss: 2.0267 - accuracy: 0.5877\n",
            "Epoch 49/200\n",
            "244/244 [==============================] - 1s 6ms/step - loss: 1.9806 - accuracy: 0.5985\n",
            "Epoch 50/200\n",
            "244/244 [==============================] - 1s 6ms/step - loss: 1.9306 - accuracy: 0.6060\n",
            "Epoch 51/200\n",
            "244/244 [==============================] - 1s 6ms/step - loss: 1.8838 - accuracy: 0.6178\n",
            "Epoch 52/200\n",
            "244/244 [==============================] - 1s 6ms/step - loss: 1.8414 - accuracy: 0.6249\n",
            "Epoch 53/200\n",
            "244/244 [==============================] - 1s 6ms/step - loss: 1.7951 - accuracy: 0.6368\n",
            "Epoch 54/200\n",
            "244/244 [==============================] - 1s 6ms/step - loss: 1.7545 - accuracy: 0.6456\n",
            "Epoch 55/200\n",
            "244/244 [==============================] - 1s 6ms/step - loss: 1.7159 - accuracy: 0.6492\n",
            "Epoch 56/200\n",
            "244/244 [==============================] - 1s 6ms/step - loss: 1.6730 - accuracy: 0.6647\n",
            "Epoch 57/200\n",
            "244/244 [==============================] - 1s 6ms/step - loss: 1.6352 - accuracy: 0.6683\n",
            "Epoch 58/200\n",
            "244/244 [==============================] - 1s 6ms/step - loss: 1.5980 - accuracy: 0.6768\n",
            "Epoch 59/200\n",
            "244/244 [==============================] - 1s 6ms/step - loss: 1.5594 - accuracy: 0.6860\n",
            "Epoch 60/200\n",
            "244/244 [==============================] - 1s 6ms/step - loss: 1.5243 - accuracy: 0.6914\n",
            "Epoch 61/200\n",
            "244/244 [==============================] - 1s 6ms/step - loss: 1.4905 - accuracy: 0.7006\n",
            "Epoch 62/200\n",
            "244/244 [==============================] - 1s 6ms/step - loss: 1.4559 - accuracy: 0.7095\n",
            "Epoch 63/200\n",
            "244/244 [==============================] - 1s 6ms/step - loss: 1.4230 - accuracy: 0.7160\n",
            "Epoch 64/200\n",
            "244/244 [==============================] - 1s 6ms/step - loss: 1.3924 - accuracy: 0.7202\n",
            "Epoch 65/200\n",
            "244/244 [==============================] - 1s 6ms/step - loss: 1.3597 - accuracy: 0.7240\n",
            "Epoch 66/200\n",
            "244/244 [==============================] - 1s 6ms/step - loss: 1.3256 - accuracy: 0.7364\n",
            "Epoch 67/200\n",
            "244/244 [==============================] - 1s 6ms/step - loss: 1.2992 - accuracy: 0.7427\n",
            "Epoch 68/200\n",
            "244/244 [==============================] - 1s 6ms/step - loss: 1.2662 - accuracy: 0.7452\n",
            "Epoch 69/200\n",
            "244/244 [==============================] - 1s 6ms/step - loss: 1.2384 - accuracy: 0.7557\n",
            "Epoch 70/200\n",
            "244/244 [==============================] - 1s 6ms/step - loss: 1.2119 - accuracy: 0.7624\n",
            "Epoch 71/200\n",
            "244/244 [==============================] - 1s 6ms/step - loss: 1.1805 - accuracy: 0.7677\n",
            "Epoch 72/200\n",
            "244/244 [==============================] - 1s 6ms/step - loss: 1.1565 - accuracy: 0.7711\n",
            "Epoch 73/200\n",
            "244/244 [==============================] - 1s 6ms/step - loss: 1.1308 - accuracy: 0.7746\n",
            "Epoch 74/200\n",
            "244/244 [==============================] - 1s 6ms/step - loss: 1.1061 - accuracy: 0.7825\n",
            "Epoch 75/200\n",
            "244/244 [==============================] - 1s 6ms/step - loss: 1.0802 - accuracy: 0.7869\n",
            "Epoch 76/200\n",
            "244/244 [==============================] - 1s 6ms/step - loss: 1.0547 - accuracy: 0.7926\n",
            "Epoch 77/200\n",
            "244/244 [==============================] - 1s 6ms/step - loss: 1.0308 - accuracy: 0.7967\n",
            "Epoch 78/200\n",
            "244/244 [==============================] - 1s 6ms/step - loss: 1.0071 - accuracy: 0.8024\n",
            "Epoch 79/200\n",
            "244/244 [==============================] - 1s 6ms/step - loss: 0.9854 - accuracy: 0.8069\n",
            "Epoch 80/200\n",
            "244/244 [==============================] - 1s 6ms/step - loss: 0.9644 - accuracy: 0.8107\n",
            "Epoch 81/200\n",
            "244/244 [==============================] - 1s 6ms/step - loss: 0.9428 - accuracy: 0.8170\n",
            "Epoch 82/200\n",
            "244/244 [==============================] - 1s 6ms/step - loss: 0.9209 - accuracy: 0.8229\n",
            "Epoch 83/200\n",
            "244/244 [==============================] - 1s 6ms/step - loss: 0.9014 - accuracy: 0.8225\n",
            "Epoch 84/200\n",
            "244/244 [==============================] - 1s 6ms/step - loss: 0.8970 - accuracy: 0.8271\n",
            "Epoch 85/200\n",
            "244/244 [==============================] - 1s 6ms/step - loss: 0.8723 - accuracy: 0.8296\n",
            "Epoch 86/200\n",
            "244/244 [==============================] - 1s 6ms/step - loss: 0.8428 - accuracy: 0.8349\n",
            "Epoch 87/200\n",
            "244/244 [==============================] - 1s 6ms/step - loss: 0.8228 - accuracy: 0.8390\n",
            "Epoch 88/200\n",
            "244/244 [==============================] - 1s 6ms/step - loss: 0.8050 - accuracy: 0.8417\n",
            "Epoch 89/200\n",
            "244/244 [==============================] - 1s 6ms/step - loss: 0.7881 - accuracy: 0.8463\n",
            "Epoch 90/200\n",
            "244/244 [==============================] - 1s 6ms/step - loss: 0.7699 - accuracy: 0.8488\n",
            "Epoch 91/200\n",
            "244/244 [==============================] - 1s 6ms/step - loss: 0.7587 - accuracy: 0.8498\n",
            "Epoch 92/200\n",
            "244/244 [==============================] - 1s 6ms/step - loss: 0.7414 - accuracy: 0.8534\n",
            "Epoch 93/200\n",
            "244/244 [==============================] - 1s 6ms/step - loss: 0.7215 - accuracy: 0.8583\n",
            "Epoch 94/200\n",
            "244/244 [==============================] - 1s 6ms/step - loss: 0.7048 - accuracy: 0.8630\n",
            "Epoch 95/200\n",
            "244/244 [==============================] - 1s 6ms/step - loss: 0.6938 - accuracy: 0.8654\n",
            "Epoch 96/200\n",
            "244/244 [==============================] - 1s 6ms/step - loss: 0.6748 - accuracy: 0.8663\n",
            "Epoch 97/200\n",
            "244/244 [==============================] - 1s 6ms/step - loss: 0.6619 - accuracy: 0.8709\n",
            "Epoch 98/200\n",
            "244/244 [==============================] - 1s 6ms/step - loss: 0.6449 - accuracy: 0.8722\n",
            "Epoch 99/200\n",
            "244/244 [==============================] - 1s 6ms/step - loss: 0.6341 - accuracy: 0.8736\n",
            "Epoch 100/200\n",
            "244/244 [==============================] - 1s 6ms/step - loss: 0.6183 - accuracy: 0.8776\n",
            "Epoch 101/200\n",
            "244/244 [==============================] - 1s 6ms/step - loss: 0.6068 - accuracy: 0.8786\n",
            "Epoch 102/200\n",
            "244/244 [==============================] - 1s 6ms/step - loss: 0.5936 - accuracy: 0.8844\n",
            "Epoch 103/200\n",
            "244/244 [==============================] - 1s 6ms/step - loss: 0.5801 - accuracy: 0.8849\n",
            "Epoch 104/200\n",
            "244/244 [==============================] - 1s 6ms/step - loss: 0.5720 - accuracy: 0.8839\n",
            "Epoch 105/200\n",
            "244/244 [==============================] - 1s 6ms/step - loss: 0.5579 - accuracy: 0.8880\n",
            "Epoch 106/200\n",
            "244/244 [==============================] - 1s 6ms/step - loss: 0.5462 - accuracy: 0.8902\n",
            "Epoch 107/200\n",
            "244/244 [==============================] - 1s 6ms/step - loss: 0.5330 - accuracy: 0.8930\n",
            "Epoch 108/200\n",
            "244/244 [==============================] - 1s 6ms/step - loss: 0.5227 - accuracy: 0.8954\n",
            "Epoch 109/200\n",
            "244/244 [==============================] - 1s 6ms/step - loss: 0.5126 - accuracy: 0.8954\n",
            "Epoch 110/200\n",
            "244/244 [==============================] - 1s 6ms/step - loss: 0.5008 - accuracy: 0.9002\n",
            "Epoch 111/200\n",
            "244/244 [==============================] - 1s 6ms/step - loss: 0.4914 - accuracy: 0.8997\n",
            "Epoch 112/200\n",
            "244/244 [==============================] - 1s 6ms/step - loss: 0.4848 - accuracy: 0.9002\n",
            "Epoch 113/200\n",
            "244/244 [==============================] - 1s 6ms/step - loss: 0.4729 - accuracy: 0.9013\n",
            "Epoch 114/200\n",
            "244/244 [==============================] - 1s 6ms/step - loss: 0.4661 - accuracy: 0.9029\n",
            "Epoch 115/200\n",
            "244/244 [==============================] - 1s 6ms/step - loss: 0.4574 - accuracy: 0.9044\n",
            "Epoch 116/200\n",
            "244/244 [==============================] - 1s 6ms/step - loss: 0.4491 - accuracy: 0.9048\n",
            "Epoch 117/200\n",
            "244/244 [==============================] - 1s 6ms/step - loss: 0.4387 - accuracy: 0.9063\n",
            "Epoch 118/200\n",
            "244/244 [==============================] - 1s 6ms/step - loss: 0.4323 - accuracy: 0.9066\n",
            "Epoch 119/200\n",
            "244/244 [==============================] - 1s 6ms/step - loss: 0.4227 - accuracy: 0.9086\n",
            "Epoch 120/200\n",
            "244/244 [==============================] - 1s 6ms/step - loss: 0.4209 - accuracy: 0.9102\n",
            "Epoch 121/200\n",
            "244/244 [==============================] - 1s 6ms/step - loss: 0.4117 - accuracy: 0.9108\n",
            "Epoch 122/200\n",
            "244/244 [==============================] - 1s 6ms/step - loss: 0.4058 - accuracy: 0.9089\n",
            "Epoch 123/200\n",
            "244/244 [==============================] - 1s 6ms/step - loss: 0.4002 - accuracy: 0.9111\n",
            "Epoch 124/200\n",
            "244/244 [==============================] - 1s 6ms/step - loss: 0.3929 - accuracy: 0.9113\n",
            "Epoch 125/200\n",
            "244/244 [==============================] - 1s 6ms/step - loss: 0.3864 - accuracy: 0.9117\n",
            "Epoch 126/200\n",
            "244/244 [==============================] - 1s 6ms/step - loss: 0.3789 - accuracy: 0.9141\n",
            "Epoch 127/200\n",
            "244/244 [==============================] - 1s 6ms/step - loss: 0.3733 - accuracy: 0.9127\n",
            "Epoch 128/200\n",
            "244/244 [==============================] - 1s 6ms/step - loss: 0.3668 - accuracy: 0.9154\n",
            "Epoch 129/200\n",
            "244/244 [==============================] - 1s 6ms/step - loss: 0.3618 - accuracy: 0.9152\n",
            "Epoch 130/200\n",
            "244/244 [==============================] - 1s 6ms/step - loss: 0.3582 - accuracy: 0.9146\n",
            "Epoch 131/200\n",
            "244/244 [==============================] - 1s 6ms/step - loss: 0.3538 - accuracy: 0.9152\n",
            "Epoch 132/200\n",
            "244/244 [==============================] - 1s 6ms/step - loss: 0.3487 - accuracy: 0.9164\n",
            "Epoch 133/200\n",
            "244/244 [==============================] - 1s 6ms/step - loss: 0.3467 - accuracy: 0.9143\n",
            "Epoch 134/200\n",
            "244/244 [==============================] - 1s 6ms/step - loss: 0.3416 - accuracy: 0.9150\n",
            "Epoch 135/200\n",
            "244/244 [==============================] - 1s 6ms/step - loss: 0.3385 - accuracy: 0.9149\n",
            "Epoch 136/200\n",
            "244/244 [==============================] - 1s 6ms/step - loss: 0.3349 - accuracy: 0.9158\n",
            "Epoch 137/200\n",
            "244/244 [==============================] - 1s 6ms/step - loss: 0.3312 - accuracy: 0.9146\n",
            "Epoch 138/200\n",
            "244/244 [==============================] - 1s 6ms/step - loss: 0.3268 - accuracy: 0.9166\n",
            "Epoch 139/200\n",
            "244/244 [==============================] - 1s 6ms/step - loss: 0.3288 - accuracy: 0.9152\n",
            "Epoch 140/200\n",
            "244/244 [==============================] - 1s 6ms/step - loss: 0.3464 - accuracy: 0.9126\n",
            "Epoch 141/200\n",
            "244/244 [==============================] - 1s 6ms/step - loss: 0.3277 - accuracy: 0.9155\n",
            "Epoch 142/200\n",
            "244/244 [==============================] - 1s 6ms/step - loss: 0.3260 - accuracy: 0.9161\n",
            "Epoch 143/200\n",
            "244/244 [==============================] - 1s 6ms/step - loss: 0.3189 - accuracy: 0.9163\n",
            "Epoch 144/200\n",
            "244/244 [==============================] - 1s 6ms/step - loss: 0.3143 - accuracy: 0.9171\n",
            "Epoch 145/200\n",
            "244/244 [==============================] - 1s 6ms/step - loss: 0.3063 - accuracy: 0.9164\n",
            "Epoch 146/200\n",
            "244/244 [==============================] - 1s 6ms/step - loss: 0.3049 - accuracy: 0.9159\n",
            "Epoch 147/200\n",
            "244/244 [==============================] - 1s 6ms/step - loss: 0.3026 - accuracy: 0.9167\n",
            "Epoch 148/200\n",
            "244/244 [==============================] - 1s 6ms/step - loss: 0.3004 - accuracy: 0.9168\n",
            "Epoch 149/200\n",
            "244/244 [==============================] - 1s 6ms/step - loss: 0.2990 - accuracy: 0.9162\n",
            "Epoch 150/200\n",
            "244/244 [==============================] - 1s 6ms/step - loss: 0.2980 - accuracy: 0.9161\n",
            "Epoch 151/200\n",
            "244/244 [==============================] - 1s 6ms/step - loss: 0.2965 - accuracy: 0.9155\n",
            "Epoch 152/200\n",
            "244/244 [==============================] - 1s 6ms/step - loss: 0.2952 - accuracy: 0.9155\n",
            "Epoch 153/200\n",
            "244/244 [==============================] - 1s 6ms/step - loss: 0.2933 - accuracy: 0.9154\n",
            "Epoch 154/200\n",
            "244/244 [==============================] - 1s 6ms/step - loss: 0.2918 - accuracy: 0.9175\n",
            "Epoch 155/200\n",
            "244/244 [==============================] - 1s 6ms/step - loss: 0.2939 - accuracy: 0.9150\n",
            "Epoch 156/200\n",
            "244/244 [==============================] - 1s 6ms/step - loss: 0.2902 - accuracy: 0.9173\n",
            "Epoch 157/200\n",
            "244/244 [==============================] - 1s 6ms/step - loss: 0.2899 - accuracy: 0.9170\n",
            "Epoch 158/200\n",
            "244/244 [==============================] - 1s 6ms/step - loss: 0.2884 - accuracy: 0.9152\n",
            "Epoch 159/200\n",
            "244/244 [==============================] - 1s 6ms/step - loss: 0.2955 - accuracy: 0.9162\n",
            "Epoch 160/200\n",
            "244/244 [==============================] - 1s 6ms/step - loss: 0.3267 - accuracy: 0.9100\n",
            "Epoch 161/200\n",
            "244/244 [==============================] - 1s 6ms/step - loss: 0.3000 - accuracy: 0.9154\n",
            "Epoch 162/200\n",
            "244/244 [==============================] - 1s 6ms/step - loss: 0.2841 - accuracy: 0.9166\n",
            "Epoch 163/200\n",
            "244/244 [==============================] - 1s 6ms/step - loss: 0.2800 - accuracy: 0.9170\n",
            "Epoch 164/200\n",
            "244/244 [==============================] - 1s 6ms/step - loss: 0.2797 - accuracy: 0.9163\n",
            "Epoch 165/200\n",
            "244/244 [==============================] - 1s 6ms/step - loss: 0.2788 - accuracy: 0.9164\n",
            "Epoch 166/200\n",
            "244/244 [==============================] - 1s 6ms/step - loss: 0.2782 - accuracy: 0.9170\n",
            "Epoch 167/200\n",
            "244/244 [==============================] - 1s 6ms/step - loss: 0.2774 - accuracy: 0.9158\n",
            "Epoch 168/200\n",
            "244/244 [==============================] - 1s 6ms/step - loss: 0.2812 - accuracy: 0.9163\n",
            "Epoch 169/200\n",
            "244/244 [==============================] - 1s 6ms/step - loss: 0.2792 - accuracy: 0.9146\n",
            "Epoch 170/200\n",
            "244/244 [==============================] - 1s 6ms/step - loss: 0.2762 - accuracy: 0.9163\n",
            "Epoch 171/200\n",
            "244/244 [==============================] - 1s 6ms/step - loss: 0.2760 - accuracy: 0.9150\n",
            "Epoch 172/200\n",
            "244/244 [==============================] - 1s 6ms/step - loss: 0.2843 - accuracy: 0.9157\n",
            "Epoch 173/200\n",
            "244/244 [==============================] - 1s 6ms/step - loss: 0.2868 - accuracy: 0.9159\n",
            "Epoch 174/200\n",
            "244/244 [==============================] - 1s 6ms/step - loss: 0.2790 - accuracy: 0.9158\n",
            "Epoch 175/200\n",
            "244/244 [==============================] - 1s 6ms/step - loss: 0.2745 - accuracy: 0.9155\n",
            "Epoch 176/200\n",
            "244/244 [==============================] - 1s 6ms/step - loss: 0.2711 - accuracy: 0.9159\n",
            "Epoch 177/200\n",
            "244/244 [==============================] - 1s 6ms/step - loss: 0.2702 - accuracy: 0.9158\n",
            "Epoch 178/200\n",
            "244/244 [==============================] - 1s 6ms/step - loss: 0.2692 - accuracy: 0.9185\n",
            "Epoch 179/200\n",
            "244/244 [==============================] - 2s 6ms/step - loss: 0.2697 - accuracy: 0.9159\n",
            "Epoch 180/200\n",
            "244/244 [==============================] - 2s 6ms/step - loss: 0.2704 - accuracy: 0.9161\n",
            "Epoch 181/200\n",
            "244/244 [==============================] - 2s 6ms/step - loss: 0.2695 - accuracy: 0.9170\n",
            "Epoch 182/200\n",
            "244/244 [==============================] - 2s 6ms/step - loss: 0.2694 - accuracy: 0.9150\n",
            "Epoch 183/200\n",
            "244/244 [==============================] - 2s 6ms/step - loss: 0.2674 - accuracy: 0.9161\n",
            "Epoch 184/200\n",
            "244/244 [==============================] - 2s 6ms/step - loss: 0.2684 - accuracy: 0.9157\n",
            "Epoch 185/200\n",
            "244/244 [==============================] - 1s 6ms/step - loss: 0.2677 - accuracy: 0.9177\n",
            "Epoch 186/200\n",
            "244/244 [==============================] - 1s 6ms/step - loss: 0.2679 - accuracy: 0.9175\n",
            "Epoch 187/200\n",
            "244/244 [==============================] - 1s 6ms/step - loss: 0.2687 - accuracy: 0.9167\n",
            "Epoch 188/200\n",
            "244/244 [==============================] - 1s 6ms/step - loss: 0.2665 - accuracy: 0.9149\n",
            "Epoch 189/200\n",
            "244/244 [==============================] - 1s 6ms/step - loss: 0.2657 - accuracy: 0.9173\n",
            "Epoch 190/200\n",
            "244/244 [==============================] - 1s 6ms/step - loss: 0.2900 - accuracy: 0.9111\n",
            "Epoch 191/200\n",
            "244/244 [==============================] - 1s 6ms/step - loss: 0.3040 - accuracy: 0.9091\n",
            "Epoch 192/200\n",
            "244/244 [==============================] - 1s 6ms/step - loss: 0.2699 - accuracy: 0.9163\n",
            "Epoch 193/200\n",
            "244/244 [==============================] - 1s 6ms/step - loss: 0.2712 - accuracy: 0.9153\n",
            "Epoch 194/200\n",
            "244/244 [==============================] - 1s 6ms/step - loss: 0.2649 - accuracy: 0.9161\n",
            "Epoch 195/200\n",
            "244/244 [==============================] - 1s 6ms/step - loss: 0.2626 - accuracy: 0.9158\n",
            "Epoch 196/200\n",
            "244/244 [==============================] - 1s 6ms/step - loss: 0.2620 - accuracy: 0.9167\n",
            "Epoch 197/200\n",
            "244/244 [==============================] - 1s 6ms/step - loss: 0.2614 - accuracy: 0.9162\n",
            "Epoch 198/200\n",
            "244/244 [==============================] - 1s 6ms/step - loss: 0.2622 - accuracy: 0.9175\n",
            "Epoch 199/200\n",
            "244/244 [==============================] - 1s 6ms/step - loss: 0.2612 - accuracy: 0.9166\n",
            "Epoch 200/200\n",
            "244/244 [==============================] - 1s 6ms/step - loss: 0.2623 - accuracy: 0.9162\n",
            "CPU times: user 6min 54s, sys: 1min 26s, total: 8min 20s\n",
            "Wall time: 4min 59s\n"
          ]
        }
      ]
    },
    {
      "cell_type": "markdown",
      "source": [
        "## 모델 검증"
      ],
      "metadata": {
        "id": "0z5EngXxojIz"
      }
    },
    {
      "cell_type": "code",
      "source": [
        "from my_util import sentence_generation"
      ],
      "metadata": {
        "id": "YTpRvSbnonis"
      },
      "execution_count": 21,
      "outputs": []
    },
    {
      "cell_type": "code",
      "source": [
        "print(sentence_generation(model, t, max_len, 'i', 10))\n",
        "print(sentence_generation(model, t, max_len, 'epa', 10))\n",
        "print(sentence_generation(model, t, max_len, 'former', 10))"
      ],
      "metadata": {
        "id": "BmLkLdw4op3H",
        "colab": {
          "base_uri": "https://localhost:8080/"
        },
        "outputId": "d23d2334-c9d3-4696-f09e-b78abc65cc59"
      },
      "execution_count": 22,
      "outputs": [
        {
          "output_type": "stream",
          "name": "stdout",
          "text": [
            "i want to be rich and im not sorry dogs back\n",
            "epa to unveil a new rule its effect less science in\n",
            "former cheney aide is pardoned by trump in cia leak case\n"
          ]
        }
      ]
    },
    {
      "cell_type": "code",
      "source": [
        ""
      ],
      "metadata": {
        "id": "xA71AlTvoq1y"
      },
      "execution_count": null,
      "outputs": []
    }
  ]
}