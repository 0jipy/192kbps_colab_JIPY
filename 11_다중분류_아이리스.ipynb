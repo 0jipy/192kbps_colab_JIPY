{
  "nbformat": 4,
  "nbformat_minor": 0,
  "metadata": {
    "colab": {
      "name": "11.다중분류-아이리스.ipynb",
      "provenance": [],
      "collapsed_sections": [],
      "authorship_tag": "ABX9TyMn1ANCiESA+iR9MlKX3NXq",
      "include_colab_link": true
    },
    "kernelspec": {
      "name": "python3",
      "display_name": "Python 3"
    },
    "language_info": {
      "name": "python"
    }
  },
  "cells": [
    {
      "cell_type": "markdown",
      "metadata": {
        "id": "view-in-github",
        "colab_type": "text"
      },
      "source": [
        "<a href=\"https://colab.research.google.com/github/0jipy/192kbps_colab_JIPY/blob/main/11_%EB%8B%A4%EC%A4%91%EB%B6%84%EB%A5%98_%EC%95%84%EC%9D%B4%EB%A6%AC%EC%8A%A4.ipynb\" target=\"_parent\"><img src=\"https://colab.research.google.com/assets/colab-badge.svg\" alt=\"Open In Colab\"/></a>"
      ]
    },
    {
      "cell_type": "markdown",
      "source": [
        "# 다중분류 - iris 품종분류"
      ],
      "metadata": {
        "id": "A2wbCT1tjVUI"
      }
    },
    {
      "cell_type": "code",
      "source": [
        "import numpy as np \n",
        "import pandas as pd\n",
        "import tensorflow as tf\n",
        "seed = 2022\n",
        "np.random.seed(seed)\n",
        "tf.random.set_seed(seed)"
      ],
      "metadata": {
        "id": "cXMGQLNSjbEf"
      },
      "execution_count": null,
      "outputs": []
    },
    {
      "cell_type": "markdown",
      "source": [
        "- 데이터전처리"
      ],
      "metadata": {
        "id": "NXj-Cd4Aj67F"
      }
    },
    {
      "cell_type": "code",
      "source": [
        "from sklearn.datasets import load_iris\n",
        "iris = load_iris()"
      ],
      "metadata": {
        "id": "1YdN4k4nj4jB"
      },
      "execution_count": null,
      "outputs": []
    },
    {
      "cell_type": "code",
      "source": [
        "# X  data는 정규화\n",
        "from sklearn.preprocessing import StandardScaler\n",
        "X_scaled = StandardScaler().fit_transform(iris.data)\n",
        "X_scaled.shape"
      ],
      "metadata": {
        "colab": {
          "base_uri": "https://localhost:8080/"
        },
        "id": "qKpSPBCLkFLb",
        "outputId": "7453f19b-ec59-4932-e93f-4571d3c15651"
      },
      "execution_count": null,
      "outputs": [
        {
          "output_type": "execute_result",
          "data": {
            "text/plain": [
              "(150, 4)"
            ]
          },
          "metadata": {},
          "execution_count": 4
        }
      ]
    },
    {
      "cell_type": "code",
      "source": [
        "# Y - data는 on-hot encoding # 1차원 y_test  격상 . 이차원 Y-onehot  크게 대접해주기\n",
        "from tensorflow.keras.utils import to_categorical\n",
        "Y_onehot = to_categorical(iris.target)\n",
        "Y_onehot[:5]"
      ],
      "metadata": {
        "colab": {
          "base_uri": "https://localhost:8080/"
        },
        "id": "p2ha2puMkGtq",
        "outputId": "5c466178-c0d9-4ee2-ada9-45e86704cc86"
      },
      "execution_count": null,
      "outputs": [
        {
          "output_type": "execute_result",
          "data": {
            "text/plain": [
              "array([[1., 0., 0.],\n",
              "       [1., 0., 0.],\n",
              "       [1., 0., 0.],\n",
              "       [1., 0., 0.],\n",
              "       [1., 0., 0.]], dtype=float32)"
            ]
          },
          "metadata": {},
          "execution_count": 5
        }
      ]
    },
    {
      "cell_type": "code",
      "source": [
        "from sklearn.model_selection import train_test_split\n",
        "X_train, X_test, Y_train, Y_test = train_test_split(X_scaled, Y_onehot, stratify=Y_onehot, test_size=0.2, random_state=seed)\n",
        "X_train.shape, X_test.shape, Y_train.shape, Y_test.shape"
      ],
      "metadata": {
        "colab": {
          "base_uri": "https://localhost:8080/"
        },
        "id": "EF5_1SItk0_J",
        "outputId": "b2b07207-de22-4b5f-ebd4-d24f6a0c5778"
      },
      "execution_count": null,
      "outputs": [
        {
          "output_type": "execute_result",
          "data": {
            "text/plain": [
              "((120, 4), (30, 4), (120, 3), (30, 3))"
            ]
          },
          "metadata": {},
          "execution_count": 8
        }
      ]
    },
    {
      "cell_type": "code",
      "source": [
        "# 데이터가 너무 없는데 테스트에 뺏기고. 실제로 밸리데이션 검증에 뺏기면 데이터 없어. 디폴트 0.25에서 test_size=0.2"
      ],
      "metadata": {
        "id": "XEXDb9THlq-n"
      },
      "execution_count": null,
      "outputs": []
    },
    {
      "cell_type": "markdown",
      "source": [
        "- 모델 정의/설정/학습/평가"
      ],
      "metadata": {
        "id": "j6DuEMxOmAwc"
      }
    },
    {
      "cell_type": "code",
      "source": [
        "from tensorflow.keras.models import Sequential\n",
        "from tensorflow.keras.layers import Dense"
      ],
      "metadata": {
        "id": "KGaG2buYmFjj"
      },
      "execution_count": null,
      "outputs": []
    },
    {
      "cell_type": "markdown",
      "source": [
        "- 한번 생각해보자 우리가 예전에 어떻게 했는지.\n",
        "\n",
        "이진분류면 input 들어갈때 나의 노드의 개수를 이야기하고 input dim 을 줬지 .\n",
        "그러니 노드는 약 10개, input_dim=4, relu\n",
        "\n",
        "그러나 클래스 0,1,2 아이리스 다중분류에서는 활성화 함수로 softmax\n",
        "loss함수로 categorical _ crossenrtropy \n",
        "\n",
        "새롭게 알게된것 아웃풋 노드 3개, sotfmax, loss 함수 카테고리컬 크로스엔트로피"
      ],
      "metadata": {
        "id": "0Hmmy1zOmOS9"
      }
    },
    {
      "cell_type": "code",
      "source": [
        "model = Sequential([\n",
        "    Dense(16, input_dim=4, activation='relu'),  # Hidden layer\n",
        "    Dense(3, activation='softmax')              # Output layer\n",
        "])\n",
        "model.summary()\n",
        "# 파라미터 80개 밖에 없어 "
      ],
      "metadata": {
        "id": "lWie3j0omwiu",
        "colab": {
          "base_uri": "https://localhost:8080/"
        },
        "outputId": "04d0a4a6-84fd-4f9a-ba80-eb9304892b74"
      },
      "execution_count": null,
      "outputs": [
        {
          "output_type": "stream",
          "name": "stdout",
          "text": [
            "Model: \"sequential_1\"\n",
            "_________________________________________________________________\n",
            " Layer (type)                Output Shape              Param #   \n",
            "=================================================================\n",
            " dense_2 (Dense)             (None, 16)                80        \n",
            "                                                                 \n",
            " dense_3 (Dense)             (None, 3)                 51        \n",
            "                                                                 \n",
            "=================================================================\n",
            "Total params: 131\n",
            "Trainable params: 131\n",
            "Non-trainable params: 0\n",
            "_________________________________________________________________\n"
          ]
        }
      ]
    },
    {
      "cell_type": "code",
      "source": [
        "# 실행환견설정 .compile\n",
        "model.compile(\n",
        "    optimizer='adam',\n",
        "    loss='categorical_crossentropy',\n",
        "    metrics=['accuracy']\n",
        ")"
      ],
      "metadata": {
        "id": "nNUuFrx1qyjD"
      },
      "execution_count": null,
      "outputs": []
    },
    {
      "cell_type": "code",
      "source": [
        "# his = model.fit(\n",
        "#     X_train, Y_train, validation_split=0.2, epochs=200, batch_size=50, verbose=0\n",
        "# )\n",
        "\n",
        "his = model.fit(\n",
        "    X_train, Y_train, validation_split=0.2,\n",
        "    epochs=200, batch_size=50, verbose=0\n",
        ")"
      ],
      "metadata": {
        "id": "oNG5KMwwrLch"
      },
      "execution_count": null,
      "outputs": []
    },
    {
      "cell_type": "code",
      "source": [
        "model.evaluate(X_test, Y_test)"
      ],
      "metadata": {
        "colab": {
          "base_uri": "https://localhost:8080/"
        },
        "id": "UZs8IWwFrwfE",
        "outputId": "bc071d99-17e7-45af-8b36-ecc7963c87f4"
      },
      "execution_count": null,
      "outputs": [
        {
          "output_type": "stream",
          "name": "stdout",
          "text": [
            "1/1 [==============================] - 0s 17ms/step - loss: 0.3101 - accuracy: 0.8667\n"
          ]
        },
        {
          "output_type": "execute_result",
          "data": {
            "text/plain": [
              "[0.31006133556365967, 0.8666666746139526]"
            ]
          },
          "metadata": {},
          "execution_count": 18
        }
      ]
    },
    {
      "cell_type": "markdown",
      "source": [
        "- 모델 저장 / 로드"
      ],
      "metadata": {
        "id": "JEaAXqHwshi2"
      }
    },
    {
      "cell_type": "code",
      "source": [
        "#\n",
        "# 코렙 어떻게 생겨먹었는지 \n",
        "# !mkdir model"
      ],
      "metadata": {
        "id": "41VVrxLlsuGh"
      },
      "execution_count": null,
      "outputs": []
    },
    {
      "cell_type": "code",
      "source": [
        "model.save('model/iris.h5')"
      ],
      "metadata": {
        "id": "L-hv9pixsksv"
      },
      "execution_count": null,
      "outputs": []
    },
    {
      "cell_type": "code",
      "source": [
        "# \n",
        "from tensorflow.keras.models import load_model\n",
        "my_model = load_model('model/iris.h5')"
      ],
      "metadata": {
        "id": "P7kZ4LdYtljo"
      },
      "execution_count": null,
      "outputs": []
    },
    {
      "cell_type": "code",
      "source": [
        "my_model.evaluate(X_test, Y_test)"
      ],
      "metadata": {
        "colab": {
          "base_uri": "https://localhost:8080/"
        },
        "id": "ZrigjoZft9rW",
        "outputId": "b8b7e1fb-bf87-46ee-82b6-0906db3e6dc6"
      },
      "execution_count": null,
      "outputs": [
        {
          "output_type": "stream",
          "name": "stdout",
          "text": [
            "1/1 [==============================] - 0s 123ms/step - loss: 0.3101 - accuracy: 0.8667\n"
          ]
        },
        {
          "output_type": "execute_result",
          "data": {
            "text/plain": [
              "[0.31006133556365967, 0.8666666746139526]"
            ]
          },
          "metadata": {},
          "execution_count": 26
        }
      ]
    },
    {
      "cell_type": "markdown",
      "source": [
        "- 학습과정 시각화"
      ],
      "metadata": {
        "id": "KMHGgO1NuxqR"
      }
    },
    {
      "cell_type": "code",
      "source": [
        "import matplotlib.pyplot as plt"
      ],
      "metadata": {
        "id": "rvamN3H2uP7d"
      },
      "execution_count": null,
      "outputs": []
    },
    {
      "cell_type": "code",
      "source": [
        "y_acc = his.history['accuracy']\n",
        "y_vloss = his.history['val_loss']\n",
        "xs = np.arange(1, len(y_acc)+1)"
      ],
      "metadata": {
        "id": "354xn91DvAnq"
      },
      "execution_count": null,
      "outputs": []
    },
    {
      "cell_type": "code",
      "source": [
        "plt.figure(figsize=(12,8))\n",
        "plt.plot(xs, y_acc, ms=5, label='train accuracy')\n",
        "plt.plot(xs, y_vloss, ms=5, label='validation loss')\n",
        "plt.legend()\n",
        "plt.grid()\n",
        "plt.xlabel('Epoch')\n",
        "plt.show()"
      ],
      "metadata": {
        "colab": {
          "base_uri": "https://localhost:8080/",
          "height": 497
        },
        "id": "BvmVVHi9vSD3",
        "outputId": "7b47d609-8c5a-4ad1-ec36-439b5b926814"
      },
      "execution_count": null,
      "outputs": [
        {
          "output_type": "display_data",
          "data": {
            "image/png": "[encoded data removed]",
            "text/plain": [
              "<Figure size 864x576 with 1 Axes>"
            ]
          },
          "metadata": {
            "needs_background": "light"
          }
        }
      ]
    },
    {
      "cell_type": "code",
      "source": [
        "# val_loss 모양 보니 좀더 학습해도 좋을것 같다. 바닥찍고 올라가는 모양"
      ],
      "metadata": {
        "id": "XaIZAA8HvuCp"
      },
      "execution_count": null,
      "outputs": []
    },
    {
      "cell_type": "markdown",
      "source": [
        "- Epoch 횟수를 더 늘려서 학습을 해보자"
      ],
      "metadata": {
        "id": "P6NFeImcwaBK"
      }
    },
    {
      "cell_type": "code",
      "source": [
        "# del model"
      ],
      "metadata": {
        "id": "Rdin3lECzDkI"
      },
      "execution_count": null,
      "outputs": []
    },
    {
      "cell_type": "code",
      "source": [
        "# del model2"
      ],
      "metadata": {
        "id": "WnG4Zxqex_Up"
      },
      "execution_count": null,
      "outputs": []
    },
    {
      "cell_type": "code",
      "source": [
        "#model2\n",
        "model2 = Sequential([\n",
        "    Dense(16, input_dim=4, activation='relu'),  # Hidden layer\n",
        "    Dense(3, activation='softmax')              # Output layer\n",
        "])\n",
        "# model2.summary()"
      ],
      "metadata": {
        "id": "gXJXKgxGwdoG"
      },
      "execution_count": null,
      "outputs": []
    },
    {
      "cell_type": "code",
      "source": [
        "model2.compile(\n",
        "    optimizer='adam', loss='categorical_crossentropy', metrics=['accuracy']\n",
        ")"
      ],
      "metadata": {
        "id": "tc54Kznewmsj"
      },
      "execution_count": null,
      "outputs": []
    },
    {
      "cell_type": "code",
      "source": [
        "his2 = model2.fit(\n",
        "    X_train, Y_train, validation_split=0.2, epochs=1000, batch_size=50, verbose=0\n",
        ")"
      ],
      "metadata": {
        "id": "ad-ZYKozw5Pv"
      },
      "execution_count": null,
      "outputs": []
    },
    {
      "cell_type": "code",
      "source": [
        "model2.evaluate(X_test, Y_test)"
      ],
      "metadata": {
        "colab": {
          "base_uri": "https://localhost:8080/"
        },
        "id": "dNdO4LCNxUho",
        "outputId": "e7de552d-fcf5-41cd-eb39-0086e806deb1"
      },
      "execution_count": null,
      "outputs": [
        {
          "output_type": "stream",
          "name": "stdout",
          "text": [
            "1/1 [==============================] - 0s 19ms/step - loss: 0.1260 - accuracy: 0.9000\n"
          ]
        },
        {
          "output_type": "execute_result",
          "data": {
            "text/plain": [
              "[0.12595099210739136, 0.8999999761581421]"
            ]
          },
          "metadata": {},
          "execution_count": 56
        }
      ]
    },
    {
      "cell_type": "code",
      "source": [
        "y_acc = his2.history['accuracy']\n",
        "y_vloss = his2.history['val_loss']\n",
        "xs = np.arange(1, len(y_acc)+1)"
      ],
      "metadata": {
        "id": "cCb_X3i1xaWQ"
      },
      "execution_count": null,
      "outputs": []
    },
    {
      "cell_type": "code",
      "source": [
        "plt.figure(figsize=(12,8))\n",
        "plt.plot(xs, y_acc, ms=5, label='train accuracy')\n",
        "plt.plot(xs, y_vloss, ms=5, label='validation loss')\n",
        "plt.legend()\n",
        "plt.grid()\n",
        "plt.xlabel('Epoch')\n",
        "plt.show()"
      ],
      "metadata": {
        "colab": {
          "base_uri": "https://localhost:8080/",
          "height": 497
        },
        "id": "EzEoozvlx1Dp",
        "outputId": "d2c0fe23-fee7-4f3b-ac52-3e599ce25528"
      },
      "execution_count": null,
      "outputs": [
        {
          "output_type": "display_data",
          "data": {
            "image/png": "[encoded data removed]",
            "text/plain": [
              "<Figure size 864x576 with 1 Axes>"
            ]
          },
          "metadata": {
            "needs_background": "light"
          }
        }
      ]
    },
    {
      "cell_type": "code",
      "source": [
        ""
      ],
      "metadata": {
        "id": "ixE03sIix9IR"
      },
      "execution_count": null,
      "outputs": []
    }
  ]
}