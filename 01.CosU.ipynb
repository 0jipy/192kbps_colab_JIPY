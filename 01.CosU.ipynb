{
 "cells": [
  {
   "cell_type": "markdown",
   "metadata": {},
   "source": [
    "### 숨기기 용 앞머리"
   ]
  },
  {
   "cell_type": "code",
   "execution_count": 158,
   "metadata": {},
   "outputs": [],
   "source": [
    "import numpy as np\n",
    "import pandas as pd\n",
    "import warnings\n",
    "warnings.filterwarnings('ignore')"
   ]
  },
  {
   "cell_type": "code",
   "execution_count": 27,
   "metadata": {},
   "outputs": [],
   "source": [
    "# from surprise import Dataset\n",
    "# data = Dataset.load_builtin('ml-100k', prompt=False)\n",
    "# df = pd.DataFrame(data.raw_ratings, columns=['user-id', 'movie-id', 'rating', 'timestamp'])\n",
    "# df.head()"
   ]
  },
  {
   "cell_type": "code",
   "execution_count": 28,
   "metadata": {},
   "outputs": [
    {
     "data": {
      "text/html": [
       "<div>\n",
       "<style scoped>\n",
       "    .dataframe tbody tr th:only-of-type {\n",
       "        vertical-align: middle;\n",
       "    }\n",
       "\n",
       "    .dataframe tbody tr th {\n",
       "        vertical-align: top;\n",
       "    }\n",
       "\n",
       "    .dataframe thead th {\n",
       "        text-align: right;\n",
       "    }\n",
       "</style>\n",
       "<table border=\"1\" class=\"dataframe\">\n",
       "  <thead>\n",
       "    <tr style=\"text-align: right;\">\n",
       "      <th></th>\n",
       "      <th>Unnamed: 0</th>\n",
       "      <th>제목</th>\n",
       "      <th>개봉일</th>\n",
       "      <th>평점</th>\n",
       "      <th>장르</th>\n",
       "      <th>재생시간</th>\n",
       "      <th>감독</th>\n",
       "      <th>출연진</th>\n",
       "      <th>시놉시스</th>\n",
       "    </tr>\n",
       "  </thead>\n",
       "  <tbody>\n",
       "    <tr>\n",
       "      <th>0</th>\n",
       "      <td>0</td>\n",
       "      <td>반지의 제왕: 반지 원정대</td>\n",
       "      <td>(2001)</td>\n",
       "      <td>95%  8.9 (1m)</td>\n",
       "      <td>판타지 , 드라마 , 액션</td>\n",
       "      <td>2시간 59분</td>\n",
       "      <td>Peter Jackson</td>\n",
       "      <td>Elijah Wood,Ian McKellen,Liv Tyler,Viggo Morte...</td>\n",
       "      <td>호빗이라 불리우는 난장이 종족 중의 한 명인 프로도는 자신의 삼촌에게서 우연히 절대...</td>\n",
       "    </tr>\n",
       "    <tr>\n",
       "      <th>1</th>\n",
       "      <td>1</td>\n",
       "      <td>남색대문</td>\n",
       "      <td>(2002)</td>\n",
       "      <td>79%  7.3 (3k)</td>\n",
       "      <td>드라마 , 로맨스 , Made in Europe</td>\n",
       "      <td>1시간 25분</td>\n",
       "      <td>Yee Chin-Yen</td>\n",
       "      <td>Gwei Lun-mei,Chen Bolin,Liang Yolin,Chau Ching...</td>\n",
       "      <td>고등학생인 커로우와 위에전은 자매처럼 지내는 단짝 친구이다. 위에전은 수영부의 장스...</td>\n",
       "    </tr>\n",
       "  </tbody>\n",
       "</table>\n",
       "</div>"
      ],
      "text/plain": [
       "   Unnamed: 0              제목     개봉일              평점  \\\n",
       "0           0  반지의 제왕: 반지 원정대  (2001)   95%  8.9 (1m)   \n",
       "1           1            남색대문  (2002)   79%  7.3 (3k)   \n",
       "\n",
       "                           장르     재생시간              감독  \\\n",
       "0              판타지 , 드라마 , 액션  2시간 59분   Peter Jackson   \n",
       "1  드라마 , 로맨스 , Made in Europe  1시간 25분    Yee Chin-Yen   \n",
       "\n",
       "                                                 출연진  \\\n",
       "0  Elijah Wood,Ian McKellen,Liv Tyler,Viggo Morte...   \n",
       "1  Gwei Lun-mei,Chen Bolin,Liang Yolin,Chau Ching...   \n",
       "\n",
       "                                                시놉시스  \n",
       "0  호빗이라 불리우는 난장이 종족 중의 한 명인 프로도는 자신의 삼촌에게서 우연히 절대...  \n",
       "1  고등학생인 커로우와 위에전은 자매처럼 지내는 단짝 친구이다. 위에전은 수영부의 장스...  "
      ]
     },
     "execution_count": 28,
     "metadata": {},
     "output_type": "execute_result"
    }
   ],
   "source": [
    "a = pd.read_csv(\"C:/Users/jlune/handson-Code-master/handson-Code-master/Project/data/test_wavve1000.csv\")\n",
    "a.head(2)"
   ]
  },
  {
   "cell_type": "code",
   "execution_count": 29,
   "metadata": {},
   "outputs": [
    {
     "data": {
      "text/html": [
       "<div>\n",
       "<style scoped>\n",
       "    .dataframe tbody tr th:only-of-type {\n",
       "        vertical-align: middle;\n",
       "    }\n",
       "\n",
       "    .dataframe tbody tr th {\n",
       "        vertical-align: top;\n",
       "    }\n",
       "\n",
       "    .dataframe thead th {\n",
       "        text-align: right;\n",
       "    }\n",
       "</style>\n",
       "<table border=\"1\" class=\"dataframe\">\n",
       "  <thead>\n",
       "    <tr style=\"text-align: right;\">\n",
       "      <th></th>\n",
       "      <th>Unnamed: 0</th>\n",
       "      <th>제목</th>\n",
       "      <th>개봉일</th>\n",
       "      <th>평점</th>\n",
       "      <th>장르</th>\n",
       "      <th>재생시간</th>\n",
       "      <th>감독</th>\n",
       "      <th>출연진</th>\n",
       "      <th>시놉시스</th>\n",
       "    </tr>\n",
       "  </thead>\n",
       "  <tbody>\n",
       "    <tr>\n",
       "      <th>0</th>\n",
       "      <td>0</td>\n",
       "      <td>반지의 제왕: 반지 원정대</td>\n",
       "      <td>(2001)</td>\n",
       "      <td>95%  8.9 (1m)</td>\n",
       "      <td>판타지 , 드라마 , 액션</td>\n",
       "      <td>2시간 59분</td>\n",
       "      <td>Peter Jackson</td>\n",
       "      <td>Elijah Wood,Ian McKellen,Liv Tyler,Viggo Morte...</td>\n",
       "      <td>호빗이라 불리우는 난장이 종족 중의 한 명인 프로도는 자신의 삼촌에게서 우연히 절대...</td>\n",
       "    </tr>\n",
       "    <tr>\n",
       "      <th>1</th>\n",
       "      <td>1</td>\n",
       "      <td>남색대문</td>\n",
       "      <td>(2002)</td>\n",
       "      <td>79%  7.3 (3k)</td>\n",
       "      <td>드라마 , 로맨스 , Made in Europe</td>\n",
       "      <td>1시간 25분</td>\n",
       "      <td>Yee Chin-Yen</td>\n",
       "      <td>Gwei Lun-mei,Chen Bolin,Liang Yolin,Chau Ching...</td>\n",
       "      <td>고등학생인 커로우와 위에전은 자매처럼 지내는 단짝 친구이다. 위에전은 수영부의 장스...</td>\n",
       "    </tr>\n",
       "  </tbody>\n",
       "</table>\n",
       "</div>"
      ],
      "text/plain": [
       "   Unnamed: 0              제목     개봉일              평점  \\\n",
       "0           0  반지의 제왕: 반지 원정대  (2001)   95%  8.9 (1m)   \n",
       "1           1            남색대문  (2002)   79%  7.3 (3k)   \n",
       "\n",
       "                           장르     재생시간              감독  \\\n",
       "0              판타지 , 드라마 , 액션  2시간 59분   Peter Jackson   \n",
       "1  드라마 , 로맨스 , Made in Europe  1시간 25분    Yee Chin-Yen   \n",
       "\n",
       "                                                 출연진  \\\n",
       "0  Elijah Wood,Ian McKellen,Liv Tyler,Viggo Morte...   \n",
       "1  Gwei Lun-mei,Chen Bolin,Liang Yolin,Chau Ching...   \n",
       "\n",
       "                                                시놉시스  \n",
       "0  호빗이라 불리우는 난장이 종족 중의 한 명인 프로도는 자신의 삼촌에게서 우연히 절대...  \n",
       "1  고등학생인 커로우와 위에전은 자매처럼 지내는 단짝 친구이다. 위에전은 수영부의 장스...  "
      ]
     },
     "execution_count": 29,
     "metadata": {},
     "output_type": "execute_result"
    }
   ],
   "source": [
    "b = pd.read_excel(\"C:/Users/jlune/handson-Code-master/handson-Code-master/Project/data/test_wavve1000.xlsx\")\n",
    "b.head(2)"
   ]
  },
  {
   "cell_type": "code",
   "execution_count": 30,
   "metadata": {},
   "outputs": [
    {
     "data": {
      "text/html": [
       "<div>\n",
       "<style scoped>\n",
       "    .dataframe tbody tr th:only-of-type {\n",
       "        vertical-align: middle;\n",
       "    }\n",
       "\n",
       "    .dataframe tbody tr th {\n",
       "        vertical-align: top;\n",
       "    }\n",
       "\n",
       "    .dataframe thead th {\n",
       "        text-align: right;\n",
       "    }\n",
       "</style>\n",
       "<table border=\"1\" class=\"dataframe\">\n",
       "  <thead>\n",
       "    <tr style=\"text-align: right;\">\n",
       "      <th></th>\n",
       "      <th>제목</th>\n",
       "      <th>개봉일</th>\n",
       "      <th>평점</th>\n",
       "      <th>장르</th>\n",
       "      <th>재생시간</th>\n",
       "      <th>감독</th>\n",
       "      <th>출연진</th>\n",
       "      <th>시놉시스</th>\n",
       "    </tr>\n",
       "  </thead>\n",
       "  <tbody>\n",
       "    <tr>\n",
       "      <th>0</th>\n",
       "      <td>반지의 제왕: 반지 원정대</td>\n",
       "      <td>(2001)</td>\n",
       "      <td>95%  8.9 (1m)</td>\n",
       "      <td>판타지 , 드라마 , 액션</td>\n",
       "      <td>2시간 59분</td>\n",
       "      <td>Peter Jackson</td>\n",
       "      <td>Elijah Wood,Ian McKellen,Liv Tyler,Viggo Morte...</td>\n",
       "      <td>호빗이라 불리우는 난장이 종족 중의 한 명인 프로도는 자신의 삼촌에게서 우연히 절대...</td>\n",
       "    </tr>\n",
       "    <tr>\n",
       "      <th>1</th>\n",
       "      <td>남색대문</td>\n",
       "      <td>(2002)</td>\n",
       "      <td>79%  7.3 (3k)</td>\n",
       "      <td>드라마 , 로맨스 , Made in Europe</td>\n",
       "      <td>1시간 25분</td>\n",
       "      <td>Yee Chin-Yen</td>\n",
       "      <td>Gwei Lun-mei,Chen Bolin,Liang Yolin,Chau Ching...</td>\n",
       "      <td>고등학생인 커로우와 위에전은 자매처럼 지내는 단짝 친구이다. 위에전은 수영부의 장스...</td>\n",
       "    </tr>\n",
       "    <tr>\n",
       "      <th>2</th>\n",
       "      <td>멀홀랜드 드라이브</td>\n",
       "      <td>(2001)</td>\n",
       "      <td>86%  7.9 (344k)</td>\n",
       "      <td>스릴러 , 드라마 , Made in Europe</td>\n",
       "      <td>2시간 27분</td>\n",
       "      <td>David Lynch</td>\n",
       "      <td>Naomi Watts,Laura Harring,Justin Theroux,Ann M...</td>\n",
       "      <td>헐리웃 스타의 꿈을 안고 LA에 온 베티(나오미 왓츠)는 멀홀랜드 드라이브에서 일어...</td>\n",
       "    </tr>\n",
       "    <tr>\n",
       "      <th>3</th>\n",
       "      <td>해리 포터와 마법사의 돌</td>\n",
       "      <td>(2001)</td>\n",
       "      <td>87%  7.6 (742k)</td>\n",
       "      <td>판타지 , 액션 , 가족</td>\n",
       "      <td>2시간 32분</td>\n",
       "      <td>Chris Columbus</td>\n",
       "      <td>Daniel Radcliffe,Rupert Grint,Emma Watson,Rich...</td>\n",
       "      <td>해리 포터는 위압적인 버논 숙부와 냉담한 이모 페투니아, 욕심 많고 버릇없는 사촌 ...</td>\n",
       "    </tr>\n",
       "    <tr>\n",
       "      <th>4</th>\n",
       "      <td>펄프 픽션</td>\n",
       "      <td>(1994)</td>\n",
       "      <td>95%  8.9 (1m)</td>\n",
       "      <td>스릴러 , 범죄 , 드라마</td>\n",
       "      <td>2시간 34분</td>\n",
       "      <td>Quentin Tarantino</td>\n",
       "      <td>John Travolta,Samuel L. Jackson,Uma Thurman,Br...</td>\n",
       "      <td>펌프킨와 허니 버니가 레스토랑에서 강도 행각을 벌이기 시작한다. 빈센트와 그 동료 ...</td>\n",
       "    </tr>\n",
       "  </tbody>\n",
       "</table>\n",
       "</div>"
      ],
      "text/plain": [
       "               제목     개봉일                평점                          장르  \\\n",
       "0  반지의 제왕: 반지 원정대  (2001)     95%  8.9 (1m)              판타지 , 드라마 , 액션   \n",
       "1            남색대문  (2002)     79%  7.3 (3k)  드라마 , 로맨스 , Made in Europe   \n",
       "2       멀홀랜드 드라이브  (2001)   86%  7.9 (344k)  스릴러 , 드라마 , Made in Europe   \n",
       "3   해리 포터와 마법사의 돌  (2001)   87%  7.6 (742k)               판타지 , 액션 , 가족   \n",
       "4           펄프 픽션  (1994)     95%  8.9 (1m)              스릴러 , 범죄 , 드라마   \n",
       "\n",
       "      재생시간                  감독  \\\n",
       "0  2시간 59분       Peter Jackson   \n",
       "1  1시간 25분        Yee Chin-Yen   \n",
       "2  2시간 27분         David Lynch   \n",
       "3  2시간 32분      Chris Columbus   \n",
       "4  2시간 34분   Quentin Tarantino   \n",
       "\n",
       "                                                 출연진  \\\n",
       "0  Elijah Wood,Ian McKellen,Liv Tyler,Viggo Morte...   \n",
       "1  Gwei Lun-mei,Chen Bolin,Liang Yolin,Chau Ching...   \n",
       "2  Naomi Watts,Laura Harring,Justin Theroux,Ann M...   \n",
       "3  Daniel Radcliffe,Rupert Grint,Emma Watson,Rich...   \n",
       "4  John Travolta,Samuel L. Jackson,Uma Thurman,Br...   \n",
       "\n",
       "                                                시놉시스  \n",
       "0  호빗이라 불리우는 난장이 종족 중의 한 명인 프로도는 자신의 삼촌에게서 우연히 절대...  \n",
       "1  고등학생인 커로우와 위에전은 자매처럼 지내는 단짝 친구이다. 위에전은 수영부의 장스...  \n",
       "2  헐리웃 스타의 꿈을 안고 LA에 온 베티(나오미 왓츠)는 멀홀랜드 드라이브에서 일어...  \n",
       "3  해리 포터는 위압적인 버논 숙부와 냉담한 이모 페투니아, 욕심 많고 버릇없는 사촌 ...  \n",
       "4  펌프킨와 허니 버니가 레스토랑에서 강도 행각을 벌이기 시작한다. 빈센트와 그 동료 ...  "
      ]
     },
     "execution_count": 30,
     "metadata": {},
     "output_type": "execute_result"
    }
   ],
   "source": [
    "c = pd.read_excel(\"C:/Users/jlune/handson-Code-master/handson-Code-master/Project/data/test_wavve1000.xlsx\",\n",
    "na_values='NaN', index_col='Unnamed: 0')\n",
    "c.head()\n",
    "\n",
    "# index_col = 'id', \n",
    "#                               na_values = 'NaN', \n",
    "#                               thousands = ',', \n",
    "#                               nrows = 10, \n",
    "#                               comment = '#')\n",
    "\n",
    "# 출처: https://rfriend.tistory.com/464 [R, Python 분석과 프로그래밍의 친구 (by R Friend)]"
   ]
  },
  {
   "cell_type": "code",
   "execution_count": 31,
   "metadata": {},
   "outputs": [
    {
     "data": {
      "text/plain": [
       "제목      0\n",
       "개봉일     0\n",
       "평점      0\n",
       "장르      0\n",
       "재생시간    0\n",
       "감독      0\n",
       "출연진     4\n",
       "시놉시스    0\n",
       "dtype: int64"
      ]
     },
     "execution_count": 31,
     "metadata": {},
     "output_type": "execute_result"
    }
   ],
   "source": [
    "c.isna().sum()\n",
    "# 출연진이 없는 영화가 4개 있구만유."
   ]
  },
  {
   "cell_type": "code",
   "execution_count": 32,
   "metadata": {},
   "outputs": [
    {
     "data": {
      "text/plain": [
       "Int64Index([  0,   1,   2,   3,   4,   5,   6,   7,   8,   9,\n",
       "            ...\n",
       "            990, 991, 992, 993, 994, 995, 996, 997, 998, 999],\n",
       "           dtype='int64', length=1000)"
      ]
     },
     "execution_count": 32,
     "metadata": {},
     "output_type": "execute_result"
    }
   ],
   "source": [
    "c.index"
   ]
  },
  {
   "cell_type": "code",
   "execution_count": 33,
   "metadata": {},
   "outputs": [
    {
     "data": {
      "text/plain": [
       "제목      object\n",
       "개봉일     object\n",
       "평점      object\n",
       "장르      object\n",
       "재생시간    object\n",
       "감독      object\n",
       "출연진     object\n",
       "시놉시스    object\n",
       "dtype: object"
      ]
     },
     "execution_count": 33,
     "metadata": {},
     "output_type": "execute_result"
    }
   ],
   "source": [
    "c.dtypes\n",
    "# type 은 일단 모두 object. 추후 수치화 필요 - int. 문자열은 그냥 object로 쓰는게 편해보여."
   ]
  },
  {
   "cell_type": "code",
   "execution_count": 34,
   "metadata": {},
   "outputs": [
    {
     "data": {
      "text/plain": [
       "제목      object\n",
       "개봉일     object\n",
       "평점      object\n",
       "장르      object\n",
       "재생시간    object\n",
       "감독      object\n",
       "출연진     object\n",
       "시놉시스    object\n",
       "dtype: object"
      ]
     },
     "execution_count": 34,
     "metadata": {},
     "output_type": "execute_result"
    }
   ],
   "source": [
    "# check index\n",
    "c.index\n",
    "\n",
    "# check data type\n",
    "c.dtypes\n",
    "\n",
    "# 출처: https://rfriend.tistory.com/464 [R, Python 분석과 프로그래밍의 친구 (by R Friend)]"
   ]
  },
  {
   "cell_type": "code",
   "execution_count": 35,
   "metadata": {},
   "outputs": [],
   "source": [
    "df = c.copy()"
   ]
  },
  {
   "cell_type": "code",
   "execution_count": 36,
   "metadata": {},
   "outputs": [
    {
     "data": {
      "text/plain": [
       "(1000, 8)"
      ]
     },
     "execution_count": 36,
     "metadata": {},
     "output_type": "execute_result"
    }
   ],
   "source": [
    "df.shape"
   ]
  },
  {
   "cell_type": "markdown",
   "metadata": {},
   "source": [
    "- Adjacent Matrix를 생성 - 이웃행렬\n",
    "    - 행은 사용자\n",
    "    - 열은 영화\n",
    "    - 내용은 평점"
   ]
  },
  {
   "cell_type": "code",
   "execution_count": 37,
   "metadata": {},
   "outputs": [],
   "source": [
    "# 시놉시스를 벡터로 표현하고 가야하나..? 한글영어 고려아직 못했는뎅.\n"
   ]
  },
  {
   "cell_type": "code",
   "execution_count": 38,
   "metadata": {},
   "outputs": [
    {
     "data": {
      "image/png": "[encoded data removed]",
      "text/plain": [
       "<PIL.JpegImagePlugin.JpegImageFile image mode=RGB size=467x473 at 0x1A1EADBFAF0>"
      ]
     },
     "execution_count": 38,
     "metadata": {},
     "output_type": "execute_result"
    }
   ],
   "source": [
    "# !pip install pillow\n",
    "from PIL import Image\n",
    " \n",
    "image = Image.open(\"C:/Users/jlune/Desktop/화면 캡처 2022-03-06 215837.jpg\")\n",
    " \n",
    "image"
   ]
  },
  {
   "cell_type": "code",
   "execution_count": null,
   "metadata": {},
   "outputs": [],
   "source": [
    "# dir(str)\n",
    "# dir(pd)"
   ]
  },
  {
   "cell_type": "code",
   "execution_count": null,
   "metadata": {},
   "outputs": [],
   "source": [
    "df[df['장르'].str.contains('액션')].count(axis=0) ## df[조건식]"
   ]
  },
  {
   "cell_type": "code",
   "execution_count": 60,
   "metadata": {},
   "outputs": [
    {
     "data": {
      "text/plain": [
       "323"
      ]
     },
     "execution_count": 60,
     "metadata": {},
     "output_type": "execute_result"
    }
   ],
   "source": [
    "len(df[df['장르'].str.contains('액션')])"
   ]
  },
  {
   "cell_type": "code",
   "execution_count": 80,
   "metadata": {},
   "outputs": [
    {
     "name": "stdout",
     "output_type": "stream",
     "text": [
      "1\n",
      "2\n",
      "3\n",
      "4\n",
      "5\n",
      "6\n",
      "7\n",
      "8\n",
      "9\n",
      "10\n",
      "11\n",
      "12\n",
      "13\n",
      "14\n",
      "15\n",
      "16\n",
      "17\n",
      "18\n",
      "19\n"
     ]
    }
   ],
   "source": [
    "idx = {'1':'액션', '2':'애니메이션', '3':'코미디', '4':'범죄',\n",
    "       '5':'다큐멘터리', '6':'드라마', '7':'판타지', '8':'역사',\n",
    "       '9':'공포', '10':'가족', '11':'음악', '12':'스릴러',\n",
    "       '13':'로맨스', '14':'SF', '15':'스포츠', '16':'전쟁',\n",
    "       '17':'서부', '18':'Reality TV', '19':'Made in Europe'}\n",
    "\n",
    "# idx values 확인하는 코드.       \n",
    "for i in idx:\n",
    "       print(i)\n",
    "#     print(idx[i])"
   ]
  },
  {
   "cell_type": "code",
   "execution_count": 111,
   "metadata": {},
   "outputs": [
    {
     "name": "stdout",
     "output_type": "stream",
     "text": [
      "323\n"
     ]
    }
   ],
   "source": [
    "idx[\"1\"]\n",
    "gene = len(df[df['장르'].str.contains(idx[\"1\"])])\n",
    "print(gene)"
   ]
  },
  {
   "cell_type": "code",
   "execution_count": 127,
   "metadata": {},
   "outputs": [
    {
     "data": {
      "text/plain": [
       "([323,\n",
       "  41,\n",
       "  329,\n",
       "  223,\n",
       "  16,\n",
       "  568,\n",
       "  143,\n",
       "  45,\n",
       "  131,\n",
       "  92,\n",
       "  31,\n",
       "  375,\n",
       "  272,\n",
       "  152,\n",
       "  26,\n",
       "  56,\n",
       "  21,\n",
       "  0,\n",
       "  190],\n",
       " 19)"
      ]
     },
     "execution_count": 127,
     "metadata": {},
     "output_type": "execute_result"
    }
   ],
   "source": [
    "s = []\n",
    "for i in idx:\n",
    "    gene = len(df[df['장르'].str.contains(idx[i])])\n",
    "    s.append(gene)\n",
    "    # print(gene)\n",
    "# g1 = len(df[df['장르'].str.contains('액션')])\n",
    "# idx[\"1\"]\n",
    "s, len(s)"
   ]
  },
  {
   "cell_type": "code",
   "execution_count": 129,
   "metadata": {},
   "outputs": [
    {
     "data": {
      "text/html": [
       "<div>\n",
       "<style scoped>\n",
       "    .dataframe tbody tr th:only-of-type {\n",
       "        vertical-align: middle;\n",
       "    }\n",
       "\n",
       "    .dataframe tbody tr th {\n",
       "        vertical-align: top;\n",
       "    }\n",
       "\n",
       "    .dataframe thead th {\n",
       "        text-align: right;\n",
       "    }\n",
       "</style>\n",
       "<table border=\"1\" class=\"dataframe\">\n",
       "  <thead>\n",
       "    <tr style=\"text-align: right;\">\n",
       "      <th></th>\n",
       "      <th>Quantity</th>\n",
       "      <th>FruitName</th>\n",
       "    </tr>\n",
       "  </thead>\n",
       "  <tbody>\n",
       "    <tr>\n",
       "      <th>0</th>\n",
       "      <td>3</td>\n",
       "      <td>apple</td>\n",
       "    </tr>\n",
       "    <tr>\n",
       "      <th>1</th>\n",
       "      <td>2</td>\n",
       "      <td>banana</td>\n",
       "    </tr>\n",
       "    <tr>\n",
       "      <th>2</th>\n",
       "      <td>6</td>\n",
       "      <td>mango</td>\n",
       "    </tr>\n",
       "    <tr>\n",
       "      <th>3</th>\n",
       "      <td>4</td>\n",
       "      <td>apricot</td>\n",
       "    </tr>\n",
       "    <tr>\n",
       "      <th>4</th>\n",
       "      <td>1</td>\n",
       "      <td>kiwi</td>\n",
       "    </tr>\n",
       "    <tr>\n",
       "      <th>5</th>\n",
       "      <td>8</td>\n",
       "      <td>orange</td>\n",
       "    </tr>\n",
       "  </tbody>\n",
       "</table>\n",
       "</div>"
      ],
      "text/plain": [
       "   Quantity FruitName\n",
       "0         3     apple\n",
       "1         2    banana\n",
       "2         6     mango\n",
       "3         4   apricot\n",
       "4         1      kiwi\n",
       "5         8    orange"
      ]
     },
     "execution_count": 129,
     "metadata": {},
     "output_type": "execute_result"
    }
   ],
   "source": [
    "# python 3.x  예시.\n",
    "import pandas as pd\n",
    "\n",
    "fruit_dict = {\n",
    "    3: 'apple',\n",
    "    2: 'banana',\n",
    "    6:'mango',\n",
    "    4:'apricot',\n",
    "    1:'kiwi',\n",
    "    8:'orange'}\n",
    "\n",
    "pd.DataFrame(list(fruit_dict.items()),\n",
    "                   columns=['Quantity', 'FruitName'])"
   ]
  },
  {
   "cell_type": "code",
   "execution_count": 138,
   "metadata": {},
   "outputs": [
    {
     "data": {
      "text/html": [
       "<div>\n",
       "<style scoped>\n",
       "    .dataframe tbody tr th:only-of-type {\n",
       "        vertical-align: middle;\n",
       "    }\n",
       "\n",
       "    .dataframe tbody tr th {\n",
       "        vertical-align: top;\n",
       "    }\n",
       "\n",
       "    .dataframe thead th {\n",
       "        text-align: right;\n",
       "    }\n",
       "</style>\n",
       "<table border=\"1\" class=\"dataframe\">\n",
       "  <thead>\n",
       "    <tr style=\"text-align: right;\">\n",
       "      <th></th>\n",
       "      <th>Category_id</th>\n",
       "      <th>genre</th>\n",
       "    </tr>\n",
       "  </thead>\n",
       "  <tbody>\n",
       "    <tr>\n",
       "      <th>0</th>\n",
       "      <td>1</td>\n",
       "      <td>액션</td>\n",
       "    </tr>\n",
       "    <tr>\n",
       "      <th>1</th>\n",
       "      <td>2</td>\n",
       "      <td>애니메이션</td>\n",
       "    </tr>\n",
       "    <tr>\n",
       "      <th>2</th>\n",
       "      <td>3</td>\n",
       "      <td>코미디</td>\n",
       "    </tr>\n",
       "    <tr>\n",
       "      <th>3</th>\n",
       "      <td>4</td>\n",
       "      <td>범죄</td>\n",
       "    </tr>\n",
       "    <tr>\n",
       "      <th>4</th>\n",
       "      <td>5</td>\n",
       "      <td>다큐멘터리</td>\n",
       "    </tr>\n",
       "    <tr>\n",
       "      <th>5</th>\n",
       "      <td>6</td>\n",
       "      <td>드라마</td>\n",
       "    </tr>\n",
       "    <tr>\n",
       "      <th>6</th>\n",
       "      <td>7</td>\n",
       "      <td>판타지</td>\n",
       "    </tr>\n",
       "    <tr>\n",
       "      <th>7</th>\n",
       "      <td>8</td>\n",
       "      <td>역사</td>\n",
       "    </tr>\n",
       "    <tr>\n",
       "      <th>8</th>\n",
       "      <td>9</td>\n",
       "      <td>공포</td>\n",
       "    </tr>\n",
       "    <tr>\n",
       "      <th>9</th>\n",
       "      <td>10</td>\n",
       "      <td>가족</td>\n",
       "    </tr>\n",
       "    <tr>\n",
       "      <th>10</th>\n",
       "      <td>11</td>\n",
       "      <td>음악</td>\n",
       "    </tr>\n",
       "    <tr>\n",
       "      <th>11</th>\n",
       "      <td>12</td>\n",
       "      <td>스릴러</td>\n",
       "    </tr>\n",
       "    <tr>\n",
       "      <th>12</th>\n",
       "      <td>13</td>\n",
       "      <td>로맨스</td>\n",
       "    </tr>\n",
       "    <tr>\n",
       "      <th>13</th>\n",
       "      <td>14</td>\n",
       "      <td>SF</td>\n",
       "    </tr>\n",
       "    <tr>\n",
       "      <th>14</th>\n",
       "      <td>15</td>\n",
       "      <td>스포츠</td>\n",
       "    </tr>\n",
       "    <tr>\n",
       "      <th>15</th>\n",
       "      <td>16</td>\n",
       "      <td>전쟁</td>\n",
       "    </tr>\n",
       "    <tr>\n",
       "      <th>16</th>\n",
       "      <td>17</td>\n",
       "      <td>서부</td>\n",
       "    </tr>\n",
       "    <tr>\n",
       "      <th>17</th>\n",
       "      <td>18</td>\n",
       "      <td>Reality TV</td>\n",
       "    </tr>\n",
       "    <tr>\n",
       "      <th>18</th>\n",
       "      <td>19</td>\n",
       "      <td>Made in Europe</td>\n",
       "    </tr>\n",
       "  </tbody>\n",
       "</table>\n",
       "</div>"
      ],
      "text/plain": [
       "   Category_id           genre\n",
       "0            1              액션\n",
       "1            2           애니메이션\n",
       "2            3             코미디\n",
       "3            4              범죄\n",
       "4            5           다큐멘터리\n",
       "5            6             드라마\n",
       "6            7             판타지\n",
       "7            8              역사\n",
       "8            9              공포\n",
       "9           10              가족\n",
       "10          11              음악\n",
       "11          12             스릴러\n",
       "12          13             로맨스\n",
       "13          14              SF\n",
       "14          15             스포츠\n",
       "15          16              전쟁\n",
       "16          17              서부\n",
       "17          18      Reality TV\n",
       "18          19  Made in Europe"
      ]
     },
     "execution_count": 138,
     "metadata": {},
     "output_type": "execute_result"
    }
   ],
   "source": [
    "df_genre = pd.DataFrame(list(idx.items()),\n",
    "        columns=['Category_id', 'genre'],\n",
    "        index=None)\n",
    "        # index=list(idx.keys()))\n",
    "df_genre"
   ]
  },
  {
   "cell_type": "code",
   "execution_count": 140,
   "metadata": {},
   "outputs": [
    {
     "data": {
      "text/html": [
       "<div>\n",
       "<style scoped>\n",
       "    .dataframe tbody tr th:only-of-type {\n",
       "        vertical-align: middle;\n",
       "    }\n",
       "\n",
       "    .dataframe tbody tr th {\n",
       "        vertical-align: top;\n",
       "    }\n",
       "\n",
       "    .dataframe thead th {\n",
       "        text-align: right;\n",
       "    }\n",
       "</style>\n",
       "<table border=\"1\" class=\"dataframe\">\n",
       "  <thead>\n",
       "    <tr style=\"text-align: right;\">\n",
       "      <th></th>\n",
       "      <th>Category_id</th>\n",
       "      <th>genre</th>\n",
       "      <th>Count_jenre</th>\n",
       "    </tr>\n",
       "  </thead>\n",
       "  <tbody>\n",
       "    <tr>\n",
       "      <th>0</th>\n",
       "      <td>1</td>\n",
       "      <td>액션</td>\n",
       "      <td>323</td>\n",
       "    </tr>\n",
       "    <tr>\n",
       "      <th>1</th>\n",
       "      <td>2</td>\n",
       "      <td>애니메이션</td>\n",
       "      <td>41</td>\n",
       "    </tr>\n",
       "    <tr>\n",
       "      <th>2</th>\n",
       "      <td>3</td>\n",
       "      <td>코미디</td>\n",
       "      <td>329</td>\n",
       "    </tr>\n",
       "    <tr>\n",
       "      <th>3</th>\n",
       "      <td>4</td>\n",
       "      <td>범죄</td>\n",
       "      <td>223</td>\n",
       "    </tr>\n",
       "    <tr>\n",
       "      <th>4</th>\n",
       "      <td>5</td>\n",
       "      <td>다큐멘터리</td>\n",
       "      <td>16</td>\n",
       "    </tr>\n",
       "    <tr>\n",
       "      <th>5</th>\n",
       "      <td>6</td>\n",
       "      <td>드라마</td>\n",
       "      <td>568</td>\n",
       "    </tr>\n",
       "    <tr>\n",
       "      <th>6</th>\n",
       "      <td>7</td>\n",
       "      <td>판타지</td>\n",
       "      <td>143</td>\n",
       "    </tr>\n",
       "    <tr>\n",
       "      <th>7</th>\n",
       "      <td>8</td>\n",
       "      <td>역사</td>\n",
       "      <td>45</td>\n",
       "    </tr>\n",
       "    <tr>\n",
       "      <th>8</th>\n",
       "      <td>9</td>\n",
       "      <td>공포</td>\n",
       "      <td>131</td>\n",
       "    </tr>\n",
       "    <tr>\n",
       "      <th>9</th>\n",
       "      <td>10</td>\n",
       "      <td>가족</td>\n",
       "      <td>92</td>\n",
       "    </tr>\n",
       "    <tr>\n",
       "      <th>10</th>\n",
       "      <td>11</td>\n",
       "      <td>음악</td>\n",
       "      <td>31</td>\n",
       "    </tr>\n",
       "    <tr>\n",
       "      <th>11</th>\n",
       "      <td>12</td>\n",
       "      <td>스릴러</td>\n",
       "      <td>375</td>\n",
       "    </tr>\n",
       "    <tr>\n",
       "      <th>12</th>\n",
       "      <td>13</td>\n",
       "      <td>로맨스</td>\n",
       "      <td>272</td>\n",
       "    </tr>\n",
       "    <tr>\n",
       "      <th>13</th>\n",
       "      <td>14</td>\n",
       "      <td>SF</td>\n",
       "      <td>152</td>\n",
       "    </tr>\n",
       "    <tr>\n",
       "      <th>14</th>\n",
       "      <td>15</td>\n",
       "      <td>스포츠</td>\n",
       "      <td>26</td>\n",
       "    </tr>\n",
       "    <tr>\n",
       "      <th>15</th>\n",
       "      <td>16</td>\n",
       "      <td>전쟁</td>\n",
       "      <td>56</td>\n",
       "    </tr>\n",
       "    <tr>\n",
       "      <th>16</th>\n",
       "      <td>17</td>\n",
       "      <td>서부</td>\n",
       "      <td>21</td>\n",
       "    </tr>\n",
       "    <tr>\n",
       "      <th>17</th>\n",
       "      <td>18</td>\n",
       "      <td>Reality TV</td>\n",
       "      <td>0</td>\n",
       "    </tr>\n",
       "    <tr>\n",
       "      <th>18</th>\n",
       "      <td>19</td>\n",
       "      <td>Made in Europe</td>\n",
       "      <td>190</td>\n",
       "    </tr>\n",
       "  </tbody>\n",
       "</table>\n",
       "</div>"
      ],
      "text/plain": [
       "   Category_id           genre  Count_jenre\n",
       "0            1              액션          323\n",
       "1            2           애니메이션           41\n",
       "2            3             코미디          329\n",
       "3            4              범죄          223\n",
       "4            5           다큐멘터리           16\n",
       "5            6             드라마          568\n",
       "6            7             판타지          143\n",
       "7            8              역사           45\n",
       "8            9              공포          131\n",
       "9           10              가족           92\n",
       "10          11              음악           31\n",
       "11          12             스릴러          375\n",
       "12          13             로맨스          272\n",
       "13          14              SF          152\n",
       "14          15             스포츠           26\n",
       "15          16              전쟁           56\n",
       "16          17              서부           21\n",
       "17          18      Reality TV            0\n",
       "18          19  Made in Europe          190"
      ]
     },
     "execution_count": 140,
     "metadata": {},
     "output_type": "execute_result"
    }
   ],
   "source": [
    "df_genre['Count_jenre'] = s\n",
    "df_genre"
   ]
  },
  {
   "cell_type": "code",
   "execution_count": 152,
   "metadata": {},
   "outputs": [
    {
     "data": {
      "text/html": [
       "<div>\n",
       "<style scoped>\n",
       "    .dataframe tbody tr th:only-of-type {\n",
       "        vertical-align: middle;\n",
       "    }\n",
       "\n",
       "    .dataframe tbody tr th {\n",
       "        vertical-align: top;\n",
       "    }\n",
       "\n",
       "    .dataframe thead th {\n",
       "        text-align: right;\n",
       "    }\n",
       "</style>\n",
       "<table border=\"1\" class=\"dataframe\">\n",
       "  <thead>\n",
       "    <tr style=\"text-align: right;\">\n",
       "      <th></th>\n",
       "      <th>Category_id</th>\n",
       "      <th>genre</th>\n",
       "      <th>Count_jenre</th>\n",
       "    </tr>\n",
       "  </thead>\n",
       "  <tbody>\n",
       "    <tr>\n",
       "      <th>5</th>\n",
       "      <td>6</td>\n",
       "      <td>드라마</td>\n",
       "      <td>568</td>\n",
       "    </tr>\n",
       "    <tr>\n",
       "      <th>11</th>\n",
       "      <td>12</td>\n",
       "      <td>스릴러</td>\n",
       "      <td>375</td>\n",
       "    </tr>\n",
       "    <tr>\n",
       "      <th>2</th>\n",
       "      <td>3</td>\n",
       "      <td>코미디</td>\n",
       "      <td>329</td>\n",
       "    </tr>\n",
       "    <tr>\n",
       "      <th>0</th>\n",
       "      <td>1</td>\n",
       "      <td>액션</td>\n",
       "      <td>323</td>\n",
       "    </tr>\n",
       "    <tr>\n",
       "      <th>12</th>\n",
       "      <td>13</td>\n",
       "      <td>로맨스</td>\n",
       "      <td>272</td>\n",
       "    </tr>\n",
       "    <tr>\n",
       "      <th>3</th>\n",
       "      <td>4</td>\n",
       "      <td>범죄</td>\n",
       "      <td>223</td>\n",
       "    </tr>\n",
       "    <tr>\n",
       "      <th>18</th>\n",
       "      <td>19</td>\n",
       "      <td>Made in Europe</td>\n",
       "      <td>190</td>\n",
       "    </tr>\n",
       "    <tr>\n",
       "      <th>13</th>\n",
       "      <td>14</td>\n",
       "      <td>SF</td>\n",
       "      <td>152</td>\n",
       "    </tr>\n",
       "    <tr>\n",
       "      <th>6</th>\n",
       "      <td>7</td>\n",
       "      <td>판타지</td>\n",
       "      <td>143</td>\n",
       "    </tr>\n",
       "    <tr>\n",
       "      <th>8</th>\n",
       "      <td>9</td>\n",
       "      <td>공포</td>\n",
       "      <td>131</td>\n",
       "    </tr>\n",
       "    <tr>\n",
       "      <th>9</th>\n",
       "      <td>10</td>\n",
       "      <td>가족</td>\n",
       "      <td>92</td>\n",
       "    </tr>\n",
       "    <tr>\n",
       "      <th>15</th>\n",
       "      <td>16</td>\n",
       "      <td>전쟁</td>\n",
       "      <td>56</td>\n",
       "    </tr>\n",
       "    <tr>\n",
       "      <th>7</th>\n",
       "      <td>8</td>\n",
       "      <td>역사</td>\n",
       "      <td>45</td>\n",
       "    </tr>\n",
       "    <tr>\n",
       "      <th>1</th>\n",
       "      <td>2</td>\n",
       "      <td>애니메이션</td>\n",
       "      <td>41</td>\n",
       "    </tr>\n",
       "    <tr>\n",
       "      <th>10</th>\n",
       "      <td>11</td>\n",
       "      <td>음악</td>\n",
       "      <td>31</td>\n",
       "    </tr>\n",
       "    <tr>\n",
       "      <th>14</th>\n",
       "      <td>15</td>\n",
       "      <td>스포츠</td>\n",
       "      <td>26</td>\n",
       "    </tr>\n",
       "    <tr>\n",
       "      <th>16</th>\n",
       "      <td>17</td>\n",
       "      <td>서부</td>\n",
       "      <td>21</td>\n",
       "    </tr>\n",
       "    <tr>\n",
       "      <th>4</th>\n",
       "      <td>5</td>\n",
       "      <td>다큐멘터리</td>\n",
       "      <td>16</td>\n",
       "    </tr>\n",
       "    <tr>\n",
       "      <th>17</th>\n",
       "      <td>18</td>\n",
       "      <td>Reality TV</td>\n",
       "      <td>0</td>\n",
       "    </tr>\n",
       "  </tbody>\n",
       "</table>\n",
       "</div>"
      ],
      "text/plain": [
       "   Category_id           genre  Count_jenre\n",
       "5            6             드라마          568\n",
       "11          12             스릴러          375\n",
       "2            3             코미디          329\n",
       "0            1              액션          323\n",
       "12          13             로맨스          272\n",
       "3            4              범죄          223\n",
       "18          19  Made in Europe          190\n",
       "13          14              SF          152\n",
       "6            7             판타지          143\n",
       "8            9              공포          131\n",
       "9           10              가족           92\n",
       "15          16              전쟁           56\n",
       "7            8              역사           45\n",
       "1            2           애니메이션           41\n",
       "10          11              음악           31\n",
       "14          15             스포츠           26\n",
       "16          17              서부           21\n",
       "4            5           다큐멘터리           16\n",
       "17          18      Reality TV            0"
      ]
     },
     "execution_count": 152,
     "metadata": {},
     "output_type": "execute_result"
    }
   ],
   "source": [
    "df_genre.sort_values(by='Count_jenre', ascending=False, inplace=True)\n",
    "df_genre"
   ]
  },
  {
   "cell_type": "code",
   "execution_count": 157,
   "metadata": {},
   "outputs": [
    {
     "data": {
      "text/plain": [
       "array([568, 375, 329], dtype=int64)"
      ]
     },
     "execution_count": 157,
     "metadata": {},
     "output_type": "execute_result"
    }
   ],
   "source": [
    "df_genre['Count_jenre'][0:3].values \n",
    "# 웨이브에 한해. 드라마, 스릴러, 코미디 순서. \n",
    "# 장르기반 추천을 하려면. 장르가 균일할 수록 좋은데. 생각해봐야할 문제.\n",
    "\n"
   ]
  },
  {
   "cell_type": "markdown",
   "metadata": {},
   "source": [
    "어떤 데이터로 벡터화를 고려해야 하는가.. \n",
    "오호~ 영화추천시스템 11.ipynb에 코사인유사도 활용해 영화 줄거리로 \n",
    "추천하는 시스템 차용!!"
   ]
  },
  {
   "cell_type": "code",
   "execution_count": 165,
   "metadata": {},
   "outputs": [
    {
     "data": {
      "text/html": [
       "<div>\n",
       "<style scoped>\n",
       "    .dataframe tbody tr th:only-of-type {\n",
       "        vertical-align: middle;\n",
       "    }\n",
       "\n",
       "    .dataframe tbody tr th {\n",
       "        vertical-align: top;\n",
       "    }\n",
       "\n",
       "    .dataframe thead th {\n",
       "        text-align: right;\n",
       "    }\n",
       "</style>\n",
       "<table border=\"1\" class=\"dataframe\">\n",
       "  <thead>\n",
       "    <tr style=\"text-align: right;\">\n",
       "      <th></th>\n",
       "      <th>제목</th>\n",
       "      <th>개봉일</th>\n",
       "      <th>평점</th>\n",
       "      <th>장르</th>\n",
       "      <th>재생시간</th>\n",
       "      <th>감독</th>\n",
       "      <th>출연진</th>\n",
       "      <th>시놉시스</th>\n",
       "    </tr>\n",
       "  </thead>\n",
       "  <tbody>\n",
       "    <tr>\n",
       "      <th>0</th>\n",
       "      <td>반지의 제왕: 반지 원정대</td>\n",
       "      <td>(2001)</td>\n",
       "      <td>95%  8.9 (1m)</td>\n",
       "      <td>판타지 , 드라마 , 액션</td>\n",
       "      <td>2시간 59분</td>\n",
       "      <td>Peter Jackson</td>\n",
       "      <td>Elijah Wood,Ian McKellen,Liv Tyler,Viggo Morte...</td>\n",
       "      <td>호빗이라 불리우는 난장이 종족 중의 한 명인 프로도는 자신의 삼촌에게서 우연히 절대...</td>\n",
       "    </tr>\n",
       "    <tr>\n",
       "      <th>1</th>\n",
       "      <td>남색대문</td>\n",
       "      <td>(2002)</td>\n",
       "      <td>79%  7.3 (3k)</td>\n",
       "      <td>드라마 , 로맨스 , Made in Europe</td>\n",
       "      <td>1시간 25분</td>\n",
       "      <td>Yee Chin-Yen</td>\n",
       "      <td>Gwei Lun-mei,Chen Bolin,Liang Yolin,Chau Ching...</td>\n",
       "      <td>고등학생인 커로우와 위에전은 자매처럼 지내는 단짝 친구이다. 위에전은 수영부의 장스...</td>\n",
       "    </tr>\n",
       "  </tbody>\n",
       "</table>\n",
       "</div>"
      ],
      "text/plain": [
       "               제목     개봉일              평점                          장르  \\\n",
       "0  반지의 제왕: 반지 원정대  (2001)   95%  8.9 (1m)              판타지 , 드라마 , 액션   \n",
       "1            남색대문  (2002)   79%  7.3 (3k)  드라마 , 로맨스 , Made in Europe   \n",
       "\n",
       "      재생시간              감독                                                출연진  \\\n",
       "0  2시간 59분   Peter Jackson  Elijah Wood,Ian McKellen,Liv Tyler,Viggo Morte...   \n",
       "1  1시간 25분    Yee Chin-Yen  Gwei Lun-mei,Chen Bolin,Liang Yolin,Chau Ching...   \n",
       "\n",
       "                                                시놉시스  \n",
       "0  호빗이라 불리우는 난장이 종족 중의 한 명인 프로도는 자신의 삼촌에게서 우연히 절대...  \n",
       "1  고등학생인 커로우와 위에전은 자매처럼 지내는 단짝 친구이다. 위에전은 수영부의 장스...  "
      ]
     },
     "execution_count": 165,
     "metadata": {},
     "output_type": "execute_result"
    }
   ],
   "source": [
    "df.head(2)"
   ]
  },
  {
   "cell_type": "code",
   "execution_count": 166,
   "metadata": {},
   "outputs": [
    {
     "data": {
      "text/html": [
       "<div>\n",
       "<style scoped>\n",
       "    .dataframe tbody tr th:only-of-type {\n",
       "        vertical-align: middle;\n",
       "    }\n",
       "\n",
       "    .dataframe tbody tr th {\n",
       "        vertical-align: top;\n",
       "    }\n",
       "\n",
       "    .dataframe thead th {\n",
       "        text-align: right;\n",
       "    }\n",
       "</style>\n",
       "<table border=\"1\" class=\"dataframe\">\n",
       "  <thead>\n",
       "    <tr style=\"text-align: right;\">\n",
       "      <th></th>\n",
       "      <th>제목</th>\n",
       "      <th>시놉시스</th>\n",
       "    </tr>\n",
       "  </thead>\n",
       "  <tbody>\n",
       "    <tr>\n",
       "      <th>0</th>\n",
       "      <td>반지의 제왕: 반지 원정대</td>\n",
       "      <td>호빗이라 불리우는 난장이 종족 중의 한 명인 프로도는 자신의 삼촌에게서 우연히 절대...</td>\n",
       "    </tr>\n",
       "    <tr>\n",
       "      <th>1</th>\n",
       "      <td>남색대문</td>\n",
       "      <td>고등학생인 커로우와 위에전은 자매처럼 지내는 단짝 친구이다. 위에전은 수영부의 장스...</td>\n",
       "    </tr>\n",
       "    <tr>\n",
       "      <th>2</th>\n",
       "      <td>멀홀랜드 드라이브</td>\n",
       "      <td>헐리웃 스타의 꿈을 안고 LA에 온 베티(나오미 왓츠)는 멀홀랜드 드라이브에서 일어...</td>\n",
       "    </tr>\n",
       "    <tr>\n",
       "      <th>3</th>\n",
       "      <td>해리 포터와 마법사의 돌</td>\n",
       "      <td>해리 포터는 위압적인 버논 숙부와 냉담한 이모 페투니아, 욕심 많고 버릇없는 사촌 ...</td>\n",
       "    </tr>\n",
       "    <tr>\n",
       "      <th>4</th>\n",
       "      <td>펄프 픽션</td>\n",
       "      <td>펌프킨와 허니 버니가 레스토랑에서 강도 행각을 벌이기 시작한다. 빈센트와 그 동료 ...</td>\n",
       "    </tr>\n",
       "  </tbody>\n",
       "</table>\n",
       "</div>"
      ],
      "text/plain": [
       "               제목                                               시놉시스\n",
       "0  반지의 제왕: 반지 원정대  호빗이라 불리우는 난장이 종족 중의 한 명인 프로도는 자신의 삼촌에게서 우연히 절대...\n",
       "1            남색대문  고등학생인 커로우와 위에전은 자매처럼 지내는 단짝 친구이다. 위에전은 수영부의 장스...\n",
       "2       멀홀랜드 드라이브  헐리웃 스타의 꿈을 안고 LA에 온 베티(나오미 왓츠)는 멀홀랜드 드라이브에서 일어...\n",
       "3   해리 포터와 마법사의 돌  해리 포터는 위압적인 버논 숙부와 냉담한 이모 페투니아, 욕심 많고 버릇없는 사촌 ...\n",
       "4           펄프 픽션  펌프킨와 허니 버니가 레스토랑에서 강도 행각을 벌이기 시작한다. 빈센트와 그 동료 ..."
      ]
     },
     "execution_count": 166,
     "metadata": {},
     "output_type": "execute_result"
    }
   ],
   "source": [
    "# Synopsis\n",
    "df_syn = df[['제목','시놉시스']]\n",
    "df_syn.head()"
   ]
  },
  {
   "cell_type": "code",
   "execution_count": 168,
   "metadata": {},
   "outputs": [
    {
     "data": {
      "text/plain": [
       "'호빗이라 불리우는 난장이 종족 중의 한 명인 프로도는 자신의 삼촌에게서 우연히 절대 반지를 물려받게 되고, 마법사 간달프를 통해서 절대반지가 사우론의 손에 들어가면 악의 세력이 세상을 지배하게 된다는 것을 알게 된다. 하지만 절대반지를 영원히 파괴할 수 있는 유일한 방법은 반지가 만들어진 불의 산의 용암에 그것을 던져 넣는 길 뿐이다. 마침내 프로도와 그의 친구들, 엘프족인 레골라스, 난장이족 김리, 두명의 인간 전사 아라곤과 보로미르, 그리고 마법사 간달프로 구성된 반지 원정대가 길고도 험난한 여정을 떠나게 되는데...'"
      ]
     },
     "execution_count": 168,
     "metadata": {},
     "output_type": "execute_result"
    }
   ],
   "source": [
    "df_syn.시놉시스[0]"
   ]
  },
  {
   "cell_type": "code",
   "execution_count": 170,
   "metadata": {},
   "outputs": [
    {
     "data": {
      "text/plain": [
       "(1000, 2)"
      ]
     },
     "execution_count": 170,
     "metadata": {},
     "output_type": "execute_result"
    }
   ],
   "source": [
    "# 결측치 없어.\n",
    "# df_syn.isnull().sum()\n",
    "df_syn.shape #1000개의 영화 제목, 시놉."
   ]
  },
  {
   "cell_type": "code",
   "execution_count": 174,
   "metadata": {},
   "outputs": [
    {
     "data": {
      "text/html": [
       "<div>\n",
       "<style scoped>\n",
       "    .dataframe tbody tr th:only-of-type {\n",
       "        vertical-align: middle;\n",
       "    }\n",
       "\n",
       "    .dataframe tbody tr th {\n",
       "        vertical-align: top;\n",
       "    }\n",
       "\n",
       "    .dataframe thead th {\n",
       "        text-align: right;\n",
       "    }\n",
       "</style>\n",
       "<table border=\"1\" class=\"dataframe\">\n",
       "  <thead>\n",
       "    <tr style=\"text-align: right;\">\n",
       "      <th></th>\n",
       "      <th>제목</th>\n",
       "      <th>시놉시스</th>\n",
       "    </tr>\n",
       "  </thead>\n",
       "  <tbody>\n",
       "    <tr>\n",
       "      <th>0</th>\n",
       "      <td>반지의 제왕: 반지 원정대</td>\n",
       "      <td>호빗이라 불리우는 난장이 종족 중의 한 명인 프로도는 자신의 삼촌에게서 우연히 절대...</td>\n",
       "    </tr>\n",
       "    <tr>\n",
       "      <th>1</th>\n",
       "      <td>남색대문</td>\n",
       "      <td>고등학생인 커로우와 위에전은 자매처럼 지내는 단짝 친구이다. 위에전은 수영부의 장스...</td>\n",
       "    </tr>\n",
       "    <tr>\n",
       "      <th>2</th>\n",
       "      <td>멀홀랜드 드라이브</td>\n",
       "      <td>헐리웃 스타의 꿈을 안고 LA에 온 베티(나오미 왓츠)는 멀홀랜드 드라이브에서 일어...</td>\n",
       "    </tr>\n",
       "    <tr>\n",
       "      <th>3</th>\n",
       "      <td>해리 포터와 마법사의 돌</td>\n",
       "      <td>해리 포터는 위압적인 버논 숙부와 냉담한 이모 페투니아, 욕심 많고 버릇없는 사촌 ...</td>\n",
       "    </tr>\n",
       "    <tr>\n",
       "      <th>4</th>\n",
       "      <td>펄프 픽션</td>\n",
       "      <td>펌프킨와 허니 버니가 레스토랑에서 강도 행각을 벌이기 시작한다. 빈센트와 그 동료 ...</td>\n",
       "    </tr>\n",
       "    <tr>\n",
       "      <th>...</th>\n",
       "      <td>...</td>\n",
       "      <td>...</td>\n",
       "    </tr>\n",
       "    <tr>\n",
       "      <th>995</th>\n",
       "      <td>로드 투 차이나</td>\n",
       "      <td>화려한 생활을 보내고 있는 이브에게 아버지의 변호사 찰리 쉽이 찾아온다. 찰리는 1...</td>\n",
       "    </tr>\n",
       "    <tr>\n",
       "      <th>996</th>\n",
       "      <td>떠오르는 태양</td>\n",
       "      <td>LA에 있는 일본 기업의 회의실에서 백인 여자가 살해되자, 경찰 웨브 경위가 수사에...</td>\n",
       "    </tr>\n",
       "    <tr>\n",
       "      <th>997</th>\n",
       "      <td>13일의 금요일 6: 제이슨 살아있다</td>\n",
       "      <td>제이슨이 결코 죽지 않았다고 믿는 토미(Tommy : 톰 매튜스 분)는 시체를 완전...</td>\n",
       "    </tr>\n",
       "    <tr>\n",
       "      <th>998</th>\n",
       "      <td>폴리스 스토리 4: 간단임무</td>\n",
       "      <td>홍콩 경찰인 재키는 국제 핵무기 거래 조직 조사를 위해 CIA에 배치되어 사건의 혐...</td>\n",
       "    </tr>\n",
       "    <tr>\n",
       "      <th>999</th>\n",
       "      <td>라스트 콘서트</td>\n",
       "      <td>피아니스트인 리처드(리차드 존스 분)는 손에 상처를 입어 병원에서 치료를 기다리고 ...</td>\n",
       "    </tr>\n",
       "  </tbody>\n",
       "</table>\n",
       "<p>995 rows × 2 columns</p>\n",
       "</div>"
      ],
      "text/plain": [
       "                       제목                                               시놉시스\n",
       "0          반지의 제왕: 반지 원정대  호빗이라 불리우는 난장이 종족 중의 한 명인 프로도는 자신의 삼촌에게서 우연히 절대...\n",
       "1                    남색대문  고등학생인 커로우와 위에전은 자매처럼 지내는 단짝 친구이다. 위에전은 수영부의 장스...\n",
       "2               멀홀랜드 드라이브  헐리웃 스타의 꿈을 안고 LA에 온 베티(나오미 왓츠)는 멀홀랜드 드라이브에서 일어...\n",
       "3           해리 포터와 마법사의 돌  해리 포터는 위압적인 버논 숙부와 냉담한 이모 페투니아, 욕심 많고 버릇없는 사촌 ...\n",
       "4                   펄프 픽션  펌프킨와 허니 버니가 레스토랑에서 강도 행각을 벌이기 시작한다. 빈센트와 그 동료 ...\n",
       "..                    ...                                                ...\n",
       "995              로드 투 차이나  화려한 생활을 보내고 있는 이브에게 아버지의 변호사 찰리 쉽이 찾아온다. 찰리는 1...\n",
       "996               떠오르는 태양  LA에 있는 일본 기업의 회의실에서 백인 여자가 살해되자, 경찰 웨브 경위가 수사에...\n",
       "997  13일의 금요일 6: 제이슨 살아있다  제이슨이 결코 죽지 않았다고 믿는 토미(Tommy : 톰 매튜스 분)는 시체를 완전...\n",
       "998       폴리스 스토리 4: 간단임무  홍콩 경찰인 재키는 국제 핵무기 거래 조직 조사를 위해 CIA에 배치되어 사건의 혐...\n",
       "999               라스트 콘서트  피아니스트인 리처드(리차드 존스 분)는 손에 상처를 입어 병원에서 치료를 기다리고 ...\n",
       "\n",
       "[995 rows x 2 columns]"
      ]
     },
     "execution_count": 174,
     "metadata": {},
     "output_type": "execute_result"
    }
   ],
   "source": [
    "df_syn.drop_duplicates(subset=['제목'])\n",
    "# 인플레이스는 아직 안줬고. 같은 제목을 어떻게 확인하지?"
   ]
  },
  {
   "cell_type": "code",
   "execution_count": 175,
   "metadata": {},
   "outputs": [
    {
     "data": {
      "text/plain": [
       "제목       995\n",
       "시놉시스    1000\n",
       "dtype: int64"
      ]
     },
     "execution_count": 175,
     "metadata": {},
     "output_type": "execute_result"
    }
   ],
   "source": [
    "# 고유값이 차이나는건. 같은 제목이 있나? #위대한 유산 등 5개 같은 값 확인\n",
    "df_syn.nunique()"
   ]
  },
  {
   "cell_type": "markdown",
   "metadata": {},
   "source": [
    "### 추천시스템 - 여기부터 본론"
   ]
  },
  {
   "cell_type": "markdown",
   "metadata": {},
   "source": [
    "- 일반적으로 유사도를 측정하기 위해 정량화 하는 방법\n",
    "    - 1. 단순히 같은 단어의 개수를 사용하는 법\n",
    "    - 2. 형태소로 나누어 형태소를 비교하는 법\n",
    "    - 3. 자소? 먼지 몰겠다 자소 단위로 나누어 비교하는법"
   ]
  },
  {
   "cell_type": "markdown",
   "metadata": {},
   "source": [
    "- 이 책 (자연어처리 - 앵무새) 에서는 딥러닝을 기반으로 텍스트의 유사도를 측정할 것. \n",
    "- 텍스트를 벡터화 (수치화) 한 후 벡터간의 유사도를 판단할것. \n",
    "\n",
    "자주 쓰이는 4개의 유사도 측정방법은 \n",
    " - 자카드 유사도, \n",
    " - 유클리디언 유사도 (걍 거리)\n",
    " - 맨해튼 유사도 (네모네모박스 최적 거리)\n",
    " - 코사인 유사도 (벡터간의 각도 비교로 유사도 판단)"
   ]
  },
  {
   "cell_type": "markdown",
   "metadata": {},
   "source": [
    "##### # 텍스트 전처리\n",
    "##### # 벡터화전략 - Tf-idf\n",
    "    - 단어의 빈도와 역 문서 빈도 벡터화"
   ]
  },
  {
   "cell_type": "code",
   "execution_count": 178,
   "metadata": {},
   "outputs": [],
   "source": [
    "# from sklearn.feature_extraction.text import CountVectorizer \n",
    "from sklearn.feature_extraction.text import TfidfVectorizer"
   ]
  },
  {
   "cell_type": "code",
   "execution_count": 227,
   "metadata": {},
   "outputs": [
    {
     "data": {
      "text/plain": [
       "1000"
      ]
     },
     "execution_count": 227,
     "metadata": {},
     "output_type": "execute_result"
    }
   ],
   "source": [
    "sent = []\n",
    "\n",
    "for i in (range(0,len(df_syn))):\n",
    "    content = df_syn['시놉시스'][i]\n",
    "    sent.append(content)\n",
    "len(sent)\n",
    "# 1000 개 시놉시스 잘 수집됨."
   ]
  },
  {
   "cell_type": "code",
   "execution_count": 229,
   "metadata": {},
   "outputs": [
    {
     "name": "stdout",
     "output_type": "stream",
     "text": [
      "호빗이라 불리우는 난장이 종족 중의 한 명인 프로도는 자신의 삼촌에게서 우연히 절대 반지를 물려받게 되고, 마법사 간달프를 통해서 절대반지가 사우론의 손에 들어가면 악의 세력이 세상을 지배하게 된다는 것을 알게 된다. 하지만 절대반지를 영원히 파괴할 수 있는 유일한 방법은 반지가 만들어진 불의 산의 용암에 그것을 던져 넣는 길 뿐이다. 마침내 프로도와 그의 친구들, 엘프족인 레골라스, 난장이족 김리, 두명의 인간 전사 아라곤과 보로미르, 그리고 마법사 간달프로 구성된 반지 원정대가 길고도 험난한 여정을 떠나게 되는데...\n",
      "고등학생인 커로우와 위에전은 자매처럼 지내는 단짝 친구이다. 위에전은 수영부의 장스하오를 좋아하지만 용기가 없어 그 앞에 나서지 못하고, 커로우에게 부탁해 자신의 러브레터를 대신 전달하게 한다. 그러나 위에전은 러브레터 속에 보내는 사람의 이름을 커로우라고 적게 되고, 편지를 받아든 장스하오는 커로우가 자신을 좋아한다고 오해하게 되면서 세 사람 사이의 감정은 복잡해져가는데...\n"
     ]
    }
   ],
   "source": [
    "# 간단하게 반지의 제왕이랑 해리포터 마법사의 돌 비교해볼것. \n",
    "# 그 후 각각 모든 영화를 반복하든. 해당 장르만 반복하는 코드 개발\n",
    "\n",
    "# print(df_syn['시놉시스'][0], \"\\n\", \"\\n\", df_syn['시놉시스'][3])\n",
    "# type(df_syn['시놉시스'][0])\n",
    "# sent = [df_syn['시놉시스'][0], df_syn['시놉시스'][3]]\n",
    "\n",
    "# 1 : 1000 반복하는 코드 개발\n",
    "\n",
    "print(sent[0])\n",
    "print(sent[1])"
   ]
  },
  {
   "cell_type": "code",
   "execution_count": 231,
   "metadata": {},
   "outputs": [],
   "source": [
    "tfidf=TfidfVectorizer()\n",
    "tfidf_matrix=tfidf.fit_transform(sent)"
   ]
  },
  {
   "cell_type": "code",
   "execution_count": 317,
   "metadata": {},
   "outputs": [
    {
     "name": "stdout",
     "output_type": "stream",
     "text": [
      "  (0, 9596)\t0.0557846314626555\n",
      "  (0, 10361)\t0.11318475637224175\n",
      "  (0, 24383)\t0.11318475637224175\n",
      "  (0, 38203)\t0.12483285908957434\n",
      "  (0, 5883)\t0.14299089022760186\n",
      "  (0, 26179)\t0.14299089022760186\n",
      "  (0, 14536)\t0.12483285908957434\n",
      "  (0, 4627)\t0.12121981315313138\n",
      "  (0, 2133)\t0.14299089022760186\n",
      "  (0, 5266)\t0.05837877253976673\n",
      "  (0, 15893)\t0.14299089022760186\n",
      "  (0, 22263)\t0.13495583344671225\n",
      "  (0, 29583)\t0.12483285908957434\n",
      "  (0, 27628)\t0.10178282934685924\n",
      "  (0, 9721)\t0.12483285908957434\n",
      "  (0, 5918)\t0.14299089022760186\n",
      "  (0, 6563)\t0.14299089022760186\n",
      "  (0, 10785)\t0.13495583344671225\n",
      "  (0, 24157)\t0.14299089022760186\n",
      "  (0, 33840)\t0.11109683879599346\n",
      "  (0, 5355)\t0.05173074677722331\n",
      "  (0, 36869)\t0.14299089022760186\n",
      "  (0, 11849)\t0.0701380502379376\n",
      "  (0, 17466)\t0.0973608185024126\n",
      "  (0, 7107)\t0.14299089022760186\n",
      "  :\t:\n",
      "  (999, 14432)\t0.05694535654589349\n",
      "  (999, 28353)\t0.04177954657215731\n",
      "  (999, 27573)\t0.07781344201480775\n",
      "  (999, 23600)\t0.06813898371045764\n",
      "  (999, 5132)\t0.03894410593838787\n",
      "  (999, 32700)\t0.04455128448853097\n",
      "  (999, 27062)\t0.04015019019551075\n",
      "  (999, 12180)\t0.04920637155302886\n",
      "  (999, 5122)\t0.04268606414182698\n",
      "  (999, 28367)\t0.046763158849287174\n",
      "  (999, 37641)\t0.028721614642884176\n",
      "  (999, 22358)\t0.057475669407526554\n",
      "  (999, 11744)\t0.06375199950188096\n",
      "  (999, 9631)\t0.04349794706277969\n",
      "  (999, 38112)\t0.05338431280356056\n",
      "  (999, 26409)\t0.024953465265355114\n",
      "  (999, 23137)\t0.06574496726202425\n",
      "  (999, 5107)\t0.04920637155302886\n",
      "  (999, 27236)\t0.059869685855959934\n",
      "  (999, 28341)\t0.02654650479506371\n",
      "  (999, 9683)\t0.023707163021660965\n",
      "  (999, 22859)\t0.03548339358483513\n",
      "  (999, 3033)\t0.03266777584403348\n",
      "  (999, 19978)\t0.05338431280356056\n",
      "  (999, 28637)\t0.08953221875472264\n"
     ]
    }
   ],
   "source": [
    "print(tfidf_matrix)\n",
    "# print(tfidf_matrix[0])\n",
    "# print(tfidf_matrix[0:1])\n",
    "# print(tfidf_matrix[1:2])\n",
    "# 신기하게 생깄네 ㅋㅋ\n",
    "\n",
    "\n",
    "# tf idf 벡터라이저에 대해 공부해야 다음 작업 할수 있을듯. \n",
    "# 벡터라면. \n"
   ]
  },
  {
   "cell_type": "code",
   "execution_count": 242,
   "metadata": {},
   "outputs": [
    {
     "data": {
      "text/plain": [
       "(1, 39482)"
      ]
     },
     "execution_count": 242,
     "metadata": {},
     "output_type": "execute_result"
    }
   ],
   "source": [
    "# tfidf_matrix.shape\n",
    "# tfidf_matrix[0].shape #(1, 39482)\n",
    "# tfidf_matrix[0:1].shape  # (1, 39482) 똑같은데 엑셀에서는 먼가 다르네?"
   ]
  },
  {
   "cell_type": "markdown",
   "metadata": {},
   "source": [
    "이런 코드 가능?"
   ]
  },
  {
   "cell_type": "code",
   "execution_count": 318,
   "metadata": {},
   "outputs": [],
   "source": [
    "# 이런 코드가 가능해?\n",
    "cos_sim = cosine_similarity(tfidf_matrix, tfidf_matrix)"
   ]
  },
  {
   "cell_type": "code",
   "execution_count": 320,
   "metadata": {},
   "outputs": [
    {
     "data": {
      "text/plain": [
       "(1000, 1000)"
      ]
     },
     "execution_count": 320,
     "metadata": {},
     "output_type": "execute_result"
    }
   ],
   "source": [
    "cos_sim.shape"
   ]
  },
  {
   "cell_type": "code",
   "execution_count": 360,
   "metadata": {},
   "outputs": [],
   "source": [
    "df_for_title = df_syn.copy()"
   ]
  },
  {
   "cell_type": "code",
   "execution_count": 361,
   "metadata": {},
   "outputs": [
    {
     "data": {
      "text/html": [
       "<div>\n",
       "<style scoped>\n",
       "    .dataframe tbody tr th:only-of-type {\n",
       "        vertical-align: middle;\n",
       "    }\n",
       "\n",
       "    .dataframe tbody tr th {\n",
       "        vertical-align: top;\n",
       "    }\n",
       "\n",
       "    .dataframe thead th {\n",
       "        text-align: right;\n",
       "    }\n",
       "</style>\n",
       "<table border=\"1\" class=\"dataframe\">\n",
       "  <thead>\n",
       "    <tr style=\"text-align: right;\">\n",
       "      <th></th>\n",
       "      <th>title</th>\n",
       "      <th>시놉시스</th>\n",
       "    </tr>\n",
       "  </thead>\n",
       "  <tbody>\n",
       "    <tr>\n",
       "      <th>0</th>\n",
       "      <td>반지의 제왕: 반지 원정대</td>\n",
       "      <td>호빗이라 불리우는 난장이 종족 중의 한 명인 프로도는 자신의 삼촌에게서 우연히 절대...</td>\n",
       "    </tr>\n",
       "    <tr>\n",
       "      <th>1</th>\n",
       "      <td>남색대문</td>\n",
       "      <td>고등학생인 커로우와 위에전은 자매처럼 지내는 단짝 친구이다. 위에전은 수영부의 장스...</td>\n",
       "    </tr>\n",
       "    <tr>\n",
       "      <th>2</th>\n",
       "      <td>멀홀랜드 드라이브</td>\n",
       "      <td>헐리웃 스타의 꿈을 안고 LA에 온 베티(나오미 왓츠)는 멀홀랜드 드라이브에서 일어...</td>\n",
       "    </tr>\n",
       "    <tr>\n",
       "      <th>3</th>\n",
       "      <td>해리 포터와 마법사의 돌</td>\n",
       "      <td>해리 포터는 위압적인 버논 숙부와 냉담한 이모 페투니아, 욕심 많고 버릇없는 사촌 ...</td>\n",
       "    </tr>\n",
       "    <tr>\n",
       "      <th>4</th>\n",
       "      <td>펄프 픽션</td>\n",
       "      <td>펌프킨와 허니 버니가 레스토랑에서 강도 행각을 벌이기 시작한다. 빈센트와 그 동료 ...</td>\n",
       "    </tr>\n",
       "  </tbody>\n",
       "</table>\n",
       "</div>"
      ],
      "text/plain": [
       "            title                                               시놉시스\n",
       "0  반지의 제왕: 반지 원정대  호빗이라 불리우는 난장이 종족 중의 한 명인 프로도는 자신의 삼촌에게서 우연히 절대...\n",
       "1            남색대문  고등학생인 커로우와 위에전은 자매처럼 지내는 단짝 친구이다. 위에전은 수영부의 장스...\n",
       "2       멀홀랜드 드라이브  헐리웃 스타의 꿈을 안고 LA에 온 베티(나오미 왓츠)는 멀홀랜드 드라이브에서 일어...\n",
       "3   해리 포터와 마법사의 돌  해리 포터는 위압적인 버논 숙부와 냉담한 이모 페투니아, 욕심 많고 버릇없는 사촌 ...\n",
       "4           펄프 픽션  펌프킨와 허니 버니가 레스토랑에서 강도 행각을 벌이기 시작한다. 빈센트와 그 동료 ..."
      ]
     },
     "execution_count": 361,
     "metadata": {},
     "output_type": "execute_result"
    }
   ],
   "source": [
    "df_for_title.rename(columns= {'제목' : 'title'}, inplace=True)\n",
    "df_for_title.head()\n",
    "# 출처: https://rfriend.tistory.com/468 [R, Python 분석과 프로그래밍의 친구 (by R Friend)]"
   ]
  },
  {
   "cell_type": "code",
   "execution_count": 362,
   "metadata": {},
   "outputs": [],
   "source": [
    "# indices = pd.Series(df.index, index=df.title)\n",
    "indices = pd.Series(df_for_title.index, index=df_for_title.title)\n",
    "# 코드의 의미는 df_syn의 인덱스를 시리즈로.. 요게 본체\n",
    "# 신기하게 본체의 인덱스를 제목으로 사용한다. \n",
    "# 나중에 인덱스를 key로 제목을 출력하기 위함  = 신기방기 한 방법"
   ]
  },
  {
   "cell_type": "code",
   "execution_count": 366,
   "metadata": {},
   "outputs": [
    {
     "data": {
      "text/plain": [
       "pandas.core.series.Series"
      ]
     },
     "execution_count": 366,
     "metadata": {},
     "output_type": "execute_result"
    }
   ],
   "source": [
    "indices.head()\n",
    "type(indices)"
   ]
  },
  {
   "cell_type": "code",
   "execution_count": 367,
   "metadata": {},
   "outputs": [],
   "source": [
    "def get_recommendation(title, cos_sim=cos_sim):\n",
    "    index = indices[title]\n",
    "    sim_scores = pd.Series(cos_sim[index])\n",
    "    book_indices = sim_scores.sort_values(ascending=False).head(6).tail(5).index\n",
    "    return df_for_title.title.iloc[book_indices]"
   ]
  },
  {
   "cell_type": "code",
   "execution_count": 370,
   "metadata": {},
   "outputs": [
    {
     "name": "stdout",
     "output_type": "stream",
     "text": [
      "라스트 콘서트\n",
      "폴리스 스토리 4: 간단임무\n",
      "13일의 금요일 6: 제이슨 살아있다\n",
      "떠오르는 태양\n",
      "로드 투 차이나\n"
     ]
    }
   ],
   "source": [
    "for i in range(5):\n",
    "    # print(100-i)\n",
    "    print(indices.index[999-i])"
   ]
  },
  {
   "cell_type": "markdown",
   "metadata": {},
   "source": [
    "### 아래 10개 영화 추천시스템으로 확인할 것_코사인 유사도 기반 (시놉)"
   ]
  },
  {
   "cell_type": "code",
   "execution_count": 372,
   "metadata": {},
   "outputs": [
    {
     "data": {
      "text/plain": [
       "990                     이탈자\n",
       "991                   포카혼타스\n",
       "992                    적각비협\n",
       "993                  사랑의 파도\n",
       "994                 돈 세이 워드\n",
       "995                로드 투 차이나\n",
       "996                 떠오르는 태양\n",
       "997    13일의 금요일 6: 제이슨 살아있다\n",
       "998         폴리스 스토리 4: 간단임무\n",
       "999                 라스트 콘서트\n",
       "Name: title, dtype: object"
      ]
     },
     "execution_count": 372,
     "metadata": {},
     "output_type": "execute_result"
    }
   ],
   "source": [
    "df_for_title.title.tail(10)"
   ]
  },
  {
   "cell_type": "code",
   "execution_count": 368,
   "metadata": {},
   "outputs": [
    {
     "data": {
      "text/plain": [
       "805     7년만의 외출\n",
       "536    바이센테니얼 맨\n",
       "344        샤레이드\n",
       "738    반드리카 초특급\n",
       "662     비밀과 거짓말\n",
       "Name: title, dtype: object"
      ]
     },
     "execution_count": 368,
     "metadata": {},
     "output_type": "execute_result"
    }
   ],
   "source": [
    "get_recommendation('라스트 콘서트')"
   ]
  },
  {
   "cell_type": "code",
   "execution_count": 373,
   "metadata": {},
   "outputs": [
    {
     "data": {
      "text/plain": [
       "720    성룡의 C.I.A\n",
       "294        러시 아워\n",
       "942         용형호제\n",
       "556      폴리스 스토리\n",
       "987    키스 오브 드래곤\n",
       "Name: title, dtype: object"
      ]
     },
     "execution_count": 373,
     "metadata": {},
     "output_type": "execute_result"
    }
   ],
   "source": [
    "get_recommendation('폴리스 스토리 4: 간단임무')"
   ]
  },
  {
   "cell_type": "code",
   "execution_count": 380,
   "metadata": {},
   "outputs": [
    {
     "data": {
      "text/plain": [
       "943    13일의 금요일 4\n",
       "633    13일의 금요일 2\n",
       "854    13일의 금요일 3\n",
       "34         좋은 친구들\n",
       "691     괴물 디 오리지널\n",
       "Name: title, dtype: object"
      ]
     },
     "execution_count": 380,
     "metadata": {},
     "output_type": "execute_result"
    }
   ],
   "source": [
    "get_recommendation('13일의 금요일 6: 제이슨 살아있다')"
   ]
  },
  {
   "cell_type": "code",
   "execution_count": 379,
   "metadata": {},
   "outputs": [
    {
     "data": {
      "text/plain": [
       "385      슬리피 할로우\n",
       "425       분닥 세인트\n",
       "56           칼리토\n",
       "2      멀홀랜드 드라이브\n",
       "222          쥬만지\n",
       "Name: title, dtype: object"
      ]
     },
     "execution_count": 379,
     "metadata": {},
     "output_type": "execute_result"
    }
   ],
   "source": [
    "get_recommendation('떠오르는 태양')"
   ]
  },
  {
   "cell_type": "code",
   "execution_count": 378,
   "metadata": {},
   "outputs": [
    {
     "data": {
      "text/plain": [
       "80       레인 맨\n",
       "582    모던 타임즈\n",
       "436     툼 레이더\n",
       "342    여인의 향기\n",
       "306      트위스터\n",
       "Name: title, dtype: object"
      ]
     },
     "execution_count": 378,
     "metadata": {},
     "output_type": "execute_result"
    }
   ],
   "source": [
    "get_recommendation('로드 투 차이나')"
   ]
  },
  {
   "cell_type": "code",
   "execution_count": 377,
   "metadata": {},
   "outputs": [
    {
     "data": {
      "text/plain": [
       "344           샤레이드\n",
       "227       나의 사촌 비니\n",
       "491         7인의 신부\n",
       "776            이너프\n",
       "726    노킹 온 헤븐스 도어\n",
       "Name: title, dtype: object"
      ]
     },
     "execution_count": 377,
     "metadata": {},
     "output_type": "execute_result"
    }
   ],
   "source": [
    "get_recommendation('돈 세이 워드')"
   ]
  },
  {
   "cell_type": "code",
   "execution_count": 376,
   "metadata": {},
   "outputs": [
    {
     "data": {
      "text/plain": [
       "595        트랜스포터\n",
       "74        살인의 추억\n",
       "294        러시 아워\n",
       "118          한니발\n",
       "604    판타스틱 소녀백서\n",
       "Name: title, dtype: object"
      ]
     },
     "execution_count": 376,
     "metadata": {},
     "output_type": "execute_result"
    }
   ],
   "source": [
    "get_recommendation('사랑의 파도')"
   ]
  },
  {
   "cell_type": "code",
   "execution_count": 375,
   "metadata": {},
   "outputs": [
    {
     "data": {
      "text/plain": [
       "721    그린 파파야 향기\n",
       "881        필로우 북\n",
       "90           첨밀밀\n",
       "843           테스\n",
       "924       특명 어벤저\n",
       "Name: title, dtype: object"
      ]
     },
     "execution_count": 375,
     "metadata": {},
     "output_type": "execute_result"
    }
   ],
   "source": [
    "get_recommendation('적각비협')"
   ]
  },
  {
   "cell_type": "code",
   "execution_count": 374,
   "metadata": {},
   "outputs": [
    {
     "data": {
      "text/plain": [
       "150    매트릭스 3: 레볼루션\n",
       "936           다크 엔젤\n",
       "832             데미지\n",
       "813          봄날은 간다\n",
       "351           스타 트렉\n",
       "Name: title, dtype: object"
      ]
     },
     "execution_count": 374,
     "metadata": {},
     "output_type": "execute_result"
    }
   ],
   "source": [
    "# 포카혼타스\n",
    "get_recommendation('포카혼타스')"
   ]
  },
  {
   "cell_type": "code",
   "execution_count": 381,
   "metadata": {},
   "outputs": [
    {
     "data": {
      "text/plain": [
       "344        샤레이드\n",
       "446    쉘로우 그레이브\n",
       "516         모넬라\n",
       "409        배드 캅\n",
       "944        당산대형\n",
       "Name: title, dtype: object"
      ]
     },
     "execution_count": 381,
     "metadata": {},
     "output_type": "execute_result"
    }
   ],
   "source": [
    "get_recommendation('이탈자')"
   ]
  },
  {
   "cell_type": "markdown",
   "metadata": {},
   "source": [
    "### 두두둥! 원래 보고 싶었던 반지의 제왕"
   ]
  },
  {
   "cell_type": "code",
   "execution_count": 383,
   "metadata": {},
   "outputs": [
    {
     "data": {
      "text/plain": [
       "78      반지의 제왕: 두 개의 탑\n",
       "85       반지의 제왕: 왕의 귀환\n",
       "701    미녀 삼총사: 맥시멈 스피드\n",
       "438              미이라 2\n",
       "400                레전드\n",
       "Name: title, dtype: object"
      ]
     },
     "execution_count": 383,
     "metadata": {},
     "output_type": "execute_result"
    }
   ],
   "source": [
    "get_recommendation('반지의 제왕: 반지 원정대')\n",
    "\n",
    "# 성능측정 지표 마련 및. tfidf_matrix 벡터화에 대한 이해.필요"
   ]
  },
  {
   "cell_type": "markdown",
   "metadata": {},
   "source": [
    "### case1 결론 및 보충\n",
    " - case 1 완성도 95. df나 출력결과 저장 개발. 코드 안정성 확보 및 시각표현 고려. 예. 도서 그림 보여주는 코드\n",
    "\n",
    "- 성능지표 마련해야. tfidf 매트릭스 벡터화에 대해 이해 후. \n",
    "코사인 유사도가 어떻게 구해질수있었는지 설명해야. 넘파이 차원에 대한 이해 및 이중 포문 말고 배열 어레이로 접근할 수 있어야해. "
   ]
  }
 ],
 "metadata": {
  "interpreter": {
   "hash": "b3ba2566441a7c06988d0923437866b63cedc61552a5af99d1f4fb67d367b25f"
  },
  "kernelspec": {
   "display_name": "Python 3.8.8 ('base')",
   "language": "python",
   "name": "python3"
  },
  "language_info": {
   "codemirror_mode": {
    "name": "ipython",
    "version": 3
   },
   "file_extension": ".py",
   "mimetype": "text/x-python",
   "name": "python",
   "nbconvert_exporter": "python",
   "pygments_lexer": "ipython3",
   "version": "3.8.8"
  },
  "orig_nbformat": 4
 },
 "nbformat": 4,
 "nbformat_minor": 2
}
