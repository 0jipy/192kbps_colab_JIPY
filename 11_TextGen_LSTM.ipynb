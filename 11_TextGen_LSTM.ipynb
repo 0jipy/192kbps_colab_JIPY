{
  "nbformat": 4,
  "nbformat_minor": 0,
  "metadata": {
    "colab": {
      "name": "11_TextGen_LSTM.ipynb",
      "provenance": [],
      "collapsed_sections": [],
      "machine_shape": "hm",
      "include_colab_link": true
    },
    "kernelspec": {
      "name": "python3",
      "display_name": "Python 3"
    },
    "language_info": {
      "name": "python"
    },
    "accelerator": "GPU"
  },
  "cells": [
    {
      "cell_type": "markdown",
      "metadata": {
        "id": "view-in-github",
        "colab_type": "text"
      },
      "source": [
        "<a href=\"https://colab.research.google.com/github/0jipy/192kbps_colab_JIPY/blob/main/11_TextGen_LSTM.ipynb\" target=\"_parent\"><img src=\"https://colab.research.google.com/assets/colab-badge.svg\" alt=\"Open In Colab\"/></a>"
      ]
    },
    {
      "cell_type": "markdown",
      "source": [
        "# LSTM을 이용한 텍스트 생성\n",
        " - 데이터 다운로드 : 캐글 New York Times Comments\n",
        " - ArticalesApril2018.csv"
      ],
      "metadata": {
        "id": "Dm5GDREEmK5r"
      }
    },
    {
      "cell_type": "code",
      "source": [
        "from google.colab import files\n",
        "up = files.upload()"
      ],
      "metadata": {
        "colab": {
          "resources": {
            "http://localhost:8080/nbextensions/google.colab/files.js": {
              "data": "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",
              "ok": true,
              "headers": [
                [
                  "content-type",
                  "application/javascript"
                ]
              ],
              "status": 200,
              "status_text": ""
            }
          },
          "base_uri": "https://localhost:8080/",
          "height": 42
        },
        "id": "oCcTgVENmekn",
        "outputId": "3cd08621-0109-478a-a5e4-1aba4d20d5a2"
      },
      "execution_count": null,
      "outputs": [
        {
          "output_type": "display_data",
          "data": {
            "text/html": [
              "\n",
              "     <input type=\"file\" id=\"files-3e26b59e-b8f6-4272-9eae-0f8b24572acb\" name=\"files[]\" multiple disabled\n",
              "        style=\"border:none\" />\n",
              "     <output id=\"result-3e26b59e-b8f6-4272-9eae-0f8b24572acb\">\n",
              "      Upload widget is only available when the cell has been executed in the\n",
              "      current browser session. Please rerun this cell to enable.\n",
              "      </output>\n",
              "      <script src=\"/nbextensions/google.colab/files.js\"></script> "
            ],
            "text/plain": [
              "<IPython.core.display.HTML object>"
            ]
          },
          "metadata": {}
        }
      ]
    },
    {
      "cell_type": "code",
      "source": [
        "import pandas as pd\n",
        "# df = pd.read_csv('ArticlesApril2018.csv', encoding='latin1')\n",
        "df = pd.read_csv('/content/ArticlesApril2018.csv', encoding='latin1')\n",
        "df.head()"
      ],
      "metadata": {
        "id": "-_WMR7hfnG-U"
      },
      "execution_count": null,
      "outputs": []
    },
    {
      "cell_type": "markdown",
      "source": [
        "## 데이터 전처리\n",
        "     - 헤드라인을 가지고 학습을 시켜서. 문장을 제대로 재생을 하는지 확인해 보자"
      ],
      "metadata": {
        "id": "kKywAvRgoCyN"
      }
    },
    {
      "cell_type": "code",
      "source": [
        "# 1. Null이 있는지 확인 # 널값은 없어. \n",
        "df.headline.isnull().sum()"
      ],
      "metadata": {
        "colab": {
          "base_uri": "https://localhost:8080/"
        },
        "id": "dfaNTud7n7CK",
        "outputId": "d335c7e5-4828-470d-d9ce-e12cca462cde"
      },
      "execution_count": null,
      "outputs": [
        {
          "output_type": "execute_result",
          "data": {
            "text/plain": [
              "0"
            ]
          },
          "metadata": {},
          "execution_count": 55
        }
      ]
    },
    {
      "cell_type": "code",
      "source": [
        "# headline 컬럼 스트링이 있는 리스트로 만들어 학습\n",
        "# headline 컬럼 : 시리즈 타입 ----> 리스트 \n",
        "# 다만 이렇게 되면 언노운을 지울 수 없어\n",
        "headlines = df.headline.values.tolist()\n",
        "headlines[:5]"
      ],
      "metadata": {
        "colab": {
          "base_uri": "https://localhost:8080/"
        },
        "id": "Z2ibo3x-oTeh",
        "outputId": "20e14d2b-e772-48f0-e869-466f22691c0d"
      },
      "execution_count": null,
      "outputs": [
        {
          "output_type": "execute_result",
          "data": {
            "text/plain": [
              "['Former N.F.L. Cheerleadersâ\\x80\\x99 Settlement Offer: $1 and a Meeting With Goodell',\n",
              " 'E.P.A. to Unveil a New Rule. Its Effect: Less Science in Policymaking.',\n",
              " 'The New Noma, Explained',\n",
              " 'Unknown',\n",
              " 'Unknown']"
            ]
          },
          "metadata": {},
          "execution_count": 56
        }
      ]
    },
    {
      "cell_type": "code",
      "source": [
        "len(headlines)"
      ],
      "metadata": {
        "colab": {
          "base_uri": "https://localhost:8080/"
        },
        "id": "cnGVxfgB2_99",
        "outputId": "58647f4b-a107-4173-f14b-1be6a9344f8f"
      },
      "execution_count": null,
      "outputs": [
        {
          "output_type": "execute_result",
          "data": {
            "text/plain": [
              "1324"
            ]
          },
          "metadata": {},
          "execution_count": 57
        }
      ]
    },
    {
      "cell_type": "code",
      "source": [
        "# 노이즈 데이터 ('Unknown') 제거\n",
        "headlines = [line for line in df.headline.values if line != 'Unknown']\n",
        "# headlines[:5]\n",
        "len(headlines)"
      ],
      "metadata": {
        "colab": {
          "base_uri": "https://localhost:8080/"
        },
        "id": "0dmIPDaHrIDK",
        "outputId": "2eae425a-1ea4-441c-8d5f-c4542db1a053"
      },
      "execution_count": null,
      "outputs": [
        {
          "output_type": "execute_result",
          "data": {
            "text/plain": [
              "1214"
            ]
          },
          "metadata": {},
          "execution_count": 58
        }
      ]
    },
    {
      "cell_type": "code",
      "source": [
        "# encoding, 구둣점 제거, 소문자로 변환 => preprocessing\n",
        "import re\n",
        "def preprocessing(s):\n",
        "    s = s.encode('utf8').decode('ascii', 'ignore')\n",
        "    s = re.sub('[^A-Za-z0-9 ]', '', s)   # re.sub（정규 표현식,  , 치환 문자 대상 문자열）\n",
        "    return s.lower()"
      ],
      "metadata": {
        "id": "W--Z31GJr9JP"
      },
      "execution_count": null,
      "outputs": []
    },
    {
      "cell_type": "code",
      "source": [
        "headlines = [preprocessing(line) for line in headlines]\n",
        "headlines[:5]"
      ],
      "metadata": {
        "colab": {
          "base_uri": "https://localhost:8080/"
        },
        "id": "6etJf_QQtD8K",
        "outputId": "f88a59dc-7421-4d9b-9fe5-d842969df9d8"
      },
      "execution_count": null,
      "outputs": [
        {
          "output_type": "execute_result",
          "data": {
            "text/plain": [
              "['former nfl cheerleaders settlement offer 1 and a meeting with goodell',\n",
              " 'epa to unveil a new rule its effect less science in policymaking',\n",
              " 'the new noma explained',\n",
              " 'how a bag of texas dirt  became a times tradition',\n",
              " 'is school a place for selfexpression']"
            ]
          },
          "metadata": {},
          "execution_count": 60
        }
      ]
    },
    {
      "cell_type": "markdown",
      "source": [
        "## Keras 텍스트 전처리"
      ],
      "metadata": {
        "id": "cgMpbVzX5Fcm"
      }
    },
    {
      "cell_type": "code",
      "source": [
        "from tensorflow.keras.preprocessing.text import Tokenizer\n",
        "from tensorflow.keras.preprocessing.sequence import pad_sequences\n",
        "from tensorflow.keras.utils import to_categorical"
      ],
      "metadata": {
        "id": "UmIs11CNtRgf"
      },
      "execution_count": null,
      "outputs": []
    },
    {
      "cell_type": "code",
      "source": [
        "# 단어 집합 생성\n",
        "t = Tokenizer()\n",
        "t.fit_on_texts(headlines)"
      ],
      "metadata": {
        "id": "3dqYJV2Zt4s3"
      },
      "execution_count": null,
      "outputs": []
    },
    {
      "cell_type": "code",
      "source": [
        "# 단어 집합 크기 - keras Tokenizer의 시작 인덱스가 1이기 때문\n",
        "vocab_size = len(t.word_index) + 1\n",
        "vocab_size"
      ],
      "metadata": {
        "colab": {
          "base_uri": "https://localhost:8080/"
        },
        "id": "wzBnsRy2uDW5",
        "outputId": "42360e76-cd46-4a8c-88a3-ce51b166d621"
      },
      "execution_count": null,
      "outputs": [
        {
          "output_type": "execute_result",
          "data": {
            "text/plain": [
              "3494"
            ]
          },
          "metadata": {},
          "execution_count": 17
        }
      ]
    },
    {
      "cell_type": "code",
      "source": [
        "sequences = []\n",
        "for line in headlines:\n",
        "    encoded=t.texts_to_sequences([line])[0]\n",
        "    for i in range(1, len(encoded)):\n",
        "        sequences.append(encoded[:i+1])\n",
        "\n",
        "sequences[:11]"
      ],
      "metadata": {
        "colab": {
          "base_uri": "https://localhost:8080/"
        },
        "id": "EJlWur0VuJO1",
        "outputId": "f4a9b77f-5e40-4abe-97a6-e980395c5025"
      },
      "execution_count": null,
      "outputs": [
        {
          "output_type": "execute_result",
          "data": {
            "text/plain": [
              "[[99, 269],\n",
              " [99, 269, 371],\n",
              " [99, 269, 371, 1115],\n",
              " [99, 269, 371, 1115, 582],\n",
              " [99, 269, 371, 1115, 582, 52],\n",
              " [99, 269, 371, 1115, 582, 52, 7],\n",
              " [99, 269, 371, 1115, 582, 52, 7, 2],\n",
              " [99, 269, 371, 1115, 582, 52, 7, 2, 372],\n",
              " [99, 269, 371, 1115, 582, 52, 7, 2, 372, 10],\n",
              " [99, 269, 371, 1115, 582, 52, 7, 2, 372, 10, 1116],\n",
              " [100, 3]]"
            ]
          },
          "metadata": {},
          "execution_count": 19
        }
      ]
    },
    {
      "cell_type": "code",
      "source": [
        "max_len = max(len(seq) for seq in sequences)\n",
        "max_len"
      ],
      "metadata": {
        "colab": {
          "base_uri": "https://localhost:8080/"
        },
        "id": "fFGOVxcUu00L",
        "outputId": "fb10c163-a527-40d1-c076-02d8aa900929"
      },
      "execution_count": null,
      "outputs": [
        {
          "output_type": "execute_result",
          "data": {
            "text/plain": [
              "24"
            ]
          },
          "metadata": {},
          "execution_count": 20
        }
      ]
    },
    {
      "cell_type": "code",
      "source": [
        "sequences = pad_sequences(sequences, maxlen=max_len, padding='pre')\n",
        "sequences[:3]"
      ],
      "metadata": {
        "colab": {
          "base_uri": "https://localhost:8080/"
        },
        "id": "xEiS9JcVvJ5k",
        "outputId": "207eafae-7b04-400f-dc21-8f9cf680c0e2"
      },
      "execution_count": null,
      "outputs": [
        {
          "output_type": "execute_result",
          "data": {
            "text/plain": [
              "array([[   0,    0,    0,    0,    0,    0,    0,    0,    0,    0,    0,\n",
              "           0,    0,    0,    0,    0,    0,    0,    0,    0,    0,    0,\n",
              "          99,  269],\n",
              "       [   0,    0,    0,    0,    0,    0,    0,    0,    0,    0,    0,\n",
              "           0,    0,    0,    0,    0,    0,    0,    0,    0,    0,   99,\n",
              "         269,  371],\n",
              "       [   0,    0,    0,    0,    0,    0,    0,    0,    0,    0,    0,\n",
              "           0,    0,    0,    0,    0,    0,    0,    0,    0,   99,  269,\n",
              "         371, 1115]], dtype=int32)"
            ]
          },
          "metadata": {},
          "execution_count": 65
        }
      ]
    },
    {
      "cell_type": "code",
      "source": [
        "X = sequences[:,:-1]\n",
        "y = sequences[:,-1]\n",
        "Y = to_categorical(y)\n",
        "X.shape, Y.shape"
      ],
      "metadata": {
        "colab": {
          "base_uri": "https://localhost:8080/"
        },
        "id": "xJwMiu3UvMrN",
        "outputId": "647801b1-8031-4261-9da4-f530db9532e6"
      },
      "execution_count": null,
      "outputs": [
        {
          "output_type": "execute_result",
          "data": {
            "text/plain": [
              "((7803, 23), (7803, 3494))"
            ]
          },
          "metadata": {},
          "execution_count": 22
        }
      ]
    },
    {
      "cell_type": "markdown",
      "source": [
        "## 모델 정의 설정 학습\n",
        " - Embedding: 10 차원\n",
        " - LSTM: 128 units"
      ],
      "metadata": {
        "id": "U5do6Zu9wd44"
      }
    },
    {
      "cell_type": "code",
      "source": [
        "import numpy as np\n",
        "import tensorflow as tf\n",
        "seed = 2022\n",
        "np.random.seed(seed)\n",
        "tf.random.set_seed(seed)"
      ],
      "metadata": {
        "id": "lBZJAMff5UFp"
      },
      "execution_count": null,
      "outputs": []
    },
    {
      "cell_type": "code",
      "source": [
        "from tensorflow.keras.models import Sequential\n",
        "from tensorflow.keras.layers import Embedding, LSTM, Dense"
      ],
      "metadata": {
        "id": "7DB602i4wjQm"
      },
      "execution_count": null,
      "outputs": []
    },
    {
      "cell_type": "code",
      "source": [
        "# 임베딩 벡터 10차원, LSTM 노드 크기 128\n",
        "model = Sequential([ \n",
        "    Embedding(vocab_size, 10, input_length=max_len-1),\n",
        "    LSTM(128),\n",
        "    Dense(vocab_size, activation='softmax')\n",
        "])\n",
        "model.summary()"
      ],
      "metadata": {
        "colab": {
          "base_uri": "https://localhost:8080/"
        },
        "id": "46MzjIJ0wjOZ",
        "outputId": "814e7629-dd66-423b-ab24-51a9e8845950"
      },
      "execution_count": null,
      "outputs": [
        {
          "output_type": "stream",
          "name": "stdout",
          "text": [
            "Model: \"sequential\"\n",
            "_________________________________________________________________\n",
            " Layer (type)                Output Shape              Param #   \n",
            "=================================================================\n",
            " embedding (Embedding)       (None, 23, 10)            34940     \n",
            "                                                                 \n",
            " lstm (LSTM)                 (None, 128)               71168     \n",
            "                                                                 \n",
            " dense (Dense)               (None, 3494)              450726    \n",
            "                                                                 \n",
            "=================================================================\n",
            "Total params: 556,834\n",
            "Trainable params: 556,834\n",
            "Non-trainable params: 0\n",
            "_________________________________________________________________\n"
          ]
        }
      ]
    },
    {
      "cell_type": "code",
      "source": [
        "# 컴파일\n",
        "model.compile('adam', 'categorical_crossentropy', metrics=['accuracy'])"
      ],
      "metadata": {
        "id": "LOaB0zeOwjME"
      },
      "execution_count": null,
      "outputs": []
    },
    {
      "cell_type": "code",
      "source": [
        "# Colab, GPU 환경\n",
        "%time hist = model.fit(X, Y, epochs=200, verbose=1)"
      ],
      "metadata": {
        "colab": {
          "base_uri": "https://localhost:8080/"
        },
        "id": "N87m0AIVwizW",
        "outputId": "47826aae-3308-4a76-cb39-056c91b55795"
      },
      "execution_count": null,
      "outputs": [
        {
          "output_type": "stream",
          "name": "stdout",
          "text": [
            "Epoch 1/200\n",
            "244/244 [==============================] - 7s 9ms/step - loss: 7.6335 - accuracy: 0.0300\n",
            "Epoch 2/200\n",
            "244/244 [==============================] - 2s 9ms/step - loss: 7.1153 - accuracy: 0.0306\n",
            "Epoch 3/200\n",
            "244/244 [==============================] - 2s 9ms/step - loss: 6.9745 - accuracy: 0.0332\n",
            "Epoch 4/200\n",
            "244/244 [==============================] - 2s 9ms/step - loss: 6.8365 - accuracy: 0.0422\n",
            "Epoch 5/200\n",
            "244/244 [==============================] - 2s 9ms/step - loss: 6.6811 - accuracy: 0.0436\n",
            "Epoch 6/200\n",
            "244/244 [==============================] - 2s 9ms/step - loss: 6.5127 - accuracy: 0.0477\n",
            "Epoch 7/200\n",
            "244/244 [==============================] - 2s 9ms/step - loss: 6.3253 - accuracy: 0.0506\n",
            "Epoch 8/200\n",
            "244/244 [==============================] - 2s 9ms/step - loss: 6.1299 - accuracy: 0.0581\n",
            "Epoch 9/200\n",
            "244/244 [==============================] - 2s 9ms/step - loss: 5.9334 - accuracy: 0.0613\n",
            "Epoch 10/200\n",
            "244/244 [==============================] - 2s 9ms/step - loss: 5.7497 - accuracy: 0.0677\n",
            "Epoch 11/200\n",
            "244/244 [==============================] - 2s 9ms/step - loss: 5.5762 - accuracy: 0.0733\n",
            "Epoch 12/200\n",
            "244/244 [==============================] - 2s 9ms/step - loss: 5.4134 - accuracy: 0.0779\n",
            "Epoch 13/200\n",
            "244/244 [==============================] - 2s 9ms/step - loss: 5.2628 - accuracy: 0.0800\n",
            "Epoch 14/200\n",
            "244/244 [==============================] - 2s 9ms/step - loss: 5.1140 - accuracy: 0.0907\n",
            "Epoch 15/200\n",
            "244/244 [==============================] - 2s 9ms/step - loss: 4.9748 - accuracy: 0.0945\n",
            "Epoch 16/200\n",
            "244/244 [==============================] - 2s 9ms/step - loss: 5.4445 - accuracy: 0.0914\n",
            "Epoch 17/200\n",
            "244/244 [==============================] - 2s 9ms/step - loss: 4.8989 - accuracy: 0.1002\n",
            "Epoch 18/200\n",
            "244/244 [==============================] - 2s 9ms/step - loss: 4.6790 - accuracy: 0.1202\n",
            "Epoch 19/200\n",
            "244/244 [==============================] - 2s 9ms/step - loss: 4.5452 - accuracy: 0.1379\n",
            "Epoch 20/200\n",
            "244/244 [==============================] - 2s 9ms/step - loss: 4.4249 - accuracy: 0.1546\n",
            "Epoch 21/200\n",
            "244/244 [==============================] - 2s 9ms/step - loss: 4.3122 - accuracy: 0.1635\n",
            "Epoch 22/200\n",
            "244/244 [==============================] - 2s 9ms/step - loss: 4.2048 - accuracy: 0.1811\n",
            "Epoch 23/200\n",
            "244/244 [==============================] - 2s 9ms/step - loss: 4.1002 - accuracy: 0.1968\n",
            "Epoch 24/200\n",
            "244/244 [==============================] - 2s 9ms/step - loss: 3.9973 - accuracy: 0.2133\n",
            "Epoch 25/200\n",
            "244/244 [==============================] - 2s 9ms/step - loss: 3.8999 - accuracy: 0.2295\n",
            "Epoch 26/200\n",
            "244/244 [==============================] - 2s 9ms/step - loss: 3.8009 - accuracy: 0.2434\n",
            "Epoch 27/200\n",
            "244/244 [==============================] - 2s 9ms/step - loss: 3.7081 - accuracy: 0.2612\n",
            "Epoch 28/200\n",
            "244/244 [==============================] - 2s 9ms/step - loss: 3.6163 - accuracy: 0.2767\n",
            "Epoch 29/200\n",
            "244/244 [==============================] - 2s 9ms/step - loss: 3.5257 - accuracy: 0.2941\n",
            "Epoch 30/200\n",
            "244/244 [==============================] - 2s 9ms/step - loss: 3.4381 - accuracy: 0.3156\n",
            "Epoch 31/200\n",
            "244/244 [==============================] - 2s 9ms/step - loss: 3.3553 - accuracy: 0.3282\n",
            "Epoch 32/200\n",
            "244/244 [==============================] - 2s 9ms/step - loss: 3.2719 - accuracy: 0.3477\n",
            "Epoch 33/200\n",
            "244/244 [==============================] - 2s 9ms/step - loss: 3.1940 - accuracy: 0.3576\n",
            "Epoch 34/200\n",
            "244/244 [==============================] - 2s 9ms/step - loss: 3.1166 - accuracy: 0.3720\n",
            "Epoch 35/200\n",
            "244/244 [==============================] - 2s 9ms/step - loss: 3.0423 - accuracy: 0.3816\n",
            "Epoch 36/200\n",
            "244/244 [==============================] - 2s 9ms/step - loss: 2.9702 - accuracy: 0.3978\n",
            "Epoch 37/200\n",
            "244/244 [==============================] - 2s 9ms/step - loss: 2.8976 - accuracy: 0.4072\n",
            "Epoch 38/200\n",
            "244/244 [==============================] - 2s 9ms/step - loss: 2.8330 - accuracy: 0.4188\n",
            "Epoch 39/200\n",
            "244/244 [==============================] - 2s 9ms/step - loss: 2.7668 - accuracy: 0.4352\n",
            "Epoch 40/200\n",
            "244/244 [==============================] - 2s 9ms/step - loss: 2.7031 - accuracy: 0.4447\n",
            "Epoch 41/200\n",
            "244/244 [==============================] - 2s 9ms/step - loss: 2.6415 - accuracy: 0.4574\n",
            "Epoch 42/200\n",
            "244/244 [==============================] - 2s 9ms/step - loss: 2.5791 - accuracy: 0.4733\n",
            "Epoch 43/200\n",
            "244/244 [==============================] - 2s 9ms/step - loss: 2.5219 - accuracy: 0.4848\n",
            "Epoch 44/200\n",
            "244/244 [==============================] - 2s 9ms/step - loss: 2.4635 - accuracy: 0.4922\n",
            "Epoch 45/200\n",
            "244/244 [==============================] - 2s 9ms/step - loss: 2.4071 - accuracy: 0.5045\n",
            "Epoch 46/200\n",
            "244/244 [==============================] - 2s 9ms/step - loss: 2.3549 - accuracy: 0.5169\n",
            "Epoch 47/200\n",
            "244/244 [==============================] - 2s 9ms/step - loss: 2.3002 - accuracy: 0.5248\n",
            "Epoch 48/200\n",
            "244/244 [==============================] - 2s 9ms/step - loss: 2.2492 - accuracy: 0.5375\n",
            "Epoch 49/200\n",
            "244/244 [==============================] - 2s 9ms/step - loss: 2.1965 - accuracy: 0.5481\n",
            "Epoch 50/200\n",
            "244/244 [==============================] - 2s 9ms/step - loss: 2.1474 - accuracy: 0.5565\n",
            "Epoch 51/200\n",
            "244/244 [==============================] - 2s 9ms/step - loss: 2.0992 - accuracy: 0.5671\n",
            "Epoch 52/200\n",
            "244/244 [==============================] - 2s 9ms/step - loss: 2.0508 - accuracy: 0.5777\n",
            "Epoch 53/200\n",
            "244/244 [==============================] - 2s 9ms/step - loss: 2.0041 - accuracy: 0.5911\n",
            "Epoch 54/200\n",
            "244/244 [==============================] - 2s 9ms/step - loss: 1.9592 - accuracy: 0.5989\n",
            "Epoch 55/200\n",
            "244/244 [==============================] - 2s 9ms/step - loss: 1.9149 - accuracy: 0.6085\n",
            "Epoch 56/200\n",
            "244/244 [==============================] - 2s 9ms/step - loss: 1.8710 - accuracy: 0.6223\n",
            "Epoch 57/200\n",
            "244/244 [==============================] - 2s 9ms/step - loss: 1.8275 - accuracy: 0.6308\n",
            "Epoch 58/200\n",
            "244/244 [==============================] - 2s 9ms/step - loss: 1.7826 - accuracy: 0.6422\n",
            "Epoch 59/200\n",
            "244/244 [==============================] - 2s 9ms/step - loss: 1.7418 - accuracy: 0.6542\n",
            "Epoch 60/200\n",
            "244/244 [==============================] - 2s 9ms/step - loss: 1.7012 - accuracy: 0.6573\n",
            "Epoch 61/200\n",
            "244/244 [==============================] - 2s 9ms/step - loss: 1.6605 - accuracy: 0.6664\n",
            "Epoch 62/200\n",
            "244/244 [==============================] - 2s 9ms/step - loss: 1.6243 - accuracy: 0.6769\n",
            "Epoch 63/200\n",
            "244/244 [==============================] - 2s 9ms/step - loss: 1.5812 - accuracy: 0.6849\n",
            "Epoch 64/200\n",
            "244/244 [==============================] - 2s 9ms/step - loss: 1.5456 - accuracy: 0.6956\n",
            "Epoch 65/200\n",
            "244/244 [==============================] - 2s 9ms/step - loss: 1.5109 - accuracy: 0.6987\n",
            "Epoch 66/200\n",
            "244/244 [==============================] - 2s 9ms/step - loss: 1.4713 - accuracy: 0.7095\n",
            "Epoch 67/200\n",
            "244/244 [==============================] - 2s 9ms/step - loss: 1.4372 - accuracy: 0.7172\n",
            "Epoch 68/200\n",
            "244/244 [==============================] - 2s 9ms/step - loss: 1.4006 - accuracy: 0.7266\n",
            "Epoch 69/200\n",
            "244/244 [==============================] - 2s 9ms/step - loss: 1.3676 - accuracy: 0.7281\n",
            "Epoch 70/200\n",
            "244/244 [==============================] - 2s 9ms/step - loss: 1.3345 - accuracy: 0.7384\n",
            "Epoch 71/200\n",
            "244/244 [==============================] - 2s 9ms/step - loss: 1.3017 - accuracy: 0.7434\n",
            "Epoch 72/200\n",
            "244/244 [==============================] - 2s 9ms/step - loss: 1.2703 - accuracy: 0.7493\n",
            "Epoch 73/200\n",
            "244/244 [==============================] - 2s 9ms/step - loss: 1.2400 - accuracy: 0.7542\n",
            "Epoch 74/200\n",
            "244/244 [==============================] - 2s 9ms/step - loss: 1.2104 - accuracy: 0.7615\n",
            "Epoch 75/200\n",
            "244/244 [==============================] - 2s 9ms/step - loss: 1.1834 - accuracy: 0.7659\n",
            "Epoch 76/200\n",
            "244/244 [==============================] - 2s 9ms/step - loss: 1.1525 - accuracy: 0.7725\n",
            "Epoch 77/200\n",
            "244/244 [==============================] - 2s 9ms/step - loss: 1.1256 - accuracy: 0.7787\n",
            "Epoch 78/200\n",
            "244/244 [==============================] - 2s 9ms/step - loss: 1.0996 - accuracy: 0.7833\n",
            "Epoch 79/200\n",
            "244/244 [==============================] - 2s 9ms/step - loss: 1.0704 - accuracy: 0.7893\n",
            "Epoch 80/200\n",
            "244/244 [==============================] - 2s 9ms/step - loss: 1.0448 - accuracy: 0.7951\n",
            "Epoch 81/200\n",
            "244/244 [==============================] - 2s 9ms/step - loss: 1.0241 - accuracy: 0.7973\n",
            "Epoch 82/200\n",
            "244/244 [==============================] - 2s 9ms/step - loss: 0.9994 - accuracy: 0.7987\n",
            "Epoch 83/200\n",
            "244/244 [==============================] - 2s 9ms/step - loss: 0.9739 - accuracy: 0.8039\n",
            "Epoch 84/200\n",
            "244/244 [==============================] - 2s 9ms/step - loss: 0.9522 - accuracy: 0.8114\n",
            "Epoch 85/200\n",
            "244/244 [==============================] - 2s 9ms/step - loss: 0.9275 - accuracy: 0.8161\n",
            "Epoch 86/200\n",
            "244/244 [==============================] - 2s 9ms/step - loss: 0.9087 - accuracy: 0.8181\n",
            "Epoch 87/200\n",
            "244/244 [==============================] - 2s 9ms/step - loss: 0.8877 - accuracy: 0.8251\n",
            "Epoch 88/200\n",
            "244/244 [==============================] - 2s 9ms/step - loss: 0.8687 - accuracy: 0.8283\n",
            "Epoch 89/200\n",
            "244/244 [==============================] - 2s 9ms/step - loss: 0.8476 - accuracy: 0.8326\n",
            "Epoch 90/200\n",
            "244/244 [==============================] - 2s 9ms/step - loss: 0.8273 - accuracy: 0.8343\n",
            "Epoch 91/200\n",
            "244/244 [==============================] - 2s 9ms/step - loss: 0.8104 - accuracy: 0.8369\n",
            "Epoch 92/200\n",
            "244/244 [==============================] - 2s 9ms/step - loss: 0.7894 - accuracy: 0.8436\n",
            "Epoch 93/200\n",
            "244/244 [==============================] - 2s 9ms/step - loss: 0.7717 - accuracy: 0.8465\n",
            "Epoch 94/200\n",
            "244/244 [==============================] - 2s 9ms/step - loss: 0.7539 - accuracy: 0.8513\n",
            "Epoch 95/200\n",
            "244/244 [==============================] - 2s 9ms/step - loss: 0.7369 - accuracy: 0.8531\n",
            "Epoch 96/200\n",
            "244/244 [==============================] - 2s 9ms/step - loss: 0.7211 - accuracy: 0.8575\n",
            "Epoch 97/200\n",
            "244/244 [==============================] - 2s 9ms/step - loss: 0.7071 - accuracy: 0.8621\n",
            "Epoch 98/200\n",
            "244/244 [==============================] - 2s 9ms/step - loss: 0.6915 - accuracy: 0.8636\n",
            "Epoch 99/200\n",
            "244/244 [==============================] - 2s 9ms/step - loss: 0.6751 - accuracy: 0.8675\n",
            "Epoch 100/200\n",
            "244/244 [==============================] - 2s 9ms/step - loss: 0.6601 - accuracy: 0.8711\n",
            "Epoch 101/200\n",
            "244/244 [==============================] - 2s 9ms/step - loss: 0.6451 - accuracy: 0.8729\n",
            "Epoch 102/200\n",
            "244/244 [==============================] - 2s 9ms/step - loss: 0.6309 - accuracy: 0.8747\n",
            "Epoch 103/200\n",
            "244/244 [==============================] - 2s 9ms/step - loss: 0.6193 - accuracy: 0.8775\n",
            "Epoch 104/200\n",
            "244/244 [==============================] - 2s 9ms/step - loss: 0.6205 - accuracy: 0.8757\n",
            "Epoch 105/200\n",
            "244/244 [==============================] - 2s 9ms/step - loss: 0.5955 - accuracy: 0.8815\n",
            "Epoch 106/200\n",
            "244/244 [==============================] - 2s 9ms/step - loss: 0.5798 - accuracy: 0.8852\n",
            "Epoch 107/200\n",
            "244/244 [==============================] - 2s 9ms/step - loss: 0.5675 - accuracy: 0.8859\n",
            "Epoch 108/200\n",
            "244/244 [==============================] - 2s 9ms/step - loss: 0.5562 - accuracy: 0.8881\n",
            "Epoch 109/200\n",
            "244/244 [==============================] - 2s 9ms/step - loss: 0.5447 - accuracy: 0.8906\n",
            "Epoch 110/200\n",
            "244/244 [==============================] - 2s 9ms/step - loss: 0.5320 - accuracy: 0.8917\n",
            "Epoch 111/200\n",
            "244/244 [==============================] - 2s 9ms/step - loss: 0.5252 - accuracy: 0.8950\n",
            "Epoch 112/200\n",
            "244/244 [==============================] - 2s 9ms/step - loss: 0.5143 - accuracy: 0.8938\n",
            "Epoch 113/200\n",
            "244/244 [==============================] - 2s 9ms/step - loss: 0.5010 - accuracy: 0.8976\n",
            "Epoch 114/200\n",
            "244/244 [==============================] - 2s 9ms/step - loss: 0.4931 - accuracy: 0.8979\n",
            "Epoch 115/200\n",
            "244/244 [==============================] - 2s 9ms/step - loss: 0.4836 - accuracy: 0.8998\n",
            "Epoch 116/200\n",
            "244/244 [==============================] - 2s 9ms/step - loss: 0.4748 - accuracy: 0.9011\n",
            "Epoch 117/200\n",
            "244/244 [==============================] - 2s 9ms/step - loss: 0.4658 - accuracy: 0.9029\n",
            "Epoch 118/200\n",
            "244/244 [==============================] - 2s 9ms/step - loss: 0.4575 - accuracy: 0.9038\n",
            "Epoch 119/200\n",
            "244/244 [==============================] - 2s 9ms/step - loss: 0.4485 - accuracy: 0.9031\n",
            "Epoch 120/200\n",
            "244/244 [==============================] - 2s 9ms/step - loss: 0.4471 - accuracy: 0.9034\n",
            "Epoch 121/200\n",
            "244/244 [==============================] - 2s 9ms/step - loss: 0.4507 - accuracy: 0.9041\n",
            "Epoch 122/200\n",
            "244/244 [==============================] - 2s 9ms/step - loss: 0.4305 - accuracy: 0.9079\n",
            "Epoch 123/200\n",
            "244/244 [==============================] - 2s 9ms/step - loss: 0.4186 - accuracy: 0.9077\n",
            "Epoch 124/200\n",
            "244/244 [==============================] - 2s 9ms/step - loss: 0.4124 - accuracy: 0.9082\n",
            "Epoch 125/200\n",
            "244/244 [==============================] - 2s 9ms/step - loss: 0.4068 - accuracy: 0.9084\n",
            "Epoch 126/200\n",
            "244/244 [==============================] - 2s 9ms/step - loss: 0.4015 - accuracy: 0.9098\n",
            "Epoch 127/200\n",
            "244/244 [==============================] - 2s 9ms/step - loss: 0.3950 - accuracy: 0.9086\n",
            "Epoch 128/200\n",
            "244/244 [==============================] - 2s 9ms/step - loss: 0.3876 - accuracy: 0.9111\n",
            "Epoch 129/200\n",
            "244/244 [==============================] - 2s 9ms/step - loss: 0.3836 - accuracy: 0.9126\n",
            "Epoch 130/200\n",
            "244/244 [==============================] - 2s 9ms/step - loss: 0.3810 - accuracy: 0.9112\n",
            "Epoch 131/200\n",
            "244/244 [==============================] - 2s 9ms/step - loss: 0.3729 - accuracy: 0.9123\n",
            "Epoch 132/200\n",
            "244/244 [==============================] - 2s 9ms/step - loss: 0.3696 - accuracy: 0.9139\n",
            "Epoch 133/200\n",
            "244/244 [==============================] - 2s 9ms/step - loss: 0.3629 - accuracy: 0.9125\n",
            "Epoch 134/200\n",
            "244/244 [==============================] - 2s 9ms/step - loss: 0.3578 - accuracy: 0.9140\n",
            "Epoch 135/200\n",
            "244/244 [==============================] - 2s 9ms/step - loss: 0.3562 - accuracy: 0.9140\n",
            "Epoch 136/200\n",
            "244/244 [==============================] - 2s 9ms/step - loss: 0.3767 - accuracy: 0.9109\n",
            "Epoch 137/200\n",
            "244/244 [==============================] - 2s 9ms/step - loss: 0.3659 - accuracy: 0.9109\n",
            "Epoch 138/200\n",
            "244/244 [==============================] - 2s 9ms/step - loss: 0.3451 - accuracy: 0.9148\n",
            "Epoch 139/200\n",
            "244/244 [==============================] - 2s 9ms/step - loss: 0.3387 - accuracy: 0.9143\n",
            "Epoch 140/200\n",
            "244/244 [==============================] - 2s 9ms/step - loss: 0.3342 - accuracy: 0.9157\n",
            "Epoch 141/200\n",
            "244/244 [==============================] - 2s 9ms/step - loss: 0.3318 - accuracy: 0.9146\n",
            "Epoch 142/200\n",
            "244/244 [==============================] - 2s 9ms/step - loss: 0.3289 - accuracy: 0.9155\n",
            "Epoch 143/200\n",
            "244/244 [==============================] - 2s 9ms/step - loss: 0.3252 - accuracy: 0.9171\n",
            "Epoch 144/200\n",
            "244/244 [==============================] - 2s 9ms/step - loss: 0.3236 - accuracy: 0.9159\n",
            "Epoch 145/200\n",
            "244/244 [==============================] - 2s 9ms/step - loss: 0.3202 - accuracy: 0.9167\n",
            "Epoch 146/200\n",
            "244/244 [==============================] - 2s 9ms/step - loss: 0.3182 - accuracy: 0.9150\n",
            "Epoch 147/200\n",
            "244/244 [==============================] - 2s 9ms/step - loss: 0.3159 - accuracy: 0.9166\n",
            "Epoch 148/200\n",
            "244/244 [==============================] - 2s 9ms/step - loss: 0.3158 - accuracy: 0.9164\n",
            "Epoch 149/200\n",
            "244/244 [==============================] - 2s 9ms/step - loss: 0.3150 - accuracy: 0.9164\n",
            "Epoch 150/200\n",
            "244/244 [==============================] - 2s 9ms/step - loss: 0.3094 - accuracy: 0.9166\n",
            "Epoch 151/200\n",
            "244/244 [==============================] - 2s 9ms/step - loss: 0.3092 - accuracy: 0.9167\n",
            "Epoch 152/200\n",
            "244/244 [==============================] - 2s 9ms/step - loss: 0.3038 - accuracy: 0.9175\n",
            "Epoch 153/200\n",
            "244/244 [==============================] - 2s 9ms/step - loss: 0.3029 - accuracy: 0.9168\n",
            "Epoch 154/200\n",
            "244/244 [==============================] - 2s 9ms/step - loss: 0.3044 - accuracy: 0.9152\n",
            "Epoch 155/200\n",
            "244/244 [==============================] - 2s 9ms/step - loss: 0.3149 - accuracy: 0.9162\n",
            "Epoch 156/200\n",
            "244/244 [==============================] - 2s 9ms/step - loss: 0.3168 - accuracy: 0.9152\n",
            "Epoch 157/200\n",
            "244/244 [==============================] - 2s 9ms/step - loss: 0.3007 - accuracy: 0.9154\n",
            "Epoch 158/200\n",
            "244/244 [==============================] - 2s 9ms/step - loss: 0.2926 - accuracy: 0.9168\n",
            "Epoch 159/200\n",
            "244/244 [==============================] - 2s 9ms/step - loss: 0.2909 - accuracy: 0.9167\n",
            "Epoch 160/200\n",
            "244/244 [==============================] - 2s 9ms/step - loss: 0.2902 - accuracy: 0.9153\n",
            "Epoch 161/200\n",
            "244/244 [==============================] - 2s 9ms/step - loss: 0.2877 - accuracy: 0.9172\n",
            "Epoch 162/200\n",
            "244/244 [==============================] - 2s 9ms/step - loss: 0.2898 - accuracy: 0.9176\n",
            "Epoch 163/200\n",
            "244/244 [==============================] - 2s 9ms/step - loss: 0.2914 - accuracy: 0.9167\n",
            "Epoch 164/200\n",
            "244/244 [==============================] - 2s 9ms/step - loss: 0.2868 - accuracy: 0.9166\n",
            "Epoch 165/200\n",
            "244/244 [==============================] - 2s 9ms/step - loss: 0.2845 - accuracy: 0.9181\n",
            "Epoch 166/200\n",
            "244/244 [==============================] - 2s 9ms/step - loss: 0.2833 - accuracy: 0.9179\n",
            "Epoch 167/200\n",
            "244/244 [==============================] - 2s 9ms/step - loss: 0.2819 - accuracy: 0.9168\n",
            "Epoch 168/200\n",
            "244/244 [==============================] - 2s 9ms/step - loss: 0.2860 - accuracy: 0.9162\n",
            "Epoch 169/200\n",
            "244/244 [==============================] - 2s 9ms/step - loss: 0.2825 - accuracy: 0.9171\n",
            "Epoch 170/200\n",
            "244/244 [==============================] - 2s 9ms/step - loss: 0.2807 - accuracy: 0.9168\n",
            "Epoch 171/200\n",
            "244/244 [==============================] - 2s 9ms/step - loss: 0.2789 - accuracy: 0.9170\n",
            "Epoch 172/200\n",
            "244/244 [==============================] - 2s 9ms/step - loss: 0.2783 - accuracy: 0.9166\n",
            "Epoch 173/200\n",
            "244/244 [==============================] - 2s 9ms/step - loss: 0.2776 - accuracy: 0.9176\n",
            "Epoch 174/200\n",
            "244/244 [==============================] - 2s 9ms/step - loss: 0.2760 - accuracy: 0.9173\n",
            "Epoch 175/200\n",
            "244/244 [==============================] - 2s 9ms/step - loss: 0.2759 - accuracy: 0.9163\n",
            "Epoch 176/200\n",
            "244/244 [==============================] - 2s 9ms/step - loss: 0.2750 - accuracy: 0.9155\n",
            "Epoch 177/200\n",
            "244/244 [==============================] - 2s 9ms/step - loss: 0.2747 - accuracy: 0.9168\n",
            "Epoch 178/200\n",
            "244/244 [==============================] - 2s 9ms/step - loss: 0.3029 - accuracy: 0.9108\n",
            "Epoch 179/200\n",
            "244/244 [==============================] - 2s 8ms/step - loss: 0.2977 - accuracy: 0.9121\n",
            "Epoch 180/200\n",
            "244/244 [==============================] - 2s 9ms/step - loss: 0.2772 - accuracy: 0.9163\n",
            "Epoch 181/200\n",
            "244/244 [==============================] - 2s 9ms/step - loss: 0.2717 - accuracy: 0.9158\n",
            "Epoch 182/200\n",
            "244/244 [==============================] - 2s 9ms/step - loss: 0.2695 - accuracy: 0.9170\n",
            "Epoch 183/200\n",
            "244/244 [==============================] - 2s 9ms/step - loss: 0.2694 - accuracy: 0.9171\n",
            "Epoch 184/200\n",
            "244/244 [==============================] - 2s 9ms/step - loss: 0.2682 - accuracy: 0.9177\n",
            "Epoch 185/200\n",
            "244/244 [==============================] - 2s 9ms/step - loss: 0.2694 - accuracy: 0.9146\n",
            "Epoch 186/200\n",
            "244/244 [==============================] - 2s 9ms/step - loss: 0.2685 - accuracy: 0.9161\n",
            "Epoch 187/200\n",
            "244/244 [==============================] - 2s 9ms/step - loss: 0.2685 - accuracy: 0.9162\n",
            "Epoch 188/200\n",
            "244/244 [==============================] - 2s 9ms/step - loss: 0.2677 - accuracy: 0.9167\n",
            "Epoch 189/200\n",
            "244/244 [==============================] - 2s 9ms/step - loss: 0.2679 - accuracy: 0.9154\n",
            "Epoch 190/200\n",
            "244/244 [==============================] - 2s 9ms/step - loss: 0.2710 - accuracy: 0.9157\n",
            "Epoch 191/200\n",
            "244/244 [==============================] - 2s 9ms/step - loss: 0.2671 - accuracy: 0.9173\n",
            "Epoch 192/200\n",
            "244/244 [==============================] - 2s 9ms/step - loss: 0.2665 - accuracy: 0.9172\n",
            "Epoch 193/200\n",
            "244/244 [==============================] - 2s 8ms/step - loss: 0.2917 - accuracy: 0.9112\n",
            "Epoch 194/200\n",
            "244/244 [==============================] - 2s 9ms/step - loss: 0.2803 - accuracy: 0.9132\n",
            "Epoch 195/200\n",
            "244/244 [==============================] - 2s 9ms/step - loss: 0.2674 - accuracy: 0.9177\n",
            "Epoch 196/200\n",
            "244/244 [==============================] - 2s 9ms/step - loss: 0.2651 - accuracy: 0.9155\n",
            "Epoch 197/200\n",
            "244/244 [==============================] - 2s 9ms/step - loss: 0.2640 - accuracy: 0.9161\n",
            "Epoch 198/200\n",
            "244/244 [==============================] - 2s 9ms/step - loss: 0.2639 - accuracy: 0.9180\n",
            "Epoch 199/200\n",
            "244/244 [==============================] - 2s 9ms/step - loss: 0.2637 - accuracy: 0.9176\n",
            "Epoch 200/200\n",
            "244/244 [==============================] - 2s 9ms/step - loss: 0.2631 - accuracy: 0.9168\n",
            "CPU times: user 7min 53s, sys: 52.4 s, total: 8min 45s\n",
            "Wall time: 7min 11s\n"
          ]
        }
      ]
    },
    {
      "cell_type": "code",
      "source": [
        "hist.history['accuracy'][-1]"
      ],
      "metadata": {
        "colab": {
          "base_uri": "https://localhost:8080/"
        },
        "id": "VkAsY8nFzXxm",
        "outputId": "fb68ffe6-fcc8-4a7d-88e6-11af419f7a02"
      },
      "execution_count": null,
      "outputs": [
        {
          "output_type": "execute_result",
          "data": {
            "text/plain": [
              "0.9168268442153931"
            ]
          },
          "metadata": {},
          "execution_count": 27
        }
      ]
    },
    {
      "cell_type": "markdown",
      "source": [
        "- 모델 검증   \n",
        "vocap size 3944개인데 에서 10차원으로 줄여도 성능이 꽤 괞찮아"
      ],
      "metadata": {
        "id": "FzvyA7DczXvM"
      }
    },
    {
      "cell_type": "code",
      "source": [
        "up = files.upload()"
      ],
      "metadata": {
        "id": "8hgsQbtK5f5M"
      },
      "execution_count": null,
      "outputs": []
    },
    {
      "cell_type": "code",
      "source": [
        "from my_util import sentence_generation"
      ],
      "metadata": {
        "id": "4aC0krjszXs0"
      },
      "execution_count": null,
      "outputs": []
    },
    {
      "cell_type": "code",
      "source": [
        "print(sentence_generation(model, t, max_len, 'former', 10))\n",
        "print(sentence_generation(model, t, max_len, 'epa', 10))\n",
        "print(sentence_generation(model, t, max_len, 'how', 10))"
      ],
      "metadata": {
        "colab": {
          "base_uri": "https://localhost:8080/"
        },
        "id": "I3UebqHBzXqk",
        "outputId": "189996c5-42db-4c98-f335-35513954c7db"
      },
      "execution_count": null,
      "outputs": [
        {
          "output_type": "stream",
          "name": "stdout",
          "text": [
            "former judge to review files seized in searches war bereaved on\n",
            "epa chiefs ethics woes have echoes in his past in fix\n",
            "how to make a crossword puzzle with with rights has the\n"
          ]
        }
      ]
    },
    {
      "cell_type": "markdown",
      "source": [
        "- 훈련과정 시각화"
      ],
      "metadata": {
        "id": "cK4WUglEztax"
      }
    },
    {
      "cell_type": "code",
      "source": [
        "import numpy as np\n",
        "y_acc = hist.history['accuracy']\n",
        "y_loss = hist.history['loss']\n",
        "xs = np.arange(1, len(y_acc)+1)"
      ],
      "metadata": {
        "id": "1AFH2pTP0fyC"
      },
      "execution_count": null,
      "outputs": []
    },
    {
      "cell_type": "code",
      "source": [
        "plt.figure(figsize=(12,8))\n",
        "plt.\n",
        "plt.legend(), plt.grid()"
      ],
      "metadata": {
        "id": "-8IGCftW0whH"
      },
      "execution_count": null,
      "outputs": []
    },
    {
      "cell_type": "code",
      "source": [
        "import matplotlib.pyplot as plt\n",
        "plt.figure(figsize=(12,8))\n",
        "plt.plot(xs, y_acc, label='Train Accuracy')\n",
        "plt.plot(xs, y_loss, label='Train loss')\n",
        "plt.legend(), plt.grid(), \n",
        "plt.ylim(0,1.1)\n",
        "plt.xlabel('Epoch')\n",
        "plt.show()"
      ],
      "metadata": {
        "colab": {
          "base_uri": "https://localhost:8080/",
          "height": 497
        },
        "id": "LOpkGTRK1OR1",
        "outputId": "b95d0018-2936-46d3-bbdd-01bca74d1c6e"
      },
      "execution_count": null,
      "outputs": [
        {
          "output_type": "display_data",
          "data": {
            "image/png": "[encoded data removed]",
            "text/plain": [
              "<Figure size 864x576 with 1 Axes>"
            ]
          },
          "metadata": {
            "needs_background": "light"
          }
        }
      ]
    },
    {
      "cell_type": "code",
      "source": [
        ""
      ],
      "metadata": {
        "id": "6lsv7XtK1SDu"
      },
      "execution_count": null,
      "outputs": []
    }
  ]
}