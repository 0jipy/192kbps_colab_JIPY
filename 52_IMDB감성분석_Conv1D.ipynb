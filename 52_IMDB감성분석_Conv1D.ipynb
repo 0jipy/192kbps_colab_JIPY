{
  "cells": [
    {
      "cell_type": "markdown",
      "metadata": {
        "id": "view-in-github",
        "colab_type": "text"
      },
      "source": [
        "<a href=\"https://colab.research.google.com/github/0jipy/192kbps_colab_JIPY/blob/main/52_IMDB%EA%B0%90%EC%84%B1%EB%B6%84%EC%84%9D_Conv1D.ipynb\" target=\"_parent\"><img src=\"https://colab.research.google.com/assets/colab-badge.svg\" alt=\"Open In Colab\"/></a>"
      ]
    },
    {
      "cell_type": "markdown",
      "metadata": {
        "id": "0Sbd-nFR9t0U"
      },
      "source": [
        "IMDB 영화 리뷰 감성 분석 - Conv1D"
      ]
    },
    {
      "cell_type": "code",
      "execution_count": null,
      "metadata": {
        "id": "eg0P_glp9zDC"
      },
      "outputs": [],
      "source": [
        "import numpy as np\n",
        "import matplotlib.pyplot as plt\n",
        "from tensorflow.keras.datasets import imdb\n",
        "import warnings\n",
        "warnings.filterwarnings('ignore')"
      ]
    },
    {
      "cell_type": "markdown",
      "metadata": {
        "id": "UI9BLY6i_ZoO"
      },
      "source": [
        "### Conv1D로 IMDB 리뷰 감성 분석\n",
        "    단어 빈도수: 10,000 (총 88,584)\n",
        "    문장의 단어수: 500 (최대 2,494)\n",
        "    test data중 40%(10,000개)는 검증용으로"
      ]
    },
    {
      "cell_type": "code",
      "execution_count": null,
      "metadata": {
        "id": "UAMDeEWIA4qs"
      },
      "outputs": [],
      "source": [
        "import tensorflow as tf\n",
        "seed = 2022\n",
        "np.random.seed(seed)\n",
        "tf.random.set_seed(seed)"
      ]
    },
    {
      "cell_type": "code",
      "source": [
        "from tensorflow.keras.models import Sequential, load_model\n",
        "from tensorflow.keras.layers import Embedding, Dense, Dropout\n",
        "from tensorflow.keras.layers import Conv1D, MaxPooling1D, GlobalMaxPooling1D\n",
        "from tensorflow.keras.preprocessing.sequence import pad_sequences\n",
        "from tensorflow.keras.callbacks import ModelCheckpoint, EarlyStopping"
      ],
      "metadata": {
        "id": "ZGQ_ov8Lrb9O"
      },
      "execution_count": null,
      "outputs": []
    },
    {
      "cell_type": "code",
      "execution_count": null,
      "metadata": {
        "colab": {
          "base_uri": "https://localhost:8080/"
        },
        "id": "5la19qfV-Fy2",
        "outputId": "80508450-5db1-42b1-edd9-b9ca4969a2c8"
      },
      "outputs": [
        {
          "name": "stdout",
          "output_type": "stream",
          "text": [
            "Downloading data from https://storage.googleapis.com/tensorflow/tf-keras-datasets/imdb.npz\n",
            "17465344/17464789 [==============================] - 0s 0us/step\n",
            "17473536/17464789 [==============================] - 0s 0us/step\n"
          ]
        },
        {
          "data": {
            "text/plain": [
              "((25000,), (25000,), (25000,))"
            ]
          },
          "execution_count": 4,
          "metadata": {},
          "output_type": "execute_result"
        }
      ],
      "source": [
        "(X_train, y_train), (X_test, y_test) = imdb.load_data()\n",
        "X_train.shape, X_test.shape, y_train.shape"
      ]
    },
    {
      "cell_type": "code",
      "execution_count": null,
      "metadata": {
        "colab": {
          "base_uri": "https://localhost:8080/"
        },
        "id": "xNQsMgz8BCEk",
        "outputId": "71920c34-1867-4e52-b2f3-91c2357779ce"
      },
      "outputs": [
        {
          "data": {
            "text/plain": [
              "((25000,), (25000,), (25000,))"
            ]
          },
          "execution_count": 7,
          "metadata": {},
          "output_type": "execute_result"
        }
      ],
      "source": [
        "(X_train, y_train), (X_test, y_test) = imdb.load_data(num_words=10000)\n",
        "X_train.shape, X_test.shape, y_train.shape"
      ]
    },
    {
      "cell_type": "code",
      "execution_count": null,
      "metadata": {
        "colab": {
          "base_uri": "https://localhost:8080/"
        },
        "id": "_Hba5E2eBTXq",
        "outputId": "b39e6544-aef6-4b93-bae8-022c0ca82a34"
      },
      "outputs": [
        {
          "data": {
            "text/plain": [
              "((25000, 500), (25000, 500))"
            ]
          },
          "execution_count": 8,
          "metadata": {},
          "output_type": "execute_result"
        }
      ],
      "source": [
        "max_len = 500\n",
        "X_train = pad_sequences(X_train, maxlen=max_len)\n",
        "X_test = pad_sequences(X_test, maxlen=max_len)\n",
        "X_train.shape, X_test.shape"
      ]
    },
    {
      "cell_type": "code",
      "execution_count": null,
      "metadata": {
        "colab": {
          "base_uri": "https://localhost:8080/"
        },
        "id": "oavelfndDBJp",
        "outputId": "7c8c21d4-661a-4c1a-d9ee-ff3b3905793b"
      },
      "outputs": [
        {
          "data": {
            "text/plain": [
              "((15000, 500), (15000,), (10000, 500), (10000,))"
            ]
          },
          "execution_count": 9,
          "metadata": {},
          "output_type": "execute_result"
        }
      ],
      "source": [
        "from sklearn.model_selection import train_test_split\n",
        "X_test, X_valid, y_test, y_valid = train_test_split(\n",
        "    X_test, y_test, stratify=y_test, test_size=0.4, random_state=seed\n",
        ")\n",
        "X_test.shape, X_valid.shape, y_test.shape, y_valid.shape"
      ]
    },
    {
      "cell_type": "markdown",
      "metadata": {
        "id": "1CL4rSweB545"
      },
      "source": [
        "- Case 1) Conv1D x 2, MaxPooling1D x 2, Dropout, GlobalMaxPooling1D\n",
        "    - embedding dim: 100"
      ]
    },
    {
      "cell_type": "code",
      "execution_count": null,
      "metadata": {
        "colab": {
          "base_uri": "https://localhost:8080/"
        },
        "id": "Jn9W5irYB1sR",
        "outputId": "9f930c2f-2f0d-4c42-9c54-776a1dc7e9d9"
      },
      "outputs": [
        {
          "name": "stdout",
          "output_type": "stream",
          "text": [
            "Model: \"sequential\"\n",
            "_________________________________________________________________\n",
            " Layer (type)                Output Shape              Param #   \n",
            "=================================================================\n",
            " embedding (Embedding)       (None, 500, 100)          1000000   \n",
            "                                                                 \n",
            " dropout (Dropout)           (None, 500, 100)          0         \n",
            "                                                                 \n",
            " conv1d (Conv1D)             (None, 494, 64)           44864     \n",
            "                                                                 \n",
            " max_pooling1d (MaxPooling1D  (None, 70, 64)           0         \n",
            " )                                                               \n",
            "                                                                 \n",
            " conv1d_1 (Conv1D)           (None, 66, 64)            20544     \n",
            "                                                                 \n",
            " max_pooling1d_1 (MaxPooling  (None, 13, 64)           0         \n",
            " 1D)                                                             \n",
            "                                                                 \n",
            " global_max_pooling1d (Globa  (None, 64)               0         \n",
            " lMaxPooling1D)                                                  \n",
            "                                                                 \n",
            " dense (Dense)               (None, 1)                 65        \n",
            "                                                                 \n",
            "=================================================================\n",
            "Total params: 1,065,473\n",
            "Trainable params: 1,065,473\n",
            "Non-trainable params: 0\n",
            "_________________________________________________________________\n"
          ]
        }
      ],
      "source": [
        "model1 = Sequential([ \n",
        "    Embedding(10000, 100, input_length=max_len),\n",
        "    Dropout(0.5),\n",
        "    Conv1D(64, 7, activation='relu'),\n",
        "    MaxPooling1D(7),\n",
        "    Conv1D(64, 5, activation='relu'),\n",
        "    MaxPooling1D(5),\n",
        "    GlobalMaxPooling1D(),    \n",
        "    Dense(1, activation='sigmoid')\n",
        "])\n",
        "model1.summary()"
      ]
    },
    {
      "cell_type": "code",
      "execution_count": null,
      "metadata": {
        "id": "hIA2hrp3CW51"
      },
      "outputs": [],
      "source": [
        "model1.compile('adam', 'binary_crossentropy',['accuracy'])\n",
        "\n",
        "model_path = 'best-imdb-conv1d.h5'\n",
        "mc = ModelCheckpoint(model_path, save_best_only=True, verbose=1)\n",
        "es = EarlyStopping(patience=5)"
      ]
    },
    {
      "cell_type": "code",
      "execution_count": null,
      "metadata": {
        "colab": {
          "background_save": true,
          "base_uri": "https://localhost:8080/"
        },
        "id": "w-YrK1xUCuoa",
        "outputId": "c750322c-8cd7-4faf-ad66-8bf8054e3d22"
      },
      "outputs": [
        {
          "name": "stdout",
          "output_type": "stream",
          "text": [
            "Epoch 1/30\n",
            "157/157 [==============================] - ETA: 0s - loss: 0.5717 - accuracy: 0.6643\n",
            "Epoch 00001: val_loss improved from inf to 0.35214, saving model to best-imdb-conv1d.h5\n",
            "157/157 [==============================] - 56s 352ms/step - loss: 0.5717 - accuracy: 0.6643 - val_loss: 0.3521 - val_accuracy: 0.8478\n",
            "Epoch 2/30\n",
            "157/157 [==============================] - ETA: 0s - loss: 0.2969 - accuracy: 0.8769\n",
            "Epoch 00002: val_loss improved from 0.35214 to 0.32490, saving model to best-imdb-conv1d.h5\n",
            "157/157 [==============================] - 55s 352ms/step - loss: 0.2969 - accuracy: 0.8769 - val_loss: 0.3249 - val_accuracy: 0.8594\n",
            "Epoch 3/30\n",
            "157/157 [==============================] - ETA: 0s - loss: 0.2090 - accuracy: 0.9209\n",
            "Epoch 00003: val_loss did not improve from 0.32490\n",
            "157/157 [==============================] - 54s 344ms/step - loss: 0.2090 - accuracy: 0.9209 - val_loss: 0.3376 - val_accuracy: 0.8650\n",
            "Epoch 4/30\n",
            "157/157 [==============================] - ETA: 0s - loss: 0.1596 - accuracy: 0.9404\n",
            "Epoch 00004: val_loss did not improve from 0.32490\n",
            "157/157 [==============================] - 54s 345ms/step - loss: 0.1596 - accuracy: 0.9404 - val_loss: 0.3442 - val_accuracy: 0.8698\n",
            "Epoch 5/30\n",
            "157/157 [==============================] - ETA: 0s - loss: 0.1117 - accuracy: 0.9595\n",
            "Epoch 00005: val_loss did not improve from 0.32490\n",
            "157/157 [==============================] - 54s 342ms/step - loss: 0.1117 - accuracy: 0.9595 - val_loss: 0.4287 - val_accuracy: 0.8616\n",
            "Epoch 6/30\n",
            "157/157 [==============================] - ETA: 0s - loss: 0.0802 - accuracy: 0.9725\n",
            "Epoch 00006: val_loss did not improve from 0.32490\n",
            "157/157 [==============================] - 54s 341ms/step - loss: 0.0802 - accuracy: 0.9725 - val_loss: 0.4727 - val_accuracy: 0.8650\n",
            "Epoch 7/30\n",
            "157/157 [==============================] - ETA: 0s - loss: 0.0573 - accuracy: 0.9805\n",
            "Epoch 00007: val_loss did not improve from 0.32490\n",
            "157/157 [==============================] - 54s 342ms/step - loss: 0.0573 - accuracy: 0.9805 - val_loss: 0.5472 - val_accuracy: 0.8646\n"
          ]
        }
      ],
      "source": [
        "hist1 = model1.fit(\n",
        "    X_train, y_train, epochs=30, validation_split=0.2, batch_size=128,\n",
        "    validation_data=[X_valid, y_valid],\n",
        "    callbacks=[mc, es]\n",
        ")"
      ]
    },
    {
      "cell_type": "code",
      "execution_count": null,
      "metadata": {
        "colab": {
          "base_uri": "https://localhost:8080/"
        },
        "id": "oc0RyXwnD-_p",
        "outputId": "906f2010-bdf6-44ca-9380-2f5ee7182230"
      },
      "outputs": [
        {
          "name": "stdout",
          "output_type": "stream",
          "text": [
            "469/469 [==============================] - 1s 3ms/step - loss: 0.3374 - accuracy: 0.8513\n"
          ]
        },
        {
          "data": {
            "text/plain": [
              "[0.33736398816108704, 0.8513333201408386]"
            ]
          },
          "execution_count": 13,
          "metadata": {},
          "output_type": "execute_result"
        }
      ],
      "source": [
        "best_model = load_model(model_path)\n",
        "best_model.evaluate(X_test, y_test)"
      ]
    },
    {
      "cell_type": "markdown",
      "source": [
        "- case2 ) Conv1D + LSTM"
      ],
      "metadata": {
        "id": "WWJEsIwVoO2b"
      }
    },
    {
      "cell_type": "code",
      "source": [
        "from tensorflow.keras.layers import LSTM"
      ],
      "metadata": {
        "id": "ssBY6Q6Job_a"
      },
      "execution_count": null,
      "outputs": []
    },
    {
      "cell_type": "code",
      "execution_count": null,
      "metadata": {
        "colab": {
          "base_uri": "https://localhost:8080/"
        },
        "outputId": "09be0d7b-8db0-4934-93de-42774d884d97",
        "id": "qa10JIYJoTUj"
      },
      "outputs": [
        {
          "output_type": "stream",
          "name": "stdout",
          "text": [
            "Model: \"sequential_3\"\n",
            "_________________________________________________________________\n",
            " Layer (type)                Output Shape              Param #   \n",
            "=================================================================\n",
            " embedding_3 (Embedding)     (None, 500, 100)          1000000   \n",
            "                                                                 \n",
            " dropout_3 (Dropout)         (None, 500, 100)          0         \n",
            "                                                                 \n",
            " conv1d_4 (Conv1D)           (None, 496, 64)           32064     \n",
            "                                                                 \n",
            " max_pooling1d_4 (MaxPooling  (None, 124, 64)          0         \n",
            " 1D)                                                             \n",
            "                                                                 \n",
            " lstm_2 (LSTM)               (None, 100)               66000     \n",
            "                                                                 \n",
            " dense_3 (Dense)             (None, 1)                 101       \n",
            "                                                                 \n",
            "=================================================================\n",
            "Total params: 1,098,165\n",
            "Trainable params: 1,098,165\n",
            "Non-trainable params: 0\n",
            "_________________________________________________________________\n"
          ]
        }
      ],
      "source": [
        "model2 = Sequential([ \n",
        "    Embedding(10000, 100, input_length=max_len),\n",
        "    Dropout(0.5),\n",
        "    Conv1D(64, 5, activation='relu'),\n",
        "    MaxPooling1D(4),\n",
        "    LSTM(100),\n",
        "    Dense(1, activation='sigmoid')\n",
        "])\n",
        "model2.summary()"
      ]
    },
    {
      "cell_type": "code",
      "execution_count": null,
      "metadata": {
        "id": "QJv5wcn0oTUk"
      },
      "outputs": [],
      "source": [
        "model2.compile('adam', 'binary_crossentropy',['accuracy'])\n",
        "\n",
        "model_path = 'best-imdb-conv1d-lstm.h5'\n",
        "mc = ModelCheckpoint(model_path, save_best_only=True, verbose=1)\n",
        "es = EarlyStopping(patience=5)"
      ]
    },
    {
      "cell_type": "code",
      "execution_count": null,
      "metadata": {
        "colab": {
          "base_uri": "https://localhost:8080/"
        },
        "outputId": "1908db66-47d0-40bf-8b90-30c5ca57a566",
        "id": "T5DC4fHLoTUk"
      },
      "outputs": [
        {
          "output_type": "stream",
          "name": "stdout",
          "text": [
            "Epoch 1/30\n",
            "157/157 [==============================] - ETA: 0s - loss: 0.4563 - accuracy: 0.7562\n",
            "Epoch 00001: val_loss improved from inf to 0.30810, saving model to best-imdb-conv1d-lstm.h5\n",
            "157/157 [==============================] - 5s 22ms/step - loss: 0.4563 - accuracy: 0.7562 - val_loss: 0.3081 - val_accuracy: 0.8706\n",
            "Epoch 2/30\n",
            "155/157 [============================>.] - ETA: 0s - loss: 0.2290 - accuracy: 0.9117\n",
            "Epoch 00002: val_loss improved from 0.30810 to 0.26381, saving model to best-imdb-conv1d-lstm.h5\n",
            "157/157 [==============================] - 3s 19ms/step - loss: 0.2289 - accuracy: 0.9117 - val_loss: 0.2638 - val_accuracy: 0.8944\n",
            "Epoch 3/30\n",
            "155/157 [============================>.] - ETA: 0s - loss: 0.1610 - accuracy: 0.9415\n",
            "Epoch 00003: val_loss did not improve from 0.26381\n",
            "157/157 [==============================] - 3s 19ms/step - loss: 0.1609 - accuracy: 0.9415 - val_loss: 0.2758 - val_accuracy: 0.8940\n",
            "Epoch 4/30\n",
            "157/157 [==============================] - ETA: 0s - loss: 0.1383 - accuracy: 0.9493\n",
            "Epoch 00004: val_loss did not improve from 0.26381\n",
            "157/157 [==============================] - 3s 20ms/step - loss: 0.1383 - accuracy: 0.9493 - val_loss: 0.2935 - val_accuracy: 0.8858\n",
            "Epoch 5/30\n",
            "155/157 [============================>.] - ETA: 0s - loss: 0.0895 - accuracy: 0.9705\n",
            "Epoch 00005: val_loss did not improve from 0.26381\n",
            "157/157 [==============================] - 3s 19ms/step - loss: 0.0898 - accuracy: 0.9704 - val_loss: 0.3552 - val_accuracy: 0.8740\n",
            "Epoch 6/30\n",
            "155/157 [============================>.] - ETA: 0s - loss: 0.0660 - accuracy: 0.9794\n",
            "Epoch 00006: val_loss did not improve from 0.26381\n",
            "157/157 [==============================] - 3s 19ms/step - loss: 0.0660 - accuracy: 0.9794 - val_loss: 0.3591 - val_accuracy: 0.8850\n",
            "Epoch 7/30\n",
            "155/157 [============================>.] - ETA: 0s - loss: 0.0626 - accuracy: 0.9803\n",
            "Epoch 00007: val_loss did not improve from 0.26381\n",
            "157/157 [==============================] - 3s 19ms/step - loss: 0.0626 - accuracy: 0.9801 - val_loss: 0.3871 - val_accuracy: 0.8854\n"
          ]
        }
      ],
      "source": [
        "hist2 = model2.fit(\n",
        "    X_train, y_train, epochs=30, validation_split=0.2, batch_size=128,\n",
        "    validation_data=[X_valid, y_valid],\n",
        "    callbacks=[mc, es]\n",
        ")"
      ]
    },
    {
      "cell_type": "code",
      "execution_count": null,
      "metadata": {
        "colab": {
          "base_uri": "https://localhost:8080/"
        },
        "outputId": "83f3200e-01c8-4c81-ddd4-c72c893bd8d5",
        "id": "nwlndzjMoTUk"
      },
      "outputs": [
        {
          "output_type": "stream",
          "name": "stdout",
          "text": [
            "469/469 [==============================] - 3s 6ms/step - loss: 0.2788 - accuracy: 0.8856\n"
          ]
        },
        {
          "output_type": "execute_result",
          "data": {
            "text/plain": [
              "[0.278827428817749, 0.8855999708175659]"
            ]
          },
          "metadata": {},
          "execution_count": 24
        }
      ],
      "source": [
        "best_model = load_model(model_path)\n",
        "best_model.evaluate(X_test, y_test)"
      ]
    },
    {
      "cell_type": "markdown",
      "source": [
        "- case 3) 은닉층을 하나 더 두면 어떨까?\n",
        "- Conv1D + Dense"
      ],
      "metadata": {
        "id": "uhPnbEkspWdk"
      }
    },
    {
      "cell_type": "code",
      "execution_count": null,
      "metadata": {
        "colab": {
          "base_uri": "https://localhost:8080/"
        },
        "outputId": "cb838f67-70bd-4f39-b984-ec5dfcfa9b1f",
        "id": "l_hL-kAPppt5"
      },
      "outputs": [
        {
          "output_type": "stream",
          "name": "stdout",
          "text": [
            "Model: \"sequential_4\"\n",
            "_________________________________________________________________\n",
            " Layer (type)                Output Shape              Param #   \n",
            "=================================================================\n",
            " embedding_4 (Embedding)     (None, 500, 100)          1000000   \n",
            "                                                                 \n",
            " dropout_4 (Dropout)         (None, 500, 100)          0         \n",
            "                                                                 \n",
            " conv1d_5 (Conv1D)           (None, 496, 64)           32064     \n",
            "                                                                 \n",
            " max_pooling1d_5 (MaxPooling  (None, 124, 64)          0         \n",
            " 1D)                                                             \n",
            "                                                                 \n",
            " global_max_pooling1d_1 (Glo  (None, 64)               0         \n",
            " balMaxPooling1D)                                                \n",
            "                                                                 \n",
            " dense_4 (Dense)             (None, 100)               6500      \n",
            "                                                                 \n",
            " dense_5 (Dense)             (None, 1)                 101       \n",
            "                                                                 \n",
            "=================================================================\n",
            "Total params: 1,038,665\n",
            "Trainable params: 1,038,665\n",
            "Non-trainable params: 0\n",
            "_________________________________________________________________\n"
          ]
        }
      ],
      "source": [
        "model3 = Sequential([ \n",
        "    Embedding(10000, 100, input_length=max_len),\n",
        "    Dropout(0.5),\n",
        "    Conv1D(64, 5, activation='relu'),\n",
        "    MaxPooling1D(4),\n",
        "    GlobalMaxPooling1D(),\n",
        "    Dense(100, activation='relu'),\n",
        "    Dense(1, activation='sigmoid')\n",
        "])\n",
        "model3.summary()"
      ]
    },
    {
      "cell_type": "code",
      "execution_count": null,
      "metadata": {
        "id": "KMGNHSNcppt5"
      },
      "outputs": [],
      "source": [
        "model3.compile('adam', 'binary_crossentropy',['accuracy'])\n",
        "\n",
        "model_path = 'best-imdb-conv1d-fcn.h5'\n",
        "mc = ModelCheckpoint(model_path, save_best_only=True, verbose=1)\n",
        "es = EarlyStopping(patience=5)"
      ]
    },
    {
      "cell_type": "code",
      "execution_count": null,
      "metadata": {
        "colab": {
          "base_uri": "https://localhost:8080/"
        },
        "outputId": "3d09e653-7e10-4dc9-b2f7-67095ea10276",
        "id": "RbEidWQhppt5"
      },
      "outputs": [
        {
          "output_type": "stream",
          "name": "stdout",
          "text": [
            "Epoch 1/30\n",
            "155/157 [============================>.] - ETA: 0s - loss: 0.6255 - accuracy: 0.6296\n",
            "Epoch 00001: val_loss improved from inf to 0.41544, saving model to best-imdb-conv1d-fcn.h5\n",
            "157/157 [==============================] - 2s 12ms/step - loss: 0.6241 - accuracy: 0.6309 - val_loss: 0.4154 - val_accuracy: 0.8162\n",
            "Epoch 2/30\n",
            "153/157 [============================>.] - ETA: 0s - loss: 0.3344 - accuracy: 0.8565\n",
            "Epoch 00002: val_loss improved from 0.41544 to 0.31502, saving model to best-imdb-conv1d-fcn.h5\n",
            "157/157 [==============================] - 2s 11ms/step - loss: 0.3336 - accuracy: 0.8569 - val_loss: 0.3150 - val_accuracy: 0.8652\n",
            "Epoch 3/30\n",
            "154/157 [============================>.] - ETA: 0s - loss: 0.2226 - accuracy: 0.9111\n",
            "Epoch 00003: val_loss improved from 0.31502 to 0.27834, saving model to best-imdb-conv1d-fcn.h5\n",
            "157/157 [==============================] - 2s 11ms/step - loss: 0.2226 - accuracy: 0.9111 - val_loss: 0.2783 - val_accuracy: 0.8878\n",
            "Epoch 4/30\n",
            "157/157 [==============================] - ETA: 0s - loss: 0.1624 - accuracy: 0.9405\n",
            "Epoch 00004: val_loss improved from 0.27834 to 0.26838, saving model to best-imdb-conv1d-fcn.h5\n",
            "157/157 [==============================] - 2s 11ms/step - loss: 0.1624 - accuracy: 0.9405 - val_loss: 0.2684 - val_accuracy: 0.8966\n",
            "Epoch 5/30\n",
            "157/157 [==============================] - ETA: 0s - loss: 0.1158 - accuracy: 0.9586\n",
            "Epoch 00005: val_loss did not improve from 0.26838\n",
            "157/157 [==============================] - 2s 11ms/step - loss: 0.1158 - accuracy: 0.9586 - val_loss: 0.3047 - val_accuracy: 0.8904\n",
            "Epoch 6/30\n",
            "154/157 [============================>.] - ETA: 0s - loss: 0.0796 - accuracy: 0.9728\n",
            "Epoch 00006: val_loss did not improve from 0.26838\n",
            "157/157 [==============================] - 2s 10ms/step - loss: 0.0796 - accuracy: 0.9727 - val_loss: 0.3138 - val_accuracy: 0.8934\n",
            "Epoch 7/30\n",
            "153/157 [============================>.] - ETA: 0s - loss: 0.0561 - accuracy: 0.9817\n",
            "Epoch 00007: val_loss did not improve from 0.26838\n",
            "157/157 [==============================] - 2s 11ms/step - loss: 0.0567 - accuracy: 0.9817 - val_loss: 0.3704 - val_accuracy: 0.8874\n",
            "Epoch 8/30\n",
            "153/157 [============================>.] - ETA: 0s - loss: 0.0397 - accuracy: 0.9885\n",
            "Epoch 00008: val_loss did not improve from 0.26838\n",
            "157/157 [==============================] - 2s 11ms/step - loss: 0.0401 - accuracy: 0.9883 - val_loss: 0.3631 - val_accuracy: 0.8952\n",
            "Epoch 9/30\n",
            "157/157 [==============================] - ETA: 0s - loss: 0.0315 - accuracy: 0.9903\n",
            "Epoch 00009: val_loss did not improve from 0.26838\n",
            "157/157 [==============================] - 2s 10ms/step - loss: 0.0315 - accuracy: 0.9903 - val_loss: 0.4035 - val_accuracy: 0.8964\n"
          ]
        }
      ],
      "source": [
        "hist3 = model3.fit(\n",
        "    X_train, y_train, epochs=30, validation_split=0.2, batch_size=128,\n",
        "    validation_data=[X_valid, y_valid],\n",
        "    callbacks=[mc, es]\n",
        ")"
      ]
    },
    {
      "cell_type": "code",
      "execution_count": null,
      "metadata": {
        "colab": {
          "base_uri": "https://localhost:8080/"
        },
        "outputId": "2710f4b9-efde-4ee8-fdb6-72557812f837",
        "id": "C_akDrHjppt5"
      },
      "outputs": [
        {
          "output_type": "stream",
          "name": "stdout",
          "text": [
            "469/469 [==============================] - 2s 3ms/step - loss: 0.2855 - accuracy: 0.8853\n"
          ]
        },
        {
          "output_type": "execute_result",
          "data": {
            "text/plain": [
              "[0.2854938209056854, 0.8852666616439819]"
            ]
          },
          "metadata": {},
          "execution_count": 29
        }
      ],
      "source": [
        "best_model = load_model(model_path)\n",
        "best_model.evaluate(X_test, y_test)"
      ]
    },
    {
      "cell_type": "code",
      "source": [
        ""
      ],
      "metadata": {
        "id": "C2wLCG6MoOu8"
      },
      "execution_count": null,
      "outputs": []
    },
    {
      "cell_type": "code",
      "execution_count": null,
      "metadata": {
        "id": "ZNvw5kw4KPfn"
      },
      "outputs": [],
      "source": [
        ""
      ]
    }
  ],
  "metadata": {
    "accelerator": "GPU",
    "colab": {
      "collapsed_sections": [],
      "name": "52_IMDB감성분석_Conv1D.ipynb",
      "provenance": [],
      "include_colab_link": true
    },
    "kernelspec": {
      "display_name": "Python 3",
      "name": "python3"
    },
    "language_info": {
      "name": "python"
    }
  },
  "nbformat": 4,
  "nbformat_minor": 0
}