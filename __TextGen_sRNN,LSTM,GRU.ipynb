{
  "nbformat": 4,
  "nbformat_minor": 0,
  "metadata": {
    "colab": {
      "name": "__TextGen_sRNN,LSTM,GRU.ipynb",
      "provenance": [],
      "collapsed_sections": [],
      "machine_shape": "hm",
      "include_colab_link": true
    },
    "kernelspec": {
      "name": "python3",
      "display_name": "Python 3"
    },
    "language_info": {
      "name": "python"
    },
    "accelerator": "GPU"
  },
  "cells": [
    {
      "cell_type": "markdown",
      "metadata": {
        "id": "view-in-github",
        "colab_type": "text"
      },
      "source": [
        "<a href=\"https://colab.research.google.com/github/0jipy/192kbps_colab_JIPY/blob/main/__TextGen_sRNN%2CLSTM%2CGRU.ipynb\" target=\"_parent\"><img src=\"https://colab.research.google.com/assets/colab-badge.svg\" alt=\"Open In Colab\"/></a>"
      ]
    },
    {
      "cell_type": "markdown",
      "source": [
        "# GRU, LSTM, SimpleRNN 을 이용한 텍스트 생성\n",
        " - 데이터 다운로드 : 캐글 New York Times Comments\n",
        " - ArticalesApril2018.csv"
      ],
      "metadata": {
        "id": "Dm5GDREEmK5r"
      }
    },
    {
      "cell_type": "code",
      "source": [
        "import numpy as np\n",
        "import tensorflow as tf\n",
        "import matplotlib.pyplot as plt\n",
        "seed = 2022\n",
        "np.random.seed(seed)\n",
        "tf.random.set_seed(seed)"
      ],
      "metadata": {
        "id": "qAv5FSrLBSUU"
      },
      "execution_count": null,
      "outputs": []
    },
    {
      "cell_type": "code",
      "source": [
        "from google.colab import files\n",
        "up = files.upload()"
      ],
      "metadata": {
        "colab": {
          "resources": {
            "http://localhost:8080/nbextensions/google.colab/files.js": {
              "data": "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",
              "ok": true,
              "headers": [
                [
                  "content-type",
                  "application/javascript"
                ]
              ],
              "status": 200,
              "status_text": ""
            }
          },
          "base_uri": "https://localhost:8080/",
          "height": 42
        },
        "id": "oCcTgVENmekn",
        "outputId": "3cd08621-0109-478a-a5e4-1aba4d20d5a2"
      },
      "execution_count": null,
      "outputs": [
        {
          "output_type": "display_data",
          "data": {
            "text/html": [
              "\n",
              "     <input type=\"file\" id=\"files-3e26b59e-b8f6-4272-9eae-0f8b24572acb\" name=\"files[]\" multiple disabled\n",
              "        style=\"border:none\" />\n",
              "     <output id=\"result-3e26b59e-b8f6-4272-9eae-0f8b24572acb\">\n",
              "      Upload widget is only available when the cell has been executed in the\n",
              "      current browser session. Please rerun this cell to enable.\n",
              "      </output>\n",
              "      <script src=\"/nbextensions/google.colab/files.js\"></script> "
            ],
            "text/plain": [
              "<IPython.core.display.HTML object>"
            ]
          },
          "metadata": {}
        }
      ]
    },
    {
      "cell_type": "code",
      "source": [
        "import pandas as pd\n",
        "# df = pd.read_csv('ArticlesApril2018.csv', encoding='latin1')\n",
        "df = pd.read_csv('/content/ArticlesApril2018.csv', encoding='latin1')\n",
        "df.head()"
      ],
      "metadata": {
        "id": "-_WMR7hfnG-U"
      },
      "execution_count": null,
      "outputs": []
    },
    {
      "cell_type": "markdown",
      "source": [
        "## 데이터 전처리\n",
        "     - 헤드라인을 가지고 학습을 시켜서. 문장을 제대로 재생을 하는지 확인해 보자"
      ],
      "metadata": {
        "id": "kKywAvRgoCyN"
      }
    },
    {
      "cell_type": "code",
      "source": [
        "# 널값확인\n",
        "df.headline.isnull().sum()"
      ],
      "metadata": {
        "colab": {
          "base_uri": "https://localhost:8080/"
        },
        "id": "dfaNTud7n7CK",
        "outputId": "64139efe-bee8-4628-965c-40c3b24bc6c9"
      },
      "execution_count": 2,
      "outputs": [
        {
          "output_type": "execute_result",
          "data": {
            "text/plain": [
              "0"
            ]
          },
          "metadata": {},
          "execution_count": 2
        }
      ]
    },
    {
      "cell_type": "code",
      "source": [
        "# 노이즈 데이터 ('Unknown') 제거\n",
        "headlines = [line for line in df.headline.values if line != 'Unknown']\n",
        "len(headlines)"
      ],
      "metadata": {
        "colab": {
          "base_uri": "https://localhost:8080/"
        },
        "id": "0dmIPDaHrIDK",
        "outputId": "f38c828b-a328-4387-f348-5e75815f8ec5"
      },
      "execution_count": 3,
      "outputs": [
        {
          "output_type": "execute_result",
          "data": {
            "text/plain": [
              "1214"
            ]
          },
          "metadata": {},
          "execution_count": 3
        }
      ]
    },
    {
      "cell_type": "code",
      "source": [
        "# encoding, 구둣점 제거, 소문자로 변환 => preprocessing\n",
        "import re\n",
        "def preprocessing(s):\n",
        "    s = s.encode('utf8').decode('ascii', 'ignore')\n",
        "    s = re.sub('[^A-Za-z0-9 ]', '', s)   # re.sub（정규 표현식, 치환 문자, 대상 문자열）\n",
        "    return s.lower()"
      ],
      "metadata": {
        "id": "W--Z31GJr9JP"
      },
      "execution_count": 4,
      "outputs": []
    },
    {
      "cell_type": "code",
      "source": [
        "headlines = [preprocessing(line) for line in headlines]\n",
        "headlines[:5]"
      ],
      "metadata": {
        "colab": {
          "base_uri": "https://localhost:8080/"
        },
        "id": "6etJf_QQtD8K",
        "outputId": "78fb1e01-df6c-406f-a220-c5ca9be413f1"
      },
      "execution_count": 5,
      "outputs": [
        {
          "output_type": "execute_result",
          "data": {
            "text/plain": [
              "['former nfl cheerleaders settlement offer 1 and a meeting with goodell',\n",
              " 'epa to unveil a new rule its effect less science in policymaking',\n",
              " 'the new noma explained',\n",
              " 'how a bag of texas dirt  became a times tradition',\n",
              " 'is school a place for selfexpression']"
            ]
          },
          "metadata": {},
          "execution_count": 5
        }
      ]
    },
    {
      "cell_type": "markdown",
      "source": [
        "## Keras 텍스트 전처리"
      ],
      "metadata": {
        "id": "cgMpbVzX5Fcm"
      }
    },
    {
      "cell_type": "code",
      "source": [
        "from tensorflow.keras.preprocessing.text import Tokenizer\n",
        "from tensorflow.keras.preprocessing.sequence import pad_sequences\n",
        "from tensorflow.keras.utils import to_categorical"
      ],
      "metadata": {
        "id": "UmIs11CNtRgf"
      },
      "execution_count": 6,
      "outputs": []
    },
    {
      "cell_type": "code",
      "source": [
        "# 단어 집합 생성\n",
        "t = Tokenizer()\n",
        "t.fit_on_texts(headlines)\n",
        "# 단어 집합 크기 - keras Tokenizer의 시작 인덱스가 1이기 때문\n",
        "vocab_size = len(t.word_index) + 1\n",
        "vocab_size"
      ],
      "metadata": {
        "id": "3dqYJV2Zt4s3",
        "colab": {
          "base_uri": "https://localhost:8080/"
        },
        "outputId": "39731c0f-bb5d-4752-c716-c5e5d6c6957c"
      },
      "execution_count": 7,
      "outputs": [
        {
          "output_type": "execute_result",
          "data": {
            "text/plain": [
              "3494"
            ]
          },
          "metadata": {},
          "execution_count": 7
        }
      ]
    },
    {
      "cell_type": "code",
      "source": [
        "sequences = []\n",
        "for line in headlines:\n",
        "    encoded=t.texts_to_sequences([line])[0]\n",
        "    for i in range(1, len(encoded)):\n",
        "        sequences.append(encoded[:i+1])\n",
        "# sequences[:11]"
      ],
      "metadata": {
        "id": "EJlWur0VuJO1"
      },
      "execution_count": 8,
      "outputs": []
    },
    {
      "cell_type": "code",
      "source": [
        "max_len = max(len(seq) for seq in sequences)\n",
        "max_len"
      ],
      "metadata": {
        "colab": {
          "base_uri": "https://localhost:8080/"
        },
        "id": "fFGOVxcUu00L",
        "outputId": "a8838fed-7b77-4a6f-f186-ad44aa532924"
      },
      "execution_count": 9,
      "outputs": [
        {
          "output_type": "execute_result",
          "data": {
            "text/plain": [
              "24"
            ]
          },
          "metadata": {},
          "execution_count": 9
        }
      ]
    },
    {
      "cell_type": "code",
      "source": [
        "sequences = pad_sequences(sequences, maxlen=max_len, padding='pre')\n",
        "# sequences[:3]"
      ],
      "metadata": {
        "colab": {
          "base_uri": "https://localhost:8080/"
        },
        "id": "xEiS9JcVvJ5k",
        "outputId": "cfde63ca-46d0-4c55-b401-7ef9922d77d2"
      },
      "execution_count": 10,
      "outputs": [
        {
          "output_type": "execute_result",
          "data": {
            "text/plain": [
              "array([[   0,    0,    0,    0,    0,    0,    0,    0,    0,    0,    0,\n",
              "           0,    0,    0,    0,    0,    0,    0,    0,    0,    0,    0,\n",
              "          99,  269],\n",
              "       [   0,    0,    0,    0,    0,    0,    0,    0,    0,    0,    0,\n",
              "           0,    0,    0,    0,    0,    0,    0,    0,    0,    0,   99,\n",
              "         269,  371],\n",
              "       [   0,    0,    0,    0,    0,    0,    0,    0,    0,    0,    0,\n",
              "           0,    0,    0,    0,    0,    0,    0,    0,    0,   99,  269,\n",
              "         371, 1115]], dtype=int32)"
            ]
          },
          "metadata": {},
          "execution_count": 10
        }
      ]
    },
    {
      "cell_type": "code",
      "source": [
        "X = sequences[:,:-1]\n",
        "y = sequences[:,-1]\n",
        "Y = to_categorical(y)\n",
        "X.shape, Y.shape"
      ],
      "metadata": {
        "colab": {
          "base_uri": "https://localhost:8080/"
        },
        "id": "xJwMiu3UvMrN",
        "outputId": "bb973b72-fea6-45ce-e688-32da5f0e4f6a"
      },
      "execution_count": 11,
      "outputs": [
        {
          "output_type": "execute_result",
          "data": {
            "text/plain": [
              "((7803, 23), (7803, 3494))"
            ]
          },
          "metadata": {},
          "execution_count": 11
        }
      ]
    },
    {
      "cell_type": "markdown",
      "source": [
        "## 모델 정의 설정 학습\n",
        " - Embedding: 10 차원\n",
        " - LSTM: 128 units"
      ],
      "metadata": {
        "id": "U5do6Zu9wd44"
      }
    },
    {
      "cell_type": "markdown",
      "source": [
        "### LSTM"
      ],
      "metadata": {
        "id": "vP3uv_D5-Gsl"
      }
    },
    {
      "cell_type": "code",
      "source": [
        "import numpy as np\n",
        "import tensorflow as tf\n",
        "import matplotlib.pyplot as plt\n",
        "seed = 2022\n",
        "np.random.seed(seed)\n",
        "tf.random.set_seed(seed)"
      ],
      "metadata": {
        "id": "lBZJAMff5UFp"
      },
      "execution_count": 12,
      "outputs": []
    },
    {
      "cell_type": "code",
      "source": [
        "from tensorflow.keras.models import Sequential\n",
        "from tensorflow.keras.layers import Embedding, LSTM, Dense"
      ],
      "metadata": {
        "id": "7DB602i4wjQm"
      },
      "execution_count": null,
      "outputs": []
    },
    {
      "cell_type": "code",
      "source": [
        "# 임베딩 벡터 10차원, LSTM 노드 크기 128\n",
        "model = Sequential([ \n",
        "    Embedding(vocab_size, 10, input_length=max_len-1),\n",
        "    LSTM(128),\n",
        "    Dense(vocab_size, activation='softmax')\n",
        "])\n",
        "model.summary()"
      ],
      "metadata": {
        "colab": {
          "base_uri": "https://localhost:8080/"
        },
        "id": "46MzjIJ0wjOZ",
        "outputId": "814e7629-dd66-423b-ab24-51a9e8845950"
      },
      "execution_count": null,
      "outputs": [
        {
          "output_type": "stream",
          "name": "stdout",
          "text": [
            "Model: \"sequential\"\n",
            "_________________________________________________________________\n",
            " Layer (type)                Output Shape              Param #   \n",
            "=================================================================\n",
            " embedding (Embedding)       (None, 23, 10)            34940     \n",
            "                                                                 \n",
            " lstm (LSTM)                 (None, 128)               71168     \n",
            "                                                                 \n",
            " dense (Dense)               (None, 3494)              450726    \n",
            "                                                                 \n",
            "=================================================================\n",
            "Total params: 556,834\n",
            "Trainable params: 556,834\n",
            "Non-trainable params: 0\n",
            "_________________________________________________________________\n"
          ]
        }
      ]
    },
    {
      "cell_type": "code",
      "source": [
        "# 컴파일\n",
        "model.compile('adam', 'categorical_crossentropy', metrics=['accuracy'])"
      ],
      "metadata": {
        "id": "LOaB0zeOwjME"
      },
      "execution_count": null,
      "outputs": []
    },
    {
      "cell_type": "code",
      "source": [
        "# Colab, GPU 환경\n",
        "%time hist = model.fit(X, Y, epochs=200, verbose=1)"
      ],
      "metadata": {
        "id": "N87m0AIVwizW"
      },
      "execution_count": null,
      "outputs": []
    },
    {
      "cell_type": "code",
      "source": [
        "hist.history['accuracy'][-1]"
      ],
      "metadata": {
        "colab": {
          "base_uri": "https://localhost:8080/"
        },
        "id": "VkAsY8nFzXxm",
        "outputId": "fb68ffe6-fcc8-4a7d-88e6-11af419f7a02"
      },
      "execution_count": null,
      "outputs": [
        {
          "output_type": "execute_result",
          "data": {
            "text/plain": [
              "0.9168268442153931"
            ]
          },
          "metadata": {},
          "execution_count": 27
        }
      ]
    },
    {
      "cell_type": "markdown",
      "source": [
        "- 모델 검증   \n",
        "vocap size 3944개인데 에서 10차원으로 줄여도 성능이 꽤 괞찮아"
      ],
      "metadata": {
        "id": "FzvyA7DczXvM"
      }
    },
    {
      "cell_type": "code",
      "source": [
        "up = files.upload()"
      ],
      "metadata": {
        "id": "8hgsQbtK5f5M"
      },
      "execution_count": null,
      "outputs": []
    },
    {
      "cell_type": "code",
      "source": [
        "from my_util import sentence_generation"
      ],
      "metadata": {
        "id": "4aC0krjszXs0"
      },
      "execution_count": null,
      "outputs": []
    },
    {
      "cell_type": "code",
      "source": [
        "print(sentence_generation(model, t, max_len, 'former', 10))\n",
        "print(sentence_generation(model, t, max_len, 'epa', 10))\n",
        "print(sentence_generation(model, t, max_len, 'how', 10))"
      ],
      "metadata": {
        "colab": {
          "base_uri": "https://localhost:8080/"
        },
        "id": "I3UebqHBzXqk",
        "outputId": "189996c5-42db-4c98-f335-35513954c7db"
      },
      "execution_count": null,
      "outputs": [
        {
          "output_type": "stream",
          "name": "stdout",
          "text": [
            "former judge to review files seized in searches war bereaved on\n",
            "epa chiefs ethics woes have echoes in his past in fix\n",
            "how to make a crossword puzzle with with rights has the\n"
          ]
        }
      ]
    },
    {
      "cell_type": "markdown",
      "source": [
        "- 훈련과정 시각화"
      ],
      "metadata": {
        "id": "cK4WUglEztax"
      }
    },
    {
      "cell_type": "code",
      "source": [
        "y_acc = hist.history['accuracy']\n",
        "y_loss = hist.history['loss']\n",
        "xs = np.arange(1, len(y_acc)+1)"
      ],
      "metadata": {
        "id": "1AFH2pTP0fyC"
      },
      "execution_count": null,
      "outputs": []
    },
    {
      "cell_type": "code",
      "source": [
        "plt.figure(figsize=(12,8))\n",
        "plt.plot(xs, y_acc, label='Train Accuracy')\n",
        "plt.plot(xs, y_loss, label='Train loss')\n",
        "plt.legend(), plt.grid(), \n",
        "plt.ylim(0,1.1)\n",
        "plt.xlabel('Epoch')\n",
        "plt.show()"
      ],
      "metadata": {
        "colab": {
          "base_uri": "https://localhost:8080/",
          "height": 497
        },
        "id": "LOpkGTRK1OR1",
        "outputId": "b95d0018-2936-46d3-bbdd-01bca74d1c6e"
      },
      "execution_count": null,
      "outputs": [
        {
          "output_type": "display_data",
          "data": {
            "image/png": "[encoded data removed]",
            "text/plain": [
              "<Figure size 864x576 with 1 Axes>"
            ]
          },
          "metadata": {
            "needs_background": "light"
          }
        }
      ]
    },
    {
      "cell_type": "code",
      "source": [
        ""
      ],
      "metadata": {
        "id": "u33swuyIAATE"
      },
      "execution_count": null,
      "outputs": []
    },
    {
      "cell_type": "markdown",
      "source": [
        "### model_GRU\n",
        "-  GRU_ 임베딩 10차원, 노드 크기 128"
      ],
      "metadata": {
        "id": "cZwWbdAFAApP"
      }
    },
    {
      "cell_type": "code",
      "source": [
        "from tensorflow.keras.models import Sequential\n",
        "from tensorflow.keras.layers import Embedding, GRU, Dense #"
      ],
      "metadata": {
        "id": "6rafRlcLAApQ"
      },
      "execution_count": null,
      "outputs": []
    },
    {
      "cell_type": "code",
      "source": [
        "model_GRU = Sequential([ \n",
        "    Embedding(vocab_size, 10, input_length=max_len-1),\n",
        "    GRU(128),\n",
        "    Dense(vocab_size, activation='softmax')\n",
        "])\n",
        "model_GRU.summary()"
      ],
      "metadata": {
        "colab": {
          "base_uri": "https://localhost:8080/"
        },
        "outputId": "814e7629-dd66-423b-ab24-51a9e8845950",
        "id": "zJZSfKtUAApQ"
      },
      "execution_count": null,
      "outputs": [
        {
          "output_type": "stream",
          "name": "stdout",
          "text": [
            "Model: \"sequential\"\n",
            "_________________________________________________________________\n",
            " Layer (type)                Output Shape              Param #   \n",
            "=================================================================\n",
            " embedding (Embedding)       (None, 23, 10)            34940     \n",
            "                                                                 \n",
            " lstm (LSTM)                 (None, 128)               71168     \n",
            "                                                                 \n",
            " dense (Dense)               (None, 3494)              450726    \n",
            "                                                                 \n",
            "=================================================================\n",
            "Total params: 556,834\n",
            "Trainable params: 556,834\n",
            "Non-trainable params: 0\n",
            "_________________________________________________________________\n"
          ]
        }
      ]
    },
    {
      "cell_type": "code",
      "source": [
        "# 컴파일\n",
        "model.compile('adam', 'categorical_crossentropy', metrics=['accuracy'])"
      ],
      "metadata": {
        "id": "hFkVVxkOAApR"
      },
      "execution_count": null,
      "outputs": []
    },
    {
      "cell_type": "code",
      "source": [
        "# Colab, GPU 환경\n",
        "%time hist = model.fit(X, Y, epochs=200)"
      ],
      "metadata": {
        "id": "BrYjoZydAApR"
      },
      "execution_count": null,
      "outputs": []
    },
    {
      "cell_type": "code",
      "source": [
        "hist.history['accuracy'][-1]"
      ],
      "metadata": {
        "colab": {
          "base_uri": "https://localhost:8080/"
        },
        "outputId": "fb68ffe6-fcc8-4a7d-88e6-11af419f7a02",
        "id": "373FAuXcAApS"
      },
      "execution_count": null,
      "outputs": [
        {
          "output_type": "execute_result",
          "data": {
            "text/plain": [
              "0.9168268442153931"
            ]
          },
          "metadata": {},
          "execution_count": 27
        }
      ]
    },
    {
      "cell_type": "markdown",
      "source": [
        "### SimpleRNN\n",
        "Embedding: 10 차원\n",
        "SimpleRNN: 128 units"
      ],
      "metadata": {
        "id": "Q_CJ-5Qp-Qpr"
      }
    },
    {
      "cell_type": "code",
      "source": [
        "from tensorflow.keras.models import Sequential\n",
        "from tensorflow.keras.layers import Embedding, SimpleRNN, Dense"
      ],
      "metadata": {
        "id": "cB1q8frl-Qnd"
      },
      "execution_count": 13,
      "outputs": []
    },
    {
      "cell_type": "code",
      "source": [
        "# Embedding=10, SimpleRNN=128\n",
        "model_RNN = Sequential([ \n",
        "    Embedding(vocab_size, 10, input_length=max_len-1),\n",
        "    SimpleRNN(128),\n",
        "    Dense(vocab_size, activation='softmax')\n",
        "])\n",
        "model_RNN.summary()"
      ],
      "metadata": {
        "id": "6lsv7XtK1SDu",
        "colab": {
          "base_uri": "https://localhost:8080/"
        },
        "outputId": "14fe0ed1-18d8-4bf7-b091-962bba19b544"
      },
      "execution_count": 14,
      "outputs": [
        {
          "output_type": "stream",
          "name": "stdout",
          "text": [
            "Model: \"sequential\"\n",
            "_________________________________________________________________\n",
            " Layer (type)                Output Shape              Param #   \n",
            "=================================================================\n",
            " embedding (Embedding)       (None, 23, 10)            34940     \n",
            "                                                                 \n",
            " simple_rnn (SimpleRNN)      (None, 128)               17792     \n",
            "                                                                 \n",
            " dense (Dense)               (None, 3494)              450726    \n",
            "                                                                 \n",
            "=================================================================\n",
            "Total params: 503,458\n",
            "Trainable params: 503,458\n",
            "Non-trainable params: 0\n",
            "_________________________________________________________________\n"
          ]
        }
      ]
    },
    {
      "cell_type": "code",
      "source": [
        "model_RNN.compile(optimizer='adam', loss='categorical_crossentropy', metrics=['accuracy'])"
      ],
      "metadata": {
        "id": "cFMt9Qt6_L-N"
      },
      "execution_count": 16,
      "outputs": []
    },
    {
      "cell_type": "code",
      "source": [
        "%time hist = model_RNN.fit(X, Y, epochs=200, verbose=0)"
      ],
      "metadata": {
        "colab": {
          "base_uri": "https://localhost:8080/"
        },
        "id": "LJwa0d3j_a_S",
        "outputId": "7807139e-02d3-4e8b-c9f6-d2a1670506fd"
      },
      "execution_count": 17,
      "outputs": [
        {
          "output_type": "stream",
          "name": "stdout",
          "text": [
            "CPU times: user 41min 43s, sys: 7min 32s, total: 49min 15s\n",
            "Wall time: 19min 12s\n"
          ]
        }
      ]
    },
    {
      "cell_type": "code",
      "source": [
        "hist.history['accuracy'][-1]"
      ],
      "metadata": {
        "colab": {
          "base_uri": "https://localhost:8080/"
        },
        "id": "-_kxRxi3_pmq",
        "outputId": "60992be9-3df2-4ae4-de30-0a6ba335bc7c"
      },
      "execution_count": 18,
      "outputs": [
        {
          "output_type": "execute_result",
          "data": {
            "text/plain": [
              "0.9147763848304749"
            ]
          },
          "metadata": {},
          "execution_count": 18
        }
      ]
    },
    {
      "cell_type": "code",
      "source": [
        "y_acc = hist.history['accuracy']\n",
        "y_loss = hist.history['loss']\n",
        "xs = np.arange(1, len(y_acc)+1)"
      ],
      "metadata": {
        "id": "N23CvXVHCBwB"
      },
      "execution_count": 19,
      "outputs": []
    },
    {
      "cell_type": "code",
      "source": [
        "plt.figure(figsize=(12,8))\n",
        "plt.plot(xs, y_acc, label='Train Accuracy')\n",
        "plt.plot(xs, y_loss, label='Train loss')\n",
        "plt.legend(), plt.grid(), \n",
        "plt.ylim(0,1.1)\n",
        "plt.xlabel('Epoch')\n",
        "plt.show()\n",
        "# 50번 이후로는 그다지 좋아지지 않았다. \n",
        "# 시간을 고려하여 100번 이하로 학습수행할것."
      ],
      "metadata": {
        "colab": {
          "base_uri": "https://localhost:8080/",
          "height": 497
        },
        "outputId": "2a914d73-2ba3-4de0-bc95-81cc2841d0fb",
        "id": "smvBklg7CBwC"
      },
      "execution_count": 22,
      "outputs": [
        {
          "output_type": "display_data",
          "data": {
            "image/png": "[encoded data removed]",
            "text/plain": [
              "<Figure size 864x576 with 1 Axes>"
            ]
          },
          "metadata": {
            "needs_background": "light"
          }
        }
      ]
    },
    {
      "cell_type": "markdown",
      "source": [
        "### SImpleRNN model two\n",
        "- Embedding=4, SimpleRNN=128  \n",
        "- 학습은 100번만, epochs = 100\n",
        "- 가장 중요하다고 생각되는 임베딩의 차원을 4차원으로 낮춰본다\n",
        "- 여기까지 하고 모델 검증으로 헤드라인을 알맞게 만들어내는지 볼것.\n"
      ],
      "metadata": {
        "id": "oZAsO_S0BXlD"
      }
    },
    {
      "cell_type": "code",
      "source": [
        "# Embedding=4, SimpleRNN=128\n",
        "model_RNN_e4 = Sequential([ \n",
        "    Embedding(vocab_size, 4, input_length=max_len-1),\n",
        "    SimpleRNN(128),\n",
        "    Dense(vocab_size, activation='softmax')\n",
        "])\n",
        "model_RNN_e4.summary()"
      ],
      "metadata": {
        "colab": {
          "base_uri": "https://localhost:8080/"
        },
        "outputId": "72a50726-7f15-49f0-cb8c-605fcf5e828e",
        "id": "6BkoR60ZEy8W"
      },
      "execution_count": 23,
      "outputs": [
        {
          "output_type": "stream",
          "name": "stdout",
          "text": [
            "Model: \"sequential_1\"\n",
            "_________________________________________________________________\n",
            " Layer (type)                Output Shape              Param #   \n",
            "=================================================================\n",
            " embedding_1 (Embedding)     (None, 23, 4)             13976     \n",
            "                                                                 \n",
            " simple_rnn_1 (SimpleRNN)    (None, 128)               17024     \n",
            "                                                                 \n",
            " dense_1 (Dense)             (None, 3494)              450726    \n",
            "                                                                 \n",
            "=================================================================\n",
            "Total params: 481,726\n",
            "Trainable params: 481,726\n",
            "Non-trainable params: 0\n",
            "_________________________________________________________________\n"
          ]
        }
      ]
    },
    {
      "cell_type": "code",
      "source": [
        "model_RNN_e4.compile(optimizer='adam', loss='categorical_crossentropy', metrics=['accuracy'])"
      ],
      "metadata": {
        "id": "bdjDgtGKEy8h"
      },
      "execution_count": 24,
      "outputs": []
    },
    {
      "cell_type": "code",
      "source": [
        "%time hist = model_RNN_e4.fit(X, Y, epochs=100, verbose=0)"
      ],
      "metadata": {
        "colab": {
          "base_uri": "https://localhost:8080/"
        },
        "outputId": "9555b205-0fe2-4e68-e09c-11ff26bb6e36",
        "id": "jWve2KJiEy8h"
      },
      "execution_count": 25,
      "outputs": [
        {
          "output_type": "stream",
          "name": "stdout",
          "text": [
            "Epoch 1/100\n",
            "244/244 [==============================] - 7s 26ms/step - loss: 7.6611 - accuracy: 0.0293\n",
            "Epoch 2/100\n",
            "244/244 [==============================] - 6s 26ms/step - loss: 7.1392 - accuracy: 0.0302\n",
            "Epoch 3/100\n",
            "244/244 [==============================] - 6s 26ms/step - loss: 6.9839 - accuracy: 0.0406\n",
            "Epoch 4/100\n",
            "244/244 [==============================] - 6s 26ms/step - loss: 6.7601 - accuracy: 0.0495\n",
            "Epoch 5/100\n",
            "244/244 [==============================] - 6s 26ms/step - loss: 6.4648 - accuracy: 0.0560\n",
            "Epoch 6/100\n",
            "244/244 [==============================] - 6s 26ms/step - loss: 6.1549 - accuracy: 0.0598\n",
            "Epoch 7/100\n",
            "244/244 [==============================] - 6s 26ms/step - loss: 5.8565 - accuracy: 0.0634\n",
            "Epoch 8/100\n",
            "244/244 [==============================] - 6s 26ms/step - loss: 5.5648 - accuracy: 0.0725\n",
            "Epoch 9/100\n",
            "244/244 [==============================] - 6s 26ms/step - loss: 5.2887 - accuracy: 0.0838\n",
            "Epoch 10/100\n",
            "244/244 [==============================] - 6s 26ms/step - loss: 5.0256 - accuracy: 0.1043\n",
            "Epoch 11/100\n",
            "244/244 [==============================] - 6s 26ms/step - loss: 4.7814 - accuracy: 0.1334\n",
            "Epoch 12/100\n",
            "244/244 [==============================] - 6s 26ms/step - loss: 4.5368 - accuracy: 0.1666\n",
            "Epoch 13/100\n",
            "244/244 [==============================] - 6s 26ms/step - loss: 4.3198 - accuracy: 0.1979\n",
            "Epoch 14/100\n",
            "244/244 [==============================] - 6s 26ms/step - loss: 4.1094 - accuracy: 0.2332\n",
            "Epoch 15/100\n",
            "244/244 [==============================] - 6s 26ms/step - loss: 3.9220 - accuracy: 0.2661\n",
            "Epoch 16/100\n",
            "244/244 [==============================] - 6s 26ms/step - loss: 3.7431 - accuracy: 0.2945\n",
            "Epoch 17/100\n",
            "244/244 [==============================] - 6s 26ms/step - loss: 3.5794 - accuracy: 0.3168\n",
            "Epoch 18/100\n",
            "244/244 [==============================] - 6s 26ms/step - loss: 3.4311 - accuracy: 0.3427\n",
            "Epoch 19/100\n",
            "244/244 [==============================] - 6s 26ms/step - loss: 3.3009 - accuracy: 0.3661\n",
            "Epoch 20/100\n",
            "244/244 [==============================] - 6s 26ms/step - loss: 3.1773 - accuracy: 0.3843\n",
            "Epoch 21/100\n",
            "244/244 [==============================] - 6s 26ms/step - loss: 3.0549 - accuracy: 0.4056\n",
            "Epoch 22/100\n",
            "244/244 [==============================] - 6s 26ms/step - loss: 2.9463 - accuracy: 0.4280\n",
            "Epoch 23/100\n",
            "244/244 [==============================] - 6s 26ms/step - loss: 2.8481 - accuracy: 0.4429\n",
            "Epoch 24/100\n",
            "244/244 [==============================] - 6s 26ms/step - loss: 2.7539 - accuracy: 0.4587\n",
            "Epoch 25/100\n",
            "244/244 [==============================] - 6s 26ms/step - loss: 2.6585 - accuracy: 0.4758\n",
            "Epoch 26/100\n",
            "244/244 [==============================] - 6s 26ms/step - loss: 2.5809 - accuracy: 0.4910\n",
            "Epoch 27/100\n",
            "244/244 [==============================] - 6s 26ms/step - loss: 2.5112 - accuracy: 0.4978\n",
            "Epoch 28/100\n",
            "244/244 [==============================] - 6s 26ms/step - loss: 2.4313 - accuracy: 0.5135\n",
            "Epoch 29/100\n",
            "244/244 [==============================] - 6s 26ms/step - loss: 2.3649 - accuracy: 0.5254\n",
            "Epoch 30/100\n",
            "244/244 [==============================] - 6s 26ms/step - loss: 2.2999 - accuracy: 0.5402\n",
            "Epoch 31/100\n",
            "244/244 [==============================] - 6s 26ms/step - loss: 2.2345 - accuracy: 0.5515\n",
            "Epoch 32/100\n",
            "244/244 [==============================] - 6s 26ms/step - loss: 2.1848 - accuracy: 0.5627\n",
            "Epoch 33/100\n",
            "244/244 [==============================] - 6s 26ms/step - loss: 2.1263 - accuracy: 0.5653\n",
            "Epoch 34/100\n",
            "244/244 [==============================] - 6s 26ms/step - loss: 2.0712 - accuracy: 0.5794\n",
            "Epoch 35/100\n",
            "244/244 [==============================] - 6s 26ms/step - loss: 2.0164 - accuracy: 0.5921\n",
            "Epoch 36/100\n",
            "244/244 [==============================] - 6s 26ms/step - loss: 1.9670 - accuracy: 0.6005\n",
            "Epoch 37/100\n",
            "244/244 [==============================] - 6s 26ms/step - loss: 1.9232 - accuracy: 0.6119\n",
            "Epoch 38/100\n",
            "244/244 [==============================] - 6s 26ms/step - loss: 1.8722 - accuracy: 0.6213\n",
            "Epoch 39/100\n",
            "244/244 [==============================] - 6s 26ms/step - loss: 1.8323 - accuracy: 0.6271\n",
            "Epoch 40/100\n",
            "244/244 [==============================] - 6s 26ms/step - loss: 1.7869 - accuracy: 0.6382\n",
            "Epoch 41/100\n",
            "244/244 [==============================] - 6s 26ms/step - loss: 1.7487 - accuracy: 0.6473\n",
            "Epoch 42/100\n",
            "244/244 [==============================] - 6s 26ms/step - loss: 1.7089 - accuracy: 0.6542\n",
            "Epoch 43/100\n",
            "244/244 [==============================] - 6s 26ms/step - loss: 1.6698 - accuracy: 0.6631\n",
            "Epoch 44/100\n",
            "244/244 [==============================] - 6s 26ms/step - loss: 1.6285 - accuracy: 0.6710\n",
            "Epoch 45/100\n",
            "244/244 [==============================] - 6s 26ms/step - loss: 1.6017 - accuracy: 0.6718\n",
            "Epoch 46/100\n",
            "244/244 [==============================] - 6s 26ms/step - loss: 1.5640 - accuracy: 0.6826\n",
            "Epoch 47/100\n",
            "244/244 [==============================] - 6s 26ms/step - loss: 1.5274 - accuracy: 0.6883\n",
            "Epoch 48/100\n",
            "244/244 [==============================] - 6s 26ms/step - loss: 1.4935 - accuracy: 0.6937\n",
            "Epoch 49/100\n",
            "244/244 [==============================] - 6s 26ms/step - loss: 1.4697 - accuracy: 0.6987\n",
            "Epoch 50/100\n",
            "244/244 [==============================] - 6s 26ms/step - loss: 1.4269 - accuracy: 0.7087\n",
            "Epoch 51/100\n",
            "244/244 [==============================] - 6s 26ms/step - loss: 1.3940 - accuracy: 0.7173\n",
            "Epoch 52/100\n",
            "244/244 [==============================] - 6s 26ms/step - loss: 1.3651 - accuracy: 0.7168\n",
            "Epoch 53/100\n",
            "244/244 [==============================] - 6s 26ms/step - loss: 1.3407 - accuracy: 0.7282\n",
            "Epoch 54/100\n",
            "244/244 [==============================] - 6s 26ms/step - loss: 1.3152 - accuracy: 0.7313\n",
            "Epoch 55/100\n",
            "244/244 [==============================] - 6s 26ms/step - loss: 1.3026 - accuracy: 0.7341\n",
            "Epoch 56/100\n",
            "244/244 [==============================] - 6s 26ms/step - loss: 1.2548 - accuracy: 0.7441\n",
            "Epoch 57/100\n",
            "244/244 [==============================] - 6s 26ms/step - loss: 1.2322 - accuracy: 0.7436\n",
            "Epoch 58/100\n",
            "244/244 [==============================] - 6s 26ms/step - loss: 1.1965 - accuracy: 0.7528\n",
            "Epoch 59/100\n",
            "244/244 [==============================] - 6s 26ms/step - loss: 1.1712 - accuracy: 0.7589\n",
            "Epoch 60/100\n",
            "244/244 [==============================] - 6s 26ms/step - loss: 1.1486 - accuracy: 0.7665\n",
            "Epoch 61/100\n",
            "244/244 [==============================] - 6s 26ms/step - loss: 1.1366 - accuracy: 0.7674\n",
            "Epoch 62/100\n",
            "244/244 [==============================] - 6s 26ms/step - loss: 1.1045 - accuracy: 0.7746\n",
            "Epoch 63/100\n",
            "244/244 [==============================] - 6s 26ms/step - loss: 1.0827 - accuracy: 0.7816\n",
            "Epoch 64/100\n",
            "244/244 [==============================] - 6s 26ms/step - loss: 1.0613 - accuracy: 0.7848\n",
            "Epoch 65/100\n",
            "244/244 [==============================] - 6s 26ms/step - loss: 1.0354 - accuracy: 0.7879\n",
            "Epoch 66/100\n",
            "244/244 [==============================] - 6s 26ms/step - loss: 1.0213 - accuracy: 0.7896\n",
            "Epoch 67/100\n",
            "244/244 [==============================] - 6s 26ms/step - loss: 0.9956 - accuracy: 0.7962\n",
            "Epoch 68/100\n",
            "244/244 [==============================] - 6s 26ms/step - loss: 0.9784 - accuracy: 0.7979\n",
            "Epoch 69/100\n",
            "244/244 [==============================] - 6s 26ms/step - loss: 0.9637 - accuracy: 0.7996\n",
            "Epoch 70/100\n",
            "244/244 [==============================] - 6s 26ms/step - loss: 0.9370 - accuracy: 0.8080\n",
            "Epoch 71/100\n",
            "244/244 [==============================] - 6s 26ms/step - loss: 0.9221 - accuracy: 0.8076\n",
            "Epoch 72/100\n",
            "244/244 [==============================] - 6s 26ms/step - loss: 0.9081 - accuracy: 0.8105\n",
            "Epoch 73/100\n",
            "244/244 [==============================] - 6s 26ms/step - loss: 0.8902 - accuracy: 0.8170\n",
            "Epoch 74/100\n",
            "244/244 [==============================] - 6s 26ms/step - loss: 0.8795 - accuracy: 0.8170\n",
            "Epoch 75/100\n",
            "244/244 [==============================] - 6s 26ms/step - loss: 0.8531 - accuracy: 0.8210\n",
            "Epoch 76/100\n",
            "244/244 [==============================] - 6s 26ms/step - loss: 0.8738 - accuracy: 0.8158\n",
            "Epoch 77/100\n",
            "244/244 [==============================] - 6s 26ms/step - loss: 0.8359 - accuracy: 0.8266\n",
            "Epoch 78/100\n",
            "244/244 [==============================] - 6s 26ms/step - loss: 0.8191 - accuracy: 0.8287\n",
            "Epoch 79/100\n",
            "244/244 [==============================] - 6s 26ms/step - loss: 0.7976 - accuracy: 0.8322\n",
            "Epoch 80/100\n",
            "244/244 [==============================] - 6s 26ms/step - loss: 0.7873 - accuracy: 0.8329\n",
            "Epoch 81/100\n",
            "244/244 [==============================] - 6s 26ms/step - loss: 0.7748 - accuracy: 0.8352\n",
            "Epoch 82/100\n",
            "244/244 [==============================] - 6s 26ms/step - loss: 0.7673 - accuracy: 0.8338\n",
            "Epoch 83/100\n",
            "244/244 [==============================] - 6s 26ms/step - loss: 0.7578 - accuracy: 0.8388\n",
            "Epoch 84/100\n",
            "244/244 [==============================] - 6s 26ms/step - loss: 0.7424 - accuracy: 0.8421\n",
            "Epoch 85/100\n",
            "244/244 [==============================] - 6s 26ms/step - loss: 0.7364 - accuracy: 0.8387\n",
            "Epoch 86/100\n",
            "244/244 [==============================] - 7s 27ms/step - loss: 0.7192 - accuracy: 0.8435\n",
            "Epoch 87/100\n",
            "244/244 [==============================] - 7s 27ms/step - loss: 0.7041 - accuracy: 0.8480\n",
            "Epoch 88/100\n",
            "244/244 [==============================] - 6s 26ms/step - loss: 0.6943 - accuracy: 0.8483\n",
            "Epoch 89/100\n",
            "244/244 [==============================] - 7s 27ms/step - loss: 0.6894 - accuracy: 0.8522\n",
            "Epoch 90/100\n",
            "244/244 [==============================] - 6s 27ms/step - loss: 0.6811 - accuracy: 0.8526\n",
            "Epoch 91/100\n",
            "244/244 [==============================] - 7s 28ms/step - loss: 0.6656 - accuracy: 0.8534\n",
            "Epoch 92/100\n",
            "244/244 [==============================] - 6s 26ms/step - loss: 0.6592 - accuracy: 0.8547\n",
            "Epoch 93/100\n",
            "244/244 [==============================] - 6s 26ms/step - loss: 0.6513 - accuracy: 0.8579\n",
            "Epoch 94/100\n",
            "244/244 [==============================] - 7s 27ms/step - loss: 0.6620 - accuracy: 0.8574\n",
            "Epoch 95/100\n",
            "244/244 [==============================] - 7s 27ms/step - loss: 0.6607 - accuracy: 0.8543\n",
            "Epoch 96/100\n",
            "244/244 [==============================] - 7s 27ms/step - loss: 0.6318 - accuracy: 0.8604\n",
            "Epoch 97/100\n",
            "244/244 [==============================] - 7s 27ms/step - loss: 0.6342 - accuracy: 0.8594\n",
            "Epoch 98/100\n",
            "244/244 [==============================] - 7s 27ms/step - loss: 0.6877 - accuracy: 0.8494\n",
            "Epoch 99/100\n",
            "244/244 [==============================] - 7s 27ms/step - loss: 0.6131 - accuracy: 0.8652\n",
            "Epoch 100/100\n",
            "244/244 [==============================] - 7s 27ms/step - loss: 0.5931 - accuracy: 0.8679\n",
            "CPU times: user 21min 57s, sys: 3min 57s, total: 25min 54s\n",
            "Wall time: 10min 39s\n"
          ]
        }
      ]
    },
    {
      "cell_type": "code",
      "source": [
        "hist.history['accuracy'][-1]"
      ],
      "metadata": {
        "colab": {
          "base_uri": "https://localhost:8080/"
        },
        "outputId": "60992be9-3df2-4ae4-de30-0a6ba335bc7c",
        "id": "zSD0N-m4Ey8h"
      },
      "execution_count": null,
      "outputs": [
        {
          "output_type": "execute_result",
          "data": {
            "text/plain": [
              "0.9147763848304749"
            ]
          },
          "metadata": {},
          "execution_count": 18
        }
      ]
    },
    {
      "cell_type": "code",
      "source": [
        ""
      ],
      "metadata": {
        "id": "8ASLvTc5BYKw"
      },
      "execution_count": null,
      "outputs": []
    },
    {
      "cell_type": "code",
      "source": [
        ""
      ],
      "metadata": {
        "id": "ojx2cmMDBYIU"
      },
      "execution_count": null,
      "outputs": []
    },
    {
      "cell_type": "code",
      "source": [
        ""
      ],
      "metadata": {
        "id": "P6a6CIm4BqFL"
      },
      "execution_count": null,
      "outputs": []
    }
  ]
}