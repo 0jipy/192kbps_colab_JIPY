{
  "nbformat": 4,
  "nbformat_minor": 0,
  "metadata": {
    "colab": {
      "name": "__IMAGE_API_guver.ipynb",
      "provenance": [],
      "collapsed_sections": [],
      "authorship_tag": "ABX9TyMXOb+layh3V4sIKInjMDAd",
      "include_colab_link": true
    },
    "kernelspec": {
      "name": "python3",
      "display_name": "Python 3"
    },
    "language_info": {
      "name": "python"
    }
  },
  "cells": [
    {
      "cell_type": "markdown",
      "metadata": {
        "id": "view-in-github",
        "colab_type": "text"
      },
      "source": [
        "<a href=\"https://colab.research.google.com/github/0jipy/192kbps_colab_JIPY/blob/main/__IMAGE_API_guver.ipynb\" target=\"_parent\"><img src=\"https://colab.research.google.com/assets/colab-badge.svg\" alt=\"Open In Colab\"/></a>"
      ]
    },
    {
      "cell_type": "code",
      "execution_count": 13,
      "metadata": {
        "colab": {
          "base_uri": "https://localhost:8080/"
        },
        "id": "lV8tajXTU_zL",
        "outputId": "384730f1-7efc-4e46-86cf-c0e5d790c05c"
      },
      "outputs": [
        {
          "output_type": "execute_result",
          "data": {
            "text/plain": [
              "['animals/eagle.jpg',\n",
              " 'animals/shark.jpg',\n",
              " 'animals/crocodile.jpg',\n",
              " 'animals/elephant.jpg',\n",
              " 'animals/penguin.jpg',\n",
              " 'animals/dolphin.jpg',\n",
              " 'animals/bear.jpg',\n",
              " 'animals/sparrow.jpg',\n",
              " 'animals/lion.jpg',\n",
              " 'animals/hawk.jpg']"
            ]
          },
          "metadata": {},
          "execution_count": 13
        }
      ],
      "source": [
        "# Keras Application 응용\n",
        "from glob import glob\n",
        "glob('animals/*')"
      ]
    },
    {
      "cell_type": "code",
      "source": [
        "glob('animals/*')[0].split('/') # 코랩에서는 이렇게 써야 해 "
      ],
      "metadata": {
        "colab": {
          "base_uri": "https://localhost:8080/"
        },
        "id": "CF_NFg4XXWXI",
        "outputId": "8ee30583-86c5-4956-96c7-19f39676dfec"
      },
      "execution_count": 22,
      "outputs": [
        {
          "output_type": "execute_result",
          "data": {
            "text/plain": [
              "['animals', 'eagle.jpg']"
            ]
          },
          "metadata": {},
          "execution_count": 22
        }
      ]
    },
    {
      "cell_type": "code",
      "source": [
        "name_list =[]\n",
        "for file in glob('animals/*'):\n",
        "    name = file.split('/')[-1]\n",
        "    name = name.split('.')[0]\n",
        "    name_list.append(name)\n",
        "print(name_list)"
      ],
      "metadata": {
        "colab": {
          "base_uri": "https://localhost:8080/"
        },
        "id": "BtYGaM3qVsRW",
        "outputId": "cdfff645-e34f-47a4-d9d6-2992e85c2531"
      },
      "execution_count": 23,
      "outputs": [
        {
          "output_type": "stream",
          "name": "stdout",
          "text": [
            "['eagle', 'shark', 'crocodile', 'elephant', 'penguin', 'dolphin', 'bear', 'sparrow', 'lion', 'hawk']\n"
          ]
        }
      ]
    },
    {
      "cell_type": "markdown",
      "source": [
        "vgg 16"
      ],
      "metadata": {
        "id": "Sbb11s48Z805"
      }
    },
    {
      "cell_type": "code",
      "source": [
        "from tensorflow.keras.applications.vgg16 import VGG16, decode_predictions\n",
        "import numpy as np\n",
        "from PIL import Image"
      ],
      "metadata": {
        "id": "4djg33PKZGX4"
      },
      "execution_count": 34,
      "outputs": []
    },
    {
      "cell_type": "code",
      "source": [
        "# VGG16 \n",
        "vgg16 = VGG16()\n",
        "vgg16_list = []\n",
        "\n",
        "for file in glob('animals/*'):\n",
        "    img = np.array(Image.open(file).resize((224,224)))\n",
        "    yhat = vgg16.predict(img.reshape(-1, 224, 224, 3))\n",
        "    label = decode_predictions(yhat)\n",
        "    vgg16_list.append(label[0][0][1])\n",
        "print(vgg16_list)"
      ],
      "metadata": {
        "colab": {
          "base_uri": "https://localhost:8080/"
        },
        "id": "z4bx4cCUWsAw",
        "outputId": "32e969fa-04f8-4143-805b-b2c28f776990"
      },
      "execution_count": 37,
      "outputs": [
        {
          "output_type": "stream",
          "name": "stdout",
          "text": [
            "Downloading data from https://storage.googleapis.com/download.tensorflow.org/data/imagenet_class_index.json\n",
            "40960/35363 [==================================] - 0s 0us/step\n",
            "49152/35363 [=========================================] - 0s 0us/step\n",
            "['kite', 'great_white_shark', 'agama', 'tusker', 'king_penguin', 'Weimaraner', 'ice_bear', 'jay', 'lion', 'kite']\n"
          ]
        }
      ]
    },
    {
      "cell_type": "markdown",
      "source": [
        "VGG 19"
      ],
      "metadata": {
        "id": "1JzXSBJ5ZDmo"
      }
    },
    {
      "cell_type": "code",
      "source": [
        "from tensorflow.keras.applications.vgg19 import VGG19, decode_predictions\n",
        "import cv2\n",
        "vgg19 = VGG19()"
      ],
      "metadata": {
        "colab": {
          "base_uri": "https://localhost:8080/"
        },
        "id": "iUU9JDxqajlG",
        "outputId": "485607d3-c4f5-4db2-e491-484e93d8cc4c"
      },
      "execution_count": 41,
      "outputs": [
        {
          "output_type": "stream",
          "name": "stdout",
          "text": [
            "Downloading data from https://storage.googleapis.com/tensorflow/keras-applications/vgg19/vgg19_weights_tf_dim_ordering_tf_kernels.h5\n",
            "574717952/574710816 [==============================] - 5s 0us/step\n",
            "574726144/574710816 [==============================] - 5s 0us/step\n"
          ]
        }
      ]
    },
    {
      "cell_type": "code",
      "source": [
        "vgg19_list = []\n",
        "\n",
        "for file in glob('animals/*'):\n",
        "    img = cv2.imread(file)\n",
        "    img = cv2.resize(img, (224,224))\n",
        "    img = cv2.cvtColor(img, cv2.COLOR_BGR2RGB)\n",
        "\n",
        "    yhat = vgg19.predict(img.reshape(-1,224,224,3))\n",
        "    label = decode_predictions(yhat)\n",
        "    vgg19_list.append(label[0][0][1])\n",
        "print(vgg16_list)"
      ],
      "metadata": {
        "colab": {
          "base_uri": "https://localhost:8080/"
        },
        "id": "kwn5tj4-asL3",
        "outputId": "49adef0a-be75-473d-de57-95b2226ebf6b"
      },
      "execution_count": 42,
      "outputs": [
        {
          "output_type": "stream",
          "name": "stdout",
          "text": [
            "['kite', 'great_white_shark', 'agama', 'tusker', 'king_penguin', 'Weimaraner', 'ice_bear', 'jay', 'lion', 'kite']\n"
          ]
        }
      ]
    },
    {
      "cell_type": "markdown",
      "source": [
        "ResNet 50"
      ],
      "metadata": {
        "id": "m8gcCEyLblqL"
      }
    },
    {
      "cell_type": "code",
      "source": [
        "from tensorflow.keras.applications.resnet50 import ResNet50, decode_predictions\n",
        "resnet50 = ResNet50()"
      ],
      "metadata": {
        "colab": {
          "base_uri": "https://localhost:8080/"
        },
        "id": "mH8ePqZObqfV",
        "outputId": "47c2e021-24f3-439b-e8e2-a321e6d9df3e"
      },
      "execution_count": 43,
      "outputs": [
        {
          "output_type": "stream",
          "name": "stdout",
          "text": [
            "Downloading data from https://storage.googleapis.com/tensorflow/keras-applications/resnet/resnet50_weights_tf_dim_ordering_tf_kernels.h5\n",
            "102973440/102967424 [==============================] - 1s 0us/step\n",
            "102981632/102967424 [==============================] - 1s 0us/step\n"
          ]
        }
      ]
    },
    {
      "cell_type": "code",
      "source": [
        "resnet50_list = []\n",
        "\n",
        "for file in glob('animals/*'):\n",
        "    img = np.array(Image.open(file).resize((224,224)))\n",
        "    yhat = resnet50.predict(img.reshape(-1,224,224,3))\n",
        "    label = decode_predictions(yhat)\n",
        "    resnet50_list.append(label[0][0][1])\n",
        "print(resnet50_list)"
      ],
      "metadata": {
        "colab": {
          "base_uri": "https://localhost:8080/"
        },
        "id": "UXx1p6bPb73t",
        "outputId": "145f6237-c007-4c87-876c-dd5d0e3bd729"
      },
      "execution_count": 44,
      "outputs": [
        {
          "output_type": "stream",
          "name": "stdout",
          "text": [
            "['kite', 'great_white_shark', 'American_alligator', 'cardigan', 'king_penguin', 'Weimaraner', 'ice_bear', 'jay', 'Lhasa', 'kite']\n"
          ]
        }
      ]
    },
    {
      "cell_type": "markdown",
      "source": [
        "ResNet 101"
      ],
      "metadata": {
        "id": "wOHBZPSdcUOx"
      }
    },
    {
      "cell_type": "code",
      "source": [
        "from tensorflow.keras.applications.resnet import ResNet101, decode_predictions\n",
        "resnet101 = ResNet101()"
      ],
      "metadata": {
        "colab": {
          "base_uri": "https://localhost:8080/"
        },
        "id": "2Dq4tJYjcYVe",
        "outputId": "62952c83-7681-4611-ce01-0474b4d92e77"
      },
      "execution_count": 45,
      "outputs": [
        {
          "output_type": "stream",
          "name": "stdout",
          "text": [
            "Downloading data from https://storage.googleapis.com/tensorflow/keras-applications/resnet/resnet101_weights_tf_dim_ordering_tf_kernels.h5\n",
            "179650560/179648224 [==============================] - 1s 0us/step\n",
            "179658752/179648224 [==============================] - 1s 0us/step\n"
          ]
        }
      ]
    },
    {
      "cell_type": "code",
      "source": [
        "resnet101_list = []\n",
        "\n",
        "for file in glob('animals/*'):\n",
        "    img = np.array(Image.open(file).resize((224,224)))\n",
        "    yhat = resnet101.predict(img.reshape(-1,224,224,3))\n",
        "    label = decode_predictions(yhat)\n",
        "    resnet101_list.append(label[0][0][1])\n",
        "print(resnet101_list)"
      ],
      "metadata": {
        "colab": {
          "base_uri": "https://localhost:8080/"
        },
        "id": "-pZEMCvKcjkc",
        "outputId": "538fd348-7942-4c08-a0e9-8b014212992c"
      },
      "execution_count": 46,
      "outputs": [
        {
          "output_type": "stream",
          "name": "stdout",
          "text": [
            "['kite', 'great_white_shark', 'triceratops', 'cardigan', 'king_penguin', 'Weimaraner', 'ice_bear', 'jay', 'miniature_schnauzer', 'kite']\n"
          ]
        }
      ]
    },
    {
      "cell_type": "markdown",
      "source": [
        "- 데이터 프레임으로 합치기"
      ],
      "metadata": {
        "id": "0Ss33EWTcsqR"
      }
    },
    {
      "cell_type": "code",
      "source": [
        "import pandas as pd \n",
        "df = pd.DataFrame({\n",
        "    'Original':name_list, 'VGG16':vgg16_list, 'VGG19':vgg19_list, \n",
        "    'ResNet50':resnet50_list, 'ResNet101':resnet101_list,\n",
        "})\n",
        "# df\n",
        "df.sort_values('Original')"
      ],
      "metadata": {
        "colab": {
          "base_uri": "https://localhost:8080/",
          "height": 363
        },
        "id": "FwERLBKzcvzb",
        "outputId": "2c285ff0-fc3f-4dcb-f8a5-fb385b848c3b"
      },
      "execution_count": 49,
      "outputs": [
        {
          "output_type": "execute_result",
          "data": {
            "text/html": [
              "\n",
              "  <div id=\"df-124f8ef2-6dc8-4b94-87fb-c0be41823d1b\">\n",
              "    <div class=\"colab-df-container\">\n",
              "      <div>\n",
              "<style scoped>\n",
              "    .dataframe tbody tr th:only-of-type {\n",
              "        vertical-align: middle;\n",
              "    }\n",
              "\n",
              "    .dataframe tbody tr th {\n",
              "        vertical-align: top;\n",
              "    }\n",
              "\n",
              "    .dataframe thead th {\n",
              "        text-align: right;\n",
              "    }\n",
              "</style>\n",
              "<table border=\"1\" class=\"dataframe\">\n",
              "  <thead>\n",
              "    <tr style=\"text-align: right;\">\n",
              "      <th></th>\n",
              "      <th>Original</th>\n",
              "      <th>VGG16</th>\n",
              "      <th>VGG19</th>\n",
              "      <th>ResNet50</th>\n",
              "      <th>ResNet101</th>\n",
              "    </tr>\n",
              "  </thead>\n",
              "  <tbody>\n",
              "    <tr>\n",
              "      <th>6</th>\n",
              "      <td>bear</td>\n",
              "      <td>ice_bear</td>\n",
              "      <td>ice_bear</td>\n",
              "      <td>ice_bear</td>\n",
              "      <td>ice_bear</td>\n",
              "    </tr>\n",
              "    <tr>\n",
              "      <th>2</th>\n",
              "      <td>crocodile</td>\n",
              "      <td>agama</td>\n",
              "      <td>frilled_lizard</td>\n",
              "      <td>American_alligator</td>\n",
              "      <td>triceratops</td>\n",
              "    </tr>\n",
              "    <tr>\n",
              "      <th>5</th>\n",
              "      <td>dolphin</td>\n",
              "      <td>Weimaraner</td>\n",
              "      <td>hammerhead</td>\n",
              "      <td>Weimaraner</td>\n",
              "      <td>Weimaraner</td>\n",
              "    </tr>\n",
              "    <tr>\n",
              "      <th>0</th>\n",
              "      <td>eagle</td>\n",
              "      <td>kite</td>\n",
              "      <td>kite</td>\n",
              "      <td>kite</td>\n",
              "      <td>kite</td>\n",
              "    </tr>\n",
              "    <tr>\n",
              "      <th>3</th>\n",
              "      <td>elephant</td>\n",
              "      <td>tusker</td>\n",
              "      <td>tusker</td>\n",
              "      <td>cardigan</td>\n",
              "      <td>cardigan</td>\n",
              "    </tr>\n",
              "    <tr>\n",
              "      <th>9</th>\n",
              "      <td>hawk</td>\n",
              "      <td>kite</td>\n",
              "      <td>kite</td>\n",
              "      <td>kite</td>\n",
              "      <td>kite</td>\n",
              "    </tr>\n",
              "    <tr>\n",
              "      <th>8</th>\n",
              "      <td>lion</td>\n",
              "      <td>lion</td>\n",
              "      <td>lion</td>\n",
              "      <td>Lhasa</td>\n",
              "      <td>miniature_schnauzer</td>\n",
              "    </tr>\n",
              "    <tr>\n",
              "      <th>4</th>\n",
              "      <td>penguin</td>\n",
              "      <td>king_penguin</td>\n",
              "      <td>king_penguin</td>\n",
              "      <td>king_penguin</td>\n",
              "      <td>king_penguin</td>\n",
              "    </tr>\n",
              "    <tr>\n",
              "      <th>1</th>\n",
              "      <td>shark</td>\n",
              "      <td>great_white_shark</td>\n",
              "      <td>great_white_shark</td>\n",
              "      <td>great_white_shark</td>\n",
              "      <td>great_white_shark</td>\n",
              "    </tr>\n",
              "    <tr>\n",
              "      <th>7</th>\n",
              "      <td>sparrow</td>\n",
              "      <td>jay</td>\n",
              "      <td>jay</td>\n",
              "      <td>jay</td>\n",
              "      <td>jay</td>\n",
              "    </tr>\n",
              "  </tbody>\n",
              "</table>\n",
              "</div>\n",
              "      <button class=\"colab-df-convert\" onclick=\"convertToInteractive('df-124f8ef2-6dc8-4b94-87fb-c0be41823d1b')\"\n",
              "              title=\"Convert this dataframe to an interactive table.\"\n",
              "              style=\"display:none;\">\n",
              "        \n",
              "  <svg xmlns=\"http://www.w3.org/2000/svg\" height=\"24px\"viewBox=\"0 0 24 24\"\n",
              "       width=\"24px\">\n",
              "    <path d=\"M0 0h24v24H0V0z\" fill=\"none\"/>\n",
              "    <path d=\"M18.56 5.44l.94 2.06.94-2.06 2.06-.94-2.06-.94-.94-2.06-.94 2.06-2.06.94zm-11 1L8.5 8.5l.94-2.06 2.06-.94-2.06-.94L8.5 2.5l-.94 2.06-2.06.94zm10 10l.94 2.06.94-2.06 2.06-.94-2.06-.94-.94-2.06-.94 2.06-2.06.94z\"/><path d=\"M17.41 7.96l-1.37-1.37c-.4-.4-.92-.59-1.43-.59-.52 0-1.04.2-1.43.59L10.3 9.45l-7.72 7.72c-.78.78-.78 2.05 0 2.83L4 21.41c.39.39.9.59 1.41.59.51 0 1.02-.2 1.41-.59l7.78-7.78 2.81-2.81c.8-.78.8-2.07 0-2.86zM5.41 20L4 18.59l7.72-7.72 1.47 1.35L5.41 20z\"/>\n",
              "  </svg>\n",
              "      </button>\n",
              "      \n",
              "  <style>\n",
              "    .colab-df-container {\n",
              "      display:flex;\n",
              "      flex-wrap:wrap;\n",
              "      gap: 12px;\n",
              "    }\n",
              "\n",
              "    .colab-df-convert {\n",
              "      background-color: #E8F0FE;\n",
              "      border: none;\n",
              "      border-radius: 50%;\n",
              "      cursor: pointer;\n",
              "      display: none;\n",
              "      fill: #1967D2;\n",
              "      height: 32px;\n",
              "      padding: 0 0 0 0;\n",
              "      width: 32px;\n",
              "    }\n",
              "\n",
              "    .colab-df-convert:hover {\n",
              "      background-color: #E2EBFA;\n",
              "      box-shadow: 0px 1px 2px rgba(60, 64, 67, 0.3), 0px 1px 3px 1px rgba(60, 64, 67, 0.15);\n",
              "      fill: #174EA6;\n",
              "    }\n",
              "\n",
              "    [theme=dark] .colab-df-convert {\n",
              "      background-color: #3B4455;\n",
              "      fill: #D2E3FC;\n",
              "    }\n",
              "\n",
              "    [theme=dark] .colab-df-convert:hover {\n",
              "      background-color: #434B5C;\n",
              "      box-shadow: 0px 1px 3px 1px rgba(0, 0, 0, 0.15);\n",
              "      filter: drop-shadow(0px 1px 2px rgba(0, 0, 0, 0.3));\n",
              "      fill: #FFFFFF;\n",
              "    }\n",
              "  </style>\n",
              "\n",
              "      <script>\n",
              "        const buttonEl =\n",
              "          document.querySelector('#df-124f8ef2-6dc8-4b94-87fb-c0be41823d1b button.colab-df-convert');\n",
              "        buttonEl.style.display =\n",
              "          google.colab.kernel.accessAllowed ? 'block' : 'none';\n",
              "\n",
              "        async function convertToInteractive(key) {\n",
              "          const element = document.querySelector('#df-124f8ef2-6dc8-4b94-87fb-c0be41823d1b');\n",
              "          const dataTable =\n",
              "            await google.colab.kernel.invokeFunction('convertToInteractive',\n",
              "                                                     [key], {});\n",
              "          if (!dataTable) return;\n",
              "\n",
              "          const docLinkHtml = 'Like what you see? Visit the ' +\n",
              "            '<a target=\"_blank\" href=https://colab.research.google.com/notebooks/data_table.ipynb>data table notebook</a>'\n",
              "            + ' to learn more about interactive tables.';\n",
              "          element.innerHTML = '';\n",
              "          dataTable['output_type'] = 'display_data';\n",
              "          await google.colab.output.renderOutput(dataTable, element);\n",
              "          const docLink = document.createElement('div');\n",
              "          docLink.innerHTML = docLinkHtml;\n",
              "          element.appendChild(docLink);\n",
              "        }\n",
              "      </script>\n",
              "    </div>\n",
              "  </div>\n",
              "  "
            ],
            "text/plain": [
              "    Original              VGG16  ...            ResNet50            ResNet101\n",
              "6       bear           ice_bear  ...            ice_bear             ice_bear\n",
              "2  crocodile              agama  ...  American_alligator          triceratops\n",
              "5    dolphin         Weimaraner  ...          Weimaraner           Weimaraner\n",
              "0      eagle               kite  ...                kite                 kite\n",
              "3   elephant             tusker  ...            cardigan             cardigan\n",
              "9       hawk               kite  ...                kite                 kite\n",
              "8       lion               lion  ...               Lhasa  miniature_schnauzer\n",
              "4    penguin       king_penguin  ...        king_penguin         king_penguin\n",
              "1      shark  great_white_shark  ...   great_white_shark    great_white_shark\n",
              "7    sparrow                jay  ...                 jay                  jay\n",
              "\n",
              "[10 rows x 5 columns]"
            ]
          },
          "metadata": {},
          "execution_count": 49
        }
      ]
    },
    {
      "cell_type": "code",
      "source": [
        ""
      ],
      "metadata": {
        "id": "I-RoYe4MdC8Y"
      },
      "execution_count": null,
      "outputs": []
    }
  ]
}