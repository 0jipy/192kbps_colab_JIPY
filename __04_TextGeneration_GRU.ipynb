{
  "nbformat": 4,
  "nbformat_minor": 0,
  "metadata": {
    "colab": {
      "name": "__04_TextGeneration_GRU.ipynb",
      "provenance": [],
      "collapsed_sections": [],
      "machine_shape": "hm",
      "authorship_tag": "ABX9TyOF8FufF1fl+lFD0sh1Vyz2",
      "include_colab_link": true
    },
    "kernelspec": {
      "name": "python3",
      "display_name": "Python 3"
    },
    "language_info": {
      "name": "python"
    },
    "accelerator": "GPU"
  },
  "cells": [
    {
      "cell_type": "markdown",
      "metadata": {
        "id": "view-in-github",
        "colab_type": "text"
      },
      "source": [
        "<a href=\"https://colab.research.google.com/github/0jipy/192kbps_colab_JIPY/blob/main/__04_TextGeneration_GRU.ipynb\" target=\"_parent\"><img src=\"https://colab.research.google.com/assets/colab-badge.svg\" alt=\"Open In Colab\"/></a>"
      ]
    },
    {
      "cell_type": "markdown",
      "source": [
        "# LSTM을 이용한 텍스트 생성 (GRU)\n",
        " - 데이터 다운로드: 캐글 New York Times Comments\n",
        " - ArticlesApril2018.csv"
      ],
      "metadata": {
        "id": "mzS4tv-9mGP9"
      }
    },
    {
      "cell_type": "code",
      "source": [
        "import numpy as np \n",
        "import tensorflow as tf\n",
        "seed=2022\n",
        "np.random.seed(seed)\n",
        "tf.random.set_seed(seed)"
      ],
      "metadata": {
        "id": "-cB7_GdPmMUS"
      },
      "execution_count": 1,
      "outputs": []
    },
    {
      "cell_type": "code",
      "source": [
        "from tensorflow.keras.preprocessing.text import Tokenizer\n",
        "from tensorflow.keras.preprocessing.sequence import pad_sequences\n",
        "from tensorflow.keras.utils import to_categorical"
      ],
      "metadata": {
        "id": "zsXjS8zZmZMA"
      },
      "execution_count": 2,
      "outputs": []
    },
    {
      "cell_type": "markdown",
      "source": [
        "- 뉴욕타임즈 기사 "
      ],
      "metadata": {
        "id": "AxLfqAa1nDlr"
      }
    },
    {
      "cell_type": "code",
      "source": [
        "import pandas as pd\n",
        "# df = pd.read_csv('data/ArticlesApril2018.csv', encoding='latin1')\n",
        "df = pd.read_csv('/content/ArticlesApril2018.csv', encoding='latin1')\n",
        "df.head(3)"
      ],
      "metadata": {
        "colab": {
          "base_uri": "https://localhost:8080/",
          "height": 468
        },
        "id": "mM9X8lTWmbQe",
        "outputId": "be7cd0b1-9fd4-4a2e-846b-6334aff2c093"
      },
      "execution_count": 3,
      "outputs": [
        {
          "output_type": "execute_result",
          "data": {
            "text/html": [
              "\n",
              "  <div id=\"df-f6bcfdbb-1435-4624-90a1-538a095deeb6\">\n",
              "    <div class=\"colab-df-container\">\n",
              "      <div>\n",
              "<style scoped>\n",
              "    .dataframe tbody tr th:only-of-type {\n",
              "        vertical-align: middle;\n",
              "    }\n",
              "\n",
              "    .dataframe tbody tr th {\n",
              "        vertical-align: top;\n",
              "    }\n",
              "\n",
              "    .dataframe thead th {\n",
              "        text-align: right;\n",
              "    }\n",
              "</style>\n",
              "<table border=\"1\" class=\"dataframe\">\n",
              "  <thead>\n",
              "    <tr style=\"text-align: right;\">\n",
              "      <th></th>\n",
              "      <th>articleID</th>\n",
              "      <th>articleWordCount</th>\n",
              "      <th>byline</th>\n",
              "      <th>documentType</th>\n",
              "      <th>headline</th>\n",
              "      <th>keywords</th>\n",
              "      <th>multimedia</th>\n",
              "      <th>newDesk</th>\n",
              "      <th>printPage</th>\n",
              "      <th>pubDate</th>\n",
              "      <th>sectionName</th>\n",
              "      <th>snippet</th>\n",
              "      <th>source</th>\n",
              "      <th>typeOfMaterial</th>\n",
              "      <th>webURL</th>\n",
              "    </tr>\n",
              "  </thead>\n",
              "  <tbody>\n",
              "    <tr>\n",
              "      <th>0</th>\n",
              "      <td>5adf6684068401528a2aa69b</td>\n",
              "      <td>781</td>\n",
              "      <td>By JOHN BRANCH</td>\n",
              "      <td>article</td>\n",
              "      <td>Former N.F.L. Cheerleadersâ Settlement Offer...</td>\n",
              "      <td>['Workplace Hazards and Violations', 'Football...</td>\n",
              "      <td>68</td>\n",
              "      <td>Sports</td>\n",
              "      <td>0</td>\n",
              "      <td>2018-04-24 17:16:49</td>\n",
              "      <td>Pro Football</td>\n",
              "      <td>âI understand that they could meet with us, ...</td>\n",
              "      <td>The New York Times</td>\n",
              "      <td>News</td>\n",
              "      <td>https://www.nytimes.com/2018/04/24/sports/foot...</td>\n",
              "    </tr>\n",
              "    <tr>\n",
              "      <th>1</th>\n",
              "      <td>5adf653f068401528a2aa697</td>\n",
              "      <td>656</td>\n",
              "      <td>By LISA FRIEDMAN</td>\n",
              "      <td>article</td>\n",
              "      <td>E.P.A. to Unveil a New Rule. Its Effect: Less ...</td>\n",
              "      <td>['Environmental Protection Agency', 'Pruitt, S...</td>\n",
              "      <td>68</td>\n",
              "      <td>Climate</td>\n",
              "      <td>0</td>\n",
              "      <td>2018-04-24 17:11:21</td>\n",
              "      <td>Unknown</td>\n",
              "      <td>The agency plans to publish a new regulation T...</td>\n",
              "      <td>The New York Times</td>\n",
              "      <td>News</td>\n",
              "      <td>https://www.nytimes.com/2018/04/24/climate/epa...</td>\n",
              "    </tr>\n",
              "    <tr>\n",
              "      <th>2</th>\n",
              "      <td>5adf4626068401528a2aa628</td>\n",
              "      <td>2427</td>\n",
              "      <td>By PETE WELLS</td>\n",
              "      <td>article</td>\n",
              "      <td>The New Noma, Explained</td>\n",
              "      <td>['Restaurants', 'Noma (Copenhagen, Restaurant)...</td>\n",
              "      <td>66</td>\n",
              "      <td>Dining</td>\n",
              "      <td>0</td>\n",
              "      <td>2018-04-24 14:58:44</td>\n",
              "      <td>Unknown</td>\n",
              "      <td>Whatâs it like to eat at the second incarnat...</td>\n",
              "      <td>The New York Times</td>\n",
              "      <td>News</td>\n",
              "      <td>https://www.nytimes.com/2018/04/24/dining/noma...</td>\n",
              "    </tr>\n",
              "  </tbody>\n",
              "</table>\n",
              "</div>\n",
              "      <button class=\"colab-df-convert\" onclick=\"convertToInteractive('df-f6bcfdbb-1435-4624-90a1-538a095deeb6')\"\n",
              "              title=\"Convert this dataframe to an interactive table.\"\n",
              "              style=\"display:none;\">\n",
              "        \n",
              "  <svg xmlns=\"http://www.w3.org/2000/svg\" height=\"24px\"viewBox=\"0 0 24 24\"\n",
              "       width=\"24px\">\n",
              "    <path d=\"M0 0h24v24H0V0z\" fill=\"none\"/>\n",
              "    <path d=\"M18.56 5.44l.94 2.06.94-2.06 2.06-.94-2.06-.94-.94-2.06-.94 2.06-2.06.94zm-11 1L8.5 8.5l.94-2.06 2.06-.94-2.06-.94L8.5 2.5l-.94 2.06-2.06.94zm10 10l.94 2.06.94-2.06 2.06-.94-2.06-.94-.94-2.06-.94 2.06-2.06.94z\"/><path d=\"M17.41 7.96l-1.37-1.37c-.4-.4-.92-.59-1.43-.59-.52 0-1.04.2-1.43.59L10.3 9.45l-7.72 7.72c-.78.78-.78 2.05 0 2.83L4 21.41c.39.39.9.59 1.41.59.51 0 1.02-.2 1.41-.59l7.78-7.78 2.81-2.81c.8-.78.8-2.07 0-2.86zM5.41 20L4 18.59l7.72-7.72 1.47 1.35L5.41 20z\"/>\n",
              "  </svg>\n",
              "      </button>\n",
              "      \n",
              "  <style>\n",
              "    .colab-df-container {\n",
              "      display:flex;\n",
              "      flex-wrap:wrap;\n",
              "      gap: 12px;\n",
              "    }\n",
              "\n",
              "    .colab-df-convert {\n",
              "      background-color: #E8F0FE;\n",
              "      border: none;\n",
              "      border-radius: 50%;\n",
              "      cursor: pointer;\n",
              "      display: none;\n",
              "      fill: #1967D2;\n",
              "      height: 32px;\n",
              "      padding: 0 0 0 0;\n",
              "      width: 32px;\n",
              "    }\n",
              "\n",
              "    .colab-df-convert:hover {\n",
              "      background-color: #E2EBFA;\n",
              "      box-shadow: 0px 1px 2px rgba(60, 64, 67, 0.3), 0px 1px 3px 1px rgba(60, 64, 67, 0.15);\n",
              "      fill: #174EA6;\n",
              "    }\n",
              "\n",
              "    [theme=dark] .colab-df-convert {\n",
              "      background-color: #3B4455;\n",
              "      fill: #D2E3FC;\n",
              "    }\n",
              "\n",
              "    [theme=dark] .colab-df-convert:hover {\n",
              "      background-color: #434B5C;\n",
              "      box-shadow: 0px 1px 3px 1px rgba(0, 0, 0, 0.15);\n",
              "      filter: drop-shadow(0px 1px 2px rgba(0, 0, 0, 0.3));\n",
              "      fill: #FFFFFF;\n",
              "    }\n",
              "  </style>\n",
              "\n",
              "      <script>\n",
              "        const buttonEl =\n",
              "          document.querySelector('#df-f6bcfdbb-1435-4624-90a1-538a095deeb6 button.colab-df-convert');\n",
              "        buttonEl.style.display =\n",
              "          google.colab.kernel.accessAllowed ? 'block' : 'none';\n",
              "\n",
              "        async function convertToInteractive(key) {\n",
              "          const element = document.querySelector('#df-f6bcfdbb-1435-4624-90a1-538a095deeb6');\n",
              "          const dataTable =\n",
              "            await google.colab.kernel.invokeFunction('convertToInteractive',\n",
              "                                                     [key], {});\n",
              "          if (!dataTable) return;\n",
              "\n",
              "          const docLinkHtml = 'Like what you see? Visit the ' +\n",
              "            '<a target=\"_blank\" href=https://colab.research.google.com/notebooks/data_table.ipynb>data table notebook</a>'\n",
              "            + ' to learn more about interactive tables.';\n",
              "          element.innerHTML = '';\n",
              "          dataTable['output_type'] = 'display_data';\n",
              "          await google.colab.output.renderOutput(dataTable, element);\n",
              "          const docLink = document.createElement('div');\n",
              "          docLink.innerHTML = docLinkHtml;\n",
              "          element.appendChild(docLink);\n",
              "        }\n",
              "      </script>\n",
              "    </div>\n",
              "  </div>\n",
              "  "
            ],
            "text/plain": [
              "                  articleID  ...                                             webURL\n",
              "0  5adf6684068401528a2aa69b  ...  https://www.nytimes.com/2018/04/24/sports/foot...\n",
              "1  5adf653f068401528a2aa697  ...  https://www.nytimes.com/2018/04/24/climate/epa...\n",
              "2  5adf4626068401528a2aa628  ...  https://www.nytimes.com/2018/04/24/dining/noma...\n",
              "\n",
              "[3 rows x 15 columns]"
            ]
          },
          "metadata": {},
          "execution_count": 3
        }
      ]
    },
    {
      "cell_type": "markdown",
      "source": [
        "- 데이터 전처리"
      ],
      "metadata": {
        "id": "XS7yIcEBmk9Q"
      }
    },
    {
      "cell_type": "code",
      "source": [
        "df.columns"
      ],
      "metadata": {
        "colab": {
          "base_uri": "https://localhost:8080/"
        },
        "id": "NMeostpinJyC",
        "outputId": "1978a9cd-d5dd-4f06-c94b-dcdae0224d09"
      },
      "execution_count": null,
      "outputs": [
        {
          "output_type": "execute_result",
          "data": {
            "text/plain": [
              "Index(['articleID', 'articleWordCount', 'byline', 'documentType', 'headline',\n",
              "       'keywords', 'multimedia', 'newDesk', 'printPage', 'pubDate',\n",
              "       'sectionName', 'snippet', 'source', 'typeOfMaterial', 'webURL'],\n",
              "      dtype='object')"
            ]
          },
          "metadata": {},
          "execution_count": 10
        }
      ]
    },
    {
      "cell_type": "code",
      "source": [
        "# headline 열 데이터만 사용, Null 검사\n",
        "df.headline.isnull().sum()"
      ],
      "metadata": {
        "colab": {
          "base_uri": "https://localhost:8080/"
        },
        "id": "l9tOVJ8knK7A",
        "outputId": "d1e37398-6c0f-47c3-a040-12eaff0fb58f"
      },
      "execution_count": 4,
      "outputs": [
        {
          "output_type": "execute_result",
          "data": {
            "text/plain": [
              "0"
            ]
          },
          "metadata": {},
          "execution_count": 4
        }
      ]
    },
    {
      "cell_type": "code",
      "source": [
        "headlines = [text for text in df.headline.values]\n",
        "len(headlines)"
      ],
      "metadata": {
        "colab": {
          "base_uri": "https://localhost:8080/"
        },
        "id": "hhlsYBqYnNTl",
        "outputId": "b8cf1665-c3b9-45cd-fd1d-4d4c56947be1"
      },
      "execution_count": 5,
      "outputs": [
        {
          "output_type": "execute_result",
          "data": {
            "text/plain": [
              "1324"
            ]
          },
          "metadata": {},
          "execution_count": 5
        }
      ]
    },
    {
      "cell_type": "code",
      "source": [
        "headlines[:5]"
      ],
      "metadata": {
        "colab": {
          "base_uri": "https://localhost:8080/"
        },
        "id": "vD9ZfwUYnQd7",
        "outputId": "9b84dc82-e9c6-4f3f-b02c-110a9780a8f7"
      },
      "execution_count": 6,
      "outputs": [
        {
          "output_type": "execute_result",
          "data": {
            "text/plain": [
              "['Former N.F.L. Cheerleadersâ\\x80\\x99 Settlement Offer: $1 and a Meeting With Goodell',\n",
              " 'E.P.A. to Unveil a New Rule. Its Effect: Less Science in Policymaking.',\n",
              " 'The New Noma, Explained',\n",
              " 'Unknown',\n",
              " 'Unknown']"
            ]
          },
          "metadata": {},
          "execution_count": 6
        }
      ]
    },
    {
      "cell_type": "code",
      "source": [
        "# 노이즈 데이터('Unknown') 제거\n",
        "headlines = [text for text in headlines if text != 'Unknown']\n",
        "len(headlines)"
      ],
      "metadata": {
        "colab": {
          "base_uri": "https://localhost:8080/"
        },
        "id": "PtRI6P9np5cK",
        "outputId": "7ba4e66d-2f3b-4b4e-d8f7-56eeac44caf3"
      },
      "execution_count": 7,
      "outputs": [
        {
          "output_type": "execute_result",
          "data": {
            "text/plain": [
              "1214"
            ]
          },
          "metadata": {},
          "execution_count": 7
        }
      ]
    },
    {
      "cell_type": "code",
      "source": [
        "# 구둣점 제거, 소문자로 변환\n",
        "from string import punctuation\n",
        "punctuation"
      ],
      "metadata": {
        "colab": {
          "base_uri": "https://localhost:8080/",
          "height": 36
        },
        "id": "8E2fQdo_nR65",
        "outputId": "459d5cda-3ea5-4f6c-f18e-a34ab80fb363"
      },
      "execution_count": 8,
      "outputs": [
        {
          "output_type": "execute_result",
          "data": {
            "application/vnd.google.colaboratory.intrinsic+json": {
              "type": "string"
            },
            "text/plain": [
              "'!\"#$%&\\'()*+,-./:;<=>?@[\\\\]^_`{|}~'"
            ]
          },
          "metadata": {},
          "execution_count": 8
        }
      ]
    },
    {
      "cell_type": "code",
      "source": [
        "def preprocessing(s):\n",
        "    s = s.encode('utf8').decode('ascii', 'ignore')\n",
        "    return ''.join(c for c in s if c not in punctuation).lower()"
      ],
      "metadata": {
        "id": "gmEWg8cdnWq6"
      },
      "execution_count": 9,
      "outputs": []
    },
    {
      "cell_type": "code",
      "source": [
        "headlines = [preprocessing(s) for s in headlines]\n",
        "headlines[:3]"
      ],
      "metadata": {
        "colab": {
          "base_uri": "https://localhost:8080/"
        },
        "id": "L17erq4BnumY",
        "outputId": "38e84cec-f19b-412f-d97a-b5d7b13547de"
      },
      "execution_count": 10,
      "outputs": [
        {
          "output_type": "execute_result",
          "data": {
            "text/plain": [
              "['former nfl cheerleaders settlement offer 1 and a meeting with goodell',\n",
              " 'epa to unveil a new rule its effect less science in policymaking',\n",
              " 'the new noma explained']"
            ]
          },
          "metadata": {},
          "execution_count": 10
        }
      ]
    },
    {
      "cell_type": "code",
      "source": [
        "# 단어 집합을 만들고, 그 크기를 확인\n",
        "t = Tokenizer()\n",
        "t.fit_on_texts(headlines)\n",
        "vocab_size = len(t.word_index) + 1\n",
        "vocab_size"
      ],
      "metadata": {
        "colab": {
          "base_uri": "https://localhost:8080/"
        },
        "id": "uv4O7QpYn9J-",
        "outputId": "ad72176e-2a5b-49ef-ebd5-b6c28e1b2a21"
      },
      "execution_count": 11,
      "outputs": [
        {
          "output_type": "execute_result",
          "data": {
            "text/plain": [
              "3494"
            ]
          },
          "metadata": {},
          "execution_count": 11
        }
      ]
    },
    {
      "cell_type": "code",
      "source": [
        "# 학습에 사용될 샘플 시퀀스\n",
        "sequences = []\n",
        "for line in headlines:\n",
        "    encoded = t.texts_to_sequences([line])[0]\n",
        "    for i in range(1, len(encoded)):\n",
        "        sequence = encoded[:i+1]\n",
        "        sequences.append(sequence)\n",
        "sequences[:11]"
      ],
      "metadata": {
        "colab": {
          "base_uri": "https://localhost:8080/"
        },
        "id": "dwx9WjTGn_zY",
        "outputId": "ba4fd860-f3f7-40a9-b707-87794215d81a"
      },
      "execution_count": 12,
      "outputs": [
        {
          "output_type": "execute_result",
          "data": {
            "text/plain": [
              "[[99, 269],\n",
              " [99, 269, 371],\n",
              " [99, 269, 371, 1115],\n",
              " [99, 269, 371, 1115, 582],\n",
              " [99, 269, 371, 1115, 582, 52],\n",
              " [99, 269, 371, 1115, 582, 52, 7],\n",
              " [99, 269, 371, 1115, 582, 52, 7, 2],\n",
              " [99, 269, 371, 1115, 582, 52, 7, 2, 372],\n",
              " [99, 269, 371, 1115, 582, 52, 7, 2, 372, 10],\n",
              " [99, 269, 371, 1115, 582, 52, 7, 2, 372, 10, 1116],\n",
              " [100, 3]]"
            ]
          },
          "metadata": {},
          "execution_count": 12
        }
      ]
    },
    {
      "cell_type": "code",
      "source": [
        "max_len = max(len(s) for s in sequences)\n",
        "max_len"
      ],
      "metadata": {
        "colab": {
          "base_uri": "https://localhost:8080/"
        },
        "id": "pcYWyzI6oClF",
        "outputId": "0be15f20-63d8-404b-9d1d-e7fef67ef7a3"
      },
      "execution_count": 13,
      "outputs": [
        {
          "output_type": "execute_result",
          "data": {
            "text/plain": [
              "24"
            ]
          },
          "metadata": {},
          "execution_count": 13
        }
      ]
    },
    {
      "cell_type": "code",
      "source": [
        "sequences = pad_sequences(sequences, maxlen=max_len, padding='pre')\n",
        "sequences[:3]"
      ],
      "metadata": {
        "colab": {
          "base_uri": "https://localhost:8080/"
        },
        "id": "BFA7aiJhoJgx",
        "outputId": "42c6859a-6811-4cfc-a535-e5e5c603972b"
      },
      "execution_count": 14,
      "outputs": [
        {
          "output_type": "execute_result",
          "data": {
            "text/plain": [
              "array([[   0,    0,    0,    0,    0,    0,    0,    0,    0,    0,    0,\n",
              "           0,    0,    0,    0,    0,    0,    0,    0,    0,    0,    0,\n",
              "          99,  269],\n",
              "       [   0,    0,    0,    0,    0,    0,    0,    0,    0,    0,    0,\n",
              "           0,    0,    0,    0,    0,    0,    0,    0,    0,    0,   99,\n",
              "         269,  371],\n",
              "       [   0,    0,    0,    0,    0,    0,    0,    0,    0,    0,    0,\n",
              "           0,    0,    0,    0,    0,    0,    0,    0,    0,   99,  269,\n",
              "         371, 1115]], dtype=int32)"
            ]
          },
          "metadata": {},
          "execution_count": 14
        }
      ]
    },
    {
      "cell_type": "code",
      "source": [
        "X = sequences[:,:-1]\n",
        "y = sequences[:,-1]\n",
        "Y = to_categorical(y)\n",
        "X.shape, Y.shape"
      ],
      "metadata": {
        "colab": {
          "base_uri": "https://localhost:8080/"
        },
        "id": "aKK4zs8AoLH7",
        "outputId": "dae43a0a-d842-4229-d552-44fc1d18f7b6"
      },
      "execution_count": 15,
      "outputs": [
        {
          "output_type": "execute_result",
          "data": {
            "text/plain": [
              "((7803, 23), (7803, 3494))"
            ]
          },
          "metadata": {},
          "execution_count": 15
        }
      ]
    },
    {
      "cell_type": "markdown",
      "source": [
        "## 모델 정의/설정/학습\n",
        "- Embedding\n",
        "- LSTM\n",
        "- GRU 쓰지 않나?"
      ],
      "metadata": {
        "id": "uRybVQUvoNXt"
      }
    },
    {
      "cell_type": "code",
      "source": [
        "# del model"
      ],
      "metadata": {
        "id": "obOk6zansgs6"
      },
      "execution_count": 23,
      "outputs": []
    },
    {
      "cell_type": "code",
      "source": [
        "from tensorflow.keras.models import Sequential\n",
        "from tensorflow.keras.layers import Embedding, GRU, Dense"
      ],
      "metadata": {
        "id": "ojUJZpusoUm3"
      },
      "execution_count": 24,
      "outputs": []
    },
    {
      "cell_type": "code",
      "source": [
        "# 임베딩 벡터 10차원, LSTM 노드 크기 128 = >GRU로변경\n",
        "model = Sequential([ \n",
        "    Embedding(vocab_size, 10, input_length=max_len-1),  ## ??\n",
        "    GRU(128),\n",
        "    Dense(vocab_size, activation='softmax')\n",
        "])\n",
        "model.summary()"
      ],
      "metadata": {
        "colab": {
          "base_uri": "https://localhost:8080/"
        },
        "id": "6qIPxXGQoXlf",
        "outputId": "8ff08b15-2c1e-4a62-fdc9-2c2aefa4f7dc"
      },
      "execution_count": 25,
      "outputs": [
        {
          "output_type": "stream",
          "name": "stdout",
          "text": [
            "Model: \"sequential_1\"\n",
            "_________________________________________________________________\n",
            " Layer (type)                Output Shape              Param #   \n",
            "=================================================================\n",
            " embedding_1 (Embedding)     (None, 23, 10)            34940     \n",
            "                                                                 \n",
            " gru (GRU)                   (None, 128)               53760     \n",
            "                                                                 \n",
            " dense_1 (Dense)             (None, 3494)              450726    \n",
            "                                                                 \n",
            "=================================================================\n",
            "Total params: 539,426\n",
            "Trainable params: 539,426\n",
            "Non-trainable params: 0\n",
            "_________________________________________________________________\n"
          ]
        }
      ]
    },
    {
      "cell_type": "code",
      "source": [
        "model.compile(\n",
        "    optimizer='adam', loss='categorical_crossentropy', metrics=['accuracy']\n",
        ")"
      ],
      "metadata": {
        "id": "frKU3E6HoaL4"
      },
      "execution_count": 26,
      "outputs": []
    },
    {
      "cell_type": "code",
      "source": [
        "%time history = model.fit(X, Y, epochs=200, verbose=1)"
      ],
      "metadata": {
        "id": "LSkbeP0Pohrd",
        "colab": {
          "base_uri": "https://localhost:8080/"
        },
        "outputId": "0f6ff92c-14e7-4b79-ecd4-8adf1f7bfb50"
      },
      "execution_count": 27,
      "outputs": [
        {
          "output_type": "stream",
          "name": "stdout",
          "text": [
            "Epoch 1/200\n",
            "244/244 [==============================] - 3s 6ms/step - loss: 7.6597 - accuracy: 0.0302\n",
            "Epoch 2/200\n",
            "244/244 [==============================] - 2s 6ms/step - loss: 7.1099 - accuracy: 0.0324\n",
            "Epoch 3/200\n",
            "244/244 [==============================] - 1s 6ms/step - loss: 6.8862 - accuracy: 0.0466\n",
            "Epoch 4/200\n",
            "244/244 [==============================] - 1s 6ms/step - loss: 6.6500 - accuracy: 0.0499\n",
            "Epoch 5/200\n",
            "244/244 [==============================] - 1s 6ms/step - loss: 6.3897 - accuracy: 0.0550\n",
            "Epoch 6/200\n",
            "244/244 [==============================] - 1s 6ms/step - loss: 6.1206 - accuracy: 0.0619\n",
            "Epoch 7/200\n",
            "244/244 [==============================] - 1s 6ms/step - loss: 5.8435 - accuracy: 0.0651\n",
            "Epoch 8/200\n",
            "244/244 [==============================] - 1s 6ms/step - loss: 5.5663 - accuracy: 0.0720\n",
            "Epoch 9/200\n",
            "244/244 [==============================] - 1s 6ms/step - loss: 5.3035 - accuracy: 0.0804\n",
            "Epoch 10/200\n",
            "244/244 [==============================] - 1s 6ms/step - loss: 5.0482 - accuracy: 0.0892\n",
            "Epoch 11/200\n",
            "244/244 [==============================] - 1s 6ms/step - loss: 4.8084 - accuracy: 0.1085\n",
            "Epoch 12/200\n",
            "244/244 [==============================] - 1s 6ms/step - loss: 4.5796 - accuracy: 0.1326\n",
            "Epoch 13/200\n",
            "244/244 [==============================] - 1s 6ms/step - loss: 4.3675 - accuracy: 0.1606\n",
            "Epoch 14/200\n",
            "244/244 [==============================] - 1s 6ms/step - loss: 4.1608 - accuracy: 0.1865\n",
            "Epoch 15/200\n",
            "244/244 [==============================] - 1s 6ms/step - loss: 3.9777 - accuracy: 0.2111\n",
            "Epoch 16/200\n",
            "244/244 [==============================] - 1s 6ms/step - loss: 3.7918 - accuracy: 0.2462\n",
            "Epoch 17/200\n",
            "244/244 [==============================] - 1s 6ms/step - loss: 3.6210 - accuracy: 0.2723\n",
            "Epoch 18/200\n",
            "244/244 [==============================] - 1s 6ms/step - loss: 3.4608 - accuracy: 0.3019\n",
            "Epoch 19/200\n",
            "244/244 [==============================] - 1s 6ms/step - loss: 3.3059 - accuracy: 0.3308\n",
            "Epoch 20/200\n",
            "244/244 [==============================] - 1s 6ms/step - loss: 3.1584 - accuracy: 0.3600\n",
            "Epoch 21/200\n",
            "244/244 [==============================] - 1s 6ms/step - loss: 3.0263 - accuracy: 0.3837\n",
            "Epoch 22/200\n",
            "244/244 [==============================] - 1s 6ms/step - loss: 2.8978 - accuracy: 0.4097\n",
            "Epoch 23/200\n",
            "244/244 [==============================] - 1s 6ms/step - loss: 2.7757 - accuracy: 0.4309\n",
            "Epoch 24/200\n",
            "244/244 [==============================] - 1s 6ms/step - loss: 2.6612 - accuracy: 0.4579\n",
            "Epoch 25/200\n",
            "244/244 [==============================] - 1s 6ms/step - loss: 2.5528 - accuracy: 0.4757\n",
            "Epoch 26/200\n",
            "244/244 [==============================] - 1s 6ms/step - loss: 2.4523 - accuracy: 0.4924\n",
            "Epoch 27/200\n",
            "244/244 [==============================] - 1s 6ms/step - loss: 2.3540 - accuracy: 0.5188\n",
            "Epoch 28/200\n",
            "244/244 [==============================] - 1s 6ms/step - loss: 2.2659 - accuracy: 0.5336\n",
            "Epoch 29/200\n",
            "244/244 [==============================] - 1s 6ms/step - loss: 2.1757 - accuracy: 0.5541\n",
            "Epoch 30/200\n",
            "244/244 [==============================] - 1s 6ms/step - loss: 2.0946 - accuracy: 0.5709\n",
            "Epoch 31/200\n",
            "244/244 [==============================] - 1s 6ms/step - loss: 2.0203 - accuracy: 0.5859\n",
            "Epoch 32/200\n",
            "244/244 [==============================] - 1s 6ms/step - loss: 1.9405 - accuracy: 0.6022\n",
            "Epoch 33/200\n",
            "244/244 [==============================] - 1s 6ms/step - loss: 1.8733 - accuracy: 0.6157\n",
            "Epoch 34/200\n",
            "244/244 [==============================] - 1s 6ms/step - loss: 1.8046 - accuracy: 0.6310\n",
            "Epoch 35/200\n",
            "244/244 [==============================] - 1s 6ms/step - loss: 1.7364 - accuracy: 0.6451\n",
            "Epoch 36/200\n",
            "244/244 [==============================] - 1s 6ms/step - loss: 1.6746 - accuracy: 0.6604\n",
            "Epoch 37/200\n",
            "244/244 [==============================] - 1s 6ms/step - loss: 1.6116 - accuracy: 0.6719\n",
            "Epoch 38/200\n",
            "244/244 [==============================] - 1s 6ms/step - loss: 1.5517 - accuracy: 0.6879\n",
            "Epoch 39/200\n",
            "244/244 [==============================] - 1s 6ms/step - loss: 1.4942 - accuracy: 0.6968\n",
            "Epoch 40/200\n",
            "244/244 [==============================] - 1s 6ms/step - loss: 1.4431 - accuracy: 0.7063\n",
            "Epoch 41/200\n",
            "244/244 [==============================] - 1s 6ms/step - loss: 1.3867 - accuracy: 0.7236\n",
            "Epoch 42/200\n",
            "244/244 [==============================] - 1s 6ms/step - loss: 1.3315 - accuracy: 0.7332\n",
            "Epoch 43/200\n",
            "244/244 [==============================] - 1s 6ms/step - loss: 1.2855 - accuracy: 0.7442\n",
            "Epoch 44/200\n",
            "244/244 [==============================] - 1s 6ms/step - loss: 1.2365 - accuracy: 0.7518\n",
            "Epoch 45/200\n",
            "244/244 [==============================] - 1s 6ms/step - loss: 1.1922 - accuracy: 0.7573\n",
            "Epoch 46/200\n",
            "244/244 [==============================] - 1s 6ms/step - loss: 1.1444 - accuracy: 0.7675\n",
            "Epoch 47/200\n",
            "244/244 [==============================] - 1s 6ms/step - loss: 1.0991 - accuracy: 0.7756\n",
            "Epoch 48/200\n",
            "244/244 [==============================] - 1s 6ms/step - loss: 1.0606 - accuracy: 0.7837\n",
            "Epoch 49/200\n",
            "244/244 [==============================] - 1s 6ms/step - loss: 1.0220 - accuracy: 0.7903\n",
            "Epoch 50/200\n",
            "244/244 [==============================] - 1s 6ms/step - loss: 0.9772 - accuracy: 0.8014\n",
            "Epoch 51/200\n",
            "244/244 [==============================] - 1s 6ms/step - loss: 0.9405 - accuracy: 0.8096\n",
            "Epoch 52/200\n",
            "244/244 [==============================] - 1s 6ms/step - loss: 0.9070 - accuracy: 0.8126\n",
            "Epoch 53/200\n",
            "244/244 [==============================] - 1s 6ms/step - loss: 0.8743 - accuracy: 0.8206\n",
            "Epoch 54/200\n",
            "244/244 [==============================] - 1s 6ms/step - loss: 0.8389 - accuracy: 0.8303\n",
            "Epoch 55/200\n",
            "244/244 [==============================] - 1s 6ms/step - loss: 0.8037 - accuracy: 0.8324\n",
            "Epoch 56/200\n",
            "244/244 [==============================] - 1s 6ms/step - loss: 0.7743 - accuracy: 0.8434\n",
            "Epoch 57/200\n",
            "244/244 [==============================] - 1s 6ms/step - loss: 0.7448 - accuracy: 0.8480\n",
            "Epoch 58/200\n",
            "244/244 [==============================] - 1s 6ms/step - loss: 0.7180 - accuracy: 0.8490\n",
            "Epoch 59/200\n",
            "244/244 [==============================] - 1s 6ms/step - loss: 0.6887 - accuracy: 0.8585\n",
            "Epoch 60/200\n",
            "244/244 [==============================] - 1s 6ms/step - loss: 0.6664 - accuracy: 0.8642\n",
            "Epoch 61/200\n",
            "244/244 [==============================] - 1s 6ms/step - loss: 0.6431 - accuracy: 0.8671\n",
            "Epoch 62/200\n",
            "244/244 [==============================] - 1s 6ms/step - loss: 0.6206 - accuracy: 0.8736\n",
            "Epoch 63/200\n",
            "244/244 [==============================] - 1s 6ms/step - loss: 0.5999 - accuracy: 0.8763\n",
            "Epoch 64/200\n",
            "244/244 [==============================] - 1s 6ms/step - loss: 0.5823 - accuracy: 0.8802\n",
            "Epoch 65/200\n",
            "244/244 [==============================] - 1s 6ms/step - loss: 0.5616 - accuracy: 0.8841\n",
            "Epoch 66/200\n",
            "244/244 [==============================] - 1s 6ms/step - loss: 0.5398 - accuracy: 0.8902\n",
            "Epoch 67/200\n",
            "244/244 [==============================] - 1s 6ms/step - loss: 0.5221 - accuracy: 0.8911\n",
            "Epoch 68/200\n",
            "244/244 [==============================] - 1s 6ms/step - loss: 0.5059 - accuracy: 0.8958\n",
            "Epoch 69/200\n",
            "244/244 [==============================] - 1s 6ms/step - loss: 0.4911 - accuracy: 0.8977\n",
            "Epoch 70/200\n",
            "244/244 [==============================] - 1s 6ms/step - loss: 0.4787 - accuracy: 0.8982\n",
            "Epoch 71/200\n",
            "244/244 [==============================] - 1s 6ms/step - loss: 0.4623 - accuracy: 0.9004\n",
            "Epoch 72/200\n",
            "244/244 [==============================] - 1s 6ms/step - loss: 0.4620 - accuracy: 0.9006\n",
            "Epoch 73/200\n",
            "244/244 [==============================] - 1s 6ms/step - loss: 0.5002 - accuracy: 0.8943\n",
            "Epoch 74/200\n",
            "244/244 [==============================] - 1s 6ms/step - loss: 0.4546 - accuracy: 0.8998\n",
            "Epoch 75/200\n",
            "244/244 [==============================] - 1s 6ms/step - loss: 0.4196 - accuracy: 0.9066\n",
            "Epoch 76/200\n",
            "244/244 [==============================] - 1s 6ms/step - loss: 0.4048 - accuracy: 0.9082\n",
            "Epoch 77/200\n",
            "244/244 [==============================] - 1s 6ms/step - loss: 0.3938 - accuracy: 0.9100\n",
            "Epoch 78/200\n",
            "244/244 [==============================] - 1s 6ms/step - loss: 0.3880 - accuracy: 0.9103\n",
            "Epoch 79/200\n",
            "244/244 [==============================] - 1s 6ms/step - loss: 0.3805 - accuracy: 0.9117\n",
            "Epoch 80/200\n",
            "244/244 [==============================] - 1s 6ms/step - loss: 0.3757 - accuracy: 0.9112\n",
            "Epoch 81/200\n",
            "244/244 [==============================] - 1s 6ms/step - loss: 0.3691 - accuracy: 0.9127\n",
            "Epoch 82/200\n",
            "244/244 [==============================] - 1s 6ms/step - loss: 0.3642 - accuracy: 0.9114\n",
            "Epoch 83/200\n",
            "244/244 [==============================] - 1s 6ms/step - loss: 0.3632 - accuracy: 0.9122\n",
            "Epoch 84/200\n",
            "244/244 [==============================] - 1s 6ms/step - loss: 0.3727 - accuracy: 0.9107\n",
            "Epoch 85/200\n",
            "244/244 [==============================] - 1s 6ms/step - loss: 0.3945 - accuracy: 0.9050\n",
            "Epoch 86/200\n",
            "244/244 [==============================] - 1s 6ms/step - loss: 0.3837 - accuracy: 0.9071\n",
            "Epoch 87/200\n",
            "244/244 [==============================] - 1s 6ms/step - loss: 0.3563 - accuracy: 0.9111\n",
            "Epoch 88/200\n",
            "244/244 [==============================] - 1s 6ms/step - loss: 0.3355 - accuracy: 0.9143\n",
            "Epoch 89/200\n",
            "244/244 [==============================] - 1s 6ms/step - loss: 0.3295 - accuracy: 0.9139\n",
            "Epoch 90/200\n",
            "244/244 [==============================] - 1s 6ms/step - loss: 0.3278 - accuracy: 0.9143\n",
            "Epoch 91/200\n",
            "244/244 [==============================] - 1s 6ms/step - loss: 0.3243 - accuracy: 0.9166\n",
            "Epoch 92/200\n",
            "244/244 [==============================] - 1s 6ms/step - loss: 0.3215 - accuracy: 0.9158\n",
            "Epoch 93/200\n",
            "244/244 [==============================] - 1s 6ms/step - loss: 0.3223 - accuracy: 0.9135\n",
            "Epoch 94/200\n",
            "244/244 [==============================] - 1s 6ms/step - loss: 0.3207 - accuracy: 0.9157\n",
            "Epoch 95/200\n",
            "244/244 [==============================] - 1s 6ms/step - loss: 0.3197 - accuracy: 0.9136\n",
            "Epoch 96/200\n",
            "244/244 [==============================] - 1s 6ms/step - loss: 0.3197 - accuracy: 0.9121\n",
            "Epoch 97/200\n",
            "244/244 [==============================] - 1s 6ms/step - loss: 0.3183 - accuracy: 0.9144\n",
            "Epoch 98/200\n",
            "244/244 [==============================] - 1s 6ms/step - loss: 0.3592 - accuracy: 0.9072\n",
            "Epoch 99/200\n",
            "244/244 [==============================] - 1s 6ms/step - loss: 0.3739 - accuracy: 0.9026\n",
            "Epoch 100/200\n",
            "244/244 [==============================] - 1s 6ms/step - loss: 0.3230 - accuracy: 0.9150\n",
            "Epoch 101/200\n",
            "244/244 [==============================] - 1s 6ms/step - loss: 0.3083 - accuracy: 0.9140\n",
            "Epoch 102/200\n",
            "244/244 [==============================] - 1s 6ms/step - loss: 0.3028 - accuracy: 0.9159\n",
            "Epoch 103/200\n",
            "244/244 [==============================] - 1s 6ms/step - loss: 0.3006 - accuracy: 0.9148\n",
            "Epoch 104/200\n",
            "244/244 [==============================] - 1s 6ms/step - loss: 0.3005 - accuracy: 0.9152\n",
            "Epoch 105/200\n",
            "244/244 [==============================] - 1s 6ms/step - loss: 0.2996 - accuracy: 0.9152\n",
            "Epoch 106/200\n",
            "244/244 [==============================] - 1s 6ms/step - loss: 0.2992 - accuracy: 0.9149\n",
            "Epoch 107/200\n",
            "244/244 [==============================] - 1s 6ms/step - loss: 0.2981 - accuracy: 0.9158\n",
            "Epoch 108/200\n",
            "244/244 [==============================] - 1s 6ms/step - loss: 0.2979 - accuracy: 0.9172\n",
            "Epoch 109/200\n",
            "244/244 [==============================] - 1s 6ms/step - loss: 0.2987 - accuracy: 0.9145\n",
            "Epoch 110/200\n",
            "244/244 [==============================] - 1s 6ms/step - loss: 0.2990 - accuracy: 0.9152\n",
            "Epoch 111/200\n",
            "244/244 [==============================] - 1s 6ms/step - loss: 0.2985 - accuracy: 0.9146\n",
            "Epoch 112/200\n",
            "244/244 [==============================] - 1s 6ms/step - loss: 0.2974 - accuracy: 0.9148\n",
            "Epoch 113/200\n",
            "244/244 [==============================] - 1s 6ms/step - loss: 0.3015 - accuracy: 0.9141\n",
            "Epoch 114/200\n",
            "244/244 [==============================] - 1s 6ms/step - loss: 0.3917 - accuracy: 0.8959\n",
            "Epoch 115/200\n",
            "244/244 [==============================] - 1s 6ms/step - loss: 0.3395 - accuracy: 0.9071\n",
            "Epoch 116/200\n",
            "244/244 [==============================] - 1s 6ms/step - loss: 0.3033 - accuracy: 0.9139\n",
            "Epoch 117/200\n",
            "244/244 [==============================] - 1s 6ms/step - loss: 0.2934 - accuracy: 0.9146\n",
            "Epoch 118/200\n",
            "244/244 [==============================] - 1s 6ms/step - loss: 0.2914 - accuracy: 0.9163\n",
            "Epoch 119/200\n",
            "244/244 [==============================] - 1s 6ms/step - loss: 0.2886 - accuracy: 0.9163\n",
            "Epoch 120/200\n",
            "244/244 [==============================] - 1s 6ms/step - loss: 0.2883 - accuracy: 0.9167\n",
            "Epoch 121/200\n",
            "244/244 [==============================] - 1s 6ms/step - loss: 0.2898 - accuracy: 0.9139\n",
            "Epoch 122/200\n",
            "244/244 [==============================] - 1s 6ms/step - loss: 0.2878 - accuracy: 0.9154\n",
            "Epoch 123/200\n",
            "244/244 [==============================] - 1s 6ms/step - loss: 0.2880 - accuracy: 0.9159\n",
            "Epoch 124/200\n",
            "244/244 [==============================] - 1s 6ms/step - loss: 0.2864 - accuracy: 0.9153\n",
            "Epoch 125/200\n",
            "244/244 [==============================] - 1s 6ms/step - loss: 0.2874 - accuracy: 0.9155\n",
            "Epoch 126/200\n",
            "244/244 [==============================] - 1s 6ms/step - loss: 0.2868 - accuracy: 0.9168\n",
            "Epoch 127/200\n",
            "244/244 [==============================] - 1s 6ms/step - loss: 0.2882 - accuracy: 0.9145\n",
            "Epoch 128/200\n",
            "244/244 [==============================] - 1s 6ms/step - loss: 0.2916 - accuracy: 0.9143\n",
            "Epoch 129/200\n",
            "244/244 [==============================] - 1s 6ms/step - loss: 0.3715 - accuracy: 0.8965\n",
            "Epoch 130/200\n",
            "244/244 [==============================] - 1s 6ms/step - loss: 0.3645 - accuracy: 0.8993\n",
            "Epoch 131/200\n",
            "244/244 [==============================] - 1s 6ms/step - loss: 0.2997 - accuracy: 0.9149\n",
            "Epoch 132/200\n",
            "244/244 [==============================] - 1s 6ms/step - loss: 0.2871 - accuracy: 0.9161\n",
            "Epoch 133/200\n",
            "244/244 [==============================] - 1s 6ms/step - loss: 0.2862 - accuracy: 0.9144\n",
            "Epoch 134/200\n",
            "244/244 [==============================] - 1s 6ms/step - loss: 0.2843 - accuracy: 0.9143\n",
            "Epoch 135/200\n",
            "244/244 [==============================] - 1s 6ms/step - loss: 0.2840 - accuracy: 0.9152\n",
            "Epoch 136/200\n",
            "244/244 [==============================] - 1s 6ms/step - loss: 0.2848 - accuracy: 0.9162\n",
            "Epoch 137/200\n",
            "244/244 [==============================] - 1s 6ms/step - loss: 0.2848 - accuracy: 0.9140\n",
            "Epoch 138/200\n",
            "244/244 [==============================] - 1s 6ms/step - loss: 0.2821 - accuracy: 0.9163\n",
            "Epoch 139/200\n",
            "244/244 [==============================] - 1s 6ms/step - loss: 0.2848 - accuracy: 0.9144\n",
            "Epoch 140/200\n",
            "244/244 [==============================] - 1s 6ms/step - loss: 0.2838 - accuracy: 0.9152\n",
            "Epoch 141/200\n",
            "244/244 [==============================] - 1s 6ms/step - loss: 0.2845 - accuracy: 0.9149\n",
            "Epoch 142/200\n",
            "244/244 [==============================] - 1s 6ms/step - loss: 0.2856 - accuracy: 0.9161\n",
            "Epoch 143/200\n",
            "244/244 [==============================] - 1s 6ms/step - loss: 0.2877 - accuracy: 0.9153\n",
            "Epoch 144/200\n",
            "244/244 [==============================] - 1s 6ms/step - loss: 0.2851 - accuracy: 0.9168\n",
            "Epoch 145/200\n",
            "244/244 [==============================] - 1s 6ms/step - loss: 0.2842 - accuracy: 0.9159\n",
            "Epoch 146/200\n",
            "244/244 [==============================] - 1s 6ms/step - loss: 0.2857 - accuracy: 0.9143\n",
            "Epoch 147/200\n",
            "244/244 [==============================] - 1s 6ms/step - loss: 0.2875 - accuracy: 0.9159\n",
            "Epoch 148/200\n",
            "244/244 [==============================] - 1s 6ms/step - loss: 0.6385 - accuracy: 0.8422\n",
            "Epoch 149/200\n",
            "244/244 [==============================] - 1s 6ms/step - loss: 0.5877 - accuracy: 0.8426\n",
            "Epoch 150/200\n",
            "244/244 [==============================] - 1s 6ms/step - loss: 0.3496 - accuracy: 0.9038\n",
            "Epoch 151/200\n",
            "244/244 [==============================] - 1s 6ms/step - loss: 0.3082 - accuracy: 0.9125\n",
            "Epoch 152/200\n",
            "244/244 [==============================] - 1s 6ms/step - loss: 0.2960 - accuracy: 0.9145\n",
            "Epoch 153/200\n",
            "244/244 [==============================] - 2s 6ms/step - loss: 0.2901 - accuracy: 0.9150\n",
            "Epoch 154/200\n",
            "244/244 [==============================] - 2s 6ms/step - loss: 0.2846 - accuracy: 0.9154\n",
            "Epoch 155/200\n",
            "244/244 [==============================] - 2s 6ms/step - loss: 0.2838 - accuracy: 0.9158\n",
            "Epoch 156/200\n",
            "244/244 [==============================] - 1s 6ms/step - loss: 0.2821 - accuracy: 0.9162\n",
            "Epoch 157/200\n",
            "244/244 [==============================] - 1s 6ms/step - loss: 0.2824 - accuracy: 0.9154\n",
            "Epoch 158/200\n",
            "244/244 [==============================] - 1s 6ms/step - loss: 0.2810 - accuracy: 0.9143\n",
            "Epoch 159/200\n",
            "244/244 [==============================] - 1s 6ms/step - loss: 0.2805 - accuracy: 0.9175\n",
            "Epoch 160/200\n",
            "244/244 [==============================] - 1s 6ms/step - loss: 0.2814 - accuracy: 0.9161\n",
            "Epoch 161/200\n",
            "244/244 [==============================] - 2s 6ms/step - loss: 0.2803 - accuracy: 0.9153\n",
            "Epoch 162/200\n",
            "244/244 [==============================] - 1s 6ms/step - loss: 0.2812 - accuracy: 0.9141\n",
            "Epoch 163/200\n",
            "244/244 [==============================] - 1s 6ms/step - loss: 0.2838 - accuracy: 0.9153\n",
            "Epoch 164/200\n",
            "244/244 [==============================] - 1s 6ms/step - loss: 0.2868 - accuracy: 0.9132\n",
            "Epoch 165/200\n",
            "244/244 [==============================] - 1s 6ms/step - loss: 0.2905 - accuracy: 0.9138\n",
            "Epoch 166/200\n",
            "244/244 [==============================] - 1s 6ms/step - loss: 0.2820 - accuracy: 0.9163\n",
            "Epoch 167/200\n",
            "244/244 [==============================] - 1s 6ms/step - loss: 0.2817 - accuracy: 0.9144\n",
            "Epoch 168/200\n",
            "244/244 [==============================] - 1s 6ms/step - loss: 0.2791 - accuracy: 0.9139\n",
            "Epoch 169/200\n",
            "244/244 [==============================] - 1s 6ms/step - loss: 0.2799 - accuracy: 0.9140\n",
            "Epoch 170/200\n",
            "244/244 [==============================] - 1s 6ms/step - loss: 0.2802 - accuracy: 0.9150\n",
            "Epoch 171/200\n",
            "244/244 [==============================] - 1s 6ms/step - loss: 0.2792 - accuracy: 0.9140\n",
            "Epoch 172/200\n",
            "244/244 [==============================] - 1s 6ms/step - loss: 0.2788 - accuracy: 0.9162\n",
            "Epoch 173/200\n",
            "244/244 [==============================] - 1s 6ms/step - loss: 0.2782 - accuracy: 0.9155\n",
            "Epoch 174/200\n",
            "244/244 [==============================] - 1s 6ms/step - loss: 0.2787 - accuracy: 0.9150\n",
            "Epoch 175/200\n",
            "244/244 [==============================] - 1s 6ms/step - loss: 0.2789 - accuracy: 0.9154\n",
            "Epoch 176/200\n",
            "244/244 [==============================] - 1s 6ms/step - loss: 0.2788 - accuracy: 0.9158\n",
            "Epoch 177/200\n",
            "244/244 [==============================] - 1s 6ms/step - loss: 0.2791 - accuracy: 0.9144\n",
            "Epoch 178/200\n",
            "244/244 [==============================] - 1s 6ms/step - loss: 0.2787 - accuracy: 0.9170\n",
            "Epoch 179/200\n",
            "244/244 [==============================] - 1s 6ms/step - loss: 0.2789 - accuracy: 0.9141\n",
            "Epoch 180/200\n",
            "244/244 [==============================] - 1s 6ms/step - loss: 0.2809 - accuracy: 0.9150\n",
            "Epoch 181/200\n",
            "244/244 [==============================] - 1s 6ms/step - loss: 0.2894 - accuracy: 0.9129\n",
            "Epoch 182/200\n",
            "244/244 [==============================] - 1s 6ms/step - loss: 0.4027 - accuracy: 0.8858\n",
            "Epoch 183/200\n",
            "244/244 [==============================] - 1s 6ms/step - loss: 0.3855 - accuracy: 0.8899\n",
            "Epoch 184/200\n",
            "244/244 [==============================] - 1s 6ms/step - loss: 0.3008 - accuracy: 0.9114\n",
            "Epoch 185/200\n",
            "244/244 [==============================] - 1s 6ms/step - loss: 0.2832 - accuracy: 0.9168\n",
            "Epoch 186/200\n",
            "244/244 [==============================] - 1s 6ms/step - loss: 0.2800 - accuracy: 0.9159\n",
            "Epoch 187/200\n",
            "244/244 [==============================] - 1s 6ms/step - loss: 0.2787 - accuracy: 0.9155\n",
            "Epoch 188/200\n",
            "244/244 [==============================] - 1s 6ms/step - loss: 0.2790 - accuracy: 0.9143\n",
            "Epoch 189/200\n",
            "244/244 [==============================] - 1s 6ms/step - loss: 0.2771 - accuracy: 0.9159\n",
            "Epoch 190/200\n",
            "244/244 [==============================] - 1s 6ms/step - loss: 0.2771 - accuracy: 0.9146\n",
            "Epoch 191/200\n",
            "244/244 [==============================] - 1s 6ms/step - loss: 0.2784 - accuracy: 0.9138\n",
            "Epoch 192/200\n",
            "244/244 [==============================] - 1s 6ms/step - loss: 0.2770 - accuracy: 0.9149\n",
            "Epoch 193/200\n",
            "244/244 [==============================] - 1s 6ms/step - loss: 0.2779 - accuracy: 0.9159\n",
            "Epoch 194/200\n",
            "244/244 [==============================] - 1s 6ms/step - loss: 0.2763 - accuracy: 0.9149\n",
            "Epoch 195/200\n",
            "244/244 [==============================] - 1s 6ms/step - loss: 0.2779 - accuracy: 0.9154\n",
            "Epoch 196/200\n",
            "244/244 [==============================] - 1s 6ms/step - loss: 0.2774 - accuracy: 0.9161\n",
            "Epoch 197/200\n",
            "244/244 [==============================] - 1s 6ms/step - loss: 0.2778 - accuracy: 0.9152\n",
            "Epoch 198/200\n",
            "244/244 [==============================] - 1s 6ms/step - loss: 0.2780 - accuracy: 0.9159\n",
            "Epoch 199/200\n",
            "244/244 [==============================] - 1s 6ms/step - loss: 0.2777 - accuracy: 0.9155\n",
            "Epoch 200/200\n",
            "244/244 [==============================] - 1s 6ms/step - loss: 0.2795 - accuracy: 0.9146\n",
            "CPU times: user 6min 45s, sys: 1min 29s, total: 8min 15s\n",
            "Wall time: 4min 53s\n"
          ]
        }
      ]
    },
    {
      "cell_type": "markdown",
      "source": [
        "## 모델 검증"
      ],
      "metadata": {
        "id": "0z5EngXxojIz"
      }
    },
    {
      "cell_type": "code",
      "source": [
        "from my_util import sentence_generation"
      ],
      "metadata": {
        "id": "YTpRvSbnonis"
      },
      "execution_count": 28,
      "outputs": []
    },
    {
      "cell_type": "code",
      "source": [
        "print(sentence_generation(model, t, max_len, 'i', 10))\n",
        "print(sentence_generation(model, t, max_len, 'epa', 10))\n",
        "print(sentence_generation(model, t, max_len, 'former', 10))"
      ],
      "metadata": {
        "id": "BmLkLdw4op3H",
        "colab": {
          "base_uri": "https://localhost:8080/"
        },
        "outputId": "e315bcf4-d92c-41aa-dcd8-664e831d1125"
      },
      "execution_count": 29,
      "outputs": [
        {
          "output_type": "stream",
          "name": "stdout",
          "text": [
            "i want to be rich and im not sorry it just\n",
            "epa chiefs ethics woes have echoes in his past of privatized\n",
            "former nfl cheerleaders settlement offer 1 and a meeting with goodell\n"
          ]
        }
      ]
    },
    {
      "cell_type": "code",
      "source": [
        ""
      ],
      "metadata": {
        "id": "xA71AlTvoq1y"
      },
      "execution_count": null,
      "outputs": []
    }
  ]
}