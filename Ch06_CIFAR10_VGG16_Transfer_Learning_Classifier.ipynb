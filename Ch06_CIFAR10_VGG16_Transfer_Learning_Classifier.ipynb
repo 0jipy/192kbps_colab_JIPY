{
  "nbformat": 4,
  "nbformat_minor": 0,
  "metadata": {
    "colab": {
      "name": "Ch06.CIFAR10_VGG16_Transfer_Learning_Classifier.ipynb",
      "provenance": [],
      "collapsed_sections": [],
      "authorship_tag": "ABX9TyNUSBaQngxH2tYGcihN5W0c",
      "include_colab_link": true
    },
    "kernelspec": {
      "name": "python3",
      "display_name": "Python 3"
    },
    "language_info": {
      "name": "python"
    },
    "accelerator": "GPU"
  },
  "cells": [
    {
      "cell_type": "markdown",
      "metadata": {
        "id": "view-in-github",
        "colab_type": "text"
      },
      "source": [
        "<a href=\"https://colab.research.google.com/github/0jipy/192kbps_colab_JIPY/blob/main/Ch06_CIFAR10_VGG16_Transfer_Learning_Classifier.ipynb\" target=\"_parent\"><img src=\"https://colab.research.google.com/assets/colab-badge.svg\" alt=\"Open In Colab\"/></a>"
      ]
    },
    {
      "cell_type": "markdown",
      "source": [
        "# CIFAR10 Transfer Learning based Classifier\n",
        "\n",
        "    - 기존 CNN모델 65%보다 얼마냐 항샹되는가\n",
        "    - 첫 TL 모델.\n",
        "This notebook outlines the steps to build a classifier to leverage concepts of Transfer Learning by utilizing a pretrained Deep-CNN. Particularly in this case based on VGG16"
      ],
      "metadata": {
        "id": "GIebXwFEMXrV"
      }
    },
    {
      "cell_type": "code",
      "source": [
        "# Pandas and Numpy for data structures and util fucntions\n",
        "import scipy as sp\n",
        "import numpy as np\n",
        "import pandas as pd\n",
        "from numpy.random import rand\n",
        "pd.options.display.max_colwidth = 600\n",
        "\n",
        "# Scikit Imports\n",
        "from sklearn import preprocessing\n",
        "from sklearn.metrics import roc_curve, auc, precision_recall_curve\n",
        "from sklearn.model_selection import train_test_split\n",
        "\n",
        "import cnn_utils as utils\n",
        "from model_evaluation_utils import get_metrics\n",
        "\n",
        "# Matplot Imports\n",
        "import matplotlib.pyplot as plt\n",
        "params = {'legend.fontsize': 'x-large',\n",
        "          'figure.figsize': (15, 5),\n",
        "          'axes.labelsize': 'x-large',\n",
        "          'axes.titlesize':'x-large',\n",
        "          'xtick.labelsize':'x-large',\n",
        "          'ytick.labelsize':'x-large'}\n",
        "\n",
        "plt.rcParams.update(params)\n",
        "%matplotlib inline\n",
        "\n",
        "# pandas display data frames as tables\n",
        "from IPython.display import display, HTML\n",
        "\n",
        "import warnings\n",
        "warnings.filterwarnings('ignore')"
      ],
      "metadata": {
        "id": "3iq6tvPeMibt"
      },
      "execution_count": 1,
      "outputs": []
    },
    {
      "cell_type": "code",
      "source": [
        "import tensorflow.python.keras.engine\n",
        "# 아랫줄 Model 에러로 위코드로 수정. 뭐가 맞는걸까?\n",
        "# engine 모듈 어디서 사용했는지 기억이...??"
      ],
      "metadata": {
        "id": "U4DclOBXbDXt"
      },
      "execution_count": 2,
      "outputs": []
    },
    {
      "cell_type": "code",
      "source": [
        "import tensorflow as tf\n",
        "from keras import callbacks\n",
        "from keras import optimizers\n",
        "from keras.datasets import cifar10\n",
        "# 수정중\n",
        "# from tensorflow.keras\n",
        "# from keras.engine import Model\n",
        "from keras.applications import vgg16 as vgg\n",
        "from keras.layers import Dropout, Flatten, Dense, GlobalAveragePooling2D, BatchNormalization\n",
        "from keras.preprocessing.image import ImageDataGenerator\n",
        "from keras.utils import np_utils"
      ],
      "metadata": {
        "id": "Ie2loJ8kMy1a"
      },
      "execution_count": 3,
      "outputs": []
    },
    {
      "cell_type": "markdown",
      "source": [
        "## # Load and Prepare DataSet"
      ],
      "metadata": {
        "id": "057rj4bMNH1B"
      }
    },
    {
      "cell_type": "code",
      "source": [
        "BATCH_SIZE = 32\n",
        "EPOCHS = 40\n",
        "NUM_CLASSES = 10\n",
        "LEARNING_RATE = 1e-4\n",
        "MOMENTUM = 0.9"
      ],
      "metadata": {
        "id": "Z2aNBuTSNsnQ"
      },
      "execution_count": 4,
      "outputs": []
    },
    {
      "cell_type": "code",
      "source": [
        "(X_train, y_train), (X_test, y_test) = cifar10.load_data()"
      ],
      "metadata": {
        "colab": {
          "base_uri": "https://localhost:8080/"
        },
        "id": "UW4zzKmENyXl",
        "outputId": "ac1d4749-7881-4706-fd4a-19d1ce521f0a"
      },
      "execution_count": 5,
      "outputs": [
        {
          "output_type": "stream",
          "name": "stdout",
          "text": [
            "Downloading data from https://www.cs.toronto.edu/~kriz/cifar-10-python.tar.gz\n",
            "170500096/170498071 [==============================] - 4s 0us/step\n",
            "170508288/170498071 [==============================] - 4s 0us/step\n"
          ]
        }
      ]
    },
    {
      "cell_type": "code",
      "source": [
        "X_train, X_val, y_train, y_val = train_test_split(X_train, \n",
        "                                                  y_train, \n",
        "                                                  test_size=0.15, \n",
        "                                                  stratify=np.array(y_train), \n",
        "                                                  random_state=42)"
      ],
      "metadata": {
        "id": "XUcdIrfUNztA"
      },
      "execution_count": 6,
      "outputs": []
    },
    {
      "cell_type": "code",
      "source": [
        "Y_train = np_utils.to_categorical(y_train, NUM_CLASSES)\n",
        "Y_val = np_utils.to_categorical(y_val, NUM_CLASSES)\n",
        "Y_test = np_utils.to_categorical(y_test, NUM_CLASSES)"
      ],
      "metadata": {
        "id": "D2ptIfr5N2bS"
      },
      "execution_count": 7,
      "outputs": []
    },
    {
      "cell_type": "markdown",
      "source": [
        "### Preprocessing\n",
        "Since we are about to use VGG16 as a feature extractor, the minimum size of an image it takes is 48x48. We utilize `scipy to resize images to required dimensions"
      ],
      "metadata": {
        "id": "Irhk1xWZN4J7"
      }
    },
    {
      "cell_type": "code",
      "source": [
        "# 수정전\n",
        "# X_train = np.array([sp.misc.imresize(x,(48, 48)) for x in X_train])\n",
        "# X_val = np.array([sp.misc.imresize(x,(48, 48)) for x in X_val])\n",
        "# X_test = np.array([sp.misc.imresize(x,(48, 48)) for x in X_test])\n",
        "\n",
        "# 수정후 \n",
        "from skimage.transform import resize\n",
        "X_train = np.array([resize(x,(48, 48)) for x in X_train])\n",
        "X_val = np.array([resize(x,(48, 48)) for x in X_val])\n",
        "X_test = np.array([resize(x,(48, 48)) for x in X_test])"
      ],
      "metadata": {
        "id": "LVNxEHBgN6lu"
      },
      "execution_count": 8,
      "outputs": []
    },
    {
      "cell_type": "markdown",
      "source": [
        "## # Prepare the Model\n",
        "- Load VGG16 without the top classification layer\n",
        "- Prepare a custom classifier\n",
        "- Stack both models on top of each other\n"
      ],
      "metadata": {
        "id": "_Q89nQeHOEZT"
      }
    },
    {
      "cell_type": "code",
      "source": [
        "base_model = vgg.VGG16(weights='imagenet', \n",
        "                       include_top=False, \n",
        "                       input_shape=(48, 48, 3))"
      ],
      "metadata": {
        "colab": {
          "base_uri": "https://localhost:8080/"
        },
        "id": "mdVZuH0GONTf",
        "outputId": "edd19e79-9356-4599-dd1a-eb33ffb768d3"
      },
      "execution_count": 9,
      "outputs": [
        {
          "output_type": "stream",
          "name": "stdout",
          "text": [
            "Downloading data from https://storage.googleapis.com/tensorflow/keras-applications/vgg16/vgg16_weights_tf_dim_ordering_tf_kernels_notop.h5\n",
            "58892288/58889256 [==============================] - 1s 0us/step\n",
            "58900480/58889256 [==============================] - 1s 0us/step\n"
          ]
        }
      ]
    },
    {
      "cell_type": "code",
      "source": [
        "# Extract the last layer from third block of vgg16 model\n",
        "last = base_model.get_layer('block3_pool').output"
      ],
      "metadata": {
        "id": "0wNdK5kMOPN6"
      },
      "execution_count": 10,
      "outputs": []
    },
    {
      "cell_type": "code",
      "source": [
        "from keras import engine\n",
        "tf.keras.Model()"
      ],
      "metadata": {
        "colab": {
          "base_uri": "https://localhost:8080/"
        },
        "id": "-YhQwVWnbWjB",
        "outputId": "006e9ccd-b330-4ea4-b097-83661aca6336"
      },
      "execution_count": 19,
      "outputs": [
        {
          "output_type": "execute_result",
          "data": {
            "text/plain": [
              "<keras.engine.training.Model at 0x7f38ae1aed50>"
            ]
          },
          "metadata": {},
          "execution_count": 19
        }
      ]
    },
    {
      "cell_type": "code",
      "source": [
        "# Add classification layers on top of it\n",
        "x = GlobalAveragePooling2D()(last)\n",
        "x= BatchNormalization()(x)\n",
        "x = Dense(256, activation='relu')(x)\n",
        "x = Dense(256, activation='relu')(x)\n",
        "x = Dropout(0.6)(x)\n",
        "pred = Dense(NUM_CLASSES, activation='softmax')(x)\n",
        "model = tf.keras.Model(base_model.input, pred)\n",
        "\n",
        "# Q. 질문. 에러 수정 못함. tf.keras.Model 은 된다 근데 위에 import 는\n",
        "# 문구가 없어 Since our objective is to only train the custom classifier, we freeze the layers of VGG16"
      ],
      "metadata": {
        "id": "mIdaDkWgP9b3"
      },
      "execution_count": 12,
      "outputs": []
    },
    {
      "cell_type": "code",
      "source": [
        "for layer in base_model.layers:\n",
        "     layer.trainable = False"
      ],
      "metadata": {
        "id": "sbTlETavSMKv"
      },
      "execution_count": 13,
      "outputs": []
    },
    {
      "cell_type": "code",
      "source": [
        "# Adam() 이런식으로 옵티마이져 사용 어떻게 해? error로 러닝레이트 옵션 못줬어.\n",
        "model.compile(loss='binary_crossentropy',\n",
        "              optimizer='adam', #러닝레이트 설정은 어케?\n",
        "            #   optimizer=optimizers.Adam(lr=LEARNING_RATE),\n",
        "              metrics=['accuracy'])"
      ],
      "metadata": {
        "id": "UbXwhCNzVsHV"
      },
      "execution_count": 15,
      "outputs": []
    },
    {
      "cell_type": "code",
      "source": [
        "model.summary()\n",
        "# 서머리의 파람은 예제와 같다. layer 동결여부는 어떻게 확인해야?"
      ],
      "metadata": {
        "colab": {
          "base_uri": "https://localhost:8080/"
        },
        "id": "kza3150KVtbb",
        "outputId": "56d0fa26-eff4-4f69-8b09-21094946b736"
      },
      "execution_count": 16,
      "outputs": [
        {
          "output_type": "stream",
          "name": "stdout",
          "text": [
            "Model: \"model\"\n",
            "_________________________________________________________________\n",
            " Layer (type)                Output Shape              Param #   \n",
            "=================================================================\n",
            " input_1 (InputLayer)        [(None, 48, 48, 3)]       0         \n",
            "                                                                 \n",
            " block1_conv1 (Conv2D)       (None, 48, 48, 64)        1792      \n",
            "                                                                 \n",
            " block1_conv2 (Conv2D)       (None, 48, 48, 64)        36928     \n",
            "                                                                 \n",
            " block1_pool (MaxPooling2D)  (None, 24, 24, 64)        0         \n",
            "                                                                 \n",
            " block2_conv1 (Conv2D)       (None, 24, 24, 128)       73856     \n",
            "                                                                 \n",
            " block2_conv2 (Conv2D)       (None, 24, 24, 128)       147584    \n",
            "                                                                 \n",
            " block2_pool (MaxPooling2D)  (None, 12, 12, 128)       0         \n",
            "                                                                 \n",
            " block3_conv1 (Conv2D)       (None, 12, 12, 256)       295168    \n",
            "                                                                 \n",
            " block3_conv2 (Conv2D)       (None, 12, 12, 256)       590080    \n",
            "                                                                 \n",
            " block3_conv3 (Conv2D)       (None, 12, 12, 256)       590080    \n",
            "                                                                 \n",
            " block3_pool (MaxPooling2D)  (None, 6, 6, 256)         0         \n",
            "                                                                 \n",
            " global_average_pooling2d_1   (None, 256)              0         \n",
            " (GlobalAveragePooling2D)                                        \n",
            "                                                                 \n",
            " batch_normalization_1 (Batc  (None, 256)              1024      \n",
            " hNormalization)                                                 \n",
            "                                                                 \n",
            " dense_3 (Dense)             (None, 256)               65792     \n",
            "                                                                 \n",
            " dense_4 (Dense)             (None, 256)               65792     \n",
            "                                                                 \n",
            " dropout_1 (Dropout)         (None, 256)               0         \n",
            "                                                                 \n",
            " dense_5 (Dense)             (None, 10)                2570      \n",
            "                                                                 \n",
            "=================================================================\n",
            "Total params: 1,870,666\n",
            "Trainable params: 134,666\n",
            "Non-trainable params: 1,736,000\n",
            "_________________________________________________________________\n"
          ]
        }
      ]
    },
    {
      "cell_type": "markdown",
      "source": [
        "## # Data Augmentation\n",
        "To help model generalize and overcome the limitations of a small dataset, we prepare augmented datasets using keras utilities\n"
      ],
      "metadata": {
        "id": "BSiNB0yHVuWc"
      }
    },
    {
      "cell_type": "code",
      "source": [
        "# prepare data augmentation configuration\n",
        "train_datagen = ImageDataGenerator(\n",
        "    rescale=1. / 255,\n",
        "    horizontal_flip=False)"
      ],
      "metadata": {
        "id": "_YLhu8HUVwbT"
      },
      "execution_count": 17,
      "outputs": []
    },
    {
      "cell_type": "code",
      "source": [
        "train_datagen.fit(X_train)\n",
        "train_generator = train_datagen.flow(X_train,\n",
        "                                     Y_train, \n",
        "                                     batch_size=BATCH_SIZE)"
      ],
      "metadata": {
        "id": "lgojXDcAgIP-"
      },
      "execution_count": 18,
      "outputs": []
    },
    {
      "cell_type": "code",
      "source": [
        "val_datagen = ImageDataGenerator(rescale=1. / 255,\n",
        "    horizontal_flip=False)\n",
        "\n",
        "val_datagen.fit(X_val)\n",
        "val_generator = val_datagen.flow(X_val,\n",
        "                                 Y_val,\n",
        "                                 batch_size=BATCH_SIZE)"
      ],
      "metadata": {
        "id": "Pg5W5vO9gJ5O"
      },
      "execution_count": 19,
      "outputs": []
    },
    {
      "cell_type": "markdown",
      "source": [
        "## # Train the Model"
      ],
      "metadata": {
        "id": "r4aZkuiBgMzk"
      }
    },
    {
      "cell_type": "code",
      "source": [
        "# 4분 실행에 6번째 에포크. 시간 고려해줘야 할듯. 기존 CNN모델 65%보다 향상된 결과 보여야.\n",
        "train_steps_per_epoch = X_train.shape[0] // BATCH_SIZE\n",
        "val_steps_per_epoch = X_val.shape[0] // BATCH_SIZE\n",
        "\n",
        "history = model.fit_generator(train_generator,\n",
        "                              steps_per_epoch=train_steps_per_epoch,\n",
        "                              validation_data=val_generator,\n",
        "                              validation_steps=val_steps_per_epoch,\n",
        "                              epochs=EPOCHS,\n",
        "                              verbose=1)"
      ],
      "metadata": {
        "colab": {
          "base_uri": "https://localhost:8080/"
        },
        "id": "xXqEuN72gSUv",
        "outputId": "526fe769-00c7-4425-a505-1daca2fc6f35"
      },
      "execution_count": 20,
      "outputs": [
        {
          "output_type": "stream",
          "name": "stdout",
          "text": [
            "Epoch 1/40\n",
            "1328/1328 [==============================] - 46s 26ms/step - loss: 0.2380 - accuracy: 0.4628 - val_loss: 0.1905 - val_accuracy: 0.5749\n",
            "Epoch 2/40\n",
            "1328/1328 [==============================] - 30s 23ms/step - loss: 0.1986 - accuracy: 0.5644 - val_loss: 0.1758 - val_accuracy: 0.6079\n",
            "Epoch 3/40\n",
            "1328/1328 [==============================] - 33s 25ms/step - loss: 0.1853 - accuracy: 0.5951 - val_loss: 0.1668 - val_accuracy: 0.6337\n",
            "Epoch 4/40\n",
            "1328/1328 [==============================] - 32s 24ms/step - loss: 0.1773 - accuracy: 0.6185 - val_loss: 0.1624 - val_accuracy: 0.6469\n",
            "Epoch 5/40\n",
            "1328/1328 [==============================] - 33s 25ms/step - loss: 0.1712 - accuracy: 0.6317 - val_loss: 0.1616 - val_accuracy: 0.6466\n",
            "Epoch 6/40\n",
            "1328/1328 [==============================] - 33s 25ms/step - loss: 0.1662 - accuracy: 0.6441 - val_loss: 0.1594 - val_accuracy: 0.6480\n",
            "Epoch 7/40\n",
            "1328/1328 [==============================] - 30s 22ms/step - loss: 0.1620 - accuracy: 0.6562 - val_loss: 0.1571 - val_accuracy: 0.6552\n",
            "Epoch 8/40\n",
            "1328/1328 [==============================] - 29s 22ms/step - loss: 0.1574 - accuracy: 0.6659 - val_loss: 0.1542 - val_accuracy: 0.6683\n",
            "Epoch 9/40\n",
            "1328/1328 [==============================] - 32s 24ms/step - loss: 0.1545 - accuracy: 0.6719 - val_loss: 0.1537 - val_accuracy: 0.6640\n",
            "Epoch 10/40\n",
            "1328/1328 [==============================] - 31s 23ms/step - loss: 0.1514 - accuracy: 0.6811 - val_loss: 0.1594 - val_accuracy: 0.6538\n",
            "Epoch 11/40\n",
            "1328/1328 [==============================] - 29s 22ms/step - loss: 0.1489 - accuracy: 0.6848 - val_loss: 0.1526 - val_accuracy: 0.6651\n",
            "Epoch 12/40\n",
            "1328/1328 [==============================] - 29s 22ms/step - loss: 0.1458 - accuracy: 0.6934 - val_loss: 0.1540 - val_accuracy: 0.6693\n",
            "Epoch 13/40\n",
            "1328/1328 [==============================] - 29s 22ms/step - loss: 0.1431 - accuracy: 0.6992 - val_loss: 0.1532 - val_accuracy: 0.6707\n",
            "Epoch 14/40\n",
            "1328/1328 [==============================] - 29s 22ms/step - loss: 0.1412 - accuracy: 0.7059 - val_loss: 0.1516 - val_accuracy: 0.6757\n",
            "Epoch 15/40\n",
            "1328/1328 [==============================] - 29s 22ms/step - loss: 0.1385 - accuracy: 0.7109 - val_loss: 0.1516 - val_accuracy: 0.6716\n",
            "Epoch 16/40\n",
            "1328/1328 [==============================] - 29s 22ms/step - loss: 0.1372 - accuracy: 0.7116 - val_loss: 0.1537 - val_accuracy: 0.6712\n",
            "Epoch 17/40\n",
            "1328/1328 [==============================] - 29s 22ms/step - loss: 0.1347 - accuracy: 0.7171 - val_loss: 0.1551 - val_accuracy: 0.6692\n",
            "Epoch 18/40\n",
            "1328/1328 [==============================] - 29s 22ms/step - loss: 0.1330 - accuracy: 0.7196 - val_loss: 0.1523 - val_accuracy: 0.6771\n",
            "Epoch 19/40\n",
            "1328/1328 [==============================] - 29s 22ms/step - loss: 0.1314 - accuracy: 0.7267 - val_loss: 0.1546 - val_accuracy: 0.6739\n",
            "Epoch 20/40\n",
            "1328/1328 [==============================] - 29s 22ms/step - loss: 0.1292 - accuracy: 0.7329 - val_loss: 0.1535 - val_accuracy: 0.6768\n",
            "Epoch 21/40\n",
            "1328/1328 [==============================] - 30s 23ms/step - loss: 0.1277 - accuracy: 0.7358 - val_loss: 0.1573 - val_accuracy: 0.6716\n",
            "Epoch 22/40\n",
            "1328/1328 [==============================] - 29s 22ms/step - loss: 0.1269 - accuracy: 0.7373 - val_loss: 0.1564 - val_accuracy: 0.6755\n",
            "Epoch 23/40\n",
            "1328/1328 [==============================] - 29s 22ms/step - loss: 0.1250 - accuracy: 0.7428 - val_loss: 0.1593 - val_accuracy: 0.6700\n",
            "Epoch 24/40\n",
            "1328/1328 [==============================] - 29s 22ms/step - loss: 0.1228 - accuracy: 0.7468 - val_loss: 0.1594 - val_accuracy: 0.6745\n",
            "Epoch 25/40\n",
            "1328/1328 [==============================] - 29s 22ms/step - loss: 0.1229 - accuracy: 0.7469 - val_loss: 0.1588 - val_accuracy: 0.6733\n",
            "Epoch 26/40\n",
            "1328/1328 [==============================] - 29s 22ms/step - loss: 0.1209 - accuracy: 0.7508 - val_loss: 0.1581 - val_accuracy: 0.6776\n",
            "Epoch 27/40\n",
            "1328/1328 [==============================] - 29s 22ms/step - loss: 0.1197 - accuracy: 0.7542 - val_loss: 0.1578 - val_accuracy: 0.6804\n",
            "Epoch 28/40\n",
            "1328/1328 [==============================] - 31s 23ms/step - loss: 0.1183 - accuracy: 0.7581 - val_loss: 0.1591 - val_accuracy: 0.6725\n",
            "Epoch 29/40\n",
            "1328/1328 [==============================] - 29s 22ms/step - loss: 0.1172 - accuracy: 0.7582 - val_loss: 0.1593 - val_accuracy: 0.6731\n",
            "Epoch 30/40\n",
            "1328/1328 [==============================] - 31s 23ms/step - loss: 0.1154 - accuracy: 0.7670 - val_loss: 0.1599 - val_accuracy: 0.6759\n",
            "Epoch 31/40\n",
            "1328/1328 [==============================] - 29s 22ms/step - loss: 0.1155 - accuracy: 0.7655 - val_loss: 0.1631 - val_accuracy: 0.6753\n",
            "Epoch 32/40\n",
            "1328/1328 [==============================] - 29s 22ms/step - loss: 0.1146 - accuracy: 0.7672 - val_loss: 0.1627 - val_accuracy: 0.6787\n",
            "Epoch 33/40\n",
            "1328/1328 [==============================] - 29s 22ms/step - loss: 0.1144 - accuracy: 0.7669 - val_loss: 0.1633 - val_accuracy: 0.6756\n",
            "Epoch 34/40\n",
            "1328/1328 [==============================] - 29s 22ms/step - loss: 0.1119 - accuracy: 0.7722 - val_loss: 0.1626 - val_accuracy: 0.6786\n",
            "Epoch 35/40\n",
            "1328/1328 [==============================] - 29s 22ms/step - loss: 0.1123 - accuracy: 0.7714 - val_loss: 0.1661 - val_accuracy: 0.6774\n",
            "Epoch 36/40\n",
            "1328/1328 [==============================] - 29s 22ms/step - loss: 0.1109 - accuracy: 0.7760 - val_loss: 0.1690 - val_accuracy: 0.6721\n",
            "Epoch 37/40\n",
            "1328/1328 [==============================] - 29s 22ms/step - loss: 0.1102 - accuracy: 0.7774 - val_loss: 0.1656 - val_accuracy: 0.6747\n",
            "Epoch 38/40\n",
            "1328/1328 [==============================] - 29s 22ms/step - loss: 0.1097 - accuracy: 0.7772 - val_loss: 0.1689 - val_accuracy: 0.6783\n",
            "Epoch 39/40\n",
            "1328/1328 [==============================] - 30s 23ms/step - loss: 0.1078 - accuracy: 0.7825 - val_loss: 0.1668 - val_accuracy: 0.6776\n",
            "Epoch 40/40\n",
            "1328/1328 [==============================] - 30s 23ms/step - loss: 0.1075 - accuracy: 0.7810 - val_loss: 0.1689 - val_accuracy: 0.6782\n"
          ]
        }
      ]
    },
    {
      "cell_type": "markdown",
      "source": [
        "## # Analyze Model Performance"
      ],
      "metadata": {
        "id": "hKVVAcRegYLp"
      }
    },
    {
      "cell_type": "code",
      "source": [
        "f, (ax1, ax2) = plt.subplots(1, 2, figsize=(15, 5))\n",
        "t = f.suptitle('Deep Neural Net Performance', fontsize=12)\n",
        "f.subplots_adjust(top=0.85, wspace=0.3)\n",
        "\n",
        "epochs = list(range(1,EPOCHS+1))\n",
        "ax1.plot(epochs, history.history['accuracy'], label='Train Accuracy')\n",
        "ax1.plot(epochs, history.history['val_accuracy'], label='Validation Accuracy')\n",
        "ax1.set_xticks(epochs)\n",
        "ax1.set_ylabel('Accuracy Value')\n",
        "ax1.set_xlabel('Epoch')\n",
        "ax1.set_title('Accuracy')\n",
        "l1 = ax1.legend(loc=\"best\")\n",
        "\n",
        "ax2.plot(epochs, history.history['loss'], label='Train Loss')\n",
        "ax2.plot(epochs, history.history['val_loss'], label='Validation Loss')\n",
        "ax2.set_xticks(epochs)\n",
        "ax2.set_ylabel('Loss Value')\n",
        "ax2.set_xlabel('Epoch')\n",
        "ax2.set_title('Loss')\n",
        "l2 = ax2.legend(loc=\"best\")"
      ],
      "metadata": {
        "colab": {
          "base_uri": "https://localhost:8080/",
          "height": 378
        },
        "id": "TeQshTlFgaWX",
        "outputId": "6010a2ef-0653-48d2-d18e-cecee7b919ec"
      },
      "execution_count": 22,
      "outputs": [
        {
          "output_type": "display_data",
          "data": {
            "image/png": "[encoded data removed]",
            "text/plain": [
              "<Figure size 1080x360 with 2 Axes>"
            ]
          },
          "metadata": {
            "needs_background": "light"
          }
        }
      ]
    },
    {
      "cell_type": "code",
      "source": [
        "predictions = model.predict(X_test/255.)"
      ],
      "metadata": {
        "id": "RSS6XLlsgd_-"
      },
      "execution_count": 23,
      "outputs": []
    },
    {
      "cell_type": "code",
      "source": [
        "test_labels = list(y_test.squeeze())\n",
        "predictions = list(predictions.argmax(axis=1))"
      ],
      "metadata": {
        "id": "t08NcLCzgfND"
      },
      "execution_count": 24,
      "outputs": []
    },
    {
      "cell_type": "code",
      "source": [
        "get_metrics(true_labels=y_test, \n",
        "                predicted_labels=predictions)"
      ],
      "metadata": {
        "colab": {
          "base_uri": "https://localhost:8080/"
        },
        "id": "3SfL1ba-ggku",
        "outputId": "7d4a5f4d-c491-4b4b-f921-98c0f83caa82"
      },
      "execution_count": 25,
      "outputs": [
        {
          "output_type": "stream",
          "name": "stdout",
          "text": [
            "Accuracy: 0.6815\n",
            "Precision: 0.6898\n",
            "Recall: 0.6815\n",
            "F1 Score: 0.6838\n"
          ]
        }
      ]
    },
    {
      "cell_type": "markdown",
      "source": [
        "## # Visualize Predictions"
      ],
      "metadata": {
        "id": "XgnZXArvgiK-"
      }
    },
    {
      "cell_type": "code",
      "source": [
        "label_dict = {0:'airplane',\n",
        "             1:'automobile',\n",
        "             2:'bird',\n",
        "             3:'cat',\n",
        "             4:'deer',\n",
        "             5:'dog',\n",
        "             6:'frog',\n",
        "             7:'horse',\n",
        "             8:'ship',\n",
        "             9:'truck'}"
      ],
      "metadata": {
        "id": "dAxuHJDBgjrR"
      },
      "execution_count": 26,
      "outputs": []
    },
    {
      "cell_type": "code",
      "source": [
        "utils.plot_predictions(model=model,dataset=X_test/255.,\n",
        "                       dataset_labels=Y_test,\n",
        "                       label_dict=label_dict,\n",
        "                       batch_size=16,\n",
        "                       grid_height=4,\n",
        "                       grid_width=4)"
      ],
      "metadata": {
        "colab": {
          "base_uri": "https://localhost:8080/",
          "height": 1000
        },
        "id": "F3H3jHUfgmI3",
        "outputId": "380a4e12-e5c7-42b4-9b60-335400b8971e"
      },
      "execution_count": 27,
      "outputs": [
        {
          "output_type": "error",
          "ename": "RuntimeError",
          "evalue": "ignored",
          "traceback": [
            "\u001b[0;31m---------------------------------------------------------------------------\u001b[0m",
            "\u001b[0;31mRuntimeError\u001b[0m                              Traceback (most recent call last)",
            "\u001b[0;32m<ipython-input-27-a7393ce54431>\u001b[0m in \u001b[0;36m<module>\u001b[0;34m()\u001b[0m\n\u001b[1;32m      4\u001b[0m                        \u001b[0mbatch_size\u001b[0m\u001b[0;34m=\u001b[0m\u001b[0;36m16\u001b[0m\u001b[0;34m,\u001b[0m\u001b[0;34m\u001b[0m\u001b[0;34m\u001b[0m\u001b[0m\n\u001b[1;32m      5\u001b[0m                        \u001b[0mgrid_height\u001b[0m\u001b[0;34m=\u001b[0m\u001b[0;36m4\u001b[0m\u001b[0;34m,\u001b[0m\u001b[0;34m\u001b[0m\u001b[0;34m\u001b[0m\u001b[0m\n\u001b[0;32m----> 6\u001b[0;31m                        grid_width=4)\n\u001b[0m",
            "\u001b[0;32m/content/cnn_utils.py\u001b[0m in \u001b[0;36mplot_predictions\u001b[0;34m(model, dataset, dataset_labels, label_dict, batch_size, grid_height, grid_width)\u001b[0m\n\u001b[1;32m     53\u001b[0m                                               \u001b[0mimg_vector\u001b[0m\u001b[0;34m=\u001b[0m\u001b[0mdataset\u001b[0m\u001b[0;34m[\u001b[0m\u001b[0mrandom_batch_indx\u001b[0m\u001b[0;34m[\u001b[0m\u001b[0mimg_idx\u001b[0m\u001b[0;34m]\u001b[0m\u001b[0;34m]\u001b[0m\u001b[0;34m,\u001b[0m\u001b[0;34m\u001b[0m\u001b[0;34m\u001b[0m\u001b[0m\n\u001b[1;32m     54\u001b[0m                                               \u001b[0mlabel_dict\u001b[0m\u001b[0;34m=\u001b[0m\u001b[0mlabel_dict\u001b[0m\u001b[0;34m,\u001b[0m\u001b[0;34m\u001b[0m\u001b[0;34m\u001b[0m\u001b[0m\n\u001b[0;32m---> 55\u001b[0;31m                                               top_N=1)\n\u001b[0m\u001b[1;32m     56\u001b[0m                 \u001b[0max\u001b[0m\u001b[0;34m[\u001b[0m\u001b[0mi\u001b[0m\u001b[0;34m]\u001b[0m\u001b[0;34m[\u001b[0m\u001b[0mj\u001b[0m\u001b[0;34m]\u001b[0m\u001b[0;34m.\u001b[0m\u001b[0maxis\u001b[0m\u001b[0;34m(\u001b[0m\u001b[0;34m'off'\u001b[0m\u001b[0;34m)\u001b[0m\u001b[0;34m\u001b[0m\u001b[0;34m\u001b[0m\u001b[0m\n\u001b[1;32m     57\u001b[0m                 ax[i][j].set_title('Actual:'+actual_label[:10]+\\\n",
            "\u001b[0;32m/content/cnn_utils.py\u001b[0m in \u001b[0;36mmake_prediction\u001b[0;34m(model, img_vector, label_dict, top_N, model_input_shape)\u001b[0m\n\u001b[1;32m     24\u001b[0m         \u001b[0;31m# get model input shape\u001b[0m\u001b[0;34m\u001b[0m\u001b[0;34m\u001b[0m\u001b[0;34m\u001b[0m\u001b[0m\n\u001b[1;32m     25\u001b[0m         \u001b[0;32mif\u001b[0m \u001b[0;32mnot\u001b[0m \u001b[0mmodel_input_shape\u001b[0m\u001b[0;34m:\u001b[0m\u001b[0;34m\u001b[0m\u001b[0;34m\u001b[0m\u001b[0m\n\u001b[0;32m---> 26\u001b[0;31m             \u001b[0mmodel_input_shape\u001b[0m \u001b[0;34m=\u001b[0m \u001b[0;34m(\u001b[0m\u001b[0;36m1\u001b[0m\u001b[0;34m,\u001b[0m\u001b[0;34m)\u001b[0m\u001b[0;34m+\u001b[0m\u001b[0mmodel\u001b[0m\u001b[0;34m.\u001b[0m\u001b[0mget_input_shape_at\u001b[0m\u001b[0;34m(\u001b[0m\u001b[0;36m0\u001b[0m\u001b[0;34m)\u001b[0m\u001b[0;34m[\u001b[0m\u001b[0;36m1\u001b[0m\u001b[0;34m:\u001b[0m\u001b[0;34m]\u001b[0m\u001b[0;34m\u001b[0m\u001b[0;34m\u001b[0m\u001b[0m\n\u001b[0m\u001b[1;32m     27\u001b[0m \u001b[0;34m\u001b[0m\u001b[0m\n\u001b[1;32m     28\u001b[0m         \u001b[0;31m# get prediction\u001b[0m\u001b[0;34m\u001b[0m\u001b[0;34m\u001b[0m\u001b[0;34m\u001b[0m\u001b[0m\n",
            "\u001b[0;32m/usr/local/lib/python3.7/dist-packages/keras/engine/base_layer.py\u001b[0m in \u001b[0;36mget_input_shape_at\u001b[0;34m(self, node_index)\u001b[0m\n\u001b[1;32m   2072\u001b[0m     \"\"\"\n\u001b[1;32m   2073\u001b[0m     return self._get_node_attribute_at_index(node_index, 'input_shapes',\n\u001b[0;32m-> 2074\u001b[0;31m                                              'input shape')\n\u001b[0m\u001b[1;32m   2075\u001b[0m \u001b[0;34m\u001b[0m\u001b[0m\n\u001b[1;32m   2076\u001b[0m   \u001b[0;34m@\u001b[0m\u001b[0mdoc_controls\u001b[0m\u001b[0;34m.\u001b[0m\u001b[0mdo_not_doc_inheritable\u001b[0m\u001b[0;34m\u001b[0m\u001b[0;34m\u001b[0m\u001b[0m\n",
            "\u001b[0;32m/usr/local/lib/python3.7/dist-packages/keras/engine/base_layer.py\u001b[0m in \u001b[0;36m_get_node_attribute_at_index\u001b[0;34m(self, node_index, attr, attr_name)\u001b[0m\n\u001b[1;32m   2699\u001b[0m     \"\"\"\n\u001b[1;32m   2700\u001b[0m     \u001b[0;32mif\u001b[0m \u001b[0;32mnot\u001b[0m \u001b[0mself\u001b[0m\u001b[0;34m.\u001b[0m\u001b[0m_inbound_nodes\u001b[0m\u001b[0;34m:\u001b[0m\u001b[0;34m\u001b[0m\u001b[0;34m\u001b[0m\u001b[0m\n\u001b[0;32m-> 2701\u001b[0;31m       raise RuntimeError(f'The layer {self.name} has never been called '\n\u001b[0m\u001b[1;32m   2702\u001b[0m                          'and thus has no defined {attr_name}.')\n\u001b[1;32m   2703\u001b[0m     \u001b[0;32mif\u001b[0m \u001b[0;32mnot\u001b[0m \u001b[0mlen\u001b[0m\u001b[0;34m(\u001b[0m\u001b[0mself\u001b[0m\u001b[0;34m.\u001b[0m\u001b[0m_inbound_nodes\u001b[0m\u001b[0;34m)\u001b[0m \u001b[0;34m>\u001b[0m \u001b[0mnode_index\u001b[0m\u001b[0;34m:\u001b[0m\u001b[0;34m\u001b[0m\u001b[0;34m\u001b[0m\u001b[0m\n",
            "\u001b[0;31mRuntimeError\u001b[0m: The layer model has never been called and thus has no defined {attr_name}."
          ]
        },
        {
          "output_type": "display_data",
          "data": {
            "image/png": "[encoded data removed]",
            "text/plain": [
              "<Figure size 864x864 with 16 Axes>"
            ]
          },
          "metadata": {
            "needs_background": "light"
          }
        }
      ]
    },
    {
      "cell_type": "code",
      "source": [
        ""
      ],
      "metadata": {
        "id": "QLN1ZnzJmoRo"
      },
      "execution_count": null,
      "outputs": []
    }
  ]
}