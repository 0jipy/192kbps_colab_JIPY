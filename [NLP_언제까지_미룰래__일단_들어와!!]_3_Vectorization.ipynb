{
  "cells": [
    {
      "cell_type": "markdown",
      "metadata": {
        "id": "view-in-github",
        "colab_type": "text"
      },
      "source": [
        "<a href=\"https://colab.research.google.com/github/0jipy/192kbps_colab_JIPY/blob/main/%5BNLP_%EC%96%B8%EC%A0%9C%EA%B9%8C%EC%A7%80_%EB%AF%B8%EB%A3%B0%EB%9E%98__%EC%9D%BC%EB%8B%A8_%EB%93%A4%EC%96%B4%EC%99%80!!%5D_3_Vectorization.ipynb\" target=\"_parent\"><img src=\"https://colab.research.google.com/assets/colab-badge.svg\" alt=\"Open In Colab\"/></a>"
      ]
    },
    {
      "cell_type": "code",
      "source": [
        "!pip install konlpy"
      ],
      "metadata": {
        "colab": {
          "base_uri": "https://localhost:8080/"
        },
        "id": "FRg1bryz1oqc",
        "outputId": "a63ce83b-c646-4eaa-f68c-b069141cbf70"
      },
      "execution_count": 1,
      "outputs": [
        {
          "output_type": "stream",
          "name": "stdout",
          "text": [
            "Collecting konlpy\n",
            "  Downloading konlpy-0.6.0-py2.py3-none-any.whl (19.4 MB)\n",
            "\u001b[K     |████████████████████████████████| 19.4 MB 571 kB/s \n",
            "\u001b[?25hRequirement already satisfied: numpy>=1.6 in /usr/local/lib/python3.7/dist-packages (from konlpy) (1.19.5)\n",
            "Collecting JPype1>=0.7.0\n",
            "  Downloading JPype1-1.3.0-cp37-cp37m-manylinux_2_5_x86_64.manylinux1_x86_64.whl (448 kB)\n",
            "\u001b[K     |████████████████████████████████| 448 kB 73.5 MB/s \n",
            "\u001b[?25hRequirement already satisfied: lxml>=4.1.0 in /usr/local/lib/python3.7/dist-packages (from konlpy) (4.2.6)\n",
            "Requirement already satisfied: typing-extensions in /usr/local/lib/python3.7/dist-packages (from JPype1>=0.7.0->konlpy) (3.10.0.2)\n",
            "Installing collected packages: JPype1, konlpy\n",
            "Successfully installed JPype1-1.3.0 konlpy-0.6.0\n"
          ]
        }
      ]
    },
    {
      "cell_type": "markdown",
      "metadata": {
        "id": "94eX95LA1l9O"
      },
      "source": [
        "*총 5개의 노트북으로 시작하는 자연어 처리 입문 튜토리얼*\n",
        "\n",
        "\n",
        "*이번 대회와 함께 그간 미루고 있었던 NLP, 지금 시작해보세요!!*"
      ]
    },
    {
      "cell_type": "markdown",
      "metadata": {
        "id": "eg0Y796-1l9T"
      },
      "source": [
        "1. 자연어 처리란?\n",
        "\n",
        "\n",
        "2. NLP Preprocessing\n",
        "\n",
        "\n",
        "### 3. Vectorization <<<<\n",
        "\n",
        "\n",
        "\n",
        "\n",
        "4. Embedding\n",
        "\n",
        "\n",
        "5. Modeling\n",
        "\n"
      ]
    },
    {
      "cell_type": "markdown",
      "metadata": {
        "id": "sd3sTx7M1l9U"
      },
      "source": [
        "---"
      ]
    },
    {
      "cell_type": "markdown",
      "metadata": {
        "id": "IjJDdOI11l9U"
      },
      "source": [
        "## Vectorization 이란?"
      ]
    },
    {
      "cell_type": "markdown",
      "metadata": {
        "id": "PHDG7ekQ1l9V"
      },
      "source": [
        "* NLP를 컴퓨터가 이해할 수 있게 수치로 바꾸는 것을 말합니다.이 때 벡터로 변환된 고유의 토큰들이 모인 집합을 vocabulary 하며 vocabulary가 크면 클수록 학습이 오래 걸리게 됩니다. 다양한 벡터화 함수들이 존재하지만 이번 노트북에서는 가장 기본적이며 많이 쓰이는 세 가지를 소개하겠습니다.\n",
        "\n",
        "\n",
        "\n",
        "* 이전 노트북에서 소개했던 것과 마찬가지로 토큰들을 벡터화하기 이전에 형태소 분석기를 사용하여 문장을 원하는 토큰들로 분리합니다. 자세한 내용은 이전 노트북을 참고해주세요([#2. NLP 전처리](https://dacon.io/competitions/official/235658/codeshare/1808?page=1&dtype=recent&ptype=pub))\n"
      ]
    },
    {
      "cell_type": "markdown",
      "metadata": {
        "id": "GqF6xTbd1l9W"
      },
      "source": [
        "\n",
        "\n",
        "> Ex) 자연어 처리는 정말 즐거워. 즐거운 자연어 처리 다같이 해보자\n",
        "\n",
        "위의 문장들을 간단한 전처리와 okt를 활용하여 나누어보겠습니다."
      ]
    },
    {
      "cell_type": "code",
      "execution_count": 2,
      "metadata": {
        "colab": {
          "base_uri": "https://localhost:8080/"
        },
        "id": "IKXvYZIc1l9W",
        "outputId": "23747883-d590-4f34-8065-7df16b75229e"
      },
      "outputs": [
        {
          "output_type": "stream",
          "name": "stdout",
          "text": [
            "형태소 단위로 문장 분리\n",
            "----------------------\n",
            "['자연어 처리 는 정말 정말 즐거워', '즐거운 자연어 처리 다 같이 해보자']\n"
          ]
        }
      ],
      "source": [
        "from konlpy.tag import Okt\n",
        "import re\n",
        "\n",
        "Okt = Okt()\n",
        "\n",
        "sentences = ['자연어 처리는 정말 정말 즐거워.', '즐거운 자연어 처리 다같이 해보자.']\n",
        "tokens = []\n",
        "\n",
        "for sentence in sentences:\n",
        "    sentence = re.sub('[^가-힣a-z]', ' ', sentence) #간단한 전처리\n",
        "    token = (Okt.morphs(sentence)) #형태소 분석기를 이용햔 토큰 나누기\n",
        "    tokens.append(' '.join(token))\n",
        "\n",
        "print(\"형태소 단위로 문장 분리\")\n",
        "print(\"----------------------\")\n",
        "print(tokens)"
      ]
    },
    {
      "cell_type": "markdown",
      "metadata": {
        "id": "CiJBiOn11l9Y"
      },
      "source": [
        "---"
      ]
    },
    {
      "cell_type": "markdown",
      "metadata": {
        "id": "fjtQ6wMv1l9Z"
      },
      "source": [
        "### 1. One Hot Encoding"
      ]
    },
    {
      "cell_type": "markdown",
      "metadata": {
        "id": "mncPTypm1l9a"
      },
      "source": [
        "* 두번째 노트북에서 설명드렸던 방식이 바로 one-hot-encoding입니다. 해당 단어가 존재하면 1, 그렇지 않으면 모두 0으로 표시되는 기법입니다. keras를 이용하면 쉽게 구현이 가능하며 texts_to_sequences를 활용해 각 토큰에 고유한 정수를 부여한 후 to_categorical을 활용하면 간단하게 구현이 가능합니다.\n"
      ]
    },
    {
      "cell_type": "code",
      "execution_count": 3,
      "metadata": {
        "colab": {
          "base_uri": "https://localhost:8080/"
        },
        "id": "HxjFrs-c1l9a",
        "outputId": "943c519d-ee17-441a-c4c3-6d76a4cb65c3"
      },
      "outputs": [
        {
          "output_type": "stream",
          "name": "stdout",
          "text": [
            "각 토큰에게 고유의 정수 부여\n",
            "----------------------\n",
            "{'자연어': 1, '처리': 2, '정말': 3, '는': 4, '즐거워': 5, '즐거운': 6, '다': 7, '같이': 8, '해보자': 9}\n",
            " \n",
            "부여된 정수로 표시된 문장1\n",
            "----------------------\n",
            "[1, 2, 4, 3, 3, 5]\n",
            " \n",
            "부여된 정수로 표시된 문장2\n",
            "----------------------\n",
            "[6, 1, 2, 7, 8, 9]\n",
            " \n",
            "문장1의 one-hot-encoding\n",
            "----------------------\n",
            "[[0. 1. 0. 0. 0. 0.]\n",
            " [0. 0. 1. 0. 0. 0.]\n",
            " [0. 0. 0. 0. 1. 0.]\n",
            " [0. 0. 0. 1. 0. 0.]\n",
            " [0. 0. 0. 1. 0. 0.]\n",
            " [0. 0. 0. 0. 0. 1.]]\n",
            " \n",
            "문장2의 one-hot-encoding\n",
            "----------------------\n",
            "[[0. 0. 0. 0. 0. 0. 1. 0. 0. 0.]\n",
            " [0. 1. 0. 0. 0. 0. 0. 0. 0. 0.]\n",
            " [0. 0. 1. 0. 0. 0. 0. 0. 0. 0.]\n",
            " [0. 0. 0. 0. 0. 0. 0. 1. 0. 0.]\n",
            " [0. 0. 0. 0. 0. 0. 0. 0. 1. 0.]\n",
            " [0. 0. 0. 0. 0. 0. 0. 0. 0. 1.]]\n"
          ]
        }
      ],
      "source": [
        "from tensorflow.keras.preprocessing.text import Tokenizer\n",
        "from tensorflow.keras.utils import to_categorical\n",
        "\n",
        "t = Tokenizer()\n",
        "t.fit_on_texts(tokens)\n",
        "print(\"각 토큰에게 고유의 정수 부여\")\n",
        "print(\"----------------------\")\n",
        "print(t.word_index) \n",
        "print(\" \")\n",
        "\n",
        "s1=t.texts_to_sequences(tokens)[0] \n",
        "print(\"부여된 정수로 표시된 문장1\")\n",
        "print(\"----------------------\")\n",
        "print(s1)\n",
        "print(\" \")\n",
        "\n",
        "s2=t.texts_to_sequences(tokens)[1]\n",
        "print(\"부여된 정수로 표시된 문장2\")\n",
        "print(\"----------------------\")\n",
        "print(s2)\n",
        "print(\" \")\n",
        "\n",
        "s1_one_hot = to_categorical(s1)\n",
        "print(\"문장1의 one-hot-encoding\")\n",
        "print(\"----------------------\")\n",
        "print(s1_one_hot)\n",
        "print(\" \")\n",
        "\n",
        "s2_one_hot = to_categorical(s2)\n",
        "print(\"문장2의 one-hot-encoding\")\n",
        "print(\"----------------------\")\n",
        "print(s2_one_hot)"
      ]
    },
    {
      "cell_type": "markdown",
      "metadata": {
        "id": "cJAEnuCt1l9b"
      },
      "source": [
        "* 하지만 이 방식은 vocabulary 크기가 커짐에 따라 많은 공간을 차지하게 되고 벡터가 굉장히 sparse해지기 때문에 모델에게 좋은 특성을 알려주지 못하는 경우가 대부분입니다. "
      ]
    },
    {
      "cell_type": "markdown",
      "metadata": {
        "id": "RexvHzKE1l9b"
      },
      "source": [
        "---"
      ]
    },
    {
      "cell_type": "markdown",
      "metadata": {
        "id": "-moLxbyP1l9b"
      },
      "source": [
        "## 2.Count vectorization"
      ]
    },
    {
      "cell_type": "markdown",
      "metadata": {
        "id": "ojthiSIb1l9c"
      },
      "source": [
        "* 이 방식은 vocabulary를 활용하여 각 문장이 갖고 있는 토큰의 count를 기반으로 문장을 vectorization 해줍니다. 아래 예시를 통해 알아봅시다"
      ]
    },
    {
      "cell_type": "code",
      "execution_count": 4,
      "metadata": {
        "colab": {
          "base_uri": "https://localhost:8080/"
        },
        "id": "YgP9Fjj31l9c",
        "outputId": "d9f089dd-d79d-437c-9c8d-54b4a6bd7af0"
      },
      "outputs": [
        {
          "output_type": "stream",
          "name": "stdout",
          "text": [
            "['같이', '자연어', '정말', '즐거운', '즐거워', '처리', '해보자']\n",
            "[[0 1 2 0 1 1 0]\n",
            " [1 1 0 1 0 1 1]]\n"
          ]
        },
        {
          "output_type": "stream",
          "name": "stderr",
          "text": [
            "/usr/local/lib/python3.7/dist-packages/sklearn/utils/deprecation.py:87: FutureWarning: Function get_feature_names is deprecated; get_feature_names is deprecated in 1.0 and will be removed in 1.2. Please use get_feature_names_out instead.\n",
            "  warnings.warn(msg, category=FutureWarning)\n"
          ]
        }
      ],
      "source": [
        "from sklearn.feature_extraction.text import CountVectorizer\n",
        "vectorizer = CountVectorizer()\n",
        "vectors = vectorizer.fit_transform(tokens) #여러 개의 문장을 넣어줘야 작동합니다!!\n",
        "\n",
        "print(vectorizer.get_feature_names())\n",
        "print(vectors.toarray())"
      ]
    },
    {
      "cell_type": "markdown",
      "metadata": {
        "id": "JPz0f7pA1l9c"
      },
      "source": [
        "<img src=\"data:image/png;base64,iVBORw0KGgoAAAANSUhEUgAAA0EAAAGtCAIAAABfhuheAABQyklEQVR42u3dDbAV1Z3v/SaYkQhoDhpfEKNyDhO4msCUoM8TxSlrLujVTAxR6+BbrnmkFEjKGiO+oiNeBVS4eCulgJaUXDV6uPEleiOBw0y4A+rzCDjhODiagYPvRzRwCCoGE43P3/OXlba7d+/e/b56fz+VSm03+/Tu7t291q9Xr7W636effuoAAADAKv3IcAAAANYhwwEAANiHDAcAAGAfMhwAAIB9yHAAAAD2IcMBAADYhwwHAABgHzIcAACAfchwAAAA9iHDAQAA2IcMBwAAYB8yHAAAgH3IcAAAAPYhwwEAANiHDAcAAGAfMhwAAIB9yHAAbHLaaaetXLly7dq1J510UrpLvv3226+++urbbrvtqquuKnorAaA+MhwAm5DhAECR4QDYhAwHAIoMB8AmZDgAUGQ4ADYhwwGAIsMBsAkZDgAUGQ6ATchwAKDIcAA+19bW1t3d/fDDD0+ePNnzTzt27BgxYsTOnTvlA8OHD9c3t27dumTJks7Ozg0bNsh/trS0TJw48cc//nGtdNXR0bF06dJ169bJcvTD11577ejRo91Le/755yWi6Ttjx4694oorPCtjMtyoUaPk8/fcc4+sUq0Ph8QyXY77nwI//PTTTz/00EPr16/XbRTt7e3+bTRrNXjwYFmIboKUrrLJ5557bmtr65YtW/w7RBY+fvz4U089dcWKFUX/+ADsQ4YD8Lm777576tSpgZFCs4jEF3lh3pk+fbqkMf9ypk2btnDhQvc7EgEl5ZgYZLi/S2OQf2meUKUfe+qpp2688Ub/Aj1fnTzD9evXL3BfeRoCzVpdcMEFZp9o6TpkyBB5J7DhUHbgokWL5K9OP/30jH5TABVGhgPwua1bt7a2tsoLd2ObGjdunAQmE0S0Acnpa5QybWldXV2SYyQGOV8MXibAtbS0SMCaMGHCgQceKG+uWrVqzZo1JnJJoJHlHHPMMfoVsjLz58+XiCOvt2/fLn+iH9O0JOvZ29trliYffuSRR/SrFy9efOmll+qHk2c4+dhFF100atQos41TpkyRbRk7duz69es9S5O1km1ctmyZe+/NnDlzzpw5gbn2oIMOqtVEBwB1keEA/MXkyZMlgrhjkNMXXMaMGeNOG3rX1Z9LnL0tdhJlJGPpO5qNJPSsWLHCRLGI9IvcjVialmT5q1evNvdhlbYjutczeYbzM0nXXXiaDPfcc895tlE/Lyu8efNm9z/p2tL9DkBsZDgAf7F8+fIzzjjD0zikLUkm2Gmkc6c0D0/w8uew6Mw9SnO3Ud/xpExDb1xu3LhR410WGc7Ze4PV3zpY6281GXs6Gupu8Td5AkBEZDgAX6DZwsQgZ28wMpHF3zfOQzOfBhq9YxgS+Nzkw88999ymTZteffXVrVu3So7U8QrubBQ+LtXzr6lkOFmTdevWvf766//6r//6+9//XsdkOF/sEhe+VpqM3Z3/9GZ0yD4EgLrIcAC+wNN/SxOb+7Zp3fYq9weiD73U7w38p6IynGTK888/P3CkhdNIhnN8rW46miGLGVIANA8yHIAvMP23tOVM04m7WU47cgV2hlPudjh/X7pAmp/kS2Wx3/zmN4cNGyZvSr7xJ63wtOQZe5Eww5lebpdccsmxxx67//77Dx48WPaD3kttKMO5e78xmgFAKshwALxML7SRI0dK1PCMwawbyzxBShNPeMcvTz82Q5uv/LkqcD4O/2gDjWXXXXfd7NmzA1cyJMOZzfQMUzDf0lCGc+c2zXO1uvQBQERkOABepsebZI45c+b4Z/2tOy7VnfD0vmH47VTNeZ7iSLOOE3QvNXCUqw4d8ExipyvjyWH6vmfJngxX6y6wfovTYIZzXLPBXXbZZbL33EMiACAGMhyAANowJglm3bp1nkkxnL2d9J0vzg/nnqTN3U4m70vkkqXJ/990000nnHCCf344/ToJhTNmzBg+fLhZVEtLi7zvz3BO34MZZGn6LV1dXXPnztVo5W7M09Yvp28yYVmIvC/vyJI1GjqhGU7b4Zy+CefOPvtsWWf9ls7OzkbHNCgNhbLaGzZsCLkTDQARkeEABNBGI3kReCPScTVl+fnb7ST9nHLKKf6HOphWrsClSZz69a9/HdgfTnKVZEf/Av1frcnM8zGJUBIT6/aHMzvBTYKazm/caIZz9t7Adb4YNAEgHjIcgACmFSqkH5s+SqGzs1NnAGltbZ04caI2pPk/vGPHjiVLlvz85z/XEOP/8PLly3/605962thCxjQMHjzYtL2Ff7V7yTpAQZYWcW4RedOss2l0jDGmQendYU//QgCIhwwHADkJnOwXAOIhwwFAHmo9dAsA4iHDAUAetHddrf6FANAoMhwAZE57wtEIByBFZDgAyIrOJ2L+M3BqYgCIhwwHAFkxGW7s2LF33HEHT0cFkCIyHAAAgH3IcAAAAPYhwwEAANiHDJeHP33y6W9ef3/jGx/07v7T7z/8eOeHH+/+6JOiVwoAgAwN3Ld/y377fHW/fYYM/PKYIwb9zdcHf7l/v6JXqlLIcNl64c3d//xSr6S3T/7MfgYANK/+X+onSe7vRg351rCBRa9LRZDhsvLK9j1PbPzdhlffL3pFAAAokbFHDT5zzNeOPmhA0StiPTJcJp7YuP3nG94tei0AACipc8YefOaYg4peC7uR4dJ3z5qeNf/xe8+bh7fsO+aIQd88fNBX99unZb99Bu7bv+jVBAAgQ7s/+mTnhx///sOPN/Xs/s3r77+18yPPB07+669ecvLQolfTYmS4lM1+6rWX3t7tfmf0sEHfHXPQNw7dr+hVAwCgML/d9uGTG7d3vfmB+81Rhw2cecaRRa+archwafK0wA0e0H/K+KHHHTm46PUCAKAUnn/t/XvX9ry/5y+TM9AaFxsZLjWePnBtB39l6t8efugBf1X0egEAUCLbdv1x8b+8teXdP5h36BsXDxkuHa9s33PDL7aa/5QA94/fOfpLXyp6tQAAKJ8//9n5b798xR3jbv7ecEaqNooMl47/8U9vmGlEBg/of+PfH00LHAAAtWzb9ceb/vcr5qbq2KMG/8N/PqLolbIMGS4FL7y5+/YVr5n/vHzCEfSBAwAg3POvvX/HqjfMf1512pFM/9sQMlwK5BCUA1Ffjx426MrTvl70GgEAYIF5K143I1WPO3Lw5RNoimsAGS6pP33y6ZT/+bJ5lNYN3zmKaUQAAIjit9s+vPmXr+rr/l/qd+9/HckzVaMjwyW17pX3fvrPb+rrw1v2ve2s1qLXCAAAa1z9aLeZ/veyvxt2/NH7F71G1iDDJeWeE+47ow+aPO7gotcIAABrPLzunade2KGvmSuuIWS4pG791Wub3vr8wQzX/Jcjjz2c/pgAAEQldajUpPpa6lCpSYteI2uQ4ZK65tHuN/c2At96Vuuwln2LXiMAAKwhdajUpPpa6tBb6ZIUGRkuqUsf+O3ujz6f3ubuC7/Bw+wBAIhO6lCpSfW11KFSkxa9RtYgwyV1wb3/bl4/OOU/Fb06AABYhpo0HjJcUhx5AAAkQU0aDxkuKY48AACSoCaNhwyXFEceAABJUJPGQ4ZLiiMPAIAkqEnjIcMlxZEHAEAS1KTxkOGS4sgDACAJatJ4yHBJceQBAJAENWk8ZLikOPIAAEiCmjQeMlxSHHkAACRBTRoPGS4pjjwAAJKgJo2HDJcURx4AAElQk8ZDhkuKIw8AgCSoSeMhwyXFkQcAQBLUpPGQ4ZLiyAMAIAlq0njIcElx5AEAkAQ1aTxkuKQ48gAASIKaNB4yXFLWHXmnnXbaypUrk//uaS2n8BW4/fbbr7766rVr15500kmxF9KvX79TTz11xYoVRe0N8fTTT48fP/6222676qqrCtwVJVGlbUku+bGh8jnOw78l+Ymf1t6IvXXmq8tQbpRhHRwLa9KSIMMlVZIjT2usWv/q/pWjlICytHvuuae7u1tet7e3X3vttaNHj/Z8xooMJ4X1nXfe2dnZuXPnzpaWlokTJ/7gBz84/fTT/buuVmW/Y8eOJUuW6N6QJUyePHnGjBnDhw/3fCyjcjD8ZxXuL61VM4UvxL3hWece2UvRP5xwf0bcluXLl99///0bNmzQo12MHTt23Lhx5513XtbhL8+9UTe1yAceeuihjo4OOVN0J5xzzjkXX3zxgQce6FlnMlzCrSDDBSpJTWodMlxSJTnyUsxwUoFJleZ+R7LLk08+6anSMspwdSs2UyvXXQGpkM4991z/+9OmTVu4cKFn1wVW9hLg5Fv8e2P16tWeUEuGiyJhagnfEM/n626L/Ljnn3++HEK1FihXL3fddZcnxJRnb+jPHfIn7lMjPLXUOlNaW1sfffRR96Fe5gyn79dapvtIsCLDRSlga/153WPDcR0eZDirkeGSyuHIc5dNerLpO1FOvCFDhkycOFHKaM/Sav3uWvPJVfgdd9whRZ62Qsk7Elw2b97srs/8y4m+Vp6vc75YoIT/ScQMt3z58jPOOENWW+LahAkTZM23bt36yCOP3HrrrdrSUGuxbtOnT1+0aJHsjXvvvVdqMlnCddddt2zZMnln/fr17k/6y0H/psXYGx7hmxye4fwbqJ+vm+FMfRA920X/k7vvvnvq1KnyM0lQ9rdu1to/gTwbXjfD6c6UmHLLLbeMGjXKJJWurq6XXnrp+uuv7+7ulp979uzZ8TbNTY/quqGhob0RXk97jsaQ1CJHtewEPVOOP/54/V7ZCXPnzvUf6v7jPOKmheyNKIHDcZ0UGWW4GMVX+J9YneHMpsmJ4F5Udhd4ZLh4yHBJlTnD6Zn88MMPT5482bO0wN9dEttBBx3kj2szZ86cM2dOYJGXeobzcJd3gbul1h9qa+LGjRs9DWa1Sjd/2aR1m3juuefce0N2ptRtnr2aT4Zra2uTYFGZDGcii6Rq2c9Lly6NVz3ocdtQhpOMMmbMmJBj1TTBbt++3f3rZ5fh0tobTt/BL+scMcPp2R24OXqou0+iMme4WvxHQkYZLjxEmk3OIcN5+M/0ugshw9mCDJdUbhnOffLoO+3t7e4GtsA/XLduXWD7mflP92L1lsrixYsvvfRS93KkPhsxYsSQIUO2bNniWY4/w9VdKzctXqXe6u3tDfxAvAyn8ctzz9T9h1v6uNfBXzZpnerJambhns2sleFCNq3RvaGxQ1489dRT2qUvsPJLnuE8izLf4g/EtdT6E9l1PT09L7744urVq00nRXn90ksv6b083bEnnnji/vvvH72qCKyiwjNclLtp4Yk2+t5w9qYWz5mV0d5wgs6akO0NOY/8e6BWhvMXGo3uDc8HUuwP11CGa6j48vxJ9TKce2/4q6F0keHiIcMlVUiG01IpvAaqFchCMpzeOuzu7vbfx/H/k7+IibJWHlq4hBRD8TJceA2t62n+sFZlr40QnmYYNW7cOKlx3YnWXw7W3bRG94b54caOHSsfkLXKJ8M5eyvdhsoKz5/oZYD7LrYOELn55pt198rK3HLLLZ4qsFYK95g5c6YcnJ7gG6Udzn9P3KjVDhdvb3hO4Uz3hvYi8ETMuu1wgZE0SjtcjKq97p8UkuFiFF8x/sRp8F5q3aVllOH8m0aGKycyXFKFZDjNZ/4mIkOqqFNOOeX444/3n94hJaC22wU2AvnLQf9y6q6VX3iDmVa0ta6Ms85wIXtD6zb3V/vLwfBNa3RvmJ55EydOlBo38DMZ3Ut1+u7hyv+7M2td/j+Rhd96661yTB533HEnnniiZ3Sw2QOyz9esWSPRSseK1u0Wpt8lu8WzQzLqDxdvb/gvgbLbG/JdnZ2dntULOSP0n2L3hwu58Iu+N9z0znj+GS5G8VXrTyRG33jjjToWSm9Hug/C/DOc3lKo1fAZuA7+TSPDlRMZLqlCMlz4dZUGOKmctLUmcGm1Mpz8f2CJECXDha9VLSEtbVqOyIYE1pdZ30utuzc8b/rLwZBNi743pEq74YYbpM7TG23Dhg3T9iH/qMnsxqWG7IpaYvxJPHqQ+Nc5u3GpMTbNc9mQHT3y/cdAduNSY2xa+J9oO6L7rA88gFPPcDGKr8A/0YTq+aQ7DOV/L1VXqVZ5GLgQ/6aR4cqJDJdUIRkuhFxyXXvttbUCnJNlhstow+VF4CW75zrVUwwlH9OQPMMlJ5WrNgi5JzSRenrs2LHa8/2WW24xdUP55xZJnd6U1PbmwHaLMs8PlwXTBVaHk3v+1Yr54czvaHJPxAxXhrlFdMlyYv70pz/VtlXZpRKhZK+aQiznDGdu3Ne6GPZMBRDed4UMVzZkuKTKk+FMH5rwea2yu5eaLr2RKgXKPffc479T5tTLcMnnFkl4LzU5KXxPOOEET4Az/6Stce5BxKV9TkPEgYe1hBxj7g5b8TJc/rLbG+5bZoG5p/zPaXAPzvUPkFdlnh/O34PQ2VuUmfvynsyUdYYzY7Nq3Skmw1mNDJdUGTKc5BW57JPPSKn34IMPBvat8Swt8HcP6aeiZVP4mIbUt1pbFFatWiWlj3+t4s3x689DMcY0tLW19fYx72RUt2krUWAilxi3YMGCAw44wBS4xT5BKERGqUUP11q9fErbppjR3tCjvVbn0ZBe/BG/V/dkphnOPfJaDnvtjee/nxCe4aKUSNmdKbUa792zvTSU4ep+Y/jP4W6oDuwo6UQuu8hw5USGS6oMGU7KvrPOOuuSSy7x3/toiFYD/qIt4twiKdJrR7Mm/vmuIq6A51lbgU/KanRukcCRFmWY67xuzRTxwQAlzD1+4V18nBo/a0OpxaOE4djQMzcw8aiQXvz+D8uZIrW+vpZzX/vmZ53hzD1H/U1NS7NslIQ59zlbgQyX25gGvRDV3077YFxzzTWerSbDWY0Ml1QZMpwR/RK/1hy/ktXkhecWhtaXdef4TYsZk2EGxGls8rS4ZP3MezN/feAEe3Xn+M2IVHVmoKK+ozXucccdJwk+fGxgGTJcxHUIqV/lKP3Rj34kNVP4mF8rMlzyvWE2KiTAOY2klvAjOYvj3Dz+xPni/CnuDgOSPMwFapkzXMR7qfGel9rozteM7h5brdelntUjw1mNDJdUlTKc43vWlhSvS5YsmTNnTpRnbaVCA5y88DxuyN8qlnWGc/ZOneXeG1rZ+HsH55DhZM9MmTLF8/BWj8C5MFLZFWlJmFpMa03dLW10Wwq5E51wb8g6X3755XJIyLH3s5/9LKQNvswZzgRrfyh3P7C47kP2ypDh/GMali9ffsEFF8QY05Bw55umWc8MiFJ+dnZ2uvuTkOGsRoZLqoQZLmHZpJeS7ncCn/KeRYbTcifw6xxf/6eI91LjTcevCn/mvZuOtJVvueyyy0aOHOkOuLKZL7744rXXXitVRcgEV2Voh4sicE4W9wgPqenrTuLV6HMaStubsNYMNeY8jRLc42W4wGvCLI5zOcsmTZpU67EN8lO++uqrJt6VOcM56c0t4hf9w2Y6SX/TrJZpch49+eSTemqQ4axGhkuqhBmu7gLrnrFSaN5zzz0620J7e7uEA3+iyiLD6ZRdUsDVeoqRlE1ShWuNlVaGq7tKS5Ys0b1Rq0edk32G0w0Jv3tYd3LUMmS4JC1PEvF/8YtfzJkzJ8p0slZkuCR7o6urSzbQM39sLSXPcA2JNy7VvSez/q09c/zKRZd7nFkOGU6PjVpNs1rMXnTRRRoryXBWI8MlVckMF32tCjx+8slwEWWd4bRLTfIMV3gFnEoPsCgqn+EaUuZ7qY0qf4YLF57hIh4SgeKVxmQ4q5HhkiphhsunbKoboUw3l4yOMbsynInXsQvBuvdS582b193dHX4vNZUKWKuZeHs1txCQ/Jn3VdobuWU4PSsz3ajkV4/Ru1g4GRRfZLhAZLh4yHBJlTDDRVlm8trLogwXZWkJa50cMtzWrVvb29vDxzSE/6wRq4e6uyJhaon4yYS1RZQM1zx7gwzX6N4oKsPljwxnNTJcUmS4kM90dHQsXbo0oxLKrgzn7J2sJOEZl8PcIlF2RVtbm/yyMUrz6mU4K/ZGnvdSp0+fftRRR2XX8p1PhnMyK77IcIHIcPGQ4ZIqVYbLU92SVAdAjRs3LqQLV6YrkKeIdVvgPOnW0eHDgc/zKI/cntNgxd5I695x3eNc5waKMnA4tnwyXNbFlyLDGWS4eMhwSTVthqtLn98aPm1V89Aq4d5776015NYiUj1/73vfy66Stgt7w02i865du5JMUlgSFF8eZLhyIsMllVuG09eFX7QBAJqEp9cBGa5syHBJkeEAAJVEhis5MlxSHHkAACRBTRoPGS4pjjwAAJKgJo2HDJcURx4AAElQk8ZDhkuKIw8AgCSoSeMhwyXFkQcAQBLUpPGQ4ZLiyAMAIAlq0njIcElx5AEAkAQ1aTxkuKQ48gAASIKaNB4yXFIceQAAJEFNGg8ZLimOPAAAkqAmjYcMlxRHHgAASVCTxkOGS4ojDwCAJKhJ4yHDJcWRBwBAEtSk8ZDhkuLIAwAgCWrSeMhwSXHkAQCQBDVpPGS4pDjyAABIgpo0HjJcUhx5AAAkQU0aDxkuKY48AACSoCaNhwyXFEceAABJUJPGQ4ZLiiMPAIAkqEnjIcMlxZEHAEAS1KTxkOGS4sgDACAJatJ4yHBJceQBAJAENWk8ZLikLn3gt7s/+kRf333hNwbu27/oNQIAwBpSh0pNqq+lDpWatOg1sgYZLqlrHu1+c+dH+vrWs1qHtexb9BoBAGANqUOlJtXXUodKTVr0GlmDDJfUrb96bdNbu/X1Nf/lyGMPH1j0GgEAYA2pQ6Um1ddSh0pNWvQaWYMMl9Q9a3rW/Mfv9fUZ3zrw3OMPKXqNAACwRsf6d3/ZtV1fn/zXX73k5KFFr5E1yHBJrXvlvZ/+85v6+vCWfW+jERgAgMiufrT7rb1dki77u2HHH71/0WtkDTJcUn/65NMp//PlT/78+W684TtHfePQ/YpeKQAALPDbbR/e/MtX9XX/L/W797+O/HL/fkWvlDXIcCm4Y9Ubz7/2vr4ePWzQlad9veg1AgDAAvNWvN715gf6+rgjB18+4Yii18gmZLgUvPDm7ttXvGb+Uw5BORCLXikAAErt+dfev2PVG+Y/rzrtyG8NY1xgA8hw6fgf//TGhlc/b4obPKD/jX9/9KEH/FXRKwUAQElt2/XHm/73K+/v+XyC1bFHDf6H/0wjXGPIcOl4ZfueG36x1fxn28Ff+cfvHP2lLxW9WgAAlM+f/+z8t1++suXdP5h3bv7e8KMPGlD0elmGDJeaJzZu//mGd81/Soyb+reH0xoHAIDbtl1/XPwvb7kD3DljDz5zzEFFr5d9yHBpcs8V5/TdVJ0yfih94wAAUM+/9v69a3vMLVSHOeESIMOlbPZTr7309m73O6OHDfrumIOYcAQA0Mx+u+3DJzduN6NQ1ajDBs48gwczxESGS5+nNU4d3rLv33x98LFDB351v31a9ttn4L79i15NAAAytPujT3Z++PHvP/z43976YOMbH5iJfA1a4BIiw2XC0zcOAAC40QcuOTJcVl7ZvueJjb8zE44AAACnbxqRM8d8jVGoyZHhsvXCm7v/+aXejW98YB7GBQBAE+r/pX5jjhj0d6OGMJFvWshwefjTJ5/+5vX3Jcn17v7T7z/8eOeHH+/+6JPkiwUAoLQG7tu/Zb99vrrfPkMGflnS2998fTDPQk0XGQ4AAMA+ZDgAAAD7kOEAAADsQ4YDAACwDxkOAADAPmQ4AAAA+5DhAAAA7EOGAwAAsA8ZDgAAwD5kOAAAAPuQ4QAAAOxDhgMAALAPGQ4AAMA+ZDgAAAD7kOEAAADsQ4YDAACwDxkOAADAPmQ4AAAA+5DhAAAA7EOGAwAAsA8ZDgAAwD5kOAAAAPuQ4QAAAOxDhgMAALAPGQ4AAMA+ZDgAAAD7kOEAAADsQ4YDAACwDxkOAADAPmQ4AAAA+5DhAAAA7EOGAwAAsA8ZDgAAwD5kOAAAAPuQ4QAAAOxDhgMAALAPGQ4AAMA+ZDgAAAD7kOEAAADsQ4YDAACwDxkOAADAPmQ4AAAA+5DhAAAA7EOGAwAAsA8ZDgAAwD5kOAAAAPuQ4QAAAOxDhgMAALAPGQ4AAMA+ZDgAAAD7kOEAAADsQ4YDAACwDxkOAADAPmQ4AAAA+5DhAAAA7EOGAwAAsA8ZDgAAwD5kOAAAAPuQ4QAAAOxDhgMAALAPGQ4AAMA+ZDgAAAD7kOEAAADsQ4YDAACwDxkOAADAPmQ4AAAA+5DhAAAA7EOGAwAAsA8ZDgAAwD5kOAAAAPuQ4QAAAOxDhgMAALAPGQ4AAMA+ZDgAAAD7kOEAAADsQ4YDAACwDxkOAADAPmQ4AAAA+5DhAAAA7EOGAwAAsA8ZDgAAwD5kOAAAAPuQ4QAAAOxDhgMAALAPGQ4AAMA+ZDgAAAD7kOEAAADsQ4YDAACwDxkOAADAPmQ4AAAA+5DhAAAA7EOGAwAAsA8ZDgAAwD5kOAAAAPuQ4QAAAOxDhgMAALAPGQ4AAMA+ZDgAAAD7kOEAAADsQ4YDAACwDxkOAKx02mmnrVy5srRleL9+/U499dQVK1YUvplPP/30+PHjb7vttquuuiqLP0++pQnXMMTtt99+9dVXr1279qSTTkp3ySmudhabL4eN/L/+KGU4UzJaBzIcAKRD68von09Ys0apFXbs2LFq1aqlS5euW7du586d+qYEjuOOO+7iiy8ePnx4dnsjSrLp6OiQdZOtkNetra0TJ0689NJLR48eHX0zt27dOn/+fFmObJ0s4ZJLLpHtOvDAA92fIcM1eqTJFtX6J/dKRlntrq6uuXPnLlu2zOn7ieUH8n84yebXOjzIcACABiTPcFrQ1/q8p5KrWytI9XnWWWd1d3dHXGBdWteGf8asT91kM3369EWLFvnff/jhhydPnhxlM2UDTznlFJNN1dixY+VL3TGuqAwX/mu6f/0YaxgSs9wLLzbDLV++/IwzzvC82d7eLpm7oT0cImGGi7J/Qv48/Fdw/xBkOAAokSFDhsydO/fSSy8N+cyOHTtOOOEESVHXXXfd7Nmz6y4zeq3v1KsV5KtHjBgh+UbixWWXXTZy5EjT6iZV5rPPPnvrrbfKvz711FOnn356xE1OMcPNnDlzzpw5krduuukmXQEJZHfffXdgqnMv1q2trU327bRp02bMmCFbJ6t3+eWXb9iwwbO3G40IUbK4e9Oql+ECya8zderUjRs3mobS8NU2R6B8QBtHzQ/k+RMyXCA9vMP/JNsMV6qb5bEP5Rwa0jPtspCF5Cuc3SYnP1qyu6+RirR2XVrdlZqTHiTu+sxv69at7e3tUmO1tLRITSbB4ic/+YnnNl9E2p7RUIbTGjfkMNZGrNbW1vXr1yfZCbUOxZADTGr3gw46SL76ueee8+yQWvnJv5kdHR3nnnuup1HHhGbhzqyFZLjw5SfPcFG+NMWSVo63LX3MO+GrrTHd869yUkhwlxebN282P31Dm1/319Hdkk+G8/8otbYiRoZzb0LNbyw8w2lvhs7OTm3wl70/adIkz6Vt3eXIB+6880694y7HxxVXXOFuilcVy3CpZ6DwS0bni03otb49/Oxyf76h9Y940urrWr9XeBNCo508POpejdVa2xjq7jpZ/4ceekh7CDl9Z8Q555zj7yREhktC6qdFixb19vZ63ped/9577z3zzDNSpkl6k3emTZt28803y/ml/ymZQ5LTMcccM3To0Ojd0fRH9xTX4bVCupVToNgZTuOX556p0sYbeX/hwoXhKymfkTLfndXcC1+8eLGpR8rWH87GDBe4hp5C1bM+bW1tvX0CV8n965Phan2vk0WGi16h1v1hAnszOL4ODeHL0TPW86aUm6YIcK92nhkuvF5373kyXJSNDfmA7RkufAM9nw/fdYGng9PXm/jRRx91NxqR4ZIYN26c7FJ3C5D/R3TfKJRosmTJEr196f6MP4JE/DonWjtcyD3cAtvhwo9hT9VVazOHDBkSuPLayOeuAshwCWsK2aXyK8ih62k3DclwW7dulV/HXxEH/lOB41Kj92G1NcOZH8lzfz3kTyJmOG1T1ZvlZ599thRkOoTq+uuvD+yEG7gcPRrkhVx1yULk8JJibvr06f5+HtEP5bQa0u3KcP6VDykgwjOc/31/WZ9k/cNPhvAMF3gUeU68VAoUrUFbWlo2bNhQt5IOP+Q8axKy6/R0kC+VwvH444/X7zXjwuR0c1d4np/Yf6ajFt3P7pYeZ28DUmsfyUYTJkwI/N21L9qvf/3rdevWuVub6n6dv9Uq//5wHnqQe/aDkXWGk+X7e8criXdy/Ne9rotIb2Q3c4bT0Se1CvbA1dZ/inhsxPuB3CNepXCbMmWK+7vyz3CyPmPGjKl1TJYowwXugsDlRLlZ7v+NTdHj+XzgcvTY8ixEd6WUeu479/lnuJAfxvNbli3DaZ1R2gwX3tOzDBnOBDid72Dp0qXxfiZtUYie4fScCvwnvfHk7r9FhrOFlHJSK7j7D6n8x6X6V0yK38C2Fif7e6l12zzS2lg9rdyb6V9+hTOc/sqBP1bdDBexjTbG5te9/5b/vVRdJU/waHQhjWogw9XqvRs7w0lNLP8fuLW6THOXIWQ5Q/r4F6KHnXudy9MfrvwZTiOIvNi+fbtWG4G5NnmGMx+IfvZqQJcXpv0g8CZp8gxn/jXKjyupt6en58UXX1y9enVnZ6dENwlw8vqll17SgkZObLk+O/HEE/fff//oP1lgORjy0zdUVNXKcOH99JEz93Eb2LRf1Pxw5mK7VqXlWVv3KZbKmIZ8Mpy7TcFUSREzXNbjUqNnuFrfG06KNalJZRMCA5xTXIbTH0VezJ07V++/mRGvZlXzz3Dm5w7sIOE5GNLqxxKpP5yeiuE9Z2NkuJBD0PPz11qOVueBHT609dt95FUyw0X5ZKPB311mmcua8mQ4cyaYTpPFZjh/s7GkNznqbr75Zq2cZGm33HKLpyiv1XThEdhxvm47XGAIq9sO59Q70xGibnfSECEHv46ylBeadWJkuOzolZ6UsbVa1EIynJPG3CL53EvVE0fb1GsVBUXNLZJdhjPdN+X1gw8+WOtue1H3UgNv4uvJIr+U9hjx7/xMM5ymEdmEe+65Z+LEif7ivcgMF9Jg5gTVDUbWGS7kKDE7tG43/LpS7wxR5gynfVd1giUdWBdYOhd1L1WbV6Xcl5PEc3fD81153kuVbZHCTuqM44477sQTTwws7+SKdt26dWvWrJHyRfZqxJ7scur5i4OQXadrHq8/nFPvTEeILDKcORlrtYwWOPu8XrpoTpKzUsoK/2ETb45f/wy9jY5p0K4g7ngXO8OZThGrV6/Wu9KBZU54hovyA5XnXqr8sgsWLJDfRTKr7MO77rorZDackNUOGdOgtXOSMQ21Wo70wkDfbyjDRfnS8N9Rvk5K+M2bN69atUquavwlfJFz/IZ3rNPOSY3eLHfSuJdat7XW/2aMDJd6Z4hUMlwWzHRWWoy++eabOmrYv+dzHpfq9JUsN9xwg5QsWp4OGzZMqzd/KVPIuNQsaO+K6EHZ/Vf+96OMS43ShRb5MAGu1m0sp0atkCRNRj8f9dJdP6+j06655hrP+RLjWVuBT8pqdG4RfyNNvDNaS35n73MjzCwKOlmMeyWrlOGcvmwtv+n111+fsD7SuUX8/TgTzi3iRM5wTl5jGjxzMY4bN0422fPTlPQ5DaZeDGkRcb/jPpKSj2nIIcMl6QyR6bjUdLknPnBfB5snpcgGuk/pnDOcFPQ6WlkDnAYRM65Ziv5bbrmlbnFgV4Zzt3ME1srMD1dOqVQJEhemTJkSHuCc4jKcXie4O7H4Z/B3sn/mva6G5ytMiZ1kjl/Tucr54oO/TIzzlDkVy3Ce9a/7sVqrrV/t+Vfdh06COX6dyPdSnVjPS200bPnn6NGGRs/qlTTDyUHc2dk5d+5c2aH+66HwDJd8bpEc7qUm6QxhUYYzAwX8NzJMseXexjyf02AmXncHOPNP2lYh/2RKhDyf0xDl0UMhQs4+dxeFRjNcRGS4LCTMcHo1JUvQG+IhAc5pvFZIpZzR5OS5L+/srQvcZ2jWGc7pa/DQxvg5c+a4n7XlaVNotEwwZ5w/Q5vy0F3mFJXhwj+gSysww/mftbV8+fLLLrtMCvOEz9ryj2nwX/bkk+FMJPXMIWV6i5rjp4wZzr3fAzvuxJ7j13PmxBjT4J+qO8ahnLAzRPQiLPq6NTSXrEf4bz1z5swDDjig1kx+06dPj9IOlxE58++///7Anhnae8O95nm2omWU4QJnzDECd35DT1vXvyXDFaXWnSA5nL773e9qM4/nxnegRp/TkNY0E/4rPWfvBZUUkk8++aQuP8oBlrBHeUbPvNdeJXfccUfgWmm/Dvl1zOlZ7QyXMCToIe1+01+NFji3SJKt1nXwNy4oTzFeugynrSPmbnfg4/xiPGtLzpwf//jH0ScSrDW3iH+kRaOHcvLOEHZluIbUXeGI61nI81ITXlxmLXzOLafGzq/VDU7Kl+OPP15fyzmrt4fIcNlJ2A4nv/5RRx3lv/EdKP8MJ8WgLOFnP/tZ4OrJAXb++edfdNFFegWeVoYLpzWI9hyo1aMu6+u6eONSla5VdmuYQztc+MLdM/HqD1RrEGvCOX7POecc95/nkOH0gJfVrnW5JaezlMDaxlS6DKc1jXuObzlvpYZwz/eTwzPvdTUCG2Zjz/GbVmeILDJcbuTofOSRR+TyQgdR6puy4W1tbZMmTdLm65A/zzrDSZFtxnjqOxpWosx6lVGGi7jJ4RNJ/OhHP5IiKXzmkYYSf8gRSIbLQnaT/vjln+Eakk+Gi4IMV2CGiyL/Z23lM/THsz4lynCanDw3MU2PQtOOnUOGc3eq08sv86wtzw3Z6IdyWp0h7M1wy5cvv+CCC/z3uI0onXUy2mTT7yHkMyHPiIwi3nGbMMOZ47buypPhyizPczn5M+8zRYYrwxoWey+1wM0nwwUzvchrzfuiAzSWLVumPUyj/DB1T4Ccn3mfVmeITDNcdmWficWyD88777xRo0aZJjfZ9pdeeulXv/qV3mUOmeQsu3Y47cXsfwSk03ecvPjii9dee60/wbsVeC81cGZ596CNKMk4XoYL7LpHhktd9Ha45Ds/SoaLspyMwk30DJf1SpLhMm2HcxI3Khf4zPvclCXDOXtvY9W616PNJPfee6+knLQyXF3yRXfeeae5L37FFVdEn5Y2hZ0Ya1yq0vUpVYbzT97jF2Xe4yjf1ej66xEVfqtRH+MTckSV8F6qnFO/+MUvdGxd3SWQ4cqMDGeQ4cqwhmQ4hwwXW24ZLgoyXET+QdF+qT+7IiL/BN9+ETNc+udS4v5wEXEvFaoMNVOI8hxgZLjydNTJefNVGc4UMlxS+We4TNet2Hup+iSW8HupGf2mde+lzps3r9aDQ1R2GS6fGosMBwBwypPhIi4wydpWMsNF+WSMTQ6c1MetpaUl5EHITuTfNMZ+Mw8EC/lM+CGX0Q2C6IdxwoOQDAcAcMhwqahehnPymlsk9n7LYW4RhwwHACixUmS4fFQsw6FppXW0kOEAwGrZZjgAQAyPrelpHTpwdNsBRa8IgPIiwwFA6XS/tXvGok0XTjzi+ycPLXpdAJQUGQ4Aymhb755ZS1/+9jFDfnDq14teFwBlRIYDgJL64A8fz7rvZXkxf/qxRa8LgNIhwwFAqUmM27Zzz+KfjCl6RdCAx9b0TBx38KCv7FP0iqDKyHAAUHaLnnilq3vXrItGHjpkQNHrgkimLth4ZfuI1sMHFr0iqDIyHPBZ//HH1vZcOXlE0SsC1PTYmp4HOt+YP+1YYoEVJHYf0rJvkw9J+eAPH8tBW/L9sHL9O4e2DLB0DDgZDs2ua8uuecs2XzjxiFPHHVL0ugBh5FidsWjTrB+OPPHYA5MvrWzuX/l6lUZvPLNpx6r1v5Mfq+gVKYakt87173ZueFfi0dQzjypt+7FcGslK2tvCTYZDHuRCp23ooBK2H8gJ/NjanmlnHl3JShHVU+E5RyZc8cyq/35i0WuRmm29e6Yt6Hr8lhOKXpG8SXrr6t616IlXJL1J0VrCYt/Q8n/+tGMtDXAOGS4J+fkHfqU/jTd1Sa1z49KXynaeSEEjpUx3z257r8DQnKo650jFMpyUMJOuf65KWxRF15Zdi558ZdCAfUqe3hz7W+AUGS4+iSbzlm0e3XqAHKxFr0upzVi46dvHDilVs4EUr/M7tny2bpPbGDgG61RyzpGKZTinyYY1mPQ26eTDyn9bY+X6dx7ofOOmi0bZ/uuQ4ZKa17GZtpwQcq3z7KbeUtU02i44cezBFWvGQLPRwmf+tGOrcR1SvQzXJMMaJL09vvbtbTv3SKFqxXQqlQlwTjUy3P0rX5fjpsAIpePFZkxuK//FR8629e6ZsWhTqU6VZzbtkIKVEQyohirNOVK9DCdZ4YXu9yo84F2uhzs3vCuF6vfHD7UivTl7B7FVpg90FTKclGIf/OHjYs8TmnYCzevYLJeh5dknjGBA9VRmzpHqZTitFx6cObboFUmfThpiV3pz9v4iVaoCqpDhtOvoAzOPK/ZKVLtYbdu5pzK3NhLSFq/FPxlThr3BCAZUWDXmHKlehpNi58LZz1dsaKpJbxPHHvz9k4eWoXiPqHoBzqlGhnPK0RSn7l/5+uNr35agYOmEgWmRn0MqlWnfPboM+yH6CAYejwNLVWDOkeplOKdawxpMepMMNGn8YXZdDFcywDmVyXAlaYpTWpjKIV6ee4j5k1Qt/1+GEbvRb3OXcPgFEJ1eONk750glM1w1hjWYCXutmDTEr6oBzqlMhnPK1BTnuEb+z/rhyCZs1NFB5mW4pxx9BIPe9aABFVazes6RSmY4uTLs7tldkoopBjmiJADZMuVbIJ0FbNL4wyo5jq06Ga5UTXFK76tWoK9xQ7QWmTDua4WfMLL/5cLxyvYRUWKZfHj3nk/K0HAIJGTpnCOVzHB6Qbv4J2OKXpH4K29venP2zo1Q4YkIqpPhnJI1xSk5B2YtfdnqTiqNkjC0tefDYp8SqCMY3un9aMbktiiZXs/zsj1JAohNjv9nNu0o1bQ+dVUyw1k6rMGuCXtrqXyAcyqW4UrYFOfs7aRyaMuAZnj4cRkmhNMRDIcM2VdO3YjtEGWbAwVIzro5RyqZ4cQFszdYFKatm7C3Ftu7h0ZUqQznlLIpzqxYV/euygxQqmXGwk3fat2/wHNG+65+f/zQ6A2fOuVjSeZAAVJk15wjVc1wtgxrsHHC3lqaJMA51ctw5WyKU3JuzLrv5WlnHl3+kzkeHddZ4DAOncK30ZZzyZ1l6L0HZMGiOUeqmuHK39fW0gl7QzZHb8WUeZ+npWoZzilxU5yzd4DM6NYDqndsyT7XmZCKGtfZ0AgGg/lEUHm2tElUNcNJNnp8zdvlLGTsnbA3ZIuaJ8A5lcxwZW6KU1V6xKExr2OznP+FnDaNjmBw/2GxuRPIhxVzjlQ1w5VzWIOslVzBynXv6NYDLpx4RDUqo2YLcE4lM5xT7qY4JSePrKQt/VTqKvCxWtt698hJ23r4wOgjGIwyDKEFclPyOUeqmuGcvmEN5Rn2rhP2Pra259CWAfZOGhK4Xc0W4JyqZrjyN8U5e3vfS4az/YDTOzUSofLPozoAXu8CNPq3zCeCJqRdDso5TLLCGa48wxoqMOVboBjTEVRDNTOcY0NTnJp138vbdu6x+r5qUT12dQRD7MenMJ8ImtPK9e8sfuLVEs45UuEMJ4Wk/H+xpU1V05uztzuN0/d0x6YKcE6FM5wVTXFKp3GaMbnNxvuqRU3MkXCuFuYTQTMr55wjFc5wz2zasWr974rqtlGNCXtDyAW505QBzqlwhnPsaYpzGnkue6loR+lvHzskz3sEZgRDkklMZizclPNqA6VSwjlHKpzhihrWoBP2bun5oBqThgSSAJewOrBalTOcRU1xzt7b+dt27iltj2O/x9b0vND9Xp4Xl0lGMBhlHuoP5KZsc45UOMM5uQ9rqNKEvSH0hoxFlWbqqpzhHKua4tT9K1+Xy6ZZF40s/2wX+T9WK8kIBoP5RACjVHOOVDvDzevY3Dp0YA6tnhWbsDeEVJfPvtjbzAHOqXyGs6spTpXwHkcgKfqHD90vtyv4hCMYDOYTATxKMudItTNcDsMaqjdhbwid3K7wg7ZwFc9wjoVNcU7JLo4D5Xn+aMGUytNm8287BKxQhjlHqp3hMh3WUMkJe0MQ4IzqZzgbm+KUpE857UsYOPK8HandBD8LtWl0WZVdOnBA/5L0/gFKRUobOdcK7MhR7QyX0bAGWaz8cHKVW7EJe0NogLN6Qq4UVT/DOXY2xSmdAkDOzFLdVzUz8WT9RebxsqlM2yg7c9bSlyXNc+kGBCp2zpFqZzgng2ENFZ7yrRbtVMPc7EZTZDh7m+Kcvtt/kjxahw4sSQbN7bFaOoXb98cPTSu/Mp8IUJfOc5TieRdd5TPcvI7N32rd/9RxhyRflElvcn3bPMOzaIHza4oM59jcFGfWP5UOYQnl9littEYwGDqfSNPOIQREp6f56NYDcn74SuUzXCrDGiS9PdD5xgd7Pp40/rBU4qAtVq5/Rza8hJ2LitUsGc7qpjglR/D8ji0zJrcVeN7mMKjTjGBI8WJL66Rp3z26eS5YgYRmLNzk5DusqvIZLuGwhmaYsLcWAlwtzZLhHPub4hxX/7D8H07q7L3Jkuld1HRHMBjMJwLEkPMEqpXPcLGHNWzr3SPprRmmfAuk/WqY1DNQE2W4CjTFKZ3MKf8+AVn3J0t3BIOho2i5gANiyHPOkcpnOKfxYQ3NM2FvLRrgUuxXUzFNlOGcSjTFqcfW9MiJPWNyW26HtXzjs5t6s7uxkvoIBiO3UbRAJeU250gzZLhZ9738fx/bEqU/TFNN2FuL3vwhwIVorgxXmaY4Z+/BLUd2Dukk66lxUx/BYGg0zGEULVBh+cw50gwZLsqwBjNhb9vQQVPPPKoCtVU8BLgomivDORVqinP29h7btnNP1vdVs3usVhYjGNyYTwRIRQ5zjjRDhgsf1iDloRSGUkk1z4S9tRDgImq6DFelpjil91Wzu9Ohk4Bn0a85oxEM7jXPZyo7oBlkPedIM2S4kGENTThhby0a4C6ceERTTZ4ST9NlOKevNfudnR9VoylOyREvZeuk8Yel3lSmJU4WAdHcC053BIN7zZlPBEhddnOONEOGc4KGNTTnhL216OC2Zpv9LrZmzHDVa4rTjZp138vyIt02rYwGBGQ3gsF4bE3PC93vMZ8IkLqM5hxpkgwnIXjSyYfpLUIzYa8OXCh61Yqnfa9pgYuuGTOcU8WmOLNdj699W8rWVJriMxoQkN0IBoP5RIBMpVvUqCbJcDqsQUo/KQaf3dQreaU5Jw3x0wBXyHPe7NWkGa6STXFKn+wu5ULC0yCLx2plPYLBYD4RIGta1KTY0aJJMtxT/9+2//Xrtz759NOmnfItkNY43z5mSBaD5yqsSTOcU92mOGfvyTBowD5J+qyk/myDrEcwGHoxx1AGIGvdb+2eumBjWg8ArHyG04vYp/9tx64P/tRx4zgKKKOoR/RWQPNmuAo3xSnts3Jl+4gYNzt0wEFD84lHWWB2IxjcZizc9K3W/bmYA3KQ4pwjFc5wZsJeKQMnjT9s2oKuRT8ZXdWqp1F6eX/IkH0JcDE0b4ZzKt0Up3RmTjkxGi1e051WTfvV5dNNlflEgJyl1YhSyQynE/Y++2LvoS0DpAzUK2opYBmCqghwCTV1hqt8U5yzd5x269CB0aNquo/VymEEg6F1CYPSgfwln3OkYhkuZMJeeXPggP7cKyDAJdfUGc5pgqY4pfdVo4wkSPGxWrmNYDCYTwQoUMI5R6qU4cIn7A1/WkOTMAEuhw42FdbsGa4ZmuKU5BspYev2Pp7XsfmQln2TXyDmNoLB/Y0ZTUcMIKIkc45UI8OZ9GYmgfMLeVpDk9AKYuBX+kvGJcAl0ewZzmmapjjHNbCgVsN1Wp3J8hzBYMjvuHvPJ7TJA8WKPeeI7RnOPWFv3UlDtO2gOeOLBDgz/VNz7oEUkeGaqClOzbrv5W079/jvb6b1cKo8RzAYzCcClEe8OUfszXCyvZ0b3u1c/270CXubeVjDvI7Nu//wiRweFNfJkeE+0zxNceqxNT1yvSinkLupP5V5cfMcweCW1i1gAKnQxviJYw+OflbamOHMpCGNTtgr5a0UWU34QAIpq9/p/Si3PjaVR4b7TLM1xTm+Ejb5Y7XyH8FgMJ8IUELatB99ULxdGc6kN33UaaOFT3MOa7h/5evPvtib+pN2mxkZ7nPN1hTn7O1Vum3nnpt+OGrew5snjPta7Luf+Y9gcJuxcFOSlQeQnVn3vfxZ+RBhzhFbMpxnwt54l6xNOKyBAJcFMtznmrApTsl5tezXb/31EYPu+PE34y2hkBEMRrqz2QFIXcQ5R8qf4aSa6Fz/7mNre/xTvsXQVMMapKDu3PAuAS51ZLi/aMKmOKdvNMA/3Plvf9jzyVl/OzRGf7JCRjAYzCcCWCHKnCNlznA6Ye8DnW/UmvIthuYZ1kCAyw4Z7i+asylOny76/ZOHzrrvZafBadaLGsFgNGfsBmxUd86R0ma48Al7Y2uSYQ0a4PLvJ90kyHBf0GyZQG9Emk5sUqZ0rn83yvycOsFPd8/uAs9MnU9E1paiAbBC91u75ZydeuZRgc32JcxwUSbsja0ZhjXodT6ldHbIcF/QVE1xsrFTF2y8sn2E+7JYyqzPZok78+iQq0MdwSAvip3gh/lEAOuEzDlSqgwnJeHja9/etnNPlAl746n8sAZa4HJAhvNqnqY4yUBSMPknhNvWu2fW0pcPbRkQeIEYY9qnLCSfDAVAIXTOEX8JU5IMpxP2xpjyLYYKD2tYuf6dBzrfSOXR2whBhvNqkqa4unOq6VCyK9tHuM/AYkcwuDGfCGA1/5wjhWe42BP2xlbVYQ0EuNyQ4QJUvilOr4Ol7Ajv4SHn4fyOLea+auEjGNwrtmr975hPBLCaZ86RAjNcwgl7k+yB6g1r0Ev9MtQUzYAMF6DyTXHRHw/f/dZuORv/05GDP/rTn4sdwWAEduMDYCP3nCOFZDgpT7Tb1ujWA+SyNv9nzFRsWIN2tiHA5YYMF6zCTXGN9iSTMu7S+Rsl8y340bHDhxbfMC4/zdaeD6tU6gHNTMdRSYyT/88zw6U7YW/sdajSsAYCXP7IcMGq2hT32eOw7nv528cOidh6b0YwSOBb9MQrkpyKPTl1PhG6WQBVonOOSOmUT4aTL5JvzGLKtxgqM6yBAFcIMlxNlWyKe2xNzwvd70VsxNJxD2YEg3mmVpSbsBlhPhGgkuTy7MLZz0tpk/XZbaZ8K8lggmoMayDAFYUMV1P1muIaasTSPiLTvnu0p3CZdd/L23buKaRjHPOJABU24YpnpGiqNatRcplO2BtbBYY1aLfpSeMPY6KA/JHhwlSsKU7i1/Ch+9W9zK37DAaJdw90vjFjclvO5aBcsEa/CwzALjqmwT/nSHI6Ye+Wng9ymzQkOtuHNWjTQBkmnGpOZLgwVWqKi/jUYX0GwyFD9pVzMuST+c/0KyXd42veZj4RoKrMuFSdcySVxv48J+yNx+phDQS4wpHh6qhGU5wWEyFPm1aazKSwi9LWpcMjPtjzcd1cmMr6f/YEMN+NXQCV4Z5bxD3nSLyl5T9hb2yWDmvQYvnbxwyhg3KByHB1VKMpTq5r5f/DxyJ4RjBEpEVt3XSYEPOJAJXnmR/OzDnSaNlS1IS9sU1dsNG6C1QCXEmQ4eqzvSmu7mO1dBs7N7wbb+JcKWpnLX1Zwl9GPdWYTwRoBv45fnXOkehli5mwt23ooKlnHmXLhbd1wxpMl5sC5yiAIsPVpw8GkMtBW0oEz8qHP1ZLRzC80/vRjMltsTdQv2XQgH2y6K8mqzdwQH+u9oBqC3xOg1zCySVi3fYeKYLkYvWBzjcKnLA3NruGNRDgSoUMF4m9TXHhdyEjjmCISMKWFEbpNphpI5+NnUUANKTWs7bqXiKaSUOsS29mA20Z1kCAKxsyXCSWNsXpGIVad1EbGsEQkXZhkdM7rWUynwjQJMKfl6ozU0pp5n6zbBP2Jtl2yXAlv1IlwJUQGS4qG5viQgKQdpLLYlptne+xdejA5PtKb47kMO4VQOHqPvPePeeIpjd5sxpTy05dsPHK9hFlbkRM96YN0kKGi8q6prjH1vQ8u6k38O6D5NFnX+zNtMjQ0jbJVzCfCNBU6mY4p6/seuRfer5xxKC3e/eUf9KQ6Eo+rEG7TTt9kxtUY4dXBhmuARY1xdUay2lGMMz64cisT8WV69+R67YZk9viXSUznwjQVOpmOCnWHl/79v/5zfbe9/948/8z6v86ZkjRq5waKS3/3007S1vczevY7BDgSokM1wCLmuICH6slJaCEKkl1uTWGa5e7E489sNH+E7qrmU8EaB4hGc4zYe9n4+gbmXOk/KRwnragq5zDGiTA5XPZjxjIcI2xoikusBuZdlPTSS9zXh8pAkKevhooyqTEAKokMMO5J+yV9GbKkIhzjthCJ5Oveys5f9orhk7JpUWGa0z5m+ICH6v12Jqex9b2ZDGCISJZASmIZ0xui7IC4cNpAVSSJ8PVnbBXH/cnL6rxGOUSDmvQntMEuDIjwzWs5E1x/has5MMLUhH9vuqMhZu+1bp/NS6vAURkMlxDE/YGzjlio7INa9AATYArOTJcw8rcFNe1Zde8ZZtNC1aeIxii0NHpUuCG3FeN8mQwANWjGS7GhL3uOUeK3oj4SjWsgQBnCzJcHOVsivM8Viv/EQwRyd57fO3bnru9gZsAoHlIhpPyStLbpJMPa7QE0N4akjlKdS+yIXqn4sGZY4tekc8DnO2ZuEmQ4eIoZ1OcezIOvZYtZARDFPoo60njD/PcMJWy44Xu90pyJQogH1JeSQLr6t6V5BEv+pAYKT0svQIsyRO3tPN02Wo31EKGi6lsTXF6DacnXuEjGKIw/ZHNfV5Nxle2j2BSX6BJSPB6fO3bkt4unHjEoideSTgwUy8O7Z1z5ILZG4qdUIkWOOuQ4WIqW1OceayWXV1D9L6q3gGR17v3fMJ8IkAz0Al7zZRvciEX5TkNURZr75wjxQ5rWLn+nQc632BWTruQ4eIrtiluXsfmL+/T7x/ObnP2PlZr1g9Hzu/Y8ln7VjlGMESkd0DOnzDsn57/HUMZgMpzT9h7wKB93vrdHn1f3rxw4hH6WmJE7NsIgXOOyJvv9H5U8nQiJXl3z26pU7rf2r1t557WoQOzuxSXsOteOAHOUmS4+Iptirv27n/f8B87hx404JK/P0qu3qacflTH6jdHtx5QthEMUcievOCW5wft178M/XkBJCRntPy/vyAy6U3y2aTxh0nJKa81b3kk79amc46YkZVSSMp3lbOE0Xwpa/tC93sS42SFdQc+MPO47CqXC2ZvkMpCH4SoExqUvPsNApHhEimwKU7OQDnt9bUkuU/+/Klc1FraC0TnEzl+ZMu/v/Z+4fPYAUhIgogUjO5+EWbCXv+Ub3Il3P3Wbvefy7VoKtP2mo4lz27q1YkzM01Fsc3r2Ny5/l3Pm4cM2Te7xCk7XHa7vJgxuU1+EQKcvchwiRTVFCffe/Y/rpPcZt4Z8Ff9f/z9o+M9Xb5YeuNjwrivycrrRXmSsWkAitW1ZdespZ81rS36yWgpGOUElyAlEarWhL3+prgUx5ZKcJSvNi1bE8cdXJ6BaIbOqeQJspmu6v0rX3+g8w19LTsn4hN0UEJkuKQ8TXFyHubQjLRy/TvzO7b437dxXL1nPhF9rmvr0IElLGoBhHPHEUkhE8ceHGXCXndTXFqNcEpHqmqAc/ryiibLoveT17bePRfOft79TqaFufs2jtP3XB8umy1FhkvKNMXJKSGllfxnDl0uptz+m9fe+dD9zpDBf3XdBX9t3awcgU93dfpuLnT37LZldC0AteiJV+SqzPynBLIoE/a6m+JSzC6eAKdKm1c87ZHZ3fY1N1LdLpx4hI0jeUGGS4EEjmc39WpJkWknBlWrF/CMyW1W3Et1j4cKmU9Eb4L4Nyqflk4AjfLfH5A0FnHKbm2KS7cRzt/Tzulriit8Ht1aTMc4KeKyewKsFq2eN6XmKs9UWYiODJeIPg7BXUzkkOEkwEmMM/955CH7HfeNrw4ful/b0EFWhJsJVzwj18GS2yTMyVVySMGhExdLNWBCnj5Rp7RFMNC05HSetqDL0+jlRG5P0kvT1G8gymJf6H6vq3uXu5SWMqe0tyw0d2oJmdFXzFi4SXaIvpZE+9nEouOHSs1l3YQGcMhwSQR2Sss6w+ndgZbBX37vw48njT/szBMPs+vEkyJ+0vXPOX1lR+vQgd9q3b9uA77OETDropHv9H40a+nLn3W4saTFEWgSOjLJJAO36E1xi554JbvgImuoee7ZTb2SWkrb3Va7l2Q3yEA73mnxO+nkw0a3HmBXDQIPMlwiOj+t+50c2uHc/XOL3gEN83TdbT18oCTRuoFMm98GfqW/9sMt890QoAnJiWluDphySV/IaStBoegV/ALJmmVbJc/qScDKqHjXJkl9MEbRG4oUkOGS8gwLzyHDWS2wO61ccU4986iQGy7+q3ya4gAATY4Mlw4zGosMF05y2IyFX2i5lMvBCyceEX5d6J7NyPwVTXEAgGZGhkuNphMyXDhPhvtsHrhzR8j/h/zJs5t6b7zvJf/7V04eIcmv6A0CAKAYZLg0ffCHj+d1bL7ph6OKXpHy6lz/ruwiJ1rzm5LY17VlV3fPbvmfe15KmuIAAM2MDIdcaYaL0vxWy7Oberf17nln50faM5emOABAcyLDIVeS4bp7dl848QhGRQEAkAQZDgDg3H777VdffbX7nbVr15500kmBH25ra+vu7g75QBRbt25tbW2VFzGqIfnb+fPnd3Z2ymrIf44dO3bKlClnn332gQfGn1Zt+vTpixYtuu2226666qpG//bpp5++8847ZX127twp/9ne3v69731v8uTJsVfGyXgn+39uwoCNyHAAgAYynGYdJzTk1bVjx47TTjttw4YNTuPpoaOjQ9ZB05KbJLkVK1bEi3GyzHPPPVdexMhwM2fOnDNnjv/9adOmLVy4MN7+yXonk+GqoToZrm4BJKfo0qVLV65cKa9bWlrkCum8885Lcn1TS5KLy0ByHj7yyCOPP/64rrzTV1Sdc845F198cZKLTjd7d45Hkivp2DtHLsHHjx/v/pOEl85A/iJmOJMtnATHuTtbOA2WBl1dXaeccoo/wKlTTz1VYlyj62MCnNN4hnP/rV+8siiHnUyGq4amyHByKJ9//vkmALk9/PDDCZu7PZJcXAaSAuuss87S+wUekidWr149evTohCts787xSHIlnWTnkOFQAaYIrXVuygWYZAv36RDvOJfz5aKLLnKXaQ2VBlKG6DpIXJMzXQpAOU9XrVplWuYaKrjkbxcsWOBuRWuo9JA/HzFihH7vddddJ9fVw4cPlx0lV92mPpItlTcjLjD/nVz3d0eZNUWGc1/T+KVY3Sa5uKy1QFNABJIYJ18XvYDws3fneCS5kk64c8hwqICQulxO3iVLltx6662esqjR41w7sfnPqeilgWnI9982Nadhe3u7lAZRliYfu/766z1XyA2VHqbY8d82Nftz8eLFl156ad1FFbWTyXBWq2CG82yRObEl7sydO1c7vXZ1dcnrZcuWyftSImzZsiXWd35BwovLQCZDSIF1xRVXTJgwQVbec9GZpMuF1TvHSHglneLOMX9ChoN1Qupy9xWylEVy5Osp0OhxbprQnL6kJQVCo63yd99999SpU+XFU089dfrpp3v+dfLkybpi27dvr9vPxH3pJee4FKRahjRUeoR/45AhQ6SUlj22fv366Ps/551MhrNa9TOciUH+BnZzrG/cuDHJHcnkF5e1aBEgJ/Nzzz3nKSDcTXSxv8jqnaOSX0mnuHPIcLBXlAwnZ9bFF1+8ZMkS/c948UICk1x2yjllzqPopYE5KwP/xLSKRVkxd7udpLeenh79z4ZKDx06WqsTXvjalmQnk+GsVv0MF3Il1NXVNWbMGKevH8Ps2bNjf3Xyi8uQJa9bt+6aa64JLFPMYKjYX2T1znFSupJOceeQ4WCvkLr87rvvfv3117Wzl/uTjR7nkmnkmsfMABIjw+mf1MpM5gSMcvtSPvzQQw+Z8UnmbxsqPfr16xfyJ2ZHRbkSLmonk+GsVvEMZzpP1DrHwq+iIkp+cZniJkdXgZ2TypV0ijuHDAd7RS9PYscLjxilQd1CKTxUhYiR4eqWEkkKhNx2MhnOahXPcHVPIZMwent7Y3918ovLeMaNG7dhw4bYGasCOyeVK+kUdw4ZDvayIsNpRAvpBJxnhjN/UmskLBkOWat4hqvbPSKLwzefDGc2LbBvb0NLqMzOSTHDxds5ZDjYy6IMF3KCF5Lhau0HMhyyVvEMZ96sNUOPdTFFmYSR5EZn9XZOihku3s4hw8FeFmU42uFS3MlkOKs1S4bL8/DNOsOZAJfkwTKV3DlZZLiGdg4ZDvayIsPRHy71nUyGs1qzZLjKNDW5Z4xLEuAquXNohwNisyLDpTgutdbfFjUutaidTIazWsUzXJW6fLmf+5Q8wFVs5yj6wwGxWZHhUpwfziNe6ZHi/HBF7WQynNUqnuHyGXoZuEwn1VOiq6trypQpOrNae3v7XXfdlfxp95XZOf4tYlwq0CgrMlyKz2nwiFd6pPichqJ2MhnOahXPcPlMgeaRekyRAHfKKaeYxyonmXHXrRo7xy3FDMf8cGg2VmS4dJ+X6hav9EjxealF7WQynNUqnuGcXB5F4JFuTDEBzkyTm+JOs33neKSY4eLtHDIc7GVFhnP/lZyb99577+jRoz2PkK41SjRcvNLD/cxDiXEzZswYPny4BM1HHnnEPPy0Vp/akuxkMpzVqp/hcngkqEeKMUUKiBNOOEGKAAlwq1evTnElK7Bz/NLNcDwvFU3FlgxnrqACJZ/zvNHSw9zeDRS7LCLDIYrqZzj3IzUXL16sDwyQUmDu3Lnaj6G1tXXLli0prkmKMcXEiNgT+YazeueEbE4qGS7GziHDwV62ZDjHdQfTI8lgrySlhymoPULmsauLDIcoqp/hHFe300CpV7dpxRTT86OuJJtg6c4JlG6Gi7FzyHCwl0UZzukrHufPn9/Z2dnd3e30pbcpU6bE6HZmJCw95M/vvPNOWR+9r9re3v6DH/wgyYU3GQ5RNEWG27FjhxzHOqjTI17PiXBpxZTwJnq3JCe5pTsnUOoZrtGdQ4aDvajLmxO/u9WaIsOpjo6OpUuXaoBoaWmRClgu2lLvYeakF1PMFtWVPDFYt3MCpZ7hGt05ZDjYi7q8OfG7W62JMhyQNTIc7EUR2pz43a1GhgNSQ4aDvfwN/xzGFeb/uak6bUSGA1JDhoO9yHBNhQxXDRXMcAYFEPLhnoVEcezBOhShTYUMVw1kOCApMhwAIH9kOCApMhwAIH/VyXAAAADNgwwHAABgHzIcAACAfchwAAAA9iHDAQAA2IcMBwAAYB8yHAAAgH3IcAAAAPYhwwEAANiHDAcAAGAfMhwAAIB9yHAAAAD2IcMBAADYhwwHAABgHzIcAACAfchwAAAA9iHDAQAA2IcMBwAAYJ//H+B4a+0NPXHfAAAAAElFTkSuQmCC\" width=\"600px\" height=\"400px\"></img><br/>"
      ]
    },
    {
      "cell_type": "markdown",
      "metadata": {
        "id": "DRdS2V5n1l9h"
      },
      "source": [
        "* 벡터화 결과 각 문장은 vocabulary의 인덱스를 기준으로 카운트가 정수로 표시된 것을 알 수 있습니다.  \n",
        "아쉬운 점은 sklearn의 CountVectorizer는 한 글자는 자동으로 제거해주네요\n",
        "\n",
        "\n",
        "\n",
        "* <span style=\"color:red\"> 또한, 이 부분에서 형태소 분석기의 중요성에 대해서 알 수 있습니다. 즐거운과 즐거워는 같은 의미를 갖는 토큰이지만 okt는 이를 구분해주지 못해서 다른 토큰으로 분리가 되었습니다. 이는 모델에서 같은 의미의 토큰을 다르게 학습할 수 있음을 의미합니다. </span>"
      ]
    },
    {
      "cell_type": "markdown",
      "metadata": {
        "id": "zS0DxU4V1l9i"
      },
      "source": [
        "---"
      ]
    },
    {
      "cell_type": "markdown",
      "metadata": {
        "id": "9AZ3mGtz1l9j"
      },
      "source": [
        "## 3. TfIdf"
      ]
    },
    {
      "cell_type": "markdown",
      "metadata": {
        "id": "wm7xp5X81l9j"
      },
      "source": [
        "* TfIdf의 핵심은 다음의 두 가지 입니다.\n",
        "\n",
        "1. 단어가 몇번 등장 했는지에 대한 정보\n",
        "2.어떤 단어가 언급된 문서의 수가 적다면 그 단어는 문서를 분류하는데 있어서 중요한 단어\n",
        "\n",
        "> 즉 등장 횟수도 많고 문서 분별력 있는 단어들을 점수화하여 벡터화를 한 것이 TfIdf 기법입니다."
      ]
    },
    {
      "cell_type": "code",
      "execution_count": 5,
      "metadata": {
        "colab": {
          "base_uri": "https://localhost:8080/"
        },
        "id": "7RN_GNKP1l9j",
        "outputId": "ac829744-18af-4c8d-aa33-547e58afaaf9"
      },
      "outputs": [
        {
          "output_type": "stream",
          "name": "stdout",
          "text": [
            "['같이', '자연어', '정말', '즐거운', '즐거워', '처리', '해보자']\n",
            "[[0.         0.29017021 0.81564821 0.         0.4078241  0.29017021\n",
            "  0.        ]\n",
            " [0.49922133 0.35520009 0.         0.49922133 0.         0.35520009\n",
            "  0.49922133]]\n"
          ]
        },
        {
          "output_type": "stream",
          "name": "stderr",
          "text": [
            "/usr/local/lib/python3.7/dist-packages/sklearn/utils/deprecation.py:87: FutureWarning: Function get_feature_names is deprecated; get_feature_names is deprecated in 1.0 and will be removed in 1.2. Please use get_feature_names_out instead.\n",
            "  warnings.warn(msg, category=FutureWarning)\n"
          ]
        }
      ],
      "source": [
        "from sklearn.feature_extraction.text import TfidfVectorizer\n",
        "\n",
        "tfidf = TfidfVectorizer(min_df=0)\n",
        "tfidf_vectorizer = tfidf.fit_transform(tokens) \n",
        "\n",
        "#tf-idf dictionary    \n",
        "tfidf_dict = tfidf.get_feature_names()\n",
        "print(tfidf_dict)\n",
        "print(tfidf_vectorizer.toarray())"
      ]
    },
    {
      "cell_type": "markdown",
      "metadata": {
        "id": "ZdYLbblw1l9k"
      },
      "source": [
        "<img src=\"data:image/png;base64,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\" width=\"600px\" height=\"400px\"></img><br/>"
      ]
    },
    {
      "cell_type": "markdown",
      "metadata": {
        "id": "MZzV9PCn1l9k"
      },
      "source": [
        "* 이번 노트북에서는 수식적인 부분은 제외하고 코드위주의 결과를 공유하겠습니다. Count Vectorization과 동일한 방법이지만 단어들에 대한 가중치가 다르게 표시됩니다. TfIdf에 대한 상세한 내용은 다음 링크를 참고하세요.([TfIdf](https://donghwa-kim.github.io/TFIDF.html))"
      ]
    },
    {
      "cell_type": "markdown",
      "metadata": {
        "id": "bg1Qwaz-1l9l"
      },
      "source": [
        "---"
      ]
    },
    {
      "cell_type": "markdown",
      "metadata": {
        "id": "yD0TlUdS1l9l"
      },
      "source": [
        "## 4. Padding"
      ]
    },
    {
      "cell_type": "markdown",
      "metadata": {
        "id": "UPkena6a1l9l"
      },
      "source": [
        "* 여기서 우리는 한 가지 궁금증이 생기게 됩니다. 우리가 사용하던 모델들은 DataFrame 형식의 row별 동일한 colum수를 갖는데 NLP에서는 row별(문장별) colum(토큰의 개수)가 같지 않아도 되는건가? 가변 길이의 문장들을 입력으로 넣어도 된다고?\n",
        "\n",
        "\n",
        "\n",
        "* 가변 길이의 입력을 받는 모형들이 존재하지만 아쉽게도 기본적으로는 문장의 길이를 동일하게 맞춰주어야 합니다. 문장의 길이를 맞춰주기 위해 부족한 길이만큼 0을 채워넣게 되는데 우리는 이것을 Padding라고 부릅니다. "
      ]
    },
    {
      "cell_type": "markdown",
      "metadata": {
        "id": "7rr7e0gK1l9l"
      },
      "source": [
        "<img src=\"data:image/png;base64,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\" width=\"250px\" height=\"100px\"></img><br/>"
      ]
    },
    {
      "cell_type": "code",
      "execution_count": null,
      "metadata": {
        "id": "8VbBXXq61l9l"
      },
      "outputs": [],
      "source": [
        ""
      ]
    },
    {
      "cell_type": "markdown",
      "metadata": {
        "id": "9kKXZsT31l9m"
      },
      "source": [
        "  "
      ]
    },
    {
      "cell_type": "markdown",
      "metadata": {
        "id": "Ph_AXFIC1l9m"
      },
      "source": [
        "* 위의 예시와 같이 문장 S1의 길이와 S2의 길이가 서로 다를 때 뒤쪽에 0을 padding해주어 같은 길이로 맞춰줍니다. padding은 kears에서 한 줄로 구현이 가능하며 대회 적용 코드에서 살펴보도록 하겠습니다."
      ]
    },
    {
      "cell_type": "markdown",
      "metadata": {
        "id": "RsOGy4nj1l9m"
      },
      "source": [
        "---"
      ]
    },
    {
      "cell_type": "markdown",
      "metadata": {
        "id": "ZRC2YeMF1l9m"
      },
      "source": [
        "## 5. 대회 적용"
      ]
    },
    {
      "cell_type": "markdown",
      "metadata": {
        "id": "bZlhidhw1l9m"
      },
      "source": [
        "* 아래 코드는 이번 대회에 바로 적용 가능한 코드입니다. 이번 대회에서는 특별한 vectorization 기법을 사용하지 않고 keras의 texts_to_sequences를 통한 정수화만 진행해 주어도 높은 정확도를 얻을 수 있습니다."
      ]
    },
    {
      "cell_type": "code",
      "execution_count": 6,
      "metadata": {
        "colab": {
          "base_uri": "https://localhost:8080/",
          "height": 214
        },
        "id": "OVu8F-S71l9m",
        "outputId": "c745ad47-c022-4246-874c-aaeabf9c95fb"
      },
      "outputs": [
        {
          "output_type": "error",
          "ename": "NameError",
          "evalue": "ignored",
          "traceback": [
            "\u001b[0;31m---------------------------------------------------------------------------\u001b[0m",
            "\u001b[0;31mNameError\u001b[0m                                 Traceback (most recent call last)",
            "\u001b[0;32m<ipython-input-6-a9fe4d57a4b7>\u001b[0m in \u001b[0;36m<module>\u001b[0;34m()\u001b[0m\n\u001b[1;32m     13\u001b[0m     \u001b[0;32mreturn\u001b[0m \u001b[0mX_train\u001b[0m\u001b[0;34m,\u001b[0m \u001b[0mvocab_size\u001b[0m\u001b[0;34m,\u001b[0m \u001b[0mtokenizer\u001b[0m\u001b[0;34m\u001b[0m\u001b[0;34m\u001b[0m\u001b[0m\n\u001b[1;32m     14\u001b[0m \u001b[0;34m\u001b[0m\u001b[0m\n\u001b[0;32m---> 15\u001b[0;31m \u001b[0mtrain_X\u001b[0m\u001b[0;34m,\u001b[0m \u001b[0mvocab_size\u001b[0m\u001b[0;34m,\u001b[0m \u001b[0mvectorizer\u001b[0m \u001b[0;34m=\u001b[0m \u001b[0mtext2sequence\u001b[0m\u001b[0;34m(\u001b[0m\u001b[0mtrain\u001b[0m\u001b[0;34m[\u001b[0m\u001b[0;34m'text'\u001b[0m\u001b[0;34m]\u001b[0m\u001b[0;34m,\u001b[0m \u001b[0mmax_len\u001b[0m \u001b[0;34m=\u001b[0m \u001b[0;36m100\u001b[0m\u001b[0;34m)\u001b[0m\u001b[0;34m\u001b[0m\u001b[0;34m\u001b[0m\u001b[0m\n\u001b[0m",
            "\u001b[0;31mNameError\u001b[0m: name 'train' is not defined"
          ]
        }
      ],
      "source": [
        "from tensorflow.keras.preprocessing.text import Tokenizer\n",
        "from tensorflow.keras.preprocessing.sequence import pad_sequences\n",
        "\n",
        "def text2sequence(train_text, max_len=100):\n",
        "    \n",
        "    tokenizer = Tokenizer() #keras의 vectorizing 함수 호출\n",
        "    tokenizer.fit_on_texts(train_text) #train 문장에 fit\n",
        "    train_X_seq = tokenizer.texts_to_sequences(train_text) #각 토큰들에 정수 부여\n",
        "    vocab_size = len(tokenizer.word_index) + 1 #모델에 알려줄 vocabulary의 크기 계산\n",
        "    print('vocab_size : ', vocab_size)\n",
        "    X_train = pad_sequences(train_X_seq, maxlen = max_len) #설정한 문장의 최대 길이만큼 padding\n",
        "    \n",
        "    return X_train, vocab_size, tokenizer\n",
        "\n",
        "train_X, vocab_size, vectorizer = text2sequence(train['text'], max_len = 100)"
      ]
    },
    {
      "cell_type": "markdown",
      "metadata": {
        "id": "ySJtzekV1l9n"
      },
      "source": [
        "---"
      ]
    },
    {
      "cell_type": "markdown",
      "metadata": {
        "id": "toAUN2il1l9n"
      },
      "source": [
        "이제 바로 모델에 넣고 훈련을 시작하면 되는 걸까요?\n",
        "\n",
        "\n",
        "아니요, 아직입니다. 이번에 살펴본 vectorization 방법들은 치명적인 단점을 갖고 있습니다.\n",
        "\n",
        "\n",
        "이 문제를 해결해 주는 것이 바로 Embedding 입니다. \n",
        "\n",
        "\n",
        "모델링 전까지 험난한 여정의 NLP 전처리!! Embedding으로 이어집니다."
      ]
    },
    {
      "cell_type": "markdown",
      "metadata": {
        "id": "FYyG3R1q1l9n"
      },
      "source": [
        "## To be continued......"
      ]
    }
  ],
  "metadata": {
    "kernelspec": {
      "display_name": "Python 3",
      "language": "python",
      "name": "python3"
    },
    "language_info": {
      "codemirror_mode": {
        "name": "ipython",
        "version": 3
      },
      "file_extension": ".py",
      "mimetype": "text/x-python",
      "name": "python",
      "nbconvert_exporter": "python",
      "pygments_lexer": "ipython3",
      "version": "3.6.5"
    },
    "colab": {
      "name": "[NLP_언제까지 미룰래_ 일단 들어와!!] #3. Vectorization.ipynb",
      "provenance": [],
      "include_colab_link": true
    }
  },
  "nbformat": 4,
  "nbformat_minor": 0
}